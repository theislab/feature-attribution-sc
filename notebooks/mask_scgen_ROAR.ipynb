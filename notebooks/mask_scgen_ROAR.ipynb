{
 "cells": [
  {
   "cell_type": "code",
   "execution_count": 1,
   "id": "d74770f0",
   "metadata": {},
   "outputs": [
    {
     "name": "stderr",
     "output_type": "stream",
     "text": [
      "Global seed set to 0\n",
      "/home/yuge/miniconda3/envs/fa_base/lib/python3.8/site-packages/numba/core/cpu.py:78: UserWarning: Numba extension module 'sparse._numba_extension' failed to load due to 'ModuleNotFoundError(No module named 'numba.targets')'.\n",
      "  numba.core.entrypoints.init_all()\n",
      "2023-03-13 18:55:53.040727: W tensorflow/compiler/xla/stream_executor/platform/default/dso_loader.cc:64] Could not load dynamic library 'libnvinfer.so.7'; dlerror: libnvinfer.so.7: cannot open shared object file: No such file or directory\n",
      "2023-03-13 18:55:53.040892: W tensorflow/compiler/xla/stream_executor/platform/default/dso_loader.cc:64] Could not load dynamic library 'libnvinfer_plugin.so.7'; dlerror: libnvinfer_plugin.so.7: cannot open shared object file: No such file or directory\n",
      "2023-03-13 18:55:53.040897: W tensorflow/compiler/tf2tensorrt/utils/py_utils.cc:38] TF-TRT Warning: Cannot dlopen some TensorRT libraries. If you would like to use Nvidia GPU with TensorRT, please make sure the missing libraries mentioned above are installed properly.\n"
     ]
    },
    {
     "name": "stdout",
     "output_type": "stream",
     "text": [
      "scanpy==1.9.1 anndata==0.8.0 umap==0.5.3 numpy==1.23.3 scipy==1.10.0 pandas==1.5.0 scikit-learn==1.1.2 statsmodels==0.13.2 python-igraph==0.10.3 pynndescent==0.5.7\n"
     ]
    }
   ],
   "source": [
    "import numpy as np\n",
    "import pandas as pd\n",
    "import scanpy as sc\n",
    "import matplotlib.pyplot as plt\n",
    "\n",
    "import torch\n",
    "import scgen\n",
    "from feature_attribution_sc.explainers.mask import mask, generate_rankings\n",
    "from feature_attribution_sc.models.scgen_models import SCGENCustom\n",
    "\n",
    "sc.set_figure_params(dpi=100, frameon=False, color_map='Reds', facecolor=None)\n",
    "sc.logging.print_header()"
   ]
  },
  {
   "cell_type": "code",
   "execution_count": 2,
   "id": "efc18f90",
   "metadata": {},
   "outputs": [],
   "source": [
    "%load_ext autoreload\n",
    "%autoreload 2"
   ]
  },
  {
   "cell_type": "code",
   "execution_count": 3,
   "id": "0aab6b3a",
   "metadata": {},
   "outputs": [],
   "source": [
    "import warnings\n",
    "warnings.filterwarnings('ignore')"
   ]
  },
  {
   "cell_type": "code",
   "execution_count": 10,
   "id": "542b3295",
   "metadata": {},
   "outputs": [],
   "source": [
    "data_path='/home/yuge/feature-attribution-sc'\n",
    "\n",
    "feature_importance_files = [\n",
    "#     f'{data_path}/outputs/baselines/task1_random.csv',\n",
    "    f'{data_path}/outputs/differential_expression/task1_DE_control.csv',  # these are way slower for some reason???\n",
    "    f'{data_path}/outputs/expected_gradients/task1_absolute_expected_grads_v2.csv'\n",
    "]\n",
    "\n",
    "thresholds = list(range(0, 100, 10))"
   ]
  },
  {
   "cell_type": "code",
   "execution_count": 5,
   "id": "e63be6e5",
   "metadata": {},
   "outputs": [],
   "source": [
    "adata = sc.read(f'{data_path}/datasets/2301_scgen_norman19.h5ad')"
   ]
  },
  {
   "cell_type": "markdown",
   "id": "c663e822",
   "metadata": {},
   "source": [
    "### Train new models\n",
    "\n",
    "Train a new scGen model per attribution dataframe and per threshold representing the percentage of data points ablated. Significantly decreased performance _after_ training indicates the data points ablated were significant/unable to be replaced by correlated variables per Hooker 2019."
   ]
  },
  {
   "cell_type": "code",
   "execution_count": null,
   "id": "a80913a9",
   "metadata": {},
   "outputs": [
    {
     "name": "stderr",
     "output_type": "stream",
     "text": [
      "GPU available: False, used: False\n",
      "TPU available: False, using: 0 TPU cores\n",
      "IPU available: False, using: 0 IPUs\n"
     ]
    },
    {
     "name": "stdout",
     "output_type": "stream",
     "text": [
      "Only using attributions for 880 genes.\n",
      "training at threshold = 0\n",
      "Generating rankings for 107 labels and 880 features.\n",
      "Epoch 37/50:  72%|███████████████████████████████████████████████████████████████████████████████████████████████████████████████████████████████████                                                   | 36/50 [12:23<05:07, 21.98s/it, loss=38.8, v_num=1]"
     ]
    }
   ],
   "source": [
    "for feature_importance in feature_importance_files:\n",
    "    attrib_df = pd.read_csv(feature_importance)\n",
    "    attrib_key = feature_importance.split(\"/\")[-2]\n",
    "\n",
    "    # reverse order for DE\n",
    "    if 'differential_expression' in feature_importance:\n",
    "        attrib_df[attrib_df.columns[1:]] *= -1\n",
    "\n",
    "    # todo: should include a check for adata.var_names vs attrib_df.gene_symbols\n",
    "\n",
    "    n_features = attrib_df.shape[0]\n",
    "    if n_features < adata.shape[1]:\n",
    "        raise ValueError(\n",
    "            f\"Attributions only calculated for {n_features} genes but adata has {adata.shape[1]}\")\n",
    "    elif n_features > adata.shape[1]:\n",
    "        print(f'Only using attributions for {adata.shape[1]} genes.')\n",
    "        attrib_df = attrib_df.set_index('gene_symbols').loc[adata.var_names].reset_index()\n",
    "\n",
    "    for threshold in thresholds:\n",
    "        try:\n",
    "            print('training at threshold =', threshold)\n",
    "            SCGENCustom.setup_anndata(adata)\n",
    "            save_str = f'../models/scgen_norman19_ROAR_{attrib_key}_{threshold}'\n",
    "            model = SCGENCustom(adata, feature_importance=attrib_df, threshold=threshold, n_hidden=400, n_latent=30)\n",
    "            model.train(max_epochs=50, batch_size=32)\n",
    "            model.save(save_str, overwrite=True)\n",
    "\n",
    "            # plot performance\n",
    "            pd.concat(model.history.values(), axis=1).plot()\n",
    "            plt.legend(bbox_to_anchor=(1.01, 1.05))\n",
    "            plt.show()\n",
    "        except:\n",
    "            continue"
   ]
  },
  {
   "cell_type": "code",
   "execution_count": null,
   "id": "9c878953",
   "metadata": {},
   "outputs": [],
   "source": []
  }
 ],
 "metadata": {
  "kernelspec": {
   "display_name": "fa_base",
   "language": "python",
   "name": "fa_base"
  },
  "language_info": {
   "codemirror_mode": {
    "name": "ipython",
    "version": 3
   },
   "file_extension": ".py",
   "mimetype": "text/x-python",
   "name": "python",
   "nbconvert_exporter": "python",
   "pygments_lexer": "ipython3",
   "version": "3.8.2"
  }
 },
 "nbformat": 4,
 "nbformat_minor": 5
}
