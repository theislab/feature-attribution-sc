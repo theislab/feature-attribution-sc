{
 "cells": [
  {
   "cell_type": "markdown",
   "id": "b41a320b",
   "metadata": {},
   "source": [
    "This notebook is primarily to make sure your environment installed properly. If anything in here does not run, certainly nothing else will."
   ]
  },
  {
   "cell_type": "code",
   "execution_count": 1,
   "id": "0d18684c",
   "metadata": {},
   "outputs": [],
   "source": [
    "%load_ext autoreload\n",
    "%autoreload 2"
   ]
  },
  {
   "cell_type": "code",
   "execution_count": 2,
   "id": "2a15e7d5",
   "metadata": {},
   "outputs": [
    {
     "name": "stderr",
     "output_type": "stream",
     "text": [
      "Global seed set to 0\n",
      "2022-09-21 16:30:54.226666: E tensorflow/stream_executor/cuda/cuda_blas.cc:2981] Unable to register cuBLAS factory: Attempting to register factory for plugin cuBLAS when one has already been registered\n"
     ]
    },
    {
     "name": "stdout",
     "output_type": "stream",
     "text": [
      "scanpy==1.9.1 anndata==0.8.0 umap==0.5.3 numpy==1.21.5 scipy==1.9.1 pandas==1.4.4 scikit-learn==1.1.2 statsmodels==0.13.2 python-igraph==0.10.1 pynndescent==0.5.7\n"
     ]
    }
   ],
   "source": [
    "import torch\n",
    "import scvi\n",
    "import pandas as pd\n",
    "import scanpy as sc\n",
    "import matplotlib.pyplot as plt\n",
    "import numpy as np\n",
    "\n",
    "sc.set_figure_params(dpi=100, frameon=False, color_map='Reds', facecolor=None)\n",
    "sc.logging.print_header()\n",
    "assert(scvi.__version__=='0.16.3')\n",
    "\n",
    "from gradients import run_expected_jacobian_scanvi, run_integrated_jacobian_scanvi"
   ]
  },
  {
   "cell_type": "code",
   "execution_count": 3,
   "id": "89aed8ec",
   "metadata": {},
   "outputs": [],
   "source": [
    "base_path = '/home/icb/yuge.ji/projects/feature-attribution-sc'  # should be changed to shared dir when I can find one"
   ]
  },
  {
   "cell_type": "markdown",
   "id": "5bb0e5a1",
   "metadata": {},
   "source": [
    "## scGen\n",
    "\n",
    "Training notebook: `train_scgen.ipynb`"
   ]
  },
  {
   "cell_type": "code",
   "execution_count": 4,
   "id": "6f9f83f1",
   "metadata": {},
   "outputs": [
    {
     "name": "stdout",
     "output_type": "stream",
     "text": [
      "loading scgen_norman19_model1_shuffled\n",
      "\u001b[34mINFO    \u001b[0m File \u001b[35m/home/icb/yuge.ji/projects/feature-attribution-sc/models/scgen_norman19_model1_\u001b[0m\n",
      "         \u001b[35mshuffled/\u001b[0m\u001b[95mmodel.pt\u001b[0m already downloaded                                                \n",
      "loading scgen_norman19_model1_random\n",
      "\u001b[34mINFO    \u001b[0m File \u001b[35m/home/icb/yuge.ji/projects/feature-attribution-sc/models/scgen_norman19_model1_\u001b[0m\n",
      "         \u001b[35mrandom/\u001b[0m\u001b[95mmodel.pt\u001b[0m already downloaded                                                  \n",
      "loading scgen_norman19_model0_shuffled\n",
      "\u001b[34mINFO    \u001b[0m File \u001b[35m/home/icb/yuge.ji/projects/feature-attribution-sc/models/scgen_norman19_model0_\u001b[0m\n",
      "         \u001b[35mshuffled/\u001b[0m\u001b[95mmodel.pt\u001b[0m already downloaded                                                \n",
      "loading scgen_norman19_model4_shuffled\n",
      "\u001b[34mINFO    \u001b[0m File \u001b[35m/home/icb/yuge.ji/projects/feature-attribution-sc/models/scgen_norman19_model4_\u001b[0m\n",
      "         \u001b[35mshuffled/\u001b[0m\u001b[95mmodel.pt\u001b[0m already downloaded                                                \n",
      "loading scgen_norman19_model4_random\n",
      "\u001b[34mINFO    \u001b[0m File \u001b[35m/home/icb/yuge.ji/projects/feature-attribution-sc/models/scgen_norman19_model4_\u001b[0m\n",
      "         \u001b[35mrandom/\u001b[0m\u001b[95mmodel.pt\u001b[0m already downloaded                                                  \n",
      "loading scgen_norman19_model2_random\n",
      "\u001b[34mINFO    \u001b[0m File \u001b[35m/home/icb/yuge.ji/projects/feature-attribution-sc/models/scgen_norman19_model2_\u001b[0m\n",
      "         \u001b[35mrandom/\u001b[0m\u001b[95mmodel.pt\u001b[0m already downloaded                                                  \n",
      "loading scgen_norman19_model2_shuffled\n",
      "\u001b[34mINFO    \u001b[0m File \u001b[35m/home/icb/yuge.ji/projects/feature-attribution-sc/models/scgen_norman19_model2_\u001b[0m\n",
      "         \u001b[35mshuffled/\u001b[0m\u001b[95mmodel.pt\u001b[0m already downloaded                                                \n",
      "loading scgen_norman19_model0_random.pt\n",
      "\u001b[34mINFO    \u001b[0m File \u001b[35m/home/icb/yuge.ji/projects/feature-attribution-sc/models/scgen_norman19_model0_\u001b[0m\n",
      "         \u001b[35mrandom.pt/\u001b[0m\u001b[95mmodel.pt\u001b[0m already downloaded                                               \n",
      "loading scgen_norman19_model3_shuffled\n",
      "\u001b[34mINFO    \u001b[0m File \u001b[35m/home/icb/yuge.ji/projects/feature-attribution-sc/models/scgen_norman19_model3_\u001b[0m\n",
      "         \u001b[35mshuffled/\u001b[0m\u001b[95mmodel.pt\u001b[0m already downloaded                                                \n",
      "loading scgen_norman19_model0_random\n",
      "\u001b[34mINFO    \u001b[0m File \u001b[35m/home/icb/yuge.ji/projects/feature-attribution-sc/models/scgen_norman19_model0_\u001b[0m\n",
      "         \u001b[35mrandom/\u001b[0m\u001b[95mmodel.pt\u001b[0m already downloaded                                                  \n",
      "loading scgen_norman19_model3_random\n",
      "\u001b[34mINFO    \u001b[0m File \u001b[35m/home/icb/yuge.ji/projects/feature-attribution-sc/models/scgen_norman19_model3_\u001b[0m\n",
      "         \u001b[35mrandom/\u001b[0m\u001b[95mmodel.pt\u001b[0m already downloaded                                                  \n"
     ]
    }
   ],
   "source": [
    "import os\n",
    "import scgen\n",
    "\n",
    "adata = sc.read(f'{base_path}/datasets/scgen_norman19.h5ad')\n",
    "models = {}\n",
    "for file in os.listdir(f'{base_path}/models'):\n",
    "    if 'scgen' in file:\n",
    "        print('loading', file)\n",
    "        models['_'.join(file.split('_')[1:])] = scgen.SCGEN.load(f'{base_path}/models/{file}', adata=adata)"
   ]
  },
  {
   "cell_type": "code",
   "execution_count": 5,
   "id": "4f56dd54",
   "metadata": {},
   "outputs": [
    {
     "data": {
      "text/html": [
       "<pre style=\"white-space:pre;overflow-x:auto;line-height:normal;font-family:Menlo,'DejaVu Sans Mono',consolas,'Courier New',monospace\">SCGEN Model with the following params: \n",
       "n_hidden: <span style=\"color: #008080; text-decoration-color: #008080; font-weight: bold\">800</span>, n_latent: <span style=\"color: #008080; text-decoration-color: #008080; font-weight: bold\">100</span>, n_layers: <span style=\"color: #008080; text-decoration-color: #008080; font-weight: bold\">2</span>, dropout_rate: <span style=\"color: #008080; text-decoration-color: #008080; font-weight: bold\">0.2</span>\n",
       "Training status: Trained\n",
       "</pre>\n"
      ],
      "text/plain": [
       "SCGEN Model with the following params: \n",
       "n_hidden: \u001b[1;36m800\u001b[0m, n_latent: \u001b[1;36m100\u001b[0m, n_layers: \u001b[1;36m2\u001b[0m, dropout_rate: \u001b[1;36m0.2\u001b[0m\n",
       "Training status: Trained\n"
      ]
     },
     "metadata": {},
     "output_type": "display_data"
    },
    {
     "data": {
      "text/html": [
       "<pre style=\"white-space:pre;overflow-x:auto;line-height:normal;font-family:Menlo,'DejaVu Sans Mono',consolas,'Courier New',monospace\">SCGEN Model with the following params: \n",
       "n_hidden: <span style=\"color: #008080; text-decoration-color: #008080; font-weight: bold\">800</span>, n_latent: <span style=\"color: #008080; text-decoration-color: #008080; font-weight: bold\">100</span>, n_layers: <span style=\"color: #008080; text-decoration-color: #008080; font-weight: bold\">2</span>, dropout_rate: <span style=\"color: #008080; text-decoration-color: #008080; font-weight: bold\">0.2</span>\n",
       "Training status: Trained\n",
       "</pre>\n"
      ],
      "text/plain": [
       "SCGEN Model with the following params: \n",
       "n_hidden: \u001b[1;36m800\u001b[0m, n_latent: \u001b[1;36m100\u001b[0m, n_layers: \u001b[1;36m2\u001b[0m, dropout_rate: \u001b[1;36m0.2\u001b[0m\n",
       "Training status: Trained\n"
      ]
     },
     "metadata": {},
     "output_type": "display_data"
    },
    {
     "data": {
      "text/html": [
       "<pre style=\"white-space:pre;overflow-x:auto;line-height:normal;font-family:Menlo,'DejaVu Sans Mono',consolas,'Courier New',monospace\">SCGEN Model with the following params: \n",
       "n_hidden: <span style=\"color: #008080; text-decoration-color: #008080; font-weight: bold\">800</span>, n_latent: <span style=\"color: #008080; text-decoration-color: #008080; font-weight: bold\">100</span>, n_layers: <span style=\"color: #008080; text-decoration-color: #008080; font-weight: bold\">2</span>, dropout_rate: <span style=\"color: #008080; text-decoration-color: #008080; font-weight: bold\">0.2</span>\n",
       "Training status: Trained\n",
       "</pre>\n"
      ],
      "text/plain": [
       "SCGEN Model with the following params: \n",
       "n_hidden: \u001b[1;36m800\u001b[0m, n_latent: \u001b[1;36m100\u001b[0m, n_layers: \u001b[1;36m2\u001b[0m, dropout_rate: \u001b[1;36m0.2\u001b[0m\n",
       "Training status: Trained\n"
      ]
     },
     "metadata": {},
     "output_type": "display_data"
    },
    {
     "data": {
      "text/html": [
       "<pre style=\"white-space:pre;overflow-x:auto;line-height:normal;font-family:Menlo,'DejaVu Sans Mono',consolas,'Courier New',monospace\">SCGEN Model with the following params: \n",
       "n_hidden: <span style=\"color: #008080; text-decoration-color: #008080; font-weight: bold\">800</span>, n_latent: <span style=\"color: #008080; text-decoration-color: #008080; font-weight: bold\">100</span>, n_layers: <span style=\"color: #008080; text-decoration-color: #008080; font-weight: bold\">2</span>, dropout_rate: <span style=\"color: #008080; text-decoration-color: #008080; font-weight: bold\">0.2</span>\n",
       "Training status: Trained\n",
       "</pre>\n"
      ],
      "text/plain": [
       "SCGEN Model with the following params: \n",
       "n_hidden: \u001b[1;36m800\u001b[0m, n_latent: \u001b[1;36m100\u001b[0m, n_layers: \u001b[1;36m2\u001b[0m, dropout_rate: \u001b[1;36m0.2\u001b[0m\n",
       "Training status: Trained\n"
      ]
     },
     "metadata": {},
     "output_type": "display_data"
    },
    {
     "data": {
      "text/html": [
       "<pre style=\"white-space:pre;overflow-x:auto;line-height:normal;font-family:Menlo,'DejaVu Sans Mono',consolas,'Courier New',monospace\">SCGEN Model with the following params: \n",
       "n_hidden: <span style=\"color: #008080; text-decoration-color: #008080; font-weight: bold\">800</span>, n_latent: <span style=\"color: #008080; text-decoration-color: #008080; font-weight: bold\">100</span>, n_layers: <span style=\"color: #008080; text-decoration-color: #008080; font-weight: bold\">2</span>, dropout_rate: <span style=\"color: #008080; text-decoration-color: #008080; font-weight: bold\">0.2</span>\n",
       "Training status: Trained\n",
       "</pre>\n"
      ],
      "text/plain": [
       "SCGEN Model with the following params: \n",
       "n_hidden: \u001b[1;36m800\u001b[0m, n_latent: \u001b[1;36m100\u001b[0m, n_layers: \u001b[1;36m2\u001b[0m, dropout_rate: \u001b[1;36m0.2\u001b[0m\n",
       "Training status: Trained\n"
      ]
     },
     "metadata": {},
     "output_type": "display_data"
    },
    {
     "data": {
      "text/html": [
       "<pre style=\"white-space:pre;overflow-x:auto;line-height:normal;font-family:Menlo,'DejaVu Sans Mono',consolas,'Courier New',monospace\">SCGEN Model with the following params: \n",
       "n_hidden: <span style=\"color: #008080; text-decoration-color: #008080; font-weight: bold\">800</span>, n_latent: <span style=\"color: #008080; text-decoration-color: #008080; font-weight: bold\">100</span>, n_layers: <span style=\"color: #008080; text-decoration-color: #008080; font-weight: bold\">2</span>, dropout_rate: <span style=\"color: #008080; text-decoration-color: #008080; font-weight: bold\">0.2</span>\n",
       "Training status: Trained\n",
       "</pre>\n"
      ],
      "text/plain": [
       "SCGEN Model with the following params: \n",
       "n_hidden: \u001b[1;36m800\u001b[0m, n_latent: \u001b[1;36m100\u001b[0m, n_layers: \u001b[1;36m2\u001b[0m, dropout_rate: \u001b[1;36m0.2\u001b[0m\n",
       "Training status: Trained\n"
      ]
     },
     "metadata": {},
     "output_type": "display_data"
    },
    {
     "data": {
      "text/html": [
       "<pre style=\"white-space:pre;overflow-x:auto;line-height:normal;font-family:Menlo,'DejaVu Sans Mono',consolas,'Courier New',monospace\">SCGEN Model with the following params: \n",
       "n_hidden: <span style=\"color: #008080; text-decoration-color: #008080; font-weight: bold\">800</span>, n_latent: <span style=\"color: #008080; text-decoration-color: #008080; font-weight: bold\">100</span>, n_layers: <span style=\"color: #008080; text-decoration-color: #008080; font-weight: bold\">2</span>, dropout_rate: <span style=\"color: #008080; text-decoration-color: #008080; font-weight: bold\">0.2</span>\n",
       "Training status: Trained\n",
       "</pre>\n"
      ],
      "text/plain": [
       "SCGEN Model with the following params: \n",
       "n_hidden: \u001b[1;36m800\u001b[0m, n_latent: \u001b[1;36m100\u001b[0m, n_layers: \u001b[1;36m2\u001b[0m, dropout_rate: \u001b[1;36m0.2\u001b[0m\n",
       "Training status: Trained\n"
      ]
     },
     "metadata": {},
     "output_type": "display_data"
    },
    {
     "data": {
      "text/html": [
       "<pre style=\"white-space:pre;overflow-x:auto;line-height:normal;font-family:Menlo,'DejaVu Sans Mono',consolas,'Courier New',monospace\">SCGEN Model with the following params: \n",
       "n_hidden: <span style=\"color: #008080; text-decoration-color: #008080; font-weight: bold\">800</span>, n_latent: <span style=\"color: #008080; text-decoration-color: #008080; font-weight: bold\">100</span>, n_layers: <span style=\"color: #008080; text-decoration-color: #008080; font-weight: bold\">2</span>, dropout_rate: <span style=\"color: #008080; text-decoration-color: #008080; font-weight: bold\">0.2</span>\n",
       "Training status: Trained\n",
       "</pre>\n"
      ],
      "text/plain": [
       "SCGEN Model with the following params: \n",
       "n_hidden: \u001b[1;36m800\u001b[0m, n_latent: \u001b[1;36m100\u001b[0m, n_layers: \u001b[1;36m2\u001b[0m, dropout_rate: \u001b[1;36m0.2\u001b[0m\n",
       "Training status: Trained\n"
      ]
     },
     "metadata": {},
     "output_type": "display_data"
    },
    {
     "data": {
      "text/html": [
       "<pre style=\"white-space:pre;overflow-x:auto;line-height:normal;font-family:Menlo,'DejaVu Sans Mono',consolas,'Courier New',monospace\">SCGEN Model with the following params: \n",
       "n_hidden: <span style=\"color: #008080; text-decoration-color: #008080; font-weight: bold\">800</span>, n_latent: <span style=\"color: #008080; text-decoration-color: #008080; font-weight: bold\">100</span>, n_layers: <span style=\"color: #008080; text-decoration-color: #008080; font-weight: bold\">2</span>, dropout_rate: <span style=\"color: #008080; text-decoration-color: #008080; font-weight: bold\">0.2</span>\n",
       "Training status: Trained\n",
       "</pre>\n"
      ],
      "text/plain": [
       "SCGEN Model with the following params: \n",
       "n_hidden: \u001b[1;36m800\u001b[0m, n_latent: \u001b[1;36m100\u001b[0m, n_layers: \u001b[1;36m2\u001b[0m, dropout_rate: \u001b[1;36m0.2\u001b[0m\n",
       "Training status: Trained\n"
      ]
     },
     "metadata": {},
     "output_type": "display_data"
    },
    {
     "data": {
      "text/html": [
       "<pre style=\"white-space:pre;overflow-x:auto;line-height:normal;font-family:Menlo,'DejaVu Sans Mono',consolas,'Courier New',monospace\">SCGEN Model with the following params: \n",
       "n_hidden: <span style=\"color: #008080; text-decoration-color: #008080; font-weight: bold\">800</span>, n_latent: <span style=\"color: #008080; text-decoration-color: #008080; font-weight: bold\">100</span>, n_layers: <span style=\"color: #008080; text-decoration-color: #008080; font-weight: bold\">2</span>, dropout_rate: <span style=\"color: #008080; text-decoration-color: #008080; font-weight: bold\">0.2</span>\n",
       "Training status: Trained\n",
       "</pre>\n"
      ],
      "text/plain": [
       "SCGEN Model with the following params: \n",
       "n_hidden: \u001b[1;36m800\u001b[0m, n_latent: \u001b[1;36m100\u001b[0m, n_layers: \u001b[1;36m2\u001b[0m, dropout_rate: \u001b[1;36m0.2\u001b[0m\n",
       "Training status: Trained\n"
      ]
     },
     "metadata": {},
     "output_type": "display_data"
    },
    {
     "data": {
      "text/html": [
       "<pre style=\"white-space:pre;overflow-x:auto;line-height:normal;font-family:Menlo,'DejaVu Sans Mono',consolas,'Courier New',monospace\">SCGEN Model with the following params: \n",
       "n_hidden: <span style=\"color: #008080; text-decoration-color: #008080; font-weight: bold\">800</span>, n_latent: <span style=\"color: #008080; text-decoration-color: #008080; font-weight: bold\">100</span>, n_layers: <span style=\"color: #008080; text-decoration-color: #008080; font-weight: bold\">2</span>, dropout_rate: <span style=\"color: #008080; text-decoration-color: #008080; font-weight: bold\">0.2</span>\n",
       "Training status: Trained\n",
       "</pre>\n"
      ],
      "text/plain": [
       "SCGEN Model with the following params: \n",
       "n_hidden: \u001b[1;36m800\u001b[0m, n_latent: \u001b[1;36m100\u001b[0m, n_layers: \u001b[1;36m2\u001b[0m, dropout_rate: \u001b[1;36m0.2\u001b[0m\n",
       "Training status: Trained\n"
      ]
     },
     "metadata": {},
     "output_type": "display_data"
    },
    {
     "data": {
      "text/plain": [
       "{'norman19_model1_shuffled': ,\n",
       " 'norman19_model1_random': ,\n",
       " 'norman19_model0_shuffled': ,\n",
       " 'norman19_model4_shuffled': ,\n",
       " 'norman19_model4_random': ,\n",
       " 'norman19_model2_random': ,\n",
       " 'norman19_model2_shuffled': ,\n",
       " 'norman19_model0_random.pt': ,\n",
       " 'norman19_model3_shuffled': ,\n",
       " 'norman19_model0_random': ,\n",
       " 'norman19_model3_random': }"
      ]
     },
     "execution_count": 5,
     "metadata": {},
     "output_type": "execute_result"
    }
   ],
   "source": [
    "models"
   ]
  },
  {
   "cell_type": "markdown",
   "id": "7adde4a4",
   "metadata": {},
   "source": [
    "## scVI"
   ]
  },
  {
   "cell_type": "code",
   "execution_count": null,
   "id": "213e60aa",
   "metadata": {},
   "outputs": [],
   "source": []
  },
  {
   "cell_type": "markdown",
   "id": "571889f6",
   "metadata": {},
   "source": [
    "## scANVI (HLCA)"
   ]
  },
  {
   "cell_type": "code",
   "execution_count": 6,
   "id": "8c395d71",
   "metadata": {},
   "outputs": [
    {
     "data": {
      "text/plain": [
       "AnnData object with n_obs × n_vars = 587218 × 2000\n",
       "    obs: 'sample', 'original_celltype_ann', 'study_long', 'study', 'last_author_PI', 'subject_ID', 'subject_ID_as_published', 'pre_or_postnatal', 'age_in_years', 'age_range', 'sex', 'ethnicity', 'mixed_ethnicity', 'smoking_status', 'smoking_history', 'BMI', 'known_lung_disease', 'condition', 'subject_type', 'cause_of_death', 'sample_type', 'anatomical_region_coarse', 'anatomical_region_detailed', 'tissue_dissociation_protocol', 'cells_or_nuclei', 'single_cell_platform', \"3'_or_5'\", 'enrichment', 'sequencing_platform', 'reference_genome_coarse', 'ensembl_release_reference_genome', 'cell_ranger_version', 'disease_status', 'fresh_or_frozen', 'cultured', 'cell_viability_%', 'comments', 'Processing_site', 'dataset', 'anatomical_region_level_1', 'anatomical_region_level_2', 'anatomical_region_level_3', 'anatomical_region_highest_res', 'age', 'ann_level_1', 'ann_level_2', 'ann_level_3', 'ann_level_4', 'ann_level_5', 'ann_highest_res', 'ann_new', 'n_genes', 'total_counts', 'log10_total_counts', 'n_genes_detected', 'mito_frac', 'ribo_frac', 'compl', 'size_factors', 'ann_level_1_clean', 'ann_level_2_clean', 'ann_level_3_clean', 'ann_level_4_clean', 'ann_level_5_clean', 'scanvi_label', 'anatomical_region_ccf_score', 'manual_ann'\n",
       "    var: 'gene_symbols', 'n_cells', 'highly_variable', 'means', 'dispersions', 'dispersions_norm', 'highly_variable_nbatches', 'highly_variable_intersection'\n",
       "    uns: 'anatomical_region_level_1_colors', 'ann_level_1_colors', 'ann_level_2_clean_colors', 'ann_level_3_clean_colors', 'hvg', 'manual_ann_colors', 'neighbors', 'pca', 'scanvi_label_colors', 'study_colors', 'umap'\n",
       "    obsm: 'X_pca', 'X_umap'\n",
       "    varm: 'PCs'\n",
       "    layers: 'counts'\n",
       "    obsp: 'connectivities', 'distances'"
      ]
     },
     "execution_count": 6,
     "metadata": {},
     "output_type": "execute_result"
    }
   ],
   "source": [
    "hlca_path = '/lustre/groups/ml01/workspace/hlca_lisa.sikkema_malte.luecken/HLCA_reproducibility/data/HLCA_core_h5ads/HLCA_v1_integration/HLCA_v1_scANVI_input.h5ad'\n",
    "adata = sc.read(hlca_path)\n",
    "adata"
   ]
  },
  {
   "cell_type": "code",
   "execution_count": 7,
   "id": "5be9a67a",
   "metadata": {},
   "outputs": [
    {
     "name": "stdout",
     "output_type": "stream",
     "text": [
      "\u001b[34mINFO    \u001b[0m File \u001b[35m/home/icb/yuge.ji/projects/HLCA_reproducibility/notebooks/3_atlas_extension/sca\u001b[0m\n",
      "         \u001b[35mnvi_model/\u001b[0m\u001b[95mmodel.pt\u001b[0m already downloaded                                               \n"
     ]
    },
    {
     "name": "stderr",
     "output_type": "stream",
     "text": [
      "/home/icb/sergei.rybakov/miniconda3/envs/feature/lib/python3.8/site-packages/scvi/data/_utils.py:156: UserWarning: Category 18 in adata.obs['_scvi_labels'] has fewer than 3 cells. Models may not train properly.\n",
      "  warnings.warn(\n",
      "/home/icb/sergei.rybakov/miniconda3/envs/feature/lib/python3.8/site-packages/scvi/data/_utils.py:156: UserWarning: Category 18 in adata.obs['_scvi_labels'] has fewer than 3 cells. Models may not train properly.\n",
      "  warnings.warn(\n"
     ]
    },
    {
     "data": {
      "text/html": [
       "<pre style=\"white-space:pre;overflow-x:auto;line-height:normal;font-family:Menlo,'DejaVu Sans Mono',consolas,'Courier New',monospace\">ScanVI Model with the following params: \n",
       "unlabeled_category: unlabeled, n_hidden: <span style=\"color: #008080; text-decoration-color: #008080; font-weight: bold\">128</span>, n_latent: <span style=\"color: #008080; text-decoration-color: #008080; font-weight: bold\">30</span>, n_layers: <span style=\"color: #008080; text-decoration-color: #008080; font-weight: bold\">2</span>, dropout_rate: <span style=\"color: #008080; text-decoration-color: #008080; font-weight: bold\">0.1</span>, \n",
       "dispersion: gene, gene_likelihood: nb\n",
       "Training status: Trained\n",
       "</pre>\n"
      ],
      "text/plain": [
       "ScanVI Model with the following params: \n",
       "unlabeled_category: unlabeled, n_hidden: \u001b[1;36m128\u001b[0m, n_latent: \u001b[1;36m30\u001b[0m, n_layers: \u001b[1;36m2\u001b[0m, dropout_rate: \u001b[1;36m0.1\u001b[0m, \n",
       "dispersion: gene, gene_likelihood: nb\n",
       "Training status: Trained\n"
      ]
     },
     "metadata": {},
     "output_type": "display_data"
    },
    {
     "data": {
      "text/plain": []
     },
     "execution_count": 7,
     "metadata": {},
     "output_type": "execute_result"
    }
   ],
   "source": [
    "model = scvi.model.SCANVI.load('/home/icb/yuge.ji/projects/HLCA_reproducibility/notebooks/3_atlas_extension/scanvi_model/', adata)\n",
    "model"
   ]
  },
  {
   "cell_type": "code",
   "execution_count": 8,
   "id": "9b7aeedb",
   "metadata": {},
   "outputs": [
    {
     "data": {
      "text/plain": [
       "{'AT0': ['SFTPB', 'SCGB3A2', 'SFTA2'],\n",
       " 'AT1': ['CLIC5', 'SPOCK2', 'TIMP3'],\n",
       " 'AT2 proliferating': ['CENPW', 'CDKN3', 'BIRC5'],\n",
       " 'AT2': ['MFSD2A', 'C8orf4', 'C11orf96'],\n",
       " 'Adventitial fibroblasts': ['MFAP5', 'SCARA5', 'PI16'],\n",
       " 'Alveolar Mph CCL3+': ['CCL20', 'FAM89A'],\n",
       " 'Alveolar Mph MT-positive': ['MT1M', 'CCL18', 'MT1E'],\n",
       " 'Alveolar Mph proliferating': ['TYMS', 'CENPW', 'MND1'],\n",
       " 'Alveolar fibroblasts': ['SPINT2', 'LIMCH1', 'FGFR4'],\n",
       " 'Alveolar macrophages': ['CYP27A1', 'MARCO', 'FABP4'],\n",
       " 'B cells': ['MS4A1'],\n",
       " 'Basal resting': ['KRT15', 'KRT17', 'TP63'],\n",
       " 'CD8 T cells': ['CD8A', 'CD8B', 'TRGC2'],\n",
       " 'Classical monocytes': ['S100A12', 'FCN1', 'RNASE2'],\n",
       " 'Club (nasal)': ['SERPINB3', 'TCN1', 'ASRGL1'],\n",
       " 'Club (non-nasal)': ['CYP2F1', 'SCGB3A1', 'BPIFB1'],\n",
       " 'DC1': ['XCR1', 'CLEC9A', 'CLNK'],\n",
       " 'DC2': ['PKIB', 'CLEC10A', 'CD1E'],\n",
       " 'Deuterosomal': ['CDC20B', 'KDELC2', 'E2F7'],\n",
       " 'EC aerocyte capillary': ['SOSTDC1'],\n",
       " 'EC arterial': ['DKK2', 'IGFBP3'],\n",
       " 'EC general capillary': ['IL7R', 'FCN3', 'MT1M'],\n",
       " 'EC venous pulmonary': ['CPE', 'C7', 'MMRN1'],\n",
       " 'EC venous systemic': ['TPD52L1', 'ZNF385D', 'OLFM1'],\n",
       " 'Fibromyocytes': ['FAM83D'],\n",
       " 'Goblet (bronchial)': ['GPX8', 'ALDH1A3', 'CEACAM5'],\n",
       " 'Goblet (nasal)': ['CEACAM5', 'LYPD2', 'PSCA'],\n",
       " 'Goblet (subsegmental)': ['BPIFB1', 'C16orf89', 'NPDC1'],\n",
       " 'Hematopoietic stem cells': ['CRHBP', 'SERPINE2', 'MAP7'],\n",
       " 'Hillock-like': ['DSG3', 'RAB38', 'TNS4'],\n",
       " 'Interstitial Mph perivascular': ['F13A1', 'FOLR2'],\n",
       " 'Ionocyte': ['BSND', 'IGF1', 'CLCNKB'],\n",
       " 'Mast cells': ['MS4A2', 'SLC18A2', 'RGS13'],\n",
       " 'Mesothelium': ['KLK11', 'UPK3B', 'ITLN1'],\n",
       " 'Migratory DCs': ['LAD1', 'CCL19'],\n",
       " 'Multiciliated (nasal)': ['BEST4', 'LYPD2'],\n",
       " 'Multiciliated (non-nasal)': ['RSPH1', 'C20orf85', 'C9orf24'],\n",
       " 'Myofibroblasts': ['LMOD1', 'ATP1B1', 'TYRP1'],\n",
       " 'NK cells': ['GNLY', 'SPON2', 'FCGR3A'],\n",
       " 'Neuroendocrine': ['CELF3', 'SLC6A17', 'CDK5R2'],\n",
       " 'Non-classical monocytes': ['MTSS1', 'LILRA5', 'FCN1'],\n",
       " 'Peribronchial fibroblasts': ['COL15A1', 'CXCL14', 'DIO2'],\n",
       " 'Pericytes': ['LAMC3'],\n",
       " 'Plasma cells': ['TNFRSF17'],\n",
       " 'Plasmacytoid DCs': ['SCT', 'SMPD3', 'LILRA4'],\n",
       " 'SM activated stress response': ['EGR1', 'FOSB', 'ATF3'],\n",
       " 'SMG duct': ['MGST1', 'KRT19', 'KLF5'],\n",
       " 'SMG mucous': ['BPIFB2', 'MUC5B', 'NKX3-1'],\n",
       " 'SMG serous (bronchial)': ['RP11-1143G9.4', 'S100A1', 'PRB3'],\n",
       " 'SMG serous (nasal)': ['STATH', 'ODAM', 'MUC7'],\n",
       " 'Smooth muscle': ['MYH11', 'TINAGL1', 'PLN'],\n",
       " 'Subpleural fibroblasts': ['MARCKSL1', 'APOC1', 'MMP23B'],\n",
       " 'Suprabasal': ['KRT5', 'SERPINB3'],\n",
       " 'T cells proliferating': ['CENPW', 'TK1', 'MKI67'],\n",
       " 'Tuft': ['DAB1'],\n",
       " 'pre-TB secretory': ['SFTPB', 'RNASE1', 'SFTA1P']}"
      ]
     },
     "execution_count": 8,
     "metadata": {},
     "output_type": "execute_result"
    }
   ],
   "source": [
    "# parse marker gene dictionary from csv for ground truth\n",
    "marker_df = pd.read_csv('/home/icb/yuge.ji/projects/HLCA_reproducibility/notebooks/3_atlas_extension/markergenes.csv', index_col=0)\n",
    "\n",
    "marker_dict = {}\n",
    "for i in range(0, marker_df.shape[1], 3):\n",
    "    ct = marker_df.columns[i].split('_')[0]\n",
    "    l = list(marker_df[\n",
    "        marker_df[f'{ct}_marker_for'].isin([ct, f'{ct} (poss. lowly expressed, non-unique)'])\n",
    "    ][f'{ct}_marker'].values)\n",
    "    # some markers are skipped due to uncertainty in annotation\n",
    "    if len(l) > 0:\n",
    "        marker_dict[ct] = l\n",
    "marker_dict"
   ]
  },
  {
   "cell_type": "code",
   "execution_count": null,
   "id": "b666b243",
   "metadata": {},
   "outputs": [],
   "source": []
  },
  {
   "cell_type": "code",
   "execution_count": 9,
   "id": "a21c7987",
   "metadata": {},
   "outputs": [],
   "source": [
    "#scdl = model._make_data_loader(adata=adata, shuffle=True, batch_size=100)"
   ]
  },
  {
   "cell_type": "code",
   "execution_count": 10,
   "id": "9621e255",
   "metadata": {},
   "outputs": [],
   "source": [
    "#inpt_dict = batch_to_dict_scanvi(next(scdl.__iter__()))\n",
    "#inpt_dict[\"x\"].requires_grad = True"
   ]
  },
  {
   "cell_type": "code",
   "execution_count": 11,
   "id": "c2dabc4a",
   "metadata": {},
   "outputs": [],
   "source": [
    "#expected_jacobian(model.module.classify, inpt_dict, \"x\", prime_inpt)"
   ]
  },
  {
   "cell_type": "code",
   "execution_count": 12,
   "id": "899998af",
   "metadata": {},
   "outputs": [
    {
     "data": {
      "text/plain": [
       "Banovich_Kropski_2020        122319\n",
       "Barbry_Leroy_2020             74728\n",
       "Nawijn_2021                   70591\n",
       "Misharin_2021                 65326\n",
       "Krasnow_2020                  60990\n",
       "Misharin_Budinger_2018        41265\n",
       "Meyer_2019                    35674\n",
       "Jain_Misharin_2021_10Xv2      33144\n",
       "Seibold_2020_10Xv3            21466\n",
       "Lafyatis_Rojas_2019_10Xv2     21271\n",
       "Teichmann_Meyer_2019          12971\n",
       "Jain_Misharin_2021_10Xv1      12422\n",
       "Seibold_2020_10Xv2            12127\n",
       "Lafyatis_Rojas_2019_10Xv1      2924\n",
       "Name: dataset, dtype: int64"
      ]
     },
     "execution_count": 12,
     "metadata": {},
     "output_type": "execute_result"
    }
   ],
   "source": [
    "adata.obs[\"dataset\"].value_counts()"
   ]
  },
  {
   "cell_type": "code",
   "execution_count": 13,
   "id": "13386ead",
   "metadata": {},
   "outputs": [],
   "source": [
    "indices = np.where(adata.obs[\"dataset\"] == \"Meyer_2019\")[0]"
   ]
  },
  {
   "cell_type": "code",
   "execution_count": 14,
   "id": "6cedcd10",
   "metadata": {},
   "outputs": [],
   "source": [
    "dl_base = model._make_data_loader(adata=adata, shuffle=False, indices=indices, batch_size=1000)\n",
    "dl_prime = model._make_data_loader(adata=adata, shuffle=True, indices=indices, batch_size=1000)"
   ]
  },
  {
   "cell_type": "code",
   "execution_count": 24,
   "id": "fa740611",
   "metadata": {},
   "outputs": [],
   "source": [
    "avg_abs_exp_jac = None\n",
    "avg_exp_jac = None"
   ]
  },
  {
   "cell_type": "code",
   "execution_count": null,
   "id": "d923b5a1",
   "metadata": {},
   "outputs": [],
   "source": []
  },
  {
   "cell_type": "code",
   "execution_count": 25,
   "id": "7fe5a70b",
   "metadata": {},
   "outputs": [
    {
     "name": "stdout",
     "output_type": "stream",
     "text": [
      "Teichmann_Meyer_2019\n",
      "1179\n",
      "Misharin_Budinger_2018\n",
      "2000\n",
      "Krasnow_2020\n",
      "2000\n",
      "Seibold_2020_10Xv3\n",
      "1951\n",
      "Banovich_Kropski_2020\n",
      "2000\n",
      "Nawijn_2021\n",
      "2000\n",
      "Misharin_2021\n",
      "2000\n",
      "Seibold_2020_10Xv2\n",
      "1102\n",
      "Barbry_Leroy_2020\n",
      "2000\n",
      "Lafyatis_Rojas_2019_10Xv1\n",
      "265\n",
      "Lafyatis_Rojas_2019_10Xv2\n",
      "1933\n",
      "Meyer_2019\n",
      "2000\n",
      "Jain_Misharin_2021_10Xv2\n",
      "2000\n",
      "Jain_Misharin_2021_10Xv1\n",
      "1129\n",
      "Teichmann_Meyer_2019\n",
      "1179\n",
      "Misharin_Budinger_2018\n",
      "2000\n",
      "Krasnow_2020\n",
      "2000\n",
      "Seibold_2020_10Xv3\n",
      "1951\n",
      "Banovich_Kropski_2020\n",
      "2000\n",
      "Nawijn_2021\n",
      "2000\n",
      "Misharin_2021\n",
      "2000\n",
      "Seibold_2020_10Xv2\n",
      "1102\n",
      "Barbry_Leroy_2020\n",
      "2000\n",
      "Lafyatis_Rojas_2019_10Xv1\n",
      "265\n",
      "Lafyatis_Rojas_2019_10Xv2\n",
      "1933\n",
      "Meyer_2019\n",
      "2000\n",
      "Jain_Misharin_2021_10Xv2\n",
      "2000\n",
      "Jain_Misharin_2021_10Xv1\n",
      "1129\n"
     ]
    }
   ],
   "source": [
    "# sum abs values\n",
    "for ds in adata.obs[\"dataset\"].unique():\n",
    "    print(ds)\n",
    "    \n",
    "    indices = np.where(adata.obs[\"dataset\"] == ds)[0]\n",
    "    batch_size = min(2000, int(len(indices) / 11))\n",
    "    print(batch_size)\n",
    "    \n",
    "    dl_base = model._make_data_loader(adata=adata, shuffle=False, indices=indices, batch_size=batch_size)\n",
    "    dl_prime = model._make_data_loader(adata=adata, shuffle=True, indices=indices, batch_size=batch_size)\n",
    "    \n",
    "    exp_jac_ds = run_expected_jacobian_scanvi(model.module.classify, dl_base, dl_prime, apply_abs=True, sum_obs=True)\n",
    "    if avg_abs_exp_jac is None:\n",
    "        avg_abs_exp_jac = exp_jac_ds\n",
    "    else:\n",
    "        avg_abs_exp_jac += exp_jac_ds\n",
    "        \n",
    "# just sum\n",
    "for ds in adata.obs[\"dataset\"].unique():\n",
    "    print(ds)\n",
    "    \n",
    "    indices = np.where(adata.obs[\"dataset\"] == ds)[0]\n",
    "    batch_size = min(2000, int(len(indices) / 11))\n",
    "    print(batch_size)\n",
    "    \n",
    "    dl_base = model._make_data_loader(adata=adata, shuffle=False, indices=indices, batch_size=batch_size)\n",
    "    dl_prime = model._make_data_loader(adata=adata, shuffle=True, indices=indices, batch_size=batch_size)\n",
    "    \n",
    "    exp_jac_ds = run_expected_jacobian_scanvi(model.module.classify, dl_base, dl_prime, apply_abs=False, sum_obs=True)\n",
    "    if avg_exp_jac is None:\n",
    "        avg_exp_jac = exp_jac_ds\n",
    "    else:\n",
    "        avg_exp_jac += exp_jac_ds"
   ]
  },
  {
   "cell_type": "code",
   "execution_count": 34,
   "id": "35d3afa1",
   "metadata": {},
   "outputs": [],
   "source": [
    "avg_abs_integr_jac = None\n",
    "avg_integr_jac = None"
   ]
  },
  {
   "cell_type": "code",
   "execution_count": 35,
   "id": "5da38b40",
   "metadata": {},
   "outputs": [
    {
     "name": "stdout",
     "output_type": "stream",
     "text": [
      "Teichmann_Meyer_2019\n",
      "Misharin_Budinger_2018\n",
      "Krasnow_2020\n",
      "Seibold_2020_10Xv3\n",
      "Banovich_Kropski_2020\n",
      "Nawijn_2021\n",
      "Misharin_2021\n",
      "Seibold_2020_10Xv2\n",
      "Barbry_Leroy_2020\n",
      "Lafyatis_Rojas_2019_10Xv1\n",
      "Lafyatis_Rojas_2019_10Xv2\n",
      "Meyer_2019\n",
      "Jain_Misharin_2021_10Xv2\n",
      "Jain_Misharin_2021_10Xv1\n",
      "Teichmann_Meyer_2019\n",
      "Misharin_Budinger_2018\n",
      "Krasnow_2020\n",
      "Seibold_2020_10Xv3\n",
      "Banovich_Kropski_2020\n",
      "Nawijn_2021\n",
      "Misharin_2021\n",
      "Seibold_2020_10Xv2\n",
      "Barbry_Leroy_2020\n",
      "Lafyatis_Rojas_2019_10Xv1\n",
      "Lafyatis_Rojas_2019_10Xv2\n",
      "Meyer_2019\n",
      "Jain_Misharin_2021_10Xv2\n",
      "Jain_Misharin_2021_10Xv1\n"
     ]
    }
   ],
   "source": [
    "# sum abs values\n",
    "for ds in adata.obs[\"dataset\"].unique():\n",
    "    print(ds)\n",
    "    \n",
    "    indices = np.where(adata.obs[\"dataset\"] == ds)[0]\n",
    "    dl_base = model._make_data_loader(adata=adata, shuffle=False, indices=indices, batch_size=2000)\n",
    "    \n",
    "    integr_jac_ds = run_integrated_jacobian_scanvi(model.module.classify, dl_base, apply_abs=True, sum_obs=True)\n",
    "    if avg_abs_integr_jac is None:\n",
    "        avg_abs_integr_jac = integr_jac_ds\n",
    "    else:\n",
    "        avg_abs_integr_jac += integr_jac_ds\n",
    "        \n",
    "# just sum\n",
    "for ds in adata.obs[\"dataset\"].unique():\n",
    "    print(ds)\n",
    "    \n",
    "    indices = np.where(adata.obs[\"dataset\"] == ds)[0]\n",
    "    dl_base = model._make_data_loader(adata=adata, shuffle=False, indices=indices, batch_size=2000)\n",
    "    \n",
    "    integr_jac_ds = run_integrated_jacobian_scanvi(model.module.classify, dl_base, apply_abs=False, sum_obs=True)\n",
    "    if avg_integr_jac is None:\n",
    "        avg_integr_jac = integr_jac_ds\n",
    "    else:\n",
    "        avg_integr_jac += integr_jac_ds"
   ]
  },
  {
   "cell_type": "code",
   "execution_count": 47,
   "id": "4686f09c",
   "metadata": {},
   "outputs": [],
   "source": [
    "from scvi import REGISTRY_KEYS\n",
    "labels = model.adata_manager.get_state_registry(REGISTRY_KEYS.LABELS_KEY)['categorical_mapping']"
   ]
  },
  {
   "cell_type": "code",
   "execution_count": 49,
   "id": "46227d46",
   "metadata": {},
   "outputs": [],
   "source": [
    "pd.DataFrame(avg_abs_exp_jac.numpy(), columns=labels[:-1], index=adata.var_names.tolist()).to_csv(\"absolute_sum_expected_grads.csv\", index_label=\"Gene\")"
   ]
  },
  {
   "cell_type": "code",
   "execution_count": 50,
   "id": "8e37e940",
   "metadata": {},
   "outputs": [],
   "source": [
    "pd.DataFrame(avg_exp_jac.numpy(), columns=labels[:-1], index=adata.var_names.tolist()).to_csv(\"sum_expected_grads.csv\", index_label=\"Gene\")"
   ]
  },
  {
   "cell_type": "code",
   "execution_count": 51,
   "id": "438eb028",
   "metadata": {},
   "outputs": [],
   "source": [
    "pd.DataFrame(avg_abs_integr_jac.numpy(), columns=labels[:-1], index=adata.var_names.tolist()).to_csv(\"absolute_sum_integrated_grads.csv\", index_label=\"Gene\")"
   ]
  },
  {
   "cell_type": "code",
   "execution_count": 52,
   "id": "66e895ad",
   "metadata": {},
   "outputs": [],
   "source": [
    "pd.DataFrame(avg_integr_jac.numpy(), columns=labels[:-1], index=adata.var_names.tolist()).to_csv(\"sum_integrated_grads.csv\", index_label=\"Gene\")"
   ]
  },
  {
   "cell_type": "code",
   "execution_count": null,
   "id": "c0225ebe",
   "metadata": {},
   "outputs": [],
   "source": []
  }
 ],
 "metadata": {
  "kernelspec": {
   "display_name": "Python 3 (ipykernel)",
   "language": "python",
   "name": "python3"
  },
  "language_info": {
   "codemirror_mode": {
    "name": "ipython",
    "version": 3
   },
   "file_extension": ".py",
   "mimetype": "text/x-python",
   "name": "python",
   "nbconvert_exporter": "python",
   "pygments_lexer": "ipython3",
   "version": "3.8.13"
  }
 },
 "nbformat": 4,
 "nbformat_minor": 5
}
