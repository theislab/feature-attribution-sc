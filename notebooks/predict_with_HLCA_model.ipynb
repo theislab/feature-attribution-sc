{
 "cells": [
  {
   "cell_type": "code",
   "execution_count": 1,
   "id": "9cabfa37",
   "metadata": {},
   "outputs": [
    {
     "name": "stderr",
     "output_type": "stream",
     "text": [
      "Global seed set to 0\n",
      "/home/yuge/miniconda3/envs/fa_base/lib/python3.8/site-packages/numba/core/cpu.py:78: UserWarning: Numba extension module 'sparse._numba_extension' failed to load due to 'ModuleNotFoundError(No module named 'numba.targets')'.\n",
      "  numba.core.entrypoints.init_all()\n",
      "2023-01-29 15:55:56.229494: W tensorflow/compiler/xla/stream_executor/platform/default/dso_loader.cc:64] Could not load dynamic library 'libnvinfer.so.7'; dlerror: libnvinfer.so.7: cannot open shared object file: No such file or directory\n",
      "2023-01-29 15:55:56.229559: W tensorflow/compiler/xla/stream_executor/platform/default/dso_loader.cc:64] Could not load dynamic library 'libnvinfer_plugin.so.7'; dlerror: libnvinfer_plugin.so.7: cannot open shared object file: No such file or directory\n",
      "2023-01-29 15:55:56.229563: W tensorflow/compiler/tf2tensorrt/utils/py_utils.cc:38] TF-TRT Warning: Cannot dlopen some TensorRT libraries. If you would like to use Nvidia GPU with TensorRT, please make sure the missing libraries mentioned above are installed properly.\n"
     ]
    },
    {
     "name": "stdout",
     "output_type": "stream",
     "text": [
      "scanpy==1.9.1 anndata==0.8.0 umap==0.5.3 numpy==1.23.3 scipy==1.10.0 pandas==1.5.0 scikit-learn==1.1.2 statsmodels==0.13.2 python-igraph==0.10.3 pynndescent==0.5.7\n"
     ]
    }
   ],
   "source": [
    "import torch\n",
    "import scvi\n",
    "import numpy as np\n",
    "import pandas as pd\n",
    "import scanpy as sc\n",
    "import anndata as ad\n",
    "import matplotlib.pyplot as plt\n",
    "\n",
    "sc.set_figure_params(dpi=100, frameon=False, color_map='Reds', facecolor=None)\n",
    "sc.logging.print_header()"
   ]
  },
  {
   "cell_type": "code",
   "execution_count": 2,
   "id": "db81c096",
   "metadata": {},
   "outputs": [],
   "source": [
    "%load_ext autoreload\n",
    "%autoreload 2"
   ]
  },
  {
   "cell_type": "code",
   "execution_count": 3,
   "id": "aace4f1a",
   "metadata": {},
   "outputs": [
    {
     "data": {
      "text/plain": [
       "AnnData object with n_obs × n_vars = 584944 × 2000\n",
       "    obs: 'sample', 'original_celltype_ann', 'study_long', 'study', 'last_author_PI', 'subject_ID', 'subject_ID_as_published', 'pre_or_postnatal', 'age_in_years', 'age_range', 'sex', 'ethnicity', 'mixed_ethnicity', 'smoking_status', 'smoking_history', 'BMI', 'known_lung_disease', 'condition', 'subject_type', 'cause_of_death', 'sample_type', 'anatomical_region_coarse', 'anatomical_region_detailed', 'tissue_dissociation_protocol', 'cells_or_nuclei', 'single_cell_platform', \"3'_or_5'\", 'enrichment', 'sequencing_platform', 'reference_genome_coarse', 'ensembl_release_reference_genome', 'cell_ranger_version', 'disease_status', 'fresh_or_frozen', 'cultured', 'cell_viability_%', 'comments', 'Processing_site', 'dataset', 'anatomical_region_level_1', 'anatomical_region_level_2', 'anatomical_region_level_3', 'anatomical_region_highest_res', 'age', 'ann_level_1', 'ann_level_2', 'ann_level_3', 'ann_level_4', 'ann_level_5', 'ann_highest_res', 'ann_new', 'n_genes', 'total_counts', 'log10_total_counts', 'n_genes_detected', 'mito_frac', 'ribo_frac', 'compl', 'size_factors', 'ann_level_1_clean', 'ann_level_2_clean', 'ann_level_3_clean', 'ann_level_4_clean', 'ann_level_5_clean', 'scanvi_label', 'leiden_1', 'leiden_2', 'leiden_3', 'anatomical_region_ccf_score', 'manual_ann', 'leiden_4', 'reannotation_type', 'leiden_5', 'original_ann_level_1', 'original_ann_level_2', 'original_ann_level_3', 'original_ann_level_4', 'original_ann_level_5', 'original_ann_highest_res', 'original_ann_new', 'original_ann_level_1_clean', 'original_ann_level_2_clean', 'original_ann_level_3_clean', 'original_ann_level_4_clean', 'original_ann_level_5_clean', 'cluster_annotated', 'manual_ann_grouped', 'entropy_subject_ID_leiden_3', 'entropy_dataset_leiden_3', 'entropy_original_ann_level_1_leiden_3', 'entropy_original_ann_level_2_clean_leiden_3', 'entropy_original_ann_level_3_clean_leiden_3', 'digestion'\n",
       "    var: 'gene_symbols', 'n_cells', 'highly_variable', 'means', 'dispersions', 'dispersions_norm', 'highly_variable_nbatches', 'highly_variable_intersection', 'gene_ids'\n",
       "    uns: 'anatomical_region_level_1_colors', 'ann_level_1_colors', 'ann_level_2_colors', 'ann_level_3_colors', 'ann_level_4_colors', 'ann_level_5_clean_colors', 'ann_level_5_colors', 'dataset_colors', 'fresh_or_frozen_colors', 'hvg', 'leiden', 'leiden_1_colors', 'leiden_2_colors', 'leiden_3_colors', 'leiden_4_colors', 'leiden_5_colors', 'manual_ann_colors', 'manual_ann_grouped_colors', 'neighbors', 'original_ann_level_1_colors', 'pca', 'rank_genes_groups', 'scanvi_label_colors', 'umap'\n",
       "    obsm: 'X_pca', 'X_scanvi_emb', 'X_umap', 'X_umap_scanvi', 'X_umap_unintegrated'\n",
       "    varm: 'PCs'\n",
       "    layers: 'counts'\n",
       "    obsp: 'connectivities', 'distances'"
      ]
     },
     "execution_count": 3,
     "metadata": {},
     "output_type": "execute_result"
    }
   ],
   "source": [
    "hlca_path = '../datasets/hlca.h5ad'\n",
    "adata = ad.read(hlca_path)\n",
    "adata"
   ]
  },
  {
   "cell_type": "code",
   "execution_count": 4,
   "id": "349d8575",
   "metadata": {},
   "outputs": [
    {
     "name": "stdout",
     "output_type": "stream",
     "text": [
      "\u001b[34mINFO    \u001b[0m File ..\u001b[35m/models/scanvi_model/\u001b[0m\u001b[95mmodel.pt\u001b[0m already downloaded                             \n"
     ]
    },
    {
     "name": "stderr",
     "output_type": "stream",
     "text": [
      "/home/yuge/miniconda3/envs/fa_base/lib/python3.8/site-packages/scvi/model/base/_utils.py:134: UserWarning: var_names for adata passed in does not match var_names of adata used to train the model. For valid results, the vars need to be the same and in the same order as the adata used to train the model.\n",
      "  warnings.warn(\n",
      "/home/yuge/miniconda3/envs/fa_base/lib/python3.8/site-packages/scvi/data/fields/_layer_field.py:78: UserWarning: adata.X does not contain unnormalized count data. Are you sure this is what you want?\n",
      "  warnings.warn(\n",
      "/home/yuge/miniconda3/envs/fa_base/lib/python3.8/site-packages/scvi/data/_utils.py:156: UserWarning: Category 18 in adata.obs['_scvi_labels'] has fewer than 3 cells. Models may not train properly.\n",
      "  warnings.warn(\n",
      "/home/yuge/miniconda3/envs/fa_base/lib/python3.8/site-packages/scvi/data/_utils.py:156: UserWarning: Category 18 in adata.obs['_scvi_labels'] has fewer than 3 cells. Models may not train properly.\n",
      "  warnings.warn(\n"
     ]
    },
    {
     "data": {
      "text/html": [
       "<pre style=\"white-space:pre;overflow-x:auto;line-height:normal;font-family:Menlo,'DejaVu Sans Mono',consolas,'Courier New',monospace\">ScanVI Model with the following params: \n",
       "unlabeled_category: unlabeled, n_hidden: <span style=\"color: #008080; text-decoration-color: #008080; font-weight: bold\">128</span>, n_latent: <span style=\"color: #008080; text-decoration-color: #008080; font-weight: bold\">30</span>, n_layers: <span style=\"color: #008080; text-decoration-color: #008080; font-weight: bold\">2</span>, dropout_rate: <span style=\"color: #008080; text-decoration-color: #008080; font-weight: bold\">0.1</span>, \n",
       "dispersion: gene, gene_likelihood: nb\n",
       "Training status: Trained\n",
       "</pre>\n"
      ],
      "text/plain": [
       "ScanVI Model with the following params: \n",
       "unlabeled_category: unlabeled, n_hidden: \u001b[1;36m128\u001b[0m, n_latent: \u001b[1;36m30\u001b[0m, n_layers: \u001b[1;36m2\u001b[0m, dropout_rate: \u001b[1;36m0.1\u001b[0m, \n",
       "dispersion: gene, gene_likelihood: nb\n",
       "Training status: Trained\n"
      ]
     },
     "metadata": {},
     "output_type": "display_data"
    },
    {
     "data": {
      "text/plain": []
     },
     "execution_count": 4,
     "metadata": {},
     "output_type": "execute_result"
    }
   ],
   "source": [
    "model = scvi.model.SCANVI.load('../models/scanvi_model/', adata)\n",
    "model"
   ]
  },
  {
   "cell_type": "code",
   "execution_count": 5,
   "id": "235ba501",
   "metadata": {},
   "outputs": [],
   "source": [
    "preds = model.predict(adata)"
   ]
  },
  {
   "cell_type": "code",
   "execution_count": 6,
   "id": "38eaa161",
   "metadata": {},
   "outputs": [],
   "source": [
    "labels = adata.obs.scanvi_label.values"
   ]
  },
  {
   "cell_type": "code",
   "execution_count": 7,
   "id": "459d5689",
   "metadata": {},
   "outputs": [
    {
     "name": "stderr",
     "output_type": "stream",
     "text": [
      "/home/yuge/miniconda3/envs/fa_base/lib/python3.8/site-packages/sklearn/metrics/_classification.py:1334: UndefinedMetricWarning: Precision and F-score are ill-defined and being set to 0.0 in labels with no predicted samples. Use `zero_division` parameter to control this behavior.\n",
      "  _warn_prf(average, modifier, msg_start, len(result))\n",
      "/home/yuge/miniconda3/envs/fa_base/lib/python3.8/site-packages/sklearn/metrics/_classification.py:1334: UndefinedMetricWarning: Precision and F-score are ill-defined and being set to 0.0 in labels with no predicted samples. Use `zero_division` parameter to control this behavior.\n",
      "  _warn_prf(average, modifier, msg_start, len(result))\n"
     ]
    },
    {
     "name": "stdout",
     "output_type": "stream",
     "text": [
      "                         precision    recall  f1-score   support\n",
      "\n",
      "                    AT1       0.00      0.00      0.00      9138\n",
      "                    AT2       0.87      0.97      0.92     58398\n",
      "            Arterial EC       0.00      0.00      0.00      6031\n",
      "         B cell lineage       0.00      0.00      0.00      6361\n",
      "                  Basal       0.89      0.95      0.92     93000\n",
      "     Bronchial Vessel 1       0.00      0.00      0.00       455\n",
      "     Bronchial Vessel 2       0.00      0.00      0.00       235\n",
      "              Capillary       0.42      0.99      0.59     20597\n",
      "               Ciliated       0.94      0.98      0.96     42295\n",
      "        Dendritic cells       0.00      0.00      0.00      7813\n",
      "     Fibroblast lineage       0.78      0.99      0.87     20549\n",
      "KRT5- KRT17+ epithelial       0.00      0.00      0.00        11\n",
      "           Lymphatic EC       0.00      0.00      0.00      4622\n",
      "            Macrophages       0.73      1.00      0.84    106551\n",
      "             Mast cells       0.96      0.99      0.97      6811\n",
      "         Megakaryocytes       0.00      0.00      0.00        11\n",
      "            Mesothelium       0.00      0.00      0.00       347\n",
      "              Monocytes       0.00      0.00      0.00     30395\n",
      "           Neutrophilic       0.00      0.00      0.00         2\n",
      "          Non-T/B cells       0.00      0.00      0.00     13927\n",
      "    Proliferating cells       0.00      0.00      0.00      1812\n",
      "                   Rare       0.00      0.00      0.00       874\n",
      "              Secretory       0.85      0.93      0.89     67443\n",
      "          Smooth Muscle       0.00      0.00      0.00      3270\n",
      "               Squamous       0.00      0.00      0.00      1266\n",
      "   Submucosal Secretory       0.00      0.00      0.00      6988\n",
      "         T cell lineage       0.57      1.00      0.73     43117\n",
      "                 Venous       0.00      0.00      0.00      8449\n",
      "              unlabeled       0.00      0.00      0.00     24176\n",
      "\n",
      "               accuracy                           0.76    584944\n",
      "              macro avg       0.24      0.30      0.27    584944\n",
      "           weighted avg       0.62      0.76      0.68    584944\n",
      "\n"
     ]
    },
    {
     "name": "stderr",
     "output_type": "stream",
     "text": [
      "/home/yuge/miniconda3/envs/fa_base/lib/python3.8/site-packages/sklearn/metrics/_classification.py:1334: UndefinedMetricWarning: Precision and F-score are ill-defined and being set to 0.0 in labels with no predicted samples. Use `zero_division` parameter to control this behavior.\n",
      "  _warn_prf(average, modifier, msg_start, len(result))\n"
     ]
    }
   ],
   "source": [
    "from sklearn.metrics import classification_report\n",
    "print(classification_report(labels, preds))"
   ]
  },
  {
   "cell_type": "markdown",
   "id": "ac9cb3e7",
   "metadata": {},
   "source": [
    "### kNN mapping\n",
    "\n",
    "Taken from https://www.sc-best-practices.org/cellular_structure/annotation.html#annotation-by-mapping-to-a-reference"
   ]
  },
  {
   "cell_type": "code",
   "execution_count": 8,
   "id": "6dd2d3fa",
   "metadata": {},
   "outputs": [],
   "source": [
    "def perform_label_transfer(ref_emb, query_emb, cell_type_column, k=15):\n",
    "    # calculate an object representing the joing neighbor graph of ref + query\n",
    "    ing = sc.tl.Ingest(ref_emb)\n",
    "    ing.fit(query_emb)\n",
    "    ing.neighbors(k=k)\n",
    "    # calculate distances to top k neighbors for each cell and store indices\n",
    "    # of neighbor cells\n",
    "    top_k_distances, top_k_indices = (\n",
    "        ing._distances,\n",
    "        ing._indices,\n",
    "    )\n",
    "    # transform distances with Gaussian kernel (?)\n",
    "    stds = np.std(top_k_distances, axis=1)\n",
    "    stds = (2.0 / stds) ** 2  # don't know why the first 2.0\n",
    "    stds = stds.reshape(-1, 1)\n",
    "    top_k_distances_tilda = np.exp(-np.true_divide(top_k_distances, stds))\n",
    "    # normalize so that transformed distances sum to 1\n",
    "    weights = top_k_distances_tilda / np.sum(\n",
    "        top_k_distances_tilda, axis=1, keepdims=True\n",
    "    )\n",
    "    # initialize empty series to store predicted labels and matching\n",
    "    # uncertaintites for every query cell\n",
    "    uncertainties = pd.Series(index=query_emb.obs_names, dtype=\"float64\")\n",
    "    pred_labels = pd.Series(index=query_emb.obs_names, dtype=\"object\")\n",
    "    # now loop through query cells\n",
    "    y_train_labels = ref_emb.obs[cell_type_column].values\n",
    "    for i in range(len(weights)):\n",
    "        # store cell types present among neighbors in reference\n",
    "        unique_labels = np.unique(y_train_labels[top_k_indices[i]])\n",
    "        # store best label and matching probability so far\n",
    "        best_label, best_prob = None, 0.0\n",
    "        # now loop through all cell types present among the cell's neighbors:\n",
    "        for candidate_label in unique_labels:\n",
    "            candidate_prob = weights[\n",
    "                i, y_train_labels[top_k_indices[i]] == candidate_label\n",
    "            ].sum()\n",
    "            if best_prob < candidate_prob:\n",
    "                best_prob = candidate_prob\n",
    "                best_label = candidate_label\n",
    "        else:\n",
    "            pred_label = best_label\n",
    "        # store best label and matching uncertainty\n",
    "        uncertainties.iloc[i] = max(1 - best_prob, 0)\n",
    "        pred_labels.iloc[i] = pred_label\n",
    "    # print info\n",
    "    print(\n",
    "        \"Storing transferred labels in your query adata under .obs column:\",\n",
    "        f\"transf_{cell_type_column}\",\n",
    "    )\n",
    "    print(\n",
    "        \"Storing label transfer uncertainties in your query adata under .obs column:\",\n",
    "        f\"transf_{cell_type_column}_unc\",\n",
    "    )\n",
    "    # store results\n",
    "    query_emb.obs[f\"transf_{cell_type_column}\"] = pred_labels\n",
    "    query_emb.obs[f\"transf_{cell_type_column}_unc\"] = uncertainties"
   ]
  },
  {
   "cell_type": "code",
   "execution_count": 33,
   "id": "273fdbe9",
   "metadata": {},
   "outputs": [],
   "source": [
    "X = model.get_latent_representation(adata)"
   ]
  },
  {
   "cell_type": "code",
   "execution_count": 35,
   "id": "47301097",
   "metadata": {
    "scrolled": true
   },
   "outputs": [
    {
     "name": "stdout",
     "output_type": "stream",
     "text": [
      "CPU times: user 9min 22s, sys: 1min 33s, total: 10min 55s\n",
      "Wall time: 1min 48s\n"
     ]
    }
   ],
   "source": [
    "%%time\n",
    "ref_emb = ad.AnnData(X, obs=adata.obs)\n",
    "sc.pp.neighbors(ref_emb, n_neighbors=30)"
   ]
  },
  {
   "cell_type": "code",
   "execution_count": 36,
   "id": "db7726fb",
   "metadata": {},
   "outputs": [
    {
     "name": "stdout",
     "output_type": "stream",
     "text": [
      "Storing transferred labels in your query adata under .obs column: transf_scanvi_label\n",
      "Storing label transfer uncertainties in your query adata under .obs column: transf_scanvi_label_unc\n",
      "CPU times: user 5min 6s, sys: 33.6 s, total: 5min 40s\n",
      "Wall time: 2min 7s\n"
     ]
    }
   ],
   "source": [
    "%%time\n",
    "perform_label_transfer(\n",
    "    ref_emb=ref_emb, query_emb=ref_emb, cell_type_column=\"scanvi_label\"\n",
    ")"
   ]
  },
  {
   "cell_type": "code",
   "execution_count": 37,
   "id": "7165edbf",
   "metadata": {},
   "outputs": [
    {
     "name": "stderr",
     "output_type": "stream",
     "text": [
      "/home/yuge/miniconda3/envs/fa_base/lib/python3.8/site-packages/sklearn/metrics/_classification.py:1334: UndefinedMetricWarning: Precision and F-score are ill-defined and being set to 0.0 in labels with no predicted samples. Use `zero_division` parameter to control this behavior.\n",
      "  _warn_prf(average, modifier, msg_start, len(result))\n",
      "/home/yuge/miniconda3/envs/fa_base/lib/python3.8/site-packages/sklearn/metrics/_classification.py:1334: UndefinedMetricWarning: Precision and F-score are ill-defined and being set to 0.0 in labels with no predicted samples. Use `zero_division` parameter to control this behavior.\n",
      "  _warn_prf(average, modifier, msg_start, len(result))\n"
     ]
    },
    {
     "name": "stdout",
     "output_type": "stream",
     "text": [
      "                         precision    recall  f1-score   support\n",
      "\n",
      "                    AT1       0.93      0.88      0.90      9138\n",
      "                    AT2       0.94      0.98      0.96     58398\n",
      "            Arterial EC       0.85      0.77      0.81      6031\n",
      "         B cell lineage       0.97      0.88      0.92      6361\n",
      "                  Basal       0.90      0.95      0.92     93000\n",
      "     Bronchial Vessel 1       0.91      0.62      0.74       455\n",
      "     Bronchial Vessel 2       0.93      0.49      0.64       235\n",
      "              Capillary       0.87      0.90      0.89     20597\n",
      "               Ciliated       0.98      0.98      0.98     42295\n",
      "        Dendritic cells       0.84      0.77      0.80      7813\n",
      "     Fibroblast lineage       0.95      0.90      0.92     20549\n",
      "KRT5- KRT17+ epithelial       0.00      0.00      0.00        11\n",
      "           Lymphatic EC       0.94      0.92      0.93      4622\n",
      "            Macrophages       0.93      0.94      0.94    106551\n",
      "             Mast cells       0.95      0.78      0.86      6811\n",
      "         Megakaryocytes       0.00      0.00      0.00        11\n",
      "            Mesothelium       0.90      0.83      0.86       347\n",
      "              Monocytes       0.91      0.84      0.88     30395\n",
      "           Neutrophilic       0.00      0.00      0.00         2\n",
      "          Non-T/B cells       0.83      0.87      0.85     13927\n",
      "    Proliferating cells       0.82      0.69      0.75      1812\n",
      "                   Rare       0.88      0.77      0.82       874\n",
      "              Secretory       0.90      0.93      0.91     67443\n",
      "          Smooth Muscle       0.88      0.93      0.91      3270\n",
      "               Squamous       0.76      0.63      0.69      1266\n",
      "   Submucosal Secretory       0.91      0.84      0.88      6988\n",
      "         T cell lineage       0.91      0.95      0.93     43117\n",
      "                 Venous       0.86      0.89      0.88      8449\n",
      "              unlabeled       0.85      0.58      0.69     24176\n",
      "\n",
      "               accuracy                           0.91    584944\n",
      "              macro avg       0.80      0.74      0.77    584944\n",
      "           weighted avg       0.91      0.91      0.91    584944\n",
      "\n"
     ]
    },
    {
     "name": "stderr",
     "output_type": "stream",
     "text": [
      "/home/yuge/miniconda3/envs/fa_base/lib/python3.8/site-packages/sklearn/metrics/_classification.py:1334: UndefinedMetricWarning: Precision and F-score are ill-defined and being set to 0.0 in labels with no predicted samples. Use `zero_division` parameter to control this behavior.\n",
      "  _warn_prf(average, modifier, msg_start, len(result))\n"
     ]
    }
   ],
   "source": [
    "print(classification_report(labels, ref_emb.obs.transf_scanvi_label.values))"
   ]
  }
 ],
 "metadata": {
  "kernelspec": {
   "display_name": "Python [conda env:fa_base]",
   "language": "python",
   "name": "conda-env-fa_base-py"
  },
  "language_info": {
   "codemirror_mode": {
    "name": "ipython",
    "version": 3
   },
   "file_extension": ".py",
   "mimetype": "text/x-python",
   "name": "python",
   "nbconvert_exporter": "python",
   "pygments_lexer": "ipython3",
   "version": "3.8.2"
  }
 },
 "nbformat": 4,
 "nbformat_minor": 5
}
