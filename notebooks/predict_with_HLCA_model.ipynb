{
 "cells": [
  {
   "cell_type": "code",
   "execution_count": 1,
   "id": "9cabfa37",
   "metadata": {},
   "outputs": [
    {
     "name": "stderr",
     "output_type": "stream",
     "text": [
      "Global seed set to 0\n",
      "/home/yuge/miniconda3/envs/fa_base/lib/python3.8/site-packages/numba/core/cpu.py:78: UserWarning: Numba extension module 'sparse._numba_extension' failed to load due to 'ModuleNotFoundError(No module named 'numba.targets')'.\n",
      "  numba.core.entrypoints.init_all()\n",
      "2023-01-29 15:55:56.229494: W tensorflow/compiler/xla/stream_executor/platform/default/dso_loader.cc:64] Could not load dynamic library 'libnvinfer.so.7'; dlerror: libnvinfer.so.7: cannot open shared object file: No such file or directory\n",
      "2023-01-29 15:55:56.229559: W tensorflow/compiler/xla/stream_executor/platform/default/dso_loader.cc:64] Could not load dynamic library 'libnvinfer_plugin.so.7'; dlerror: libnvinfer_plugin.so.7: cannot open shared object file: No such file or directory\n",
      "2023-01-29 15:55:56.229563: W tensorflow/compiler/tf2tensorrt/utils/py_utils.cc:38] TF-TRT Warning: Cannot dlopen some TensorRT libraries. If you would like to use Nvidia GPU with TensorRT, please make sure the missing libraries mentioned above are installed properly.\n"
     ]
    },
    {
     "name": "stdout",
     "output_type": "stream",
     "text": [
      "scanpy==1.9.1 anndata==0.8.0 umap==0.5.3 numpy==1.23.3 scipy==1.10.0 pandas==1.5.0 scikit-learn==1.1.2 statsmodels==0.13.2 python-igraph==0.10.3 pynndescent==0.5.7\n"
     ]
    }
   ],
   "source": [
    "import torch\n",
    "import scvi\n",
    "import numpy as np\n",
    "import pandas as pd\n",
    "import scanpy as sc\n",
    "import anndata as ad\n",
    "import matplotlib.pyplot as plt\n",
    "\n",
    "sc.set_figure_params(dpi=100, frameon=False, color_map='Reds', facecolor=None)\n",
    "sc.logging.print_header()"
   ]
  },
  {
   "cell_type": "code",
   "execution_count": 2,
   "id": "db81c096",
   "metadata": {},
   "outputs": [],
   "source": [
    "%load_ext autoreload\n",
    "%autoreload 2"
   ]
  },
  {
   "cell_type": "code",
   "execution_count": 3,
   "id": "aace4f1a",
   "metadata": {},
   "outputs": [
    {
     "data": {
      "text/plain": [
       "AnnData object with n_obs × n_vars = 584944 × 2000\n",
       "    obs: 'sample', 'original_celltype_ann', 'study_long', 'study', 'last_author_PI', 'subject_ID', 'subject_ID_as_published', 'pre_or_postnatal', 'age_in_years', 'age_range', 'sex', 'ethnicity', 'mixed_ethnicity', 'smoking_status', 'smoking_history', 'BMI', 'known_lung_disease', 'condition', 'subject_type', 'cause_of_death', 'sample_type', 'anatomical_region_coarse', 'anatomical_region_detailed', 'tissue_dissociation_protocol', 'cells_or_nuclei', 'single_cell_platform', \"3'_or_5'\", 'enrichment', 'sequencing_platform', 'reference_genome_coarse', 'ensembl_release_reference_genome', 'cell_ranger_version', 'disease_status', 'fresh_or_frozen', 'cultured', 'cell_viability_%', 'comments', 'Processing_site', 'dataset', 'anatomical_region_level_1', 'anatomical_region_level_2', 'anatomical_region_level_3', 'anatomical_region_highest_res', 'age', 'ann_level_1', 'ann_level_2', 'ann_level_3', 'ann_level_4', 'ann_level_5', 'ann_highest_res', 'ann_new', 'n_genes', 'total_counts', 'log10_total_counts', 'n_genes_detected', 'mito_frac', 'ribo_frac', 'compl', 'size_factors', 'ann_level_1_clean', 'ann_level_2_clean', 'ann_level_3_clean', 'ann_level_4_clean', 'ann_level_5_clean', 'scanvi_label', 'leiden_1', 'leiden_2', 'leiden_3', 'anatomical_region_ccf_score', 'manual_ann', 'leiden_4', 'reannotation_type', 'leiden_5', 'original_ann_level_1', 'original_ann_level_2', 'original_ann_level_3', 'original_ann_level_4', 'original_ann_level_5', 'original_ann_highest_res', 'original_ann_new', 'original_ann_level_1_clean', 'original_ann_level_2_clean', 'original_ann_level_3_clean', 'original_ann_level_4_clean', 'original_ann_level_5_clean', 'cluster_annotated', 'manual_ann_grouped', 'entropy_subject_ID_leiden_3', 'entropy_dataset_leiden_3', 'entropy_original_ann_level_1_leiden_3', 'entropy_original_ann_level_2_clean_leiden_3', 'entropy_original_ann_level_3_clean_leiden_3', 'digestion'\n",
       "    var: 'gene_symbols', 'n_cells', 'highly_variable', 'means', 'dispersions', 'dispersions_norm', 'highly_variable_nbatches', 'highly_variable_intersection', 'gene_ids'\n",
       "    uns: 'anatomical_region_level_1_colors', 'ann_level_1_colors', 'ann_level_2_colors', 'ann_level_3_colors', 'ann_level_4_colors', 'ann_level_5_clean_colors', 'ann_level_5_colors', 'dataset_colors', 'fresh_or_frozen_colors', 'hvg', 'leiden', 'leiden_1_colors', 'leiden_2_colors', 'leiden_3_colors', 'leiden_4_colors', 'leiden_5_colors', 'manual_ann_colors', 'manual_ann_grouped_colors', 'neighbors', 'original_ann_level_1_colors', 'pca', 'rank_genes_groups', 'scanvi_label_colors', 'umap'\n",
       "    obsm: 'X_pca', 'X_scanvi_emb', 'X_umap', 'X_umap_scanvi', 'X_umap_unintegrated'\n",
       "    varm: 'PCs'\n",
       "    layers: 'counts'\n",
       "    obsp: 'connectivities', 'distances'"
      ]
     },
     "execution_count": 3,
     "metadata": {},
     "output_type": "execute_result"
    }
   ],
   "source": [
    "hlca_path = '../datasets/hlca.h5ad'\n",
    "adata = ad.read(hlca_path)\n",
    "adata"
   ]
  },
  {
   "cell_type": "code",
   "execution_count": 4,
   "id": "349d8575",
   "metadata": {},
   "outputs": [
    {
     "name": "stdout",
     "output_type": "stream",
     "text": [
      "\u001b[34mINFO    \u001b[0m File ..\u001b[35m/models/scanvi_model/\u001b[0m\u001b[95mmodel.pt\u001b[0m already downloaded                             \n"
     ]
    },
    {
     "name": "stderr",
     "output_type": "stream",
     "text": [
      "/home/yuge/miniconda3/envs/fa_base/lib/python3.8/site-packages/scvi/model/base/_utils.py:134: UserWarning: var_names for adata passed in does not match var_names of adata used to train the model. For valid results, the vars need to be the same and in the same order as the adata used to train the model.\n",
      "  warnings.warn(\n",
      "/home/yuge/miniconda3/envs/fa_base/lib/python3.8/site-packages/scvi/data/fields/_layer_field.py:78: UserWarning: adata.X does not contain unnormalized count data. Are you sure this is what you want?\n",
      "  warnings.warn(\n",
      "/home/yuge/miniconda3/envs/fa_base/lib/python3.8/site-packages/scvi/data/_utils.py:156: UserWarning: Category 18 in adata.obs['_scvi_labels'] has fewer than 3 cells. Models may not train properly.\n",
      "  warnings.warn(\n",
      "/home/yuge/miniconda3/envs/fa_base/lib/python3.8/site-packages/scvi/data/_utils.py:156: UserWarning: Category 18 in adata.obs['_scvi_labels'] has fewer than 3 cells. Models may not train properly.\n",
      "  warnings.warn(\n"
     ]
    },
    {
     "data": {
      "text/html": [
       "<pre style=\"white-space:pre;overflow-x:auto;line-height:normal;font-family:Menlo,'DejaVu Sans Mono',consolas,'Courier New',monospace\">ScanVI Model with the following params: \n",
       "unlabeled_category: unlabeled, n_hidden: <span style=\"color: #008080; text-decoration-color: #008080; font-weight: bold\">128</span>, n_latent: <span style=\"color: #008080; text-decoration-color: #008080; font-weight: bold\">30</span>, n_layers: <span style=\"color: #008080; text-decoration-color: #008080; font-weight: bold\">2</span>, dropout_rate: <span style=\"color: #008080; text-decoration-color: #008080; font-weight: bold\">0.1</span>, \n",
       "dispersion: gene, gene_likelihood: nb\n",
       "Training status: Trained\n",
       "</pre>\n"
      ],
      "text/plain": [
       "ScanVI Model with the following params: \n",
       "unlabeled_category: unlabeled, n_hidden: \u001b[1;36m128\u001b[0m, n_latent: \u001b[1;36m30\u001b[0m, n_layers: \u001b[1;36m2\u001b[0m, dropout_rate: \u001b[1;36m0.1\u001b[0m, \n",
       "dispersion: gene, gene_likelihood: nb\n",
       "Training status: Trained\n"
      ]
     },
     "metadata": {},
     "output_type": "display_data"
    },
    {
     "data": {
      "text/plain": []
     },
     "execution_count": 4,
     "metadata": {},
     "output_type": "execute_result"
    }
   ],
   "source": [
    "model = scvi.model.SCANVI.load('../models/scanvi_model/', adata)\n",
    "model"
   ]
  },
  {
   "cell_type": "code",
   "execution_count": 5,
   "id": "235ba501",
   "metadata": {},
   "outputs": [],
   "source": [
    "preds = model.predict(adata)"
   ]
  },
  {
   "cell_type": "code",
   "execution_count": 6,
   "id": "38eaa161",
   "metadata": {},
   "outputs": [],
   "source": [
    "labels = adata.obs.scanvi_label.values"
   ]
  },
  {
   "cell_type": "code",
   "execution_count": 7,
   "id": "459d5689",
   "metadata": {},
   "outputs": [
    {
     "name": "stderr",
     "output_type": "stream",
     "text": [
      "/home/yuge/miniconda3/envs/fa_base/lib/python3.8/site-packages/sklearn/metrics/_classification.py:1334: UndefinedMetricWarning: Precision and F-score are ill-defined and being set to 0.0 in labels with no predicted samples. Use `zero_division` parameter to control this behavior.\n",
      "  _warn_prf(average, modifier, msg_start, len(result))\n",
      "/home/yuge/miniconda3/envs/fa_base/lib/python3.8/site-packages/sklearn/metrics/_classification.py:1334: UndefinedMetricWarning: Precision and F-score are ill-defined and being set to 0.0 in labels with no predicted samples. Use `zero_division` parameter to control this behavior.\n",
      "  _warn_prf(average, modifier, msg_start, len(result))\n"
     ]
    },
    {
     "name": "stdout",
     "output_type": "stream",
     "text": [
      "                         precision    recall  f1-score   support\n",
      "\n",
      "                    AT1       0.00      0.00      0.00      9138\n",
      "                    AT2       0.87      0.97      0.92     58398\n",
      "            Arterial EC       0.00      0.00      0.00      6031\n",
      "         B cell lineage       0.00      0.00      0.00      6361\n",
      "                  Basal       0.89      0.95      0.92     93000\n",
      "     Bronchial Vessel 1       0.00      0.00      0.00       455\n",
      "     Bronchial Vessel 2       0.00      0.00      0.00       235\n",
      "              Capillary       0.42      0.99      0.59     20597\n",
      "               Ciliated       0.94      0.98      0.96     42295\n",
      "        Dendritic cells       0.00      0.00      0.00      7813\n",
      "     Fibroblast lineage       0.78      0.99      0.87     20549\n",
      "KRT5- KRT17+ epithelial       0.00      0.00      0.00        11\n",
      "           Lymphatic EC       0.00      0.00      0.00      4622\n",
      "            Macrophages       0.73      1.00      0.84    106551\n",
      "             Mast cells       0.96      0.99      0.97      6811\n",
      "         Megakaryocytes       0.00      0.00      0.00        11\n",
      "            Mesothelium       0.00      0.00      0.00       347\n",
      "              Monocytes       0.00      0.00      0.00     30395\n",
      "           Neutrophilic       0.00      0.00      0.00         2\n",
      "          Non-T/B cells       0.00      0.00      0.00     13927\n",
      "    Proliferating cells       0.00      0.00      0.00      1812\n",
      "                   Rare       0.00      0.00      0.00       874\n",
      "              Secretory       0.85      0.93      0.89     67443\n",
      "          Smooth Muscle       0.00      0.00      0.00      3270\n",
      "               Squamous       0.00      0.00      0.00      1266\n",
      "   Submucosal Secretory       0.00      0.00      0.00      6988\n",
      "         T cell lineage       0.57      1.00      0.73     43117\n",
      "                 Venous       0.00      0.00      0.00      8449\n",
      "              unlabeled       0.00      0.00      0.00     24176\n",
      "\n",
      "               accuracy                           0.76    584944\n",
      "              macro avg       0.24      0.30      0.27    584944\n",
      "           weighted avg       0.62      0.76      0.68    584944\n",
      "\n"
     ]
    },
    {
     "name": "stderr",
     "output_type": "stream",
     "text": [
      "/home/yuge/miniconda3/envs/fa_base/lib/python3.8/site-packages/sklearn/metrics/_classification.py:1334: UndefinedMetricWarning: Precision and F-score are ill-defined and being set to 0.0 in labels with no predicted samples. Use `zero_division` parameter to control this behavior.\n",
      "  _warn_prf(average, modifier, msg_start, len(result))\n"
     ]
    }
   ],
   "source": [
    "from sklearn.metrics import classification_report\n",
    "print(classification_report(labels, preds))"
   ]
  },
  {
   "cell_type": "markdown",
   "id": "af2c0fa6",
   "metadata": {},
   "source": [
    "### kNN mapping"
   ]
  },
  {
   "cell_type": "code",
   "execution_count": 8,
   "id": "f145189d",
   "metadata": {},
   "outputs": [],
   "source": [
    "def perform_label_transfer(ref_emb, query_emb, cell_type_column, k=15):\n",
    "    # calculate an object representing the joing neighbor graph of ref + query\n",
    "    ing = sc.tl.Ingest(ref_emb)\n",
    "    ing.fit(query_emb)\n",
    "    ing.neighbors(k=k)\n",
    "    # calculate distances to top k neighbors for each cell and store indices\n",
    "    # of neighbor cells\n",
    "    top_k_distances, top_k_indices = (\n",
    "        ing._distances,\n",
    "        ing._indices,\n",
    "    )\n",
    "    # transform distances with Gaussian kernel (?)\n",
    "    stds = np.std(top_k_distances, axis=1)\n",
    "    stds = (2.0 / stds) ** 2  # don't know why the first 2.0\n",
    "    stds = stds.reshape(-1, 1)\n",
    "    top_k_distances_tilda = np.exp(-np.true_divide(top_k_distances, stds))\n",
    "    # normalize so that transformed distances sum to 1\n",
    "    weights = top_k_distances_tilda / np.sum(\n",
    "        top_k_distances_tilda, axis=1, keepdims=True\n",
    "    )\n",
    "    # initialize empty series to store predicted labels and matching\n",
    "    # uncertaintites for every query cell\n",
    "    uncertainties = pd.Series(index=query_emb.obs_names, dtype=\"float64\")\n",
    "    pred_labels = pd.Series(index=query_emb.obs_names, dtype=\"object\")\n",
    "    # now loop through query cells\n",
    "    y_train_labels = ref_emb.obs[cell_type_column].values\n",
    "    for i in range(len(weights)):\n",
    "        # store cell types present among neighbors in reference\n",
    "        unique_labels = np.unique(y_train_labels[top_k_indices[i]])\n",
    "        # store best label and matching probability so far\n",
    "        best_label, best_prob = None, 0.0\n",
    "        # now loop through all cell types present among the cell's neighbors:\n",
    "        for candidate_label in unique_labels:\n",
    "            candidate_prob = weights[\n",
    "                i, y_train_labels[top_k_indices[i]] == candidate_label\n",
    "            ].sum()\n",
    "            if best_prob < candidate_prob:\n",
    "                best_prob = candidate_prob\n",
    "                best_label = candidate_label\n",
    "        else:\n",
    "            pred_label = best_label\n",
    "        # store best label and matching uncertainty\n",
    "        uncertainties.iloc[i] = max(1 - best_prob, 0)\n",
    "        pred_labels.iloc[i] = pred_label\n",
    "    # print info\n",
    "    print(\n",
    "        \"Storing transferred labels in your query adata under .obs column:\",\n",
    "        f\"transf_{cell_type_column}\",\n",
    "    )\n",
    "    print(\n",
    "        \"Storing label transfer uncertainties in your query adata under .obs column:\",\n",
    "        f\"transf_{cell_type_column}_unc\",\n",
    "    )\n",
    "    # store results\n",
    "    query_emb.obs[f\"transf_{cell_type_column}\"] = pred_labels\n",
    "    query_emb.obs[f\"transf_{cell_type_column}_unc\"] = uncertainties"
   ]
  },
  {
   "cell_type": "code",
   "execution_count": 22,
   "id": "56d247e5",
   "metadata": {},
   "outputs": [
    {
     "data": {
      "text/plain": [
       "AnnData object with n_obs × n_vars = 584944 × 30\n",
       "    obs: 'sample', 'original_celltype_ann', 'study_long', 'study', 'last_author_PI', 'subject_ID', 'subject_ID_as_published', 'pre_or_postnatal', 'age_in_years', 'age_range', 'sex', 'ethnicity', 'mixed_ethnicity', 'smoking_status', 'smoking_history', 'BMI', 'known_lung_disease', 'condition', 'subject_type', 'cause_of_death', 'sample_type', 'anatomical_region_coarse', 'anatomical_region_detailed', 'tissue_dissociation_protocol', 'cells_or_nuclei', 'single_cell_platform', \"3'_or_5'\", 'enrichment', 'sequencing_platform', 'reference_genome_coarse', 'ensembl_release_reference_genome', 'cell_ranger_version', 'disease_status', 'fresh_or_frozen', 'cultured', 'cell_viability_%', 'comments', 'Processing_site', 'dataset', 'anatomical_region_level_1', 'anatomical_region_level_2', 'anatomical_region_level_3', 'anatomical_region_highest_res', 'age', 'ann_level_1', 'ann_level_2', 'ann_level_3', 'ann_level_4', 'ann_level_5', 'ann_highest_res', 'ann_new', 'n_genes', 'total_counts', 'log10_total_counts', 'n_genes_detected', 'mito_frac', 'ribo_frac', 'compl', 'size_factors', 'ann_level_1_clean', 'ann_level_2_clean', 'ann_level_3_clean', 'ann_level_4_clean', 'ann_level_5_clean', 'scanvi_label', 'leiden_1', 'leiden_2', 'leiden_3', 'anatomical_region_ccf_score', 'manual_ann', 'leiden_4', 'reannotation_type', 'leiden_5', 'original_ann_level_1', 'original_ann_level_2', 'original_ann_level_3', 'original_ann_level_4', 'original_ann_level_5', 'original_ann_highest_res', 'original_ann_new', 'original_ann_level_1_clean', 'original_ann_level_2_clean', 'original_ann_level_3_clean', 'original_ann_level_4_clean', 'original_ann_level_5_clean', 'cluster_annotated', 'manual_ann_grouped', 'entropy_subject_ID_leiden_3', 'entropy_dataset_leiden_3', 'entropy_original_ann_level_1_leiden_3', 'entropy_original_ann_level_2_clean_leiden_3', 'entropy_original_ann_level_3_clean_leiden_3', 'digestion', '_scvi_batch', '_scvi_labels'\n",
       "    uns: 'neighbors'\n",
       "    obsp: 'distances', 'connectivities'"
      ]
     },
     "execution_count": 22,
     "metadata": {},
     "output_type": "execute_result"
    }
   ],
   "source": [
    "ref_emb = ad.AnnData(adata.obsm['X_scanvi_emb'], obs=adata.obs)\n",
    "sc.pp.neighbors(ref_emb)\n",
    "# ref_emb.uns['neighbors'] = adata.uns['neighbors']\n",
    "# ref_emb.obsm['X_umap'] = adata.obsm['X_umap']\n",
    "# ref_emb.obsp['connectivities'] = adata.obsp['connectivities']\n",
    "# ref_emb.obsp['distances'] = adata.obsp['distances']\n",
    "ref_emb"
   ]
  },
  {
   "cell_type": "code",
   "execution_count": null,
   "id": "f5486925",
   "metadata": {},
   "outputs": [],
   "source": [
    "perform_label_transfer(\n",
    "    ref_emb=ref_emb, query_emb=ref_emb, cell_type_column=\"scanvi_label\"\n",
    ")"
   ]
  },
  {
   "cell_type": "markdown",
   "id": "9d6e7ce9",
   "metadata": {
    "heading_collapsed": true
   },
   "source": [
    "## From Jan:"
   ]
  },
  {
   "cell_type": "code",
   "execution_count": 4,
   "id": "e8359f8f",
   "metadata": {
    "hidden": true
   },
   "outputs": [],
   "source": [
    "from uncertainty_atlas.models.mimo import Mimo"
   ]
  },
  {
   "cell_type": "code",
   "execution_count": 6,
   "id": "50429959",
   "metadata": {
    "hidden": true
   },
   "outputs": [
    {
     "ename": "KeyError",
     "evalue": "'pytorch-lightning_version'",
     "output_type": "error",
     "traceback": [
      "\u001b[0;31m---------------------------------------------------------------------------\u001b[0m",
      "\u001b[0;31mKeyError\u001b[0m                                  Traceback (most recent call last)",
      "Cell \u001b[0;32mIn[6], line 1\u001b[0m\n\u001b[0;32m----> 1\u001b[0m model \u001b[38;5;241m=\u001b[39m \u001b[43mMimo\u001b[49m\u001b[38;5;241;43m.\u001b[39;49m\u001b[43mload_from_checkpoint\u001b[49m\u001b[43m(\u001b[49m\n\u001b[1;32m      2\u001b[0m \u001b[43m    \u001b[49m\u001b[38;5;124;43m\"\u001b[39;49m\u001b[38;5;124;43m/home/yuge/feature-attribution-sc/models/scanvi_model/model_params.pt\u001b[39;49m\u001b[38;5;124;43m\"\u001b[39;49m\n\u001b[1;32m      3\u001b[0m \u001b[43m)\u001b[49m\n",
      "File \u001b[0;32m~/miniconda3/envs/unca_env/lib/python3.9/site-packages/pytorch_lightning/core/saving.py:139\u001b[0m, in \u001b[0;36mModelIO.load_from_checkpoint\u001b[0;34m(cls, checkpoint_path, map_location, hparams_file, strict, **kwargs)\u001b[0m\n\u001b[1;32m     59\u001b[0m \u001b[38;5;129m@classmethod\u001b[39m\n\u001b[1;32m     60\u001b[0m \u001b[38;5;28;01mdef\u001b[39;00m \u001b[38;5;21mload_from_checkpoint\u001b[39m(\n\u001b[1;32m     61\u001b[0m     \u001b[38;5;28mcls\u001b[39m,\n\u001b[0;32m   (...)\u001b[0m\n\u001b[1;32m     66\u001b[0m     \u001b[38;5;241m*\u001b[39m\u001b[38;5;241m*\u001b[39mkwargs: Any,\n\u001b[1;32m     67\u001b[0m ) \u001b[38;5;241m-\u001b[39m\u001b[38;5;241m>\u001b[39m Self:  \u001b[38;5;66;03m# type: ignore[valid-type]\u001b[39;00m\n\u001b[1;32m     68\u001b[0m \u001b[38;5;250m    \u001b[39m\u001b[38;5;124mr\u001b[39m\u001b[38;5;124;03m\"\"\"\u001b[39;00m\n\u001b[1;32m     69\u001b[0m \u001b[38;5;124;03m    Primary way of loading a model from a checkpoint. When Lightning saves a checkpoint\u001b[39;00m\n\u001b[1;32m     70\u001b[0m \u001b[38;5;124;03m    it stores the arguments passed to ``__init__``  in the checkpoint under ``\"hyper_parameters\"``.\u001b[39;00m\n\u001b[0;32m   (...)\u001b[0m\n\u001b[1;32m    137\u001b[0m \u001b[38;5;124;03m        y_hat = pretrained_model(x)\u001b[39;00m\n\u001b[1;32m    138\u001b[0m \u001b[38;5;124;03m    \"\"\"\u001b[39;00m\n\u001b[0;32m--> 139\u001b[0m     \u001b[38;5;28;01mreturn\u001b[39;00m \u001b[43m_load_from_checkpoint\u001b[49m\u001b[43m(\u001b[49m\n\u001b[1;32m    140\u001b[0m \u001b[43m        \u001b[49m\u001b[38;5;28;43mcls\u001b[39;49m\u001b[43m,\u001b[49m\n\u001b[1;32m    141\u001b[0m \u001b[43m        \u001b[49m\u001b[43mcheckpoint_path\u001b[49m\u001b[43m,\u001b[49m\n\u001b[1;32m    142\u001b[0m \u001b[43m        \u001b[49m\u001b[43mmap_location\u001b[49m\u001b[43m,\u001b[49m\n\u001b[1;32m    143\u001b[0m \u001b[43m        \u001b[49m\u001b[43mhparams_file\u001b[49m\u001b[43m,\u001b[49m\n\u001b[1;32m    144\u001b[0m \u001b[43m        \u001b[49m\u001b[43mstrict\u001b[49m\u001b[43m,\u001b[49m\n\u001b[1;32m    145\u001b[0m \u001b[43m        \u001b[49m\u001b[38;5;241;43m*\u001b[39;49m\u001b[38;5;241;43m*\u001b[39;49m\u001b[43mkwargs\u001b[49m\u001b[43m,\u001b[49m\n\u001b[1;32m    146\u001b[0m \u001b[43m    \u001b[49m\u001b[43m)\u001b[49m\n",
      "File \u001b[0;32m~/miniconda3/envs/unca_env/lib/python3.9/site-packages/pytorch_lightning/core/saving.py:163\u001b[0m, in \u001b[0;36m_load_from_checkpoint\u001b[0;34m(cls, checkpoint_path, map_location, hparams_file, strict, **kwargs)\u001b[0m\n\u001b[1;32m    160\u001b[0m     checkpoint \u001b[38;5;241m=\u001b[39m pl_load(checkpoint_path, map_location\u001b[38;5;241m=\u001b[39mmap_location)\n\u001b[1;32m    162\u001b[0m \u001b[38;5;66;03m# convert legacy checkpoints to the new format\u001b[39;00m\n\u001b[0;32m--> 163\u001b[0m checkpoint \u001b[38;5;241m=\u001b[39m \u001b[43m_pl_migrate_checkpoint\u001b[49m\u001b[43m(\u001b[49m\n\u001b[1;32m    164\u001b[0m \u001b[43m    \u001b[49m\u001b[43mcheckpoint\u001b[49m\u001b[43m,\u001b[49m\u001b[43m \u001b[49m\u001b[43mcheckpoint_path\u001b[49m\u001b[38;5;241;43m=\u001b[39;49m\u001b[43m(\u001b[49m\u001b[43mcheckpoint_path\u001b[49m\u001b[43m \u001b[49m\u001b[38;5;28;43;01mif\u001b[39;49;00m\u001b[43m \u001b[49m\u001b[38;5;28;43misinstance\u001b[39;49m\u001b[43m(\u001b[49m\u001b[43mcheckpoint_path\u001b[49m\u001b[43m,\u001b[49m\u001b[43m \u001b[49m\u001b[43m(\u001b[49m\u001b[38;5;28;43mstr\u001b[39;49m\u001b[43m,\u001b[49m\u001b[43m \u001b[49m\u001b[43mPath\u001b[49m\u001b[43m)\u001b[49m\u001b[43m)\u001b[49m\u001b[43m \u001b[49m\u001b[38;5;28;43;01melse\u001b[39;49;00m\u001b[43m \u001b[49m\u001b[38;5;28;43;01mNone\u001b[39;49;00m\u001b[43m)\u001b[49m\n\u001b[1;32m    165\u001b[0m \u001b[43m\u001b[49m\u001b[43m)\u001b[49m\n\u001b[1;32m    167\u001b[0m \u001b[38;5;28;01mif\u001b[39;00m hparams_file \u001b[38;5;129;01mis\u001b[39;00m \u001b[38;5;129;01mnot\u001b[39;00m \u001b[38;5;28;01mNone\u001b[39;00m:\n\u001b[1;32m    168\u001b[0m     extension \u001b[38;5;241m=\u001b[39m \u001b[38;5;28mstr\u001b[39m(hparams_file)\u001b[38;5;241m.\u001b[39msplit(\u001b[38;5;124m\"\u001b[39m\u001b[38;5;124m.\u001b[39m\u001b[38;5;124m\"\u001b[39m)[\u001b[38;5;241m-\u001b[39m\u001b[38;5;241m1\u001b[39m]\n",
      "File \u001b[0;32m~/miniconda3/envs/unca_env/lib/python3.9/site-packages/pytorch_lightning/utilities/migration/utils.py:113\u001b[0m, in \u001b[0;36m_pl_migrate_checkpoint\u001b[0;34m(checkpoint, checkpoint_path)\u001b[0m\n\u001b[1;32m    108\u001b[0m \u001b[38;5;28;01mdef\u001b[39;00m \u001b[38;5;21m_pl_migrate_checkpoint\u001b[39m(checkpoint: _CHECKPOINT, checkpoint_path: Optional[_PATH] \u001b[38;5;241m=\u001b[39m \u001b[38;5;28;01mNone\u001b[39;00m) \u001b[38;5;241m-\u001b[39m\u001b[38;5;241m>\u001b[39m _CHECKPOINT:\n\u001b[1;32m    109\u001b[0m \u001b[38;5;250m    \u001b[39m\u001b[38;5;124;03m\"\"\"Applies Lightning version migrations to a checkpoint dictionary and prints infos for the user.\u001b[39;00m\n\u001b[1;32m    110\u001b[0m \n\u001b[1;32m    111\u001b[0m \u001b[38;5;124;03m    This function is used by the Lightning Trainer when resuming from a checkpoint.\u001b[39;00m\n\u001b[1;32m    112\u001b[0m \u001b[38;5;124;03m    \"\"\"\u001b[39;00m\n\u001b[0;32m--> 113\u001b[0m     old_version \u001b[38;5;241m=\u001b[39m \u001b[43m_get_version\u001b[49m\u001b[43m(\u001b[49m\u001b[43mcheckpoint\u001b[49m\u001b[43m)\u001b[49m\n\u001b[1;32m    114\u001b[0m     checkpoint, migrations \u001b[38;5;241m=\u001b[39m migrate_checkpoint(checkpoint)\n\u001b[1;32m    115\u001b[0m     new_version \u001b[38;5;241m=\u001b[39m _get_version(checkpoint)\n",
      "File \u001b[0;32m~/miniconda3/envs/unca_env/lib/python3.9/site-packages/pytorch_lightning/utilities/migration/utils.py:136\u001b[0m, in \u001b[0;36m_get_version\u001b[0;34m(checkpoint)\u001b[0m\n\u001b[1;32m    134\u001b[0m \u001b[38;5;28;01mdef\u001b[39;00m \u001b[38;5;21m_get_version\u001b[39m(checkpoint: _CHECKPOINT) \u001b[38;5;241m-\u001b[39m\u001b[38;5;241m>\u001b[39m \u001b[38;5;28mstr\u001b[39m:\n\u001b[1;32m    135\u001b[0m \u001b[38;5;250m    \u001b[39m\u001b[38;5;124;03m\"\"\"Get the version of a Lightning checkpoint.\"\"\"\u001b[39;00m\n\u001b[0;32m--> 136\u001b[0m     \u001b[38;5;28;01mreturn\u001b[39;00m \u001b[43mcheckpoint\u001b[49m\u001b[43m[\u001b[49m\u001b[38;5;124;43m\"\u001b[39;49m\u001b[38;5;124;43mpytorch-lightning_version\u001b[39;49m\u001b[38;5;124;43m\"\u001b[39;49m\u001b[43m]\u001b[49m\n",
      "\u001b[0;31mKeyError\u001b[0m: 'pytorch-lightning_version'"
     ]
    }
   ],
   "source": [
    "model = Mimo.load_from_checkpoint(\n",
    "    \"/home/yuge/feature-attribution-sc/models/scanvi_model/model_params.pt\"\n",
    ")"
   ]
  },
  {
   "cell_type": "code",
   "execution_count": null,
   "id": "85131af0",
   "metadata": {
    "hidden": true
   },
   "outputs": [],
   "source": [
    "# hlca = sc.read(cfg.data_file)\n",
    "# hlca_core = hlca[hlca.obs.core_or_extension == \"core\"]\n",
    "# cfg.dataloader\n",
    "# {'batch_size': 1024, 'num_workers': 0, 'label_col': '${label_col}'}\n",
    "# meyer_index = hlca[hlca.obs.study == \"Meyer_2021\"].obs.index\n",
    "dataloader = get_dataloader(\n",
    "    hlca,\n",
    "    hlca.obs.index,\n",
    "    shuffle=False,\n",
    "    {'batch_size': 1024, 'num_workers': 0, 'label_col': 'manual_ann'})"
   ]
  },
  {
   "cell_type": "code",
   "execution_count": null,
   "id": "a57bdf0c",
   "metadata": {
    "hidden": true
   },
   "outputs": [],
   "source": [
    "trainer = Trainer()"
   ]
  },
  {
   "cell_type": "code",
   "execution_count": null,
   "id": "031e12f3",
   "metadata": {
    "hidden": true
   },
   "outputs": [],
   "source": [
    "predictions = trainer.predict(model, dataloader)"
   ]
  },
  {
   "cell_type": "code",
   "execution_count": null,
   "id": "71a9ca50",
   "metadata": {
    "hidden": true
   },
   "outputs": [],
   "source": [
    "preds = torch.cat(predictions).numpy()\n",
    "# preds.shape\n",
    "# (129340, 10, 61)\n",
    "y_proba = preds.mean(1)\n",
    "y_pred = meyer_y_proba.argmax(-1)\n",
    "hlca.obs[\"mimo_preds\"] = pd.Categorical(\n",
    "    pd.Series(y_pred).map(\n",
    "        dict(enumerate(hlca.obs.manual_ann.cat.categories))\n",
    "    )\n",
    ")"
   ]
  }
 ],
 "metadata": {
  "kernelspec": {
   "display_name": "Python [conda env:fa_base] *",
   "language": "python",
   "name": "conda-env-fa_base-py"
  },
  "language_info": {
   "codemirror_mode": {
    "name": "ipython",
    "version": 3
   },
   "file_extension": ".py",
   "mimetype": "text/x-python",
   "name": "python",
   "nbconvert_exporter": "python",
   "pygments_lexer": "ipython3",
   "version": "3.8.2"
  }
 },
 "nbformat": 4,
 "nbformat_minor": 5
}
