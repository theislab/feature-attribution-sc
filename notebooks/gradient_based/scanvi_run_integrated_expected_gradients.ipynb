{
 "cells": [
  {
   "cell_type": "code",
   "execution_count": 1,
   "id": "2a15e7d5",
   "metadata": {},
   "outputs": [
    {
     "name": "stderr",
     "output_type": "stream",
     "text": [
      "/home/icb/yuge.ji/miniconda3/envs/test_env3/lib/python3.10/site-packages/torch/utils/tensorboard/__init__.py:2: DeprecationWarning: The distutils package is deprecated and slated for removal in Python 3.12. Use setuptools or check PEP 632 for potential alternatives\n",
      "  from distutils.version import LooseVersion\n",
      "Global seed set to 0\n",
      "/home/icb/yuge.ji/miniconda3/envs/test_env3/lib/python3.10/site-packages/scanpy/_settings.py:447: DeprecationWarning: `set_matplotlib_formats` is deprecated since IPython 7.23, directly use `matplotlib_inline.backend_inline.set_matplotlib_formats()`\n",
      "  IPython.display.set_matplotlib_formats(*ipython_format)\n"
     ]
    },
    {
     "name": "stdout",
     "output_type": "stream",
     "text": [
      "scanpy==1.9.1 anndata==0.8.0 umap==0.5.3 numpy==1.22.4 scipy==1.9.1 pandas==1.4.4 scikit-learn==1.1.2 statsmodels==0.13.2 python-igraph==0.10.2 pynndescent==0.5.7\n"
     ]
    },
    {
     "name": "stderr",
     "output_type": "stream",
     "text": [
      "/home/icb/yuge.ji/miniconda3/envs/test_env3/lib/python3.10/site-packages/umap/__init__.py:9: ImportWarning: Tensorflow not installed; ParametricUMAP will be unavailable\n",
      "  warn(\n"
     ]
    }
   ],
   "source": [
    "import torch\n",
    "import scvi\n",
    "import pandas as pd\n",
    "import scanpy as sc\n",
    "import matplotlib.pyplot as plt\n",
    "import numpy as np\n",
    "\n",
    "sc.set_figure_params(dpi=100, frameon=False, color_map='Reds', facecolor=None)\n",
    "sc.logging.print_header()\n",
    "assert(scvi.__version__=='0.16.3')\n",
    "\n",
    "from gradients import run_expected_jacobian_scanvi, run_integrated_jacobian_scanvi"
   ]
  },
  {
   "cell_type": "code",
   "execution_count": 2,
   "id": "89aed8ec",
   "metadata": {},
   "outputs": [],
   "source": [
    "base_path = '/home/icb/yuge.ji/projects/feature-attribution-sc'"
   ]
  },
  {
   "cell_type": "code",
   "execution_count": 3,
   "id": "8c395d71",
   "metadata": {},
   "outputs": [
    {
     "name": "stderr",
     "output_type": "stream",
     "text": [
      "/home/icb/yuge.ji/miniconda3/envs/test_env3/lib/python3.10/site-packages/anndata/_io/h5ad.py:238: OldFormatWarning: Element '/layers' was written without encoding metadata.\n",
      "  d[k] = read_elem(f[k])\n",
      "/home/icb/yuge.ji/miniconda3/envs/test_env3/lib/python3.10/site-packages/anndata/_io/specs/methods.py:584: OldFormatWarning: Element '/obs/__categories/sample' was written without encoding metadata.\n",
      "  categories = read_elem(categories_dset)\n",
      "/home/icb/yuge.ji/miniconda3/envs/test_env3/lib/python3.10/site-packages/anndata/_io/specs/methods.py:587: OldFormatWarning: Element '/obs/sample' was written without encoding metadata.\n",
      "  read_elem(dataset), categories, ordered=ordered\n",
      "/home/icb/yuge.ji/miniconda3/envs/test_env3/lib/python3.10/site-packages/anndata/_io/specs/methods.py:584: OldFormatWarning: Element '/obs/__categories/original_celltype_ann' was written without encoding metadata.\n",
      "  categories = read_elem(categories_dset)\n",
      "/home/icb/yuge.ji/miniconda3/envs/test_env3/lib/python3.10/site-packages/anndata/_io/specs/methods.py:587: OldFormatWarning: Element '/obs/original_celltype_ann' was written without encoding metadata.\n",
      "  read_elem(dataset), categories, ordered=ordered\n",
      "/home/icb/yuge.ji/miniconda3/envs/test_env3/lib/python3.10/site-packages/anndata/_io/specs/methods.py:584: OldFormatWarning: Element '/obs/__categories/study_long' was written without encoding metadata.\n",
      "  categories = read_elem(categories_dset)\n",
      "/home/icb/yuge.ji/miniconda3/envs/test_env3/lib/python3.10/site-packages/anndata/_io/specs/methods.py:587: OldFormatWarning: Element '/obs/study_long' was written without encoding metadata.\n",
      "  read_elem(dataset), categories, ordered=ordered\n",
      "/home/icb/yuge.ji/miniconda3/envs/test_env3/lib/python3.10/site-packages/anndata/_io/specs/methods.py:584: OldFormatWarning: Element '/obs/__categories/study' was written without encoding metadata.\n",
      "  categories = read_elem(categories_dset)\n",
      "/home/icb/yuge.ji/miniconda3/envs/test_env3/lib/python3.10/site-packages/anndata/_io/specs/methods.py:587: OldFormatWarning: Element '/obs/study' was written without encoding metadata.\n",
      "  read_elem(dataset), categories, ordered=ordered\n",
      "/home/icb/yuge.ji/miniconda3/envs/test_env3/lib/python3.10/site-packages/anndata/_io/specs/methods.py:584: OldFormatWarning: Element '/obs/__categories/last_author_PI' was written without encoding metadata.\n",
      "  categories = read_elem(categories_dset)\n",
      "/home/icb/yuge.ji/miniconda3/envs/test_env3/lib/python3.10/site-packages/anndata/_io/specs/methods.py:587: OldFormatWarning: Element '/obs/last_author_PI' was written without encoding metadata.\n",
      "  read_elem(dataset), categories, ordered=ordered\n",
      "/home/icb/yuge.ji/miniconda3/envs/test_env3/lib/python3.10/site-packages/anndata/_io/specs/methods.py:584: OldFormatWarning: Element '/obs/__categories/subject_ID' was written without encoding metadata.\n",
      "  categories = read_elem(categories_dset)\n",
      "/home/icb/yuge.ji/miniconda3/envs/test_env3/lib/python3.10/site-packages/anndata/_io/specs/methods.py:587: OldFormatWarning: Element '/obs/subject_ID' was written without encoding metadata.\n",
      "  read_elem(dataset), categories, ordered=ordered\n",
      "/home/icb/yuge.ji/miniconda3/envs/test_env3/lib/python3.10/site-packages/anndata/_io/specs/methods.py:584: OldFormatWarning: Element '/obs/__categories/subject_ID_as_published' was written without encoding metadata.\n",
      "  categories = read_elem(categories_dset)\n",
      "/home/icb/yuge.ji/miniconda3/envs/test_env3/lib/python3.10/site-packages/anndata/_io/specs/methods.py:587: OldFormatWarning: Element '/obs/subject_ID_as_published' was written without encoding metadata.\n",
      "  read_elem(dataset), categories, ordered=ordered\n",
      "/home/icb/yuge.ji/miniconda3/envs/test_env3/lib/python3.10/site-packages/anndata/_io/specs/methods.py:584: OldFormatWarning: Element '/obs/__categories/pre_or_postnatal' was written without encoding metadata.\n",
      "  categories = read_elem(categories_dset)\n",
      "/home/icb/yuge.ji/miniconda3/envs/test_env3/lib/python3.10/site-packages/anndata/_io/specs/methods.py:587: OldFormatWarning: Element '/obs/pre_or_postnatal' was written without encoding metadata.\n",
      "  read_elem(dataset), categories, ordered=ordered\n",
      "/home/icb/yuge.ji/miniconda3/envs/test_env3/lib/python3.10/site-packages/anndata/_io/specs/methods.py:590: OldFormatWarning: Element '/obs/age_in_years' was written without encoding metadata.\n",
      "  return read_elem(dataset)\n",
      "/home/icb/yuge.ji/miniconda3/envs/test_env3/lib/python3.10/site-packages/anndata/_io/specs/methods.py:584: OldFormatWarning: Element '/obs/__categories/age_range' was written without encoding metadata.\n",
      "  categories = read_elem(categories_dset)\n",
      "/home/icb/yuge.ji/miniconda3/envs/test_env3/lib/python3.10/site-packages/anndata/_io/specs/methods.py:587: OldFormatWarning: Element '/obs/age_range' was written without encoding metadata.\n",
      "  read_elem(dataset), categories, ordered=ordered\n",
      "/home/icb/yuge.ji/miniconda3/envs/test_env3/lib/python3.10/site-packages/anndata/_io/specs/methods.py:584: OldFormatWarning: Element '/obs/__categories/sex' was written without encoding metadata.\n",
      "  categories = read_elem(categories_dset)\n",
      "/home/icb/yuge.ji/miniconda3/envs/test_env3/lib/python3.10/site-packages/anndata/_io/specs/methods.py:587: OldFormatWarning: Element '/obs/sex' was written without encoding metadata.\n",
      "  read_elem(dataset), categories, ordered=ordered\n",
      "/home/icb/yuge.ji/miniconda3/envs/test_env3/lib/python3.10/site-packages/anndata/_io/specs/methods.py:584: OldFormatWarning: Element '/obs/__categories/ethnicity' was written without encoding metadata.\n",
      "  categories = read_elem(categories_dset)\n",
      "/home/icb/yuge.ji/miniconda3/envs/test_env3/lib/python3.10/site-packages/anndata/_io/specs/methods.py:587: OldFormatWarning: Element '/obs/ethnicity' was written without encoding metadata.\n",
      "  read_elem(dataset), categories, ordered=ordered\n",
      "/home/icb/yuge.ji/miniconda3/envs/test_env3/lib/python3.10/site-packages/anndata/_io/specs/methods.py:584: OldFormatWarning: Element '/obs/__categories/mixed_ethnicity' was written without encoding metadata.\n",
      "  categories = read_elem(categories_dset)\n",
      "/home/icb/yuge.ji/miniconda3/envs/test_env3/lib/python3.10/site-packages/anndata/_io/specs/methods.py:587: OldFormatWarning: Element '/obs/mixed_ethnicity' was written without encoding metadata.\n",
      "  read_elem(dataset), categories, ordered=ordered\n",
      "/home/icb/yuge.ji/miniconda3/envs/test_env3/lib/python3.10/site-packages/anndata/_io/specs/methods.py:584: OldFormatWarning: Element '/obs/__categories/smoking_status' was written without encoding metadata.\n",
      "  categories = read_elem(categories_dset)\n",
      "/home/icb/yuge.ji/miniconda3/envs/test_env3/lib/python3.10/site-packages/anndata/_io/specs/methods.py:587: OldFormatWarning: Element '/obs/smoking_status' was written without encoding metadata.\n",
      "  read_elem(dataset), categories, ordered=ordered\n",
      "/home/icb/yuge.ji/miniconda3/envs/test_env3/lib/python3.10/site-packages/anndata/_io/specs/methods.py:584: OldFormatWarning: Element '/obs/__categories/smoking_history' was written without encoding metadata.\n",
      "  categories = read_elem(categories_dset)\n",
      "/home/icb/yuge.ji/miniconda3/envs/test_env3/lib/python3.10/site-packages/anndata/_io/specs/methods.py:587: OldFormatWarning: Element '/obs/smoking_history' was written without encoding metadata.\n",
      "  read_elem(dataset), categories, ordered=ordered\n",
      "/home/icb/yuge.ji/miniconda3/envs/test_env3/lib/python3.10/site-packages/anndata/_io/specs/methods.py:590: OldFormatWarning: Element '/obs/BMI' was written without encoding metadata.\n",
      "  return read_elem(dataset)\n",
      "/home/icb/yuge.ji/miniconda3/envs/test_env3/lib/python3.10/site-packages/anndata/_io/specs/methods.py:584: OldFormatWarning: Element '/obs/__categories/known_lung_disease' was written without encoding metadata.\n",
      "  categories = read_elem(categories_dset)\n",
      "/home/icb/yuge.ji/miniconda3/envs/test_env3/lib/python3.10/site-packages/anndata/_io/specs/methods.py:587: OldFormatWarning: Element '/obs/known_lung_disease' was written without encoding metadata.\n",
      "  read_elem(dataset), categories, ordered=ordered\n",
      "/home/icb/yuge.ji/miniconda3/envs/test_env3/lib/python3.10/site-packages/anndata/_io/specs/methods.py:584: OldFormatWarning: Element '/obs/__categories/condition' was written without encoding metadata.\n",
      "  categories = read_elem(categories_dset)\n",
      "/home/icb/yuge.ji/miniconda3/envs/test_env3/lib/python3.10/site-packages/anndata/_io/specs/methods.py:587: OldFormatWarning: Element '/obs/condition' was written without encoding metadata.\n",
      "  read_elem(dataset), categories, ordered=ordered\n",
      "/home/icb/yuge.ji/miniconda3/envs/test_env3/lib/python3.10/site-packages/anndata/_io/specs/methods.py:584: OldFormatWarning: Element '/obs/__categories/subject_type' was written without encoding metadata.\n",
      "  categories = read_elem(categories_dset)\n",
      "/home/icb/yuge.ji/miniconda3/envs/test_env3/lib/python3.10/site-packages/anndata/_io/specs/methods.py:587: OldFormatWarning: Element '/obs/subject_type' was written without encoding metadata.\n",
      "  read_elem(dataset), categories, ordered=ordered\n",
      "/home/icb/yuge.ji/miniconda3/envs/test_env3/lib/python3.10/site-packages/anndata/_io/specs/methods.py:584: OldFormatWarning: Element '/obs/__categories/cause_of_death' was written without encoding metadata.\n",
      "  categories = read_elem(categories_dset)\n",
      "/home/icb/yuge.ji/miniconda3/envs/test_env3/lib/python3.10/site-packages/anndata/_io/specs/methods.py:587: OldFormatWarning: Element '/obs/cause_of_death' was written without encoding metadata.\n",
      "  read_elem(dataset), categories, ordered=ordered\n",
      "/home/icb/yuge.ji/miniconda3/envs/test_env3/lib/python3.10/site-packages/anndata/_io/specs/methods.py:584: OldFormatWarning: Element '/obs/__categories/sample_type' was written without encoding metadata.\n",
      "  categories = read_elem(categories_dset)\n",
      "/home/icb/yuge.ji/miniconda3/envs/test_env3/lib/python3.10/site-packages/anndata/_io/specs/methods.py:587: OldFormatWarning: Element '/obs/sample_type' was written without encoding metadata.\n",
      "  read_elem(dataset), categories, ordered=ordered\n",
      "/home/icb/yuge.ji/miniconda3/envs/test_env3/lib/python3.10/site-packages/anndata/_io/specs/methods.py:584: OldFormatWarning: Element '/obs/__categories/anatomical_region_coarse' was written without encoding metadata.\n",
      "  categories = read_elem(categories_dset)\n",
      "/home/icb/yuge.ji/miniconda3/envs/test_env3/lib/python3.10/site-packages/anndata/_io/specs/methods.py:587: OldFormatWarning: Element '/obs/anatomical_region_coarse' was written without encoding metadata.\n",
      "  read_elem(dataset), categories, ordered=ordered\n",
      "/home/icb/yuge.ji/miniconda3/envs/test_env3/lib/python3.10/site-packages/anndata/_io/specs/methods.py:584: OldFormatWarning: Element '/obs/__categories/anatomical_region_detailed' was written without encoding metadata.\n",
      "  categories = read_elem(categories_dset)\n",
      "/home/icb/yuge.ji/miniconda3/envs/test_env3/lib/python3.10/site-packages/anndata/_io/specs/methods.py:587: OldFormatWarning: Element '/obs/anatomical_region_detailed' was written without encoding metadata.\n",
      "  read_elem(dataset), categories, ordered=ordered\n",
      "/home/icb/yuge.ji/miniconda3/envs/test_env3/lib/python3.10/site-packages/anndata/_io/specs/methods.py:584: OldFormatWarning: Element '/obs/__categories/tissue_dissociation_protocol' was written without encoding metadata.\n",
      "  categories = read_elem(categories_dset)\n",
      "/home/icb/yuge.ji/miniconda3/envs/test_env3/lib/python3.10/site-packages/anndata/_io/specs/methods.py:587: OldFormatWarning: Element '/obs/tissue_dissociation_protocol' was written without encoding metadata.\n",
      "  read_elem(dataset), categories, ordered=ordered\n",
      "/home/icb/yuge.ji/miniconda3/envs/test_env3/lib/python3.10/site-packages/anndata/_io/specs/methods.py:584: OldFormatWarning: Element '/obs/__categories/cells_or_nuclei' was written without encoding metadata.\n",
      "  categories = read_elem(categories_dset)\n",
      "/home/icb/yuge.ji/miniconda3/envs/test_env3/lib/python3.10/site-packages/anndata/_io/specs/methods.py:587: OldFormatWarning: Element '/obs/cells_or_nuclei' was written without encoding metadata.\n",
      "  read_elem(dataset), categories, ordered=ordered\n",
      "/home/icb/yuge.ji/miniconda3/envs/test_env3/lib/python3.10/site-packages/anndata/_io/specs/methods.py:584: OldFormatWarning: Element '/obs/__categories/single_cell_platform' was written without encoding metadata.\n",
      "  categories = read_elem(categories_dset)\n",
      "/home/icb/yuge.ji/miniconda3/envs/test_env3/lib/python3.10/site-packages/anndata/_io/specs/methods.py:587: OldFormatWarning: Element '/obs/single_cell_platform' was written without encoding metadata.\n",
      "  read_elem(dataset), categories, ordered=ordered\n",
      "/home/icb/yuge.ji/miniconda3/envs/test_env3/lib/python3.10/site-packages/anndata/_io/specs/methods.py:584: OldFormatWarning: Element '/obs/__categories/3'_or_5'' was written without encoding metadata.\n",
      "  categories = read_elem(categories_dset)\n",
      "/home/icb/yuge.ji/miniconda3/envs/test_env3/lib/python3.10/site-packages/anndata/_io/specs/methods.py:587: OldFormatWarning: Element '/obs/3'_or_5'' was written without encoding metadata.\n",
      "  read_elem(dataset), categories, ordered=ordered\n",
      "/home/icb/yuge.ji/miniconda3/envs/test_env3/lib/python3.10/site-packages/anndata/_io/specs/methods.py:584: OldFormatWarning: Element '/obs/__categories/enrichment' was written without encoding metadata.\n",
      "  categories = read_elem(categories_dset)\n",
      "/home/icb/yuge.ji/miniconda3/envs/test_env3/lib/python3.10/site-packages/anndata/_io/specs/methods.py:587: OldFormatWarning: Element '/obs/enrichment' was written without encoding metadata.\n",
      "  read_elem(dataset), categories, ordered=ordered\n",
      "/home/icb/yuge.ji/miniconda3/envs/test_env3/lib/python3.10/site-packages/anndata/_io/specs/methods.py:584: OldFormatWarning: Element '/obs/__categories/sequencing_platform' was written without encoding metadata.\n",
      "  categories = read_elem(categories_dset)\n",
      "/home/icb/yuge.ji/miniconda3/envs/test_env3/lib/python3.10/site-packages/anndata/_io/specs/methods.py:587: OldFormatWarning: Element '/obs/sequencing_platform' was written without encoding metadata.\n",
      "  read_elem(dataset), categories, ordered=ordered\n",
      "/home/icb/yuge.ji/miniconda3/envs/test_env3/lib/python3.10/site-packages/anndata/_io/specs/methods.py:584: OldFormatWarning: Element '/obs/__categories/reference_genome_coarse' was written without encoding metadata.\n",
      "  categories = read_elem(categories_dset)\n",
      "/home/icb/yuge.ji/miniconda3/envs/test_env3/lib/python3.10/site-packages/anndata/_io/specs/methods.py:587: OldFormatWarning: Element '/obs/reference_genome_coarse' was written without encoding metadata.\n",
      "  read_elem(dataset), categories, ordered=ordered\n",
      "/home/icb/yuge.ji/miniconda3/envs/test_env3/lib/python3.10/site-packages/anndata/_io/specs/methods.py:590: OldFormatWarning: Element '/obs/ensembl_release_reference_genome' was written without encoding metadata.\n",
      "  return read_elem(dataset)\n",
      "/home/icb/yuge.ji/miniconda3/envs/test_env3/lib/python3.10/site-packages/anndata/_io/specs/methods.py:584: OldFormatWarning: Element '/obs/__categories/cell_ranger_version' was written without encoding metadata.\n",
      "  categories = read_elem(categories_dset)\n",
      "/home/icb/yuge.ji/miniconda3/envs/test_env3/lib/python3.10/site-packages/anndata/_io/specs/methods.py:587: OldFormatWarning: Element '/obs/cell_ranger_version' was written without encoding metadata.\n",
      "  read_elem(dataset), categories, ordered=ordered\n",
      "/home/icb/yuge.ji/miniconda3/envs/test_env3/lib/python3.10/site-packages/anndata/_io/specs/methods.py:584: OldFormatWarning: Element '/obs/__categories/disease_status' was written without encoding metadata.\n",
      "  categories = read_elem(categories_dset)\n",
      "/home/icb/yuge.ji/miniconda3/envs/test_env3/lib/python3.10/site-packages/anndata/_io/specs/methods.py:587: OldFormatWarning: Element '/obs/disease_status' was written without encoding metadata.\n",
      "  read_elem(dataset), categories, ordered=ordered\n",
      "/home/icb/yuge.ji/miniconda3/envs/test_env3/lib/python3.10/site-packages/anndata/_io/specs/methods.py:584: OldFormatWarning: Element '/obs/__categories/fresh_or_frozen' was written without encoding metadata.\n",
      "  categories = read_elem(categories_dset)\n",
      "/home/icb/yuge.ji/miniconda3/envs/test_env3/lib/python3.10/site-packages/anndata/_io/specs/methods.py:587: OldFormatWarning: Element '/obs/fresh_or_frozen' was written without encoding metadata.\n",
      "  read_elem(dataset), categories, ordered=ordered\n",
      "/home/icb/yuge.ji/miniconda3/envs/test_env3/lib/python3.10/site-packages/anndata/_io/specs/methods.py:584: OldFormatWarning: Element '/obs/__categories/cultured' was written without encoding metadata.\n",
      "  categories = read_elem(categories_dset)\n",
      "/home/icb/yuge.ji/miniconda3/envs/test_env3/lib/python3.10/site-packages/anndata/_io/specs/methods.py:587: OldFormatWarning: Element '/obs/cultured' was written without encoding metadata.\n",
      "  read_elem(dataset), categories, ordered=ordered\n",
      "/home/icb/yuge.ji/miniconda3/envs/test_env3/lib/python3.10/site-packages/anndata/_io/specs/methods.py:590: OldFormatWarning: Element '/obs/cell_viability_%' was written without encoding metadata.\n",
      "  return read_elem(dataset)\n",
      "/home/icb/yuge.ji/miniconda3/envs/test_env3/lib/python3.10/site-packages/anndata/_io/specs/methods.py:584: OldFormatWarning: Element '/obs/__categories/comments' was written without encoding metadata.\n",
      "  categories = read_elem(categories_dset)\n",
      "/home/icb/yuge.ji/miniconda3/envs/test_env3/lib/python3.10/site-packages/anndata/_io/specs/methods.py:587: OldFormatWarning: Element '/obs/comments' was written without encoding metadata.\n",
      "  read_elem(dataset), categories, ordered=ordered\n",
      "/home/icb/yuge.ji/miniconda3/envs/test_env3/lib/python3.10/site-packages/anndata/_io/specs/methods.py:584: OldFormatWarning: Element '/obs/__categories/Processing_site' was written without encoding metadata.\n",
      "  categories = read_elem(categories_dset)\n",
      "/home/icb/yuge.ji/miniconda3/envs/test_env3/lib/python3.10/site-packages/anndata/_io/specs/methods.py:587: OldFormatWarning: Element '/obs/Processing_site' was written without encoding metadata.\n",
      "  read_elem(dataset), categories, ordered=ordered\n",
      "/home/icb/yuge.ji/miniconda3/envs/test_env3/lib/python3.10/site-packages/anndata/_io/specs/methods.py:584: OldFormatWarning: Element '/obs/__categories/dataset' was written without encoding metadata.\n",
      "  categories = read_elem(categories_dset)\n",
      "/home/icb/yuge.ji/miniconda3/envs/test_env3/lib/python3.10/site-packages/anndata/_io/specs/methods.py:587: OldFormatWarning: Element '/obs/dataset' was written without encoding metadata.\n",
      "  read_elem(dataset), categories, ordered=ordered\n",
      "/home/icb/yuge.ji/miniconda3/envs/test_env3/lib/python3.10/site-packages/anndata/_io/specs/methods.py:584: OldFormatWarning: Element '/obs/__categories/anatomical_region_level_1' was written without encoding metadata.\n",
      "  categories = read_elem(categories_dset)\n",
      "/home/icb/yuge.ji/miniconda3/envs/test_env3/lib/python3.10/site-packages/anndata/_io/specs/methods.py:587: OldFormatWarning: Element '/obs/anatomical_region_level_1' was written without encoding metadata.\n",
      "  read_elem(dataset), categories, ordered=ordered\n",
      "/home/icb/yuge.ji/miniconda3/envs/test_env3/lib/python3.10/site-packages/anndata/_io/specs/methods.py:584: OldFormatWarning: Element '/obs/__categories/anatomical_region_level_2' was written without encoding metadata.\n",
      "  categories = read_elem(categories_dset)\n",
      "/home/icb/yuge.ji/miniconda3/envs/test_env3/lib/python3.10/site-packages/anndata/_io/specs/methods.py:587: OldFormatWarning: Element '/obs/anatomical_region_level_2' was written without encoding metadata.\n",
      "  read_elem(dataset), categories, ordered=ordered\n",
      "/home/icb/yuge.ji/miniconda3/envs/test_env3/lib/python3.10/site-packages/anndata/_io/specs/methods.py:584: OldFormatWarning: Element '/obs/__categories/anatomical_region_level_3' was written without encoding metadata.\n",
      "  categories = read_elem(categories_dset)\n",
      "/home/icb/yuge.ji/miniconda3/envs/test_env3/lib/python3.10/site-packages/anndata/_io/specs/methods.py:587: OldFormatWarning: Element '/obs/anatomical_region_level_3' was written without encoding metadata.\n",
      "  read_elem(dataset), categories, ordered=ordered\n",
      "/home/icb/yuge.ji/miniconda3/envs/test_env3/lib/python3.10/site-packages/anndata/_io/specs/methods.py:590: OldFormatWarning: Element '/obs/anatomical_region_highest_res' was written without encoding metadata.\n",
      "  return read_elem(dataset)\n",
      "/home/icb/yuge.ji/miniconda3/envs/test_env3/lib/python3.10/site-packages/anndata/_io/specs/methods.py:590: OldFormatWarning: Element '/obs/age' was written without encoding metadata.\n",
      "  return read_elem(dataset)\n",
      "/home/icb/yuge.ji/miniconda3/envs/test_env3/lib/python3.10/site-packages/anndata/_io/specs/methods.py:584: OldFormatWarning: Element '/obs/__categories/ann_level_1' was written without encoding metadata.\n",
      "  categories = read_elem(categories_dset)\n",
      "/home/icb/yuge.ji/miniconda3/envs/test_env3/lib/python3.10/site-packages/anndata/_io/specs/methods.py:587: OldFormatWarning: Element '/obs/ann_level_1' was written without encoding metadata.\n",
      "  read_elem(dataset), categories, ordered=ordered\n",
      "/home/icb/yuge.ji/miniconda3/envs/test_env3/lib/python3.10/site-packages/anndata/_io/specs/methods.py:584: OldFormatWarning: Element '/obs/__categories/ann_level_2' was written without encoding metadata.\n",
      "  categories = read_elem(categories_dset)\n",
      "/home/icb/yuge.ji/miniconda3/envs/test_env3/lib/python3.10/site-packages/anndata/_io/specs/methods.py:587: OldFormatWarning: Element '/obs/ann_level_2' was written without encoding metadata.\n",
      "  read_elem(dataset), categories, ordered=ordered\n",
      "/home/icb/yuge.ji/miniconda3/envs/test_env3/lib/python3.10/site-packages/anndata/_io/specs/methods.py:584: OldFormatWarning: Element '/obs/__categories/ann_level_3' was written without encoding metadata.\n",
      "  categories = read_elem(categories_dset)\n",
      "/home/icb/yuge.ji/miniconda3/envs/test_env3/lib/python3.10/site-packages/anndata/_io/specs/methods.py:587: OldFormatWarning: Element '/obs/ann_level_3' was written without encoding metadata.\n",
      "  read_elem(dataset), categories, ordered=ordered\n",
      "/home/icb/yuge.ji/miniconda3/envs/test_env3/lib/python3.10/site-packages/anndata/_io/specs/methods.py:584: OldFormatWarning: Element '/obs/__categories/ann_level_4' was written without encoding metadata.\n",
      "  categories = read_elem(categories_dset)\n",
      "/home/icb/yuge.ji/miniconda3/envs/test_env3/lib/python3.10/site-packages/anndata/_io/specs/methods.py:587: OldFormatWarning: Element '/obs/ann_level_4' was written without encoding metadata.\n",
      "  read_elem(dataset), categories, ordered=ordered\n",
      "/home/icb/yuge.ji/miniconda3/envs/test_env3/lib/python3.10/site-packages/anndata/_io/specs/methods.py:584: OldFormatWarning: Element '/obs/__categories/ann_level_5' was written without encoding metadata.\n",
      "  categories = read_elem(categories_dset)\n",
      "/home/icb/yuge.ji/miniconda3/envs/test_env3/lib/python3.10/site-packages/anndata/_io/specs/methods.py:587: OldFormatWarning: Element '/obs/ann_level_5' was written without encoding metadata.\n",
      "  read_elem(dataset), categories, ordered=ordered\n",
      "/home/icb/yuge.ji/miniconda3/envs/test_env3/lib/python3.10/site-packages/anndata/_io/specs/methods.py:590: OldFormatWarning: Element '/obs/ann_highest_res' was written without encoding metadata.\n",
      "  return read_elem(dataset)\n",
      "/home/icb/yuge.ji/miniconda3/envs/test_env3/lib/python3.10/site-packages/anndata/_io/specs/methods.py:590: OldFormatWarning: Element '/obs/ann_new' was written without encoding metadata.\n",
      "  return read_elem(dataset)\n",
      "/home/icb/yuge.ji/miniconda3/envs/test_env3/lib/python3.10/site-packages/anndata/_io/specs/methods.py:590: OldFormatWarning: Element '/obs/n_genes' was written without encoding metadata.\n",
      "  return read_elem(dataset)\n",
      "/home/icb/yuge.ji/miniconda3/envs/test_env3/lib/python3.10/site-packages/anndata/_io/specs/methods.py:590: OldFormatWarning: Element '/obs/total_counts' was written without encoding metadata.\n",
      "  return read_elem(dataset)\n",
      "/home/icb/yuge.ji/miniconda3/envs/test_env3/lib/python3.10/site-packages/anndata/_io/specs/methods.py:590: OldFormatWarning: Element '/obs/log10_total_counts' was written without encoding metadata.\n",
      "  return read_elem(dataset)\n",
      "/home/icb/yuge.ji/miniconda3/envs/test_env3/lib/python3.10/site-packages/anndata/_io/specs/methods.py:590: OldFormatWarning: Element '/obs/n_genes_detected' was written without encoding metadata.\n",
      "  return read_elem(dataset)\n",
      "/home/icb/yuge.ji/miniconda3/envs/test_env3/lib/python3.10/site-packages/anndata/_io/specs/methods.py:590: OldFormatWarning: Element '/obs/mito_frac' was written without encoding metadata.\n",
      "  return read_elem(dataset)\n",
      "/home/icb/yuge.ji/miniconda3/envs/test_env3/lib/python3.10/site-packages/anndata/_io/specs/methods.py:590: OldFormatWarning: Element '/obs/ribo_frac' was written without encoding metadata.\n",
      "  return read_elem(dataset)\n",
      "/home/icb/yuge.ji/miniconda3/envs/test_env3/lib/python3.10/site-packages/anndata/_io/specs/methods.py:590: OldFormatWarning: Element '/obs/compl' was written without encoding metadata.\n",
      "  return read_elem(dataset)\n",
      "/home/icb/yuge.ji/miniconda3/envs/test_env3/lib/python3.10/site-packages/anndata/_io/specs/methods.py:590: OldFormatWarning: Element '/obs/size_factors' was written without encoding metadata.\n",
      "  return read_elem(dataset)\n",
      "/home/icb/yuge.ji/miniconda3/envs/test_env3/lib/python3.10/site-packages/anndata/_io/specs/methods.py:584: OldFormatWarning: Element '/obs/__categories/ann_level_1_clean' was written without encoding metadata.\n",
      "  categories = read_elem(categories_dset)\n",
      "/home/icb/yuge.ji/miniconda3/envs/test_env3/lib/python3.10/site-packages/anndata/_io/specs/methods.py:587: OldFormatWarning: Element '/obs/ann_level_1_clean' was written without encoding metadata.\n",
      "  read_elem(dataset), categories, ordered=ordered\n",
      "/home/icb/yuge.ji/miniconda3/envs/test_env3/lib/python3.10/site-packages/anndata/_io/specs/methods.py:584: OldFormatWarning: Element '/obs/__categories/ann_level_2_clean' was written without encoding metadata.\n",
      "  categories = read_elem(categories_dset)\n",
      "/home/icb/yuge.ji/miniconda3/envs/test_env3/lib/python3.10/site-packages/anndata/_io/specs/methods.py:587: OldFormatWarning: Element '/obs/ann_level_2_clean' was written without encoding metadata.\n",
      "  read_elem(dataset), categories, ordered=ordered\n",
      "/home/icb/yuge.ji/miniconda3/envs/test_env3/lib/python3.10/site-packages/anndata/_io/specs/methods.py:584: OldFormatWarning: Element '/obs/__categories/ann_level_3_clean' was written without encoding metadata.\n",
      "  categories = read_elem(categories_dset)\n",
      "/home/icb/yuge.ji/miniconda3/envs/test_env3/lib/python3.10/site-packages/anndata/_io/specs/methods.py:587: OldFormatWarning: Element '/obs/ann_level_3_clean' was written without encoding metadata.\n",
      "  read_elem(dataset), categories, ordered=ordered\n",
      "/home/icb/yuge.ji/miniconda3/envs/test_env3/lib/python3.10/site-packages/anndata/_io/specs/methods.py:584: OldFormatWarning: Element '/obs/__categories/ann_level_4_clean' was written without encoding metadata.\n",
      "  categories = read_elem(categories_dset)\n",
      "/home/icb/yuge.ji/miniconda3/envs/test_env3/lib/python3.10/site-packages/anndata/_io/specs/methods.py:587: OldFormatWarning: Element '/obs/ann_level_4_clean' was written without encoding metadata.\n",
      "  read_elem(dataset), categories, ordered=ordered\n",
      "/home/icb/yuge.ji/miniconda3/envs/test_env3/lib/python3.10/site-packages/anndata/_io/specs/methods.py:584: OldFormatWarning: Element '/obs/__categories/ann_level_5_clean' was written without encoding metadata.\n",
      "  categories = read_elem(categories_dset)\n",
      "/home/icb/yuge.ji/miniconda3/envs/test_env3/lib/python3.10/site-packages/anndata/_io/specs/methods.py:587: OldFormatWarning: Element '/obs/ann_level_5_clean' was written without encoding metadata.\n",
      "  read_elem(dataset), categories, ordered=ordered\n"
     ]
    },
    {
     "name": "stderr",
     "output_type": "stream",
     "text": [
      "/home/icb/yuge.ji/miniconda3/envs/test_env3/lib/python3.10/site-packages/anndata/_io/specs/methods.py:584: OldFormatWarning: Element '/obs/__categories/scanvi_label' was written without encoding metadata.\n",
      "  categories = read_elem(categories_dset)\n",
      "/home/icb/yuge.ji/miniconda3/envs/test_env3/lib/python3.10/site-packages/anndata/_io/specs/methods.py:587: OldFormatWarning: Element '/obs/scanvi_label' was written without encoding metadata.\n",
      "  read_elem(dataset), categories, ordered=ordered\n",
      "/home/icb/yuge.ji/miniconda3/envs/test_env3/lib/python3.10/site-packages/anndata/_io/specs/methods.py:590: OldFormatWarning: Element '/obs/anatomical_region_ccf_score' was written without encoding metadata.\n",
      "  return read_elem(dataset)\n",
      "/home/icb/yuge.ji/miniconda3/envs/test_env3/lib/python3.10/site-packages/anndata/_io/specs/methods.py:584: OldFormatWarning: Element '/obs/__categories/manual_ann' was written without encoding metadata.\n",
      "  categories = read_elem(categories_dset)\n",
      "/home/icb/yuge.ji/miniconda3/envs/test_env3/lib/python3.10/site-packages/anndata/_io/specs/methods.py:587: OldFormatWarning: Element '/obs/manual_ann' was written without encoding metadata.\n",
      "  read_elem(dataset), categories, ordered=ordered\n",
      "/home/icb/yuge.ji/miniconda3/envs/test_env3/lib/python3.10/site-packages/anndata/_io/specs/methods.py:590: OldFormatWarning: Element '/obs/_index' was written without encoding metadata.\n",
      "  return read_elem(dataset)\n",
      "/home/icb/yuge.ji/miniconda3/envs/test_env3/lib/python3.10/site-packages/anndata/_io/h5ad.py:238: OldFormatWarning: Element '/obsm' was written without encoding metadata.\n",
      "  d[k] = read_elem(f[k])\n",
      "/home/icb/yuge.ji/miniconda3/envs/test_env3/lib/python3.10/site-packages/anndata/_io/specs/methods.py:92: OldFormatWarning: Element '/obsm/X_pca' was written without encoding metadata.\n",
      "  return {k: read_elem(v) for k, v in elem.items()}\n",
      "/home/icb/yuge.ji/miniconda3/envs/test_env3/lib/python3.10/site-packages/anndata/_io/specs/methods.py:92: OldFormatWarning: Element '/obsm/X_umap' was written without encoding metadata.\n",
      "  return {k: read_elem(v) for k, v in elem.items()}\n",
      "/home/icb/yuge.ji/miniconda3/envs/test_env3/lib/python3.10/site-packages/anndata/_io/h5ad.py:238: OldFormatWarning: Element '/obsp' was written without encoding metadata.\n",
      "  d[k] = read_elem(f[k])\n",
      "/home/icb/yuge.ji/miniconda3/envs/test_env3/lib/python3.10/site-packages/anndata/_io/h5ad.py:238: OldFormatWarning: Element '/uns' was written without encoding metadata.\n",
      "  d[k] = read_elem(f[k])\n",
      "/home/icb/yuge.ji/miniconda3/envs/test_env3/lib/python3.10/site-packages/anndata/_io/specs/methods.py:92: OldFormatWarning: Element '/uns/anatomical_region_level_1_colors' was written without encoding metadata.\n",
      "  return {k: read_elem(v) for k, v in elem.items()}\n",
      "/home/icb/yuge.ji/miniconda3/envs/test_env3/lib/python3.10/site-packages/anndata/_io/specs/methods.py:92: OldFormatWarning: Element '/uns/ann_level_1_colors' was written without encoding metadata.\n",
      "  return {k: read_elem(v) for k, v in elem.items()}\n",
      "/home/icb/yuge.ji/miniconda3/envs/test_env3/lib/python3.10/site-packages/anndata/_io/specs/methods.py:92: OldFormatWarning: Element '/uns/ann_level_2_clean_colors' was written without encoding metadata.\n",
      "  return {k: read_elem(v) for k, v in elem.items()}\n",
      "/home/icb/yuge.ji/miniconda3/envs/test_env3/lib/python3.10/site-packages/anndata/_io/specs/methods.py:92: OldFormatWarning: Element '/uns/ann_level_3_clean_colors' was written without encoding metadata.\n",
      "  return {k: read_elem(v) for k, v in elem.items()}\n",
      "/home/icb/yuge.ji/miniconda3/envs/test_env3/lib/python3.10/site-packages/anndata/_io/specs/methods.py:92: OldFormatWarning: Element '/uns/hvg' was written without encoding metadata.\n",
      "  return {k: read_elem(v) for k, v in elem.items()}\n",
      "/home/icb/yuge.ji/miniconda3/envs/test_env3/lib/python3.10/site-packages/anndata/_io/specs/methods.py:92: OldFormatWarning: Element '/uns/hvg/flavor' was written without encoding metadata.\n",
      "  return {k: read_elem(v) for k, v in elem.items()}\n",
      "/home/icb/yuge.ji/miniconda3/envs/test_env3/lib/python3.10/site-packages/anndata/_io/specs/methods.py:92: OldFormatWarning: Element '/uns/manual_ann_colors' was written without encoding metadata.\n",
      "  return {k: read_elem(v) for k, v in elem.items()}\n",
      "/home/icb/yuge.ji/miniconda3/envs/test_env3/lib/python3.10/site-packages/anndata/_io/specs/methods.py:92: OldFormatWarning: Element '/uns/neighbors' was written without encoding metadata.\n",
      "  return {k: read_elem(v) for k, v in elem.items()}\n",
      "/home/icb/yuge.ji/miniconda3/envs/test_env3/lib/python3.10/site-packages/anndata/_io/specs/methods.py:92: OldFormatWarning: Element '/uns/neighbors/connectivities_key' was written without encoding metadata.\n",
      "  return {k: read_elem(v) for k, v in elem.items()}\n",
      "/home/icb/yuge.ji/miniconda3/envs/test_env3/lib/python3.10/site-packages/anndata/_io/specs/methods.py:92: OldFormatWarning: Element '/uns/neighbors/distances_key' was written without encoding metadata.\n",
      "  return {k: read_elem(v) for k, v in elem.items()}\n",
      "/home/icb/yuge.ji/miniconda3/envs/test_env3/lib/python3.10/site-packages/anndata/_io/specs/methods.py:92: OldFormatWarning: Element '/uns/neighbors/params' was written without encoding metadata.\n",
      "  return {k: read_elem(v) for k, v in elem.items()}\n",
      "/home/icb/yuge.ji/miniconda3/envs/test_env3/lib/python3.10/site-packages/anndata/_io/specs/methods.py:92: OldFormatWarning: Element '/uns/neighbors/params/method' was written without encoding metadata.\n",
      "  return {k: read_elem(v) for k, v in elem.items()}\n",
      "/home/icb/yuge.ji/miniconda3/envs/test_env3/lib/python3.10/site-packages/anndata/_io/specs/methods.py:92: OldFormatWarning: Element '/uns/neighbors/params/metric' was written without encoding metadata.\n",
      "  return {k: read_elem(v) for k, v in elem.items()}\n",
      "/home/icb/yuge.ji/miniconda3/envs/test_env3/lib/python3.10/site-packages/anndata/_io/specs/methods.py:92: OldFormatWarning: Element '/uns/neighbors/params/n_neighbors' was written without encoding metadata.\n",
      "  return {k: read_elem(v) for k, v in elem.items()}\n",
      "/home/icb/yuge.ji/miniconda3/envs/test_env3/lib/python3.10/site-packages/anndata/_io/specs/methods.py:92: OldFormatWarning: Element '/uns/neighbors/params/random_state' was written without encoding metadata.\n",
      "  return {k: read_elem(v) for k, v in elem.items()}\n",
      "/home/icb/yuge.ji/miniconda3/envs/test_env3/lib/python3.10/site-packages/anndata/_io/specs/methods.py:92: OldFormatWarning: Element '/uns/pca' was written without encoding metadata.\n",
      "  return {k: read_elem(v) for k, v in elem.items()}\n",
      "/home/icb/yuge.ji/miniconda3/envs/test_env3/lib/python3.10/site-packages/anndata/_io/specs/methods.py:92: OldFormatWarning: Element '/uns/pca/params' was written without encoding metadata.\n",
      "  return {k: read_elem(v) for k, v in elem.items()}\n",
      "/home/icb/yuge.ji/miniconda3/envs/test_env3/lib/python3.10/site-packages/anndata/_io/specs/methods.py:92: OldFormatWarning: Element '/uns/pca/params/use_highly_variable' was written without encoding metadata.\n",
      "  return {k: read_elem(v) for k, v in elem.items()}\n",
      "/home/icb/yuge.ji/miniconda3/envs/test_env3/lib/python3.10/site-packages/anndata/_io/specs/methods.py:92: OldFormatWarning: Element '/uns/pca/params/zero_center' was written without encoding metadata.\n",
      "  return {k: read_elem(v) for k, v in elem.items()}\n",
      "/home/icb/yuge.ji/miniconda3/envs/test_env3/lib/python3.10/site-packages/anndata/_io/specs/methods.py:92: OldFormatWarning: Element '/uns/pca/variance' was written without encoding metadata.\n",
      "  return {k: read_elem(v) for k, v in elem.items()}\n",
      "/home/icb/yuge.ji/miniconda3/envs/test_env3/lib/python3.10/site-packages/anndata/_io/specs/methods.py:92: OldFormatWarning: Element '/uns/pca/variance_ratio' was written without encoding metadata.\n",
      "  return {k: read_elem(v) for k, v in elem.items()}\n",
      "/home/icb/yuge.ji/miniconda3/envs/test_env3/lib/python3.10/site-packages/anndata/_io/specs/methods.py:92: OldFormatWarning: Element '/uns/scanvi_label_colors' was written without encoding metadata.\n",
      "  return {k: read_elem(v) for k, v in elem.items()}\n",
      "/home/icb/yuge.ji/miniconda3/envs/test_env3/lib/python3.10/site-packages/anndata/_io/specs/methods.py:92: OldFormatWarning: Element '/uns/study_colors' was written without encoding metadata.\n",
      "  return {k: read_elem(v) for k, v in elem.items()}\n",
      "/home/icb/yuge.ji/miniconda3/envs/test_env3/lib/python3.10/site-packages/anndata/_io/specs/methods.py:92: OldFormatWarning: Element '/uns/umap' was written without encoding metadata.\n",
      "  return {k: read_elem(v) for k, v in elem.items()}\n",
      "/home/icb/yuge.ji/miniconda3/envs/test_env3/lib/python3.10/site-packages/anndata/_io/specs/methods.py:92: OldFormatWarning: Element '/uns/umap/params' was written without encoding metadata.\n",
      "  return {k: read_elem(v) for k, v in elem.items()}\n",
      "/home/icb/yuge.ji/miniconda3/envs/test_env3/lib/python3.10/site-packages/anndata/_io/specs/methods.py:92: OldFormatWarning: Element '/uns/umap/params/a' was written without encoding metadata.\n",
      "  return {k: read_elem(v) for k, v in elem.items()}\n",
      "/home/icb/yuge.ji/miniconda3/envs/test_env3/lib/python3.10/site-packages/anndata/_io/specs/methods.py:92: OldFormatWarning: Element '/uns/umap/params/b' was written without encoding metadata.\n",
      "  return {k: read_elem(v) for k, v in elem.items()}\n",
      "/home/icb/yuge.ji/miniconda3/envs/test_env3/lib/python3.10/site-packages/anndata/_io/specs/methods.py:584: OldFormatWarning: Element '/var/__categories/gene_symbols' was written without encoding metadata.\n",
      "  categories = read_elem(categories_dset)\n",
      "/home/icb/yuge.ji/miniconda3/envs/test_env3/lib/python3.10/site-packages/anndata/_io/specs/methods.py:587: OldFormatWarning: Element '/var/gene_symbols' was written without encoding metadata.\n",
      "  read_elem(dataset), categories, ordered=ordered\n",
      "/home/icb/yuge.ji/miniconda3/envs/test_env3/lib/python3.10/site-packages/anndata/_io/specs/methods.py:590: OldFormatWarning: Element '/var/n_cells' was written without encoding metadata.\n",
      "  return read_elem(dataset)\n",
      "/home/icb/yuge.ji/miniconda3/envs/test_env3/lib/python3.10/site-packages/anndata/_io/specs/methods.py:590: OldFormatWarning: Element '/var/highly_variable' was written without encoding metadata.\n",
      "  return read_elem(dataset)\n",
      "/home/icb/yuge.ji/miniconda3/envs/test_env3/lib/python3.10/site-packages/anndata/_io/specs/methods.py:590: OldFormatWarning: Element '/var/means' was written without encoding metadata.\n",
      "  return read_elem(dataset)\n",
      "/home/icb/yuge.ji/miniconda3/envs/test_env3/lib/python3.10/site-packages/anndata/_io/specs/methods.py:590: OldFormatWarning: Element '/var/dispersions' was written without encoding metadata.\n",
      "  return read_elem(dataset)\n",
      "/home/icb/yuge.ji/miniconda3/envs/test_env3/lib/python3.10/site-packages/anndata/_io/specs/methods.py:590: OldFormatWarning: Element '/var/dispersions_norm' was written without encoding metadata.\n",
      "  return read_elem(dataset)\n",
      "/home/icb/yuge.ji/miniconda3/envs/test_env3/lib/python3.10/site-packages/anndata/_io/specs/methods.py:590: OldFormatWarning: Element '/var/highly_variable_nbatches' was written without encoding metadata.\n",
      "  return read_elem(dataset)\n",
      "/home/icb/yuge.ji/miniconda3/envs/test_env3/lib/python3.10/site-packages/anndata/_io/specs/methods.py:590: OldFormatWarning: Element '/var/highly_variable_intersection' was written without encoding metadata.\n",
      "  return read_elem(dataset)\n",
      "/home/icb/yuge.ji/miniconda3/envs/test_env3/lib/python3.10/site-packages/anndata/_io/specs/methods.py:590: OldFormatWarning: Element '/var/_index' was written without encoding metadata.\n",
      "  return read_elem(dataset)\n",
      "/home/icb/yuge.ji/miniconda3/envs/test_env3/lib/python3.10/site-packages/anndata/_io/h5ad.py:238: OldFormatWarning: Element '/varm' was written without encoding metadata.\n",
      "  d[k] = read_elem(f[k])\n",
      "/home/icb/yuge.ji/miniconda3/envs/test_env3/lib/python3.10/site-packages/anndata/_io/specs/methods.py:92: OldFormatWarning: Element '/varm/PCs' was written without encoding metadata.\n",
      "  return {k: read_elem(v) for k, v in elem.items()}\n"
     ]
    },
    {
     "name": "stderr",
     "output_type": "stream",
     "text": [
      "/home/icb/yuge.ji/miniconda3/envs/test_env3/lib/python3.10/site-packages/anndata/_io/specs/methods.py:584: OldFormatWarning: Element '/raw/var/__categories/gene_symbols' was written without encoding metadata.\n",
      "  categories = read_elem(categories_dset)\n",
      "/home/icb/yuge.ji/miniconda3/envs/test_env3/lib/python3.10/site-packages/anndata/_io/specs/methods.py:587: OldFormatWarning: Element '/raw/var/gene_symbols' was written without encoding metadata.\n",
      "  read_elem(dataset), categories, ordered=ordered\n",
      "/home/icb/yuge.ji/miniconda3/envs/test_env3/lib/python3.10/site-packages/anndata/_io/specs/methods.py:590: OldFormatWarning: Element '/raw/var/n_cells' was written without encoding metadata.\n",
      "  return read_elem(dataset)\n",
      "/home/icb/yuge.ji/miniconda3/envs/test_env3/lib/python3.10/site-packages/anndata/_io/specs/methods.py:590: OldFormatWarning: Element '/raw/var/highly_variable' was written without encoding metadata.\n",
      "  return read_elem(dataset)\n",
      "/home/icb/yuge.ji/miniconda3/envs/test_env3/lib/python3.10/site-packages/anndata/_io/specs/methods.py:590: OldFormatWarning: Element '/raw/var/means' was written without encoding metadata.\n",
      "  return read_elem(dataset)\n",
      "/home/icb/yuge.ji/miniconda3/envs/test_env3/lib/python3.10/site-packages/anndata/_io/specs/methods.py:590: OldFormatWarning: Element '/raw/var/dispersions' was written without encoding metadata.\n",
      "  return read_elem(dataset)\n",
      "/home/icb/yuge.ji/miniconda3/envs/test_env3/lib/python3.10/site-packages/anndata/_io/specs/methods.py:590: OldFormatWarning: Element '/raw/var/dispersions_norm' was written without encoding metadata.\n",
      "  return read_elem(dataset)\n",
      "/home/icb/yuge.ji/miniconda3/envs/test_env3/lib/python3.10/site-packages/anndata/_io/specs/methods.py:590: OldFormatWarning: Element '/raw/var/highly_variable_nbatches' was written without encoding metadata.\n",
      "  return read_elem(dataset)\n",
      "/home/icb/yuge.ji/miniconda3/envs/test_env3/lib/python3.10/site-packages/anndata/_io/specs/methods.py:590: OldFormatWarning: Element '/raw/var/highly_variable_intersection' was written without encoding metadata.\n",
      "  return read_elem(dataset)\n",
      "/home/icb/yuge.ji/miniconda3/envs/test_env3/lib/python3.10/site-packages/anndata/_io/specs/methods.py:590: OldFormatWarning: Element '/raw/var/_index' was written without encoding metadata.\n",
      "  return read_elem(dataset)\n",
      "/home/icb/yuge.ji/miniconda3/envs/test_env3/lib/python3.10/site-packages/anndata/_io/h5ad.py:272: OldFormatWarning: Element '/raw/varm' was written without encoding metadata.\n",
      "  raw[v] = read_elem(f[f\"raw/{v}\"])\n",
      "/home/icb/yuge.ji/miniconda3/envs/test_env3/lib/python3.10/site-packages/anndata/_io/specs/methods.py:92: OldFormatWarning: Element '/raw/varm/PCs' was written without encoding metadata.\n",
      "  return {k: read_elem(v) for k, v in elem.items()}\n"
     ]
    },
    {
     "data": {
      "text/plain": [
       "AnnData object with n_obs × n_vars = 587218 × 2000\n",
       "    obs: 'sample', 'original_celltype_ann', 'study_long', 'study', 'last_author_PI', 'subject_ID', 'subject_ID_as_published', 'pre_or_postnatal', 'age_in_years', 'age_range', 'sex', 'ethnicity', 'mixed_ethnicity', 'smoking_status', 'smoking_history', 'BMI', 'known_lung_disease', 'condition', 'subject_type', 'cause_of_death', 'sample_type', 'anatomical_region_coarse', 'anatomical_region_detailed', 'tissue_dissociation_protocol', 'cells_or_nuclei', 'single_cell_platform', \"3'_or_5'\", 'enrichment', 'sequencing_platform', 'reference_genome_coarse', 'ensembl_release_reference_genome', 'cell_ranger_version', 'disease_status', 'fresh_or_frozen', 'cultured', 'cell_viability_%', 'comments', 'Processing_site', 'dataset', 'anatomical_region_level_1', 'anatomical_region_level_2', 'anatomical_region_level_3', 'anatomical_region_highest_res', 'age', 'ann_level_1', 'ann_level_2', 'ann_level_3', 'ann_level_4', 'ann_level_5', 'ann_highest_res', 'ann_new', 'n_genes', 'total_counts', 'log10_total_counts', 'n_genes_detected', 'mito_frac', 'ribo_frac', 'compl', 'size_factors', 'ann_level_1_clean', 'ann_level_2_clean', 'ann_level_3_clean', 'ann_level_4_clean', 'ann_level_5_clean', 'scanvi_label', 'anatomical_region_ccf_score', 'manual_ann'\n",
       "    var: 'gene_symbols', 'n_cells', 'highly_variable', 'means', 'dispersions', 'dispersions_norm', 'highly_variable_nbatches', 'highly_variable_intersection'\n",
       "    uns: 'anatomical_region_level_1_colors', 'ann_level_1_colors', 'ann_level_2_clean_colors', 'ann_level_3_clean_colors', 'hvg', 'manual_ann_colors', 'neighbors', 'pca', 'scanvi_label_colors', 'study_colors', 'umap'\n",
       "    obsm: 'X_pca', 'X_umap'\n",
       "    varm: 'PCs'\n",
       "    layers: 'counts'\n",
       "    obsp: 'connectivities', 'distances'"
      ]
     },
     "execution_count": 3,
     "metadata": {},
     "output_type": "execute_result"
    }
   ],
   "source": [
    "hlca_path = '/lustre/groups/ml01/workspace/hlca_lisa.sikkema_malte.luecken/HLCA_reproducibility/data/HLCA_core_h5ads/HLCA_v1_integration/HLCA_v1_scANVI_input.h5ad'\n",
    "adata = sc.read(hlca_path)\n",
    "adata"
   ]
  },
  {
   "cell_type": "markdown",
   "id": "225160c4",
   "metadata": {},
   "source": [
    "Optional: subset in dataset when getting 3D attribution matrices."
   ]
  },
  {
   "cell_type": "code",
   "execution_count": 4,
   "id": "ebebc067",
   "metadata": {},
   "outputs": [],
   "source": [
    "adata.obs['cell_type_dataset'] = adata.obs.scanvi_label.astype(str) + '-' + adata.obs.dataset.astype(str)\n",
    "sampled_data = adata.obs.groupby('cell_type_dataset').apply(lambda x: x.sample(min(200, len(x)), random_state=42))\n",
    "indices = sampled_data.index.get_level_values(1)\n",
    "adata = adata[indices].copy()"
   ]
  },
  {
   "cell_type": "code",
   "execution_count": 5,
   "id": "5be9a67a",
   "metadata": {},
   "outputs": [
    {
     "name": "stdout",
     "output_type": "stream",
     "text": [
      "\u001b[34mINFO    \u001b[0m File \u001b[35m/home/icb/yuge.ji/projects/HLCA_reproducibility/notebooks/3_atlas_extension/sca\u001b[0m\n",
      "         \u001b[35mnvi_model/\u001b[0m\u001b[95mmodel.pt\u001b[0m already downloaded                                               \n"
     ]
    },
    {
     "name": "stderr",
     "output_type": "stream",
     "text": [
      "/home/icb/yuge.ji/miniconda3/envs/test_env3/lib/python3.10/site-packages/scvi/data/_utils.py:156: UserWarning: Category 18 in adata.obs['_scvi_labels'] has fewer than 3 cells. Models may not train properly.\n",
      "  warnings.warn(\n",
      "/home/icb/yuge.ji/miniconda3/envs/test_env3/lib/python3.10/site-packages/scvi/data/_utils.py:156: UserWarning: Category 18 in adata.obs['_scvi_labels'] has fewer than 3 cells. Models may not train properly.\n",
      "  warnings.warn(\n"
     ]
    },
    {
     "data": {
      "text/html": [
       "<pre style=\"white-space:pre;overflow-x:auto;line-height:normal;font-family:Menlo,'DejaVu Sans Mono',consolas,'Courier New',monospace\">ScanVI Model with the following params: \n",
       "unlabeled_category: unlabeled, n_hidden: <span style=\"color: #008080; text-decoration-color: #008080; font-weight: bold\">128</span>, n_latent: <span style=\"color: #008080; text-decoration-color: #008080; font-weight: bold\">30</span>, n_layers: <span style=\"color: #008080; text-decoration-color: #008080; font-weight: bold\">2</span>, dropout_rate: <span style=\"color: #008080; text-decoration-color: #008080; font-weight: bold\">0.1</span>, \n",
       "dispersion: gene, gene_likelihood: nb\n",
       "Training status: Trained\n",
       "</pre>\n"
      ],
      "text/plain": [
       "ScanVI Model with the following params: \n",
       "unlabeled_category: unlabeled, n_hidden: \u001b[1;36m128\u001b[0m, n_latent: \u001b[1;36m30\u001b[0m, n_layers: \u001b[1;36m2\u001b[0m, dropout_rate: \u001b[1;36m0.1\u001b[0m, \n",
       "dispersion: gene, gene_likelihood: nb\n",
       "Training status: Trained\n"
      ]
     },
     "metadata": {},
     "output_type": "display_data"
    },
    {
     "data": {
      "text/plain": []
     },
     "execution_count": 5,
     "metadata": {},
     "output_type": "execute_result"
    }
   ],
   "source": [
    "model = scvi.model.SCANVI.load('/home/icb/yuge.ji/projects/HLCA_reproducibility/notebooks/3_atlas_extension/scanvi_model/', adata)\n",
    "model"
   ]
  },
  {
   "cell_type": "code",
   "execution_count": 6,
   "id": "899998af",
   "metadata": {},
   "outputs": [
    {
     "data": {
      "text/plain": [
       "Krasnow_2020                 4273\n",
       "Banovich_Kropski_2020        4173\n",
       "Misharin_2021                3891\n",
       "Nawijn_2021                  2802\n",
       "Barbry_Leroy_2020            2718\n",
       "Meyer_2019                   2661\n",
       "Lafyatis_Rojas_2019_10Xv2    2600\n",
       "Misharin_Budinger_2018       2068\n",
       "Teichmann_Meyer_2019         2066\n",
       "Jain_Misharin_2021_10Xv2     1720\n",
       "Lafyatis_Rojas_2019_10Xv1    1286\n",
       "Jain_Misharin_2021_10Xv1     1259\n",
       "Seibold_2020_10Xv3            986\n",
       "Seibold_2020_10Xv2            873\n",
       "Name: dataset, dtype: int64"
      ]
     },
     "execution_count": 6,
     "metadata": {},
     "output_type": "execute_result"
    }
   ],
   "source": [
    "adata.obs[\"dataset\"].value_counts()"
   ]
  },
  {
   "cell_type": "code",
   "execution_count": 7,
   "id": "ae904bb3",
   "metadata": {},
   "outputs": [],
   "source": [
    "def record_attrib(avg_jac, exp_jac_ds, sum_obs):\n",
    "    \"\"\"Takes care of aggregating different values.\"\"\"\n",
    "    if sum_obs:\n",
    "        if avg_jac is None:\n",
    "            avg_jac = exp_jac_ds\n",
    "        else:\n",
    "            avg_jac += exp_jac_ds  \n",
    "\n",
    "    else:  # get attribution per cell\n",
    "        if avg_jac is None:\n",
    "            avg_jac = [exp_jac_ds]\n",
    "        else:\n",
    "            avg_jac.append(exp_jac_ds)\n",
    "    return avg_jac"
   ]
  },
  {
   "cell_type": "code",
   "execution_count": 8,
   "id": "fa740611",
   "metadata": {},
   "outputs": [],
   "source": [
    "avg_abs_exp_jac = None\n",
    "avg_exp_jac = None\n",
    "\n",
    "sum_obs = False"
   ]
  },
  {
   "cell_type": "code",
   "execution_count": 9,
   "id": "7fe5a70b",
   "metadata": {},
   "outputs": [
    {
     "name": "stdout",
     "output_type": "stream",
     "text": [
      "Banovich_Kropski_2020\n",
      "379\n",
      "Barbry_Leroy_2020\n",
      "247\n",
      "Krasnow_2020\n",
      "388\n",
      "Lafyatis_Rojas_2019_10Xv1\n",
      "116\n",
      "Lafyatis_Rojas_2019_10Xv2\n",
      "236\n",
      "Meyer_2019\n",
      "241\n",
      "Misharin_2021\n",
      "353\n",
      "Misharin_Budinger_2018\n",
      "188\n",
      "Teichmann_Meyer_2019\n",
      "187\n",
      "Jain_Misharin_2021_10Xv1\n",
      "114\n",
      "Jain_Misharin_2021_10Xv2\n",
      "156\n",
      "Nawijn_2021\n",
      "254\n",
      "Seibold_2020_10Xv2\n",
      "79\n",
      "Seibold_2020_10Xv3\n",
      "89\n"
     ]
    }
   ],
   "source": [
    "for ds in adata.obs[\"dataset\"].unique():\n",
    "    print(ds)\n",
    "    \n",
    "    indices = np.where(adata.obs[\"dataset\"] == ds)[0]\n",
    "    batch_size = min(2000, int(len(indices) / 11))\n",
    "    print(batch_size)\n",
    "    \n",
    "    dl_base = model._make_data_loader(adata=adata, shuffle=False, indices=indices, batch_size=batch_size)\n",
    "    dl_prime = model._make_data_loader(adata=adata, shuffle=True, indices=indices, batch_size=batch_size)\n",
    "    \n",
    "    # sum abs values\n",
    "    exp_jac_ds = run_expected_jacobian_scanvi(model.module.classify, dl_base, dl_prime, apply_abs=True, sum_obs=sum_obs)\n",
    "    avg_abs_exp_jac = record_attrib(avg_abs_exp_jac, exp_jac_ds, sum_obs)\n",
    "\n",
    "    # just sum\n",
    "    exp_jac_ds = run_expected_jacobian_scanvi(model.module.classify, dl_base, dl_prime, apply_abs=False, sum_obs=sum_obs)\n",
    "    avg_exp_jac = record_attrib(avg_exp_jac, exp_jac_ds, sum_obs)"
   ]
  },
  {
   "cell_type": "code",
   "execution_count": 10,
   "id": "35d3afa1",
   "metadata": {},
   "outputs": [],
   "source": [
    "avg_abs_integr_jac = None\n",
    "avg_integr_jac = None\n",
    "\n",
    "sum_obs = False"
   ]
  },
  {
   "cell_type": "code",
   "execution_count": 11,
   "id": "5da38b40",
   "metadata": {},
   "outputs": [
    {
     "name": "stdout",
     "output_type": "stream",
     "text": [
      "Banovich_Kropski_2020\n",
      "Barbry_Leroy_2020\n",
      "Krasnow_2020\n",
      "Lafyatis_Rojas_2019_10Xv1\n",
      "Lafyatis_Rojas_2019_10Xv2\n",
      "Meyer_2019\n",
      "Misharin_2021\n",
      "Misharin_Budinger_2018\n",
      "Teichmann_Meyer_2019\n",
      "Jain_Misharin_2021_10Xv1\n",
      "Jain_Misharin_2021_10Xv2\n",
      "Nawijn_2021\n",
      "Seibold_2020_10Xv2\n",
      "Seibold_2020_10Xv3\n"
     ]
    }
   ],
   "source": [
    "for ds in adata.obs[\"dataset\"].unique():\n",
    "    print(ds)\n",
    "    \n",
    "    indices = np.where(adata.obs[\"dataset\"] == ds)[0]\n",
    "    dl_base = model._make_data_loader(adata=adata, shuffle=False, indices=indices, batch_size=2000)\n",
    "    \n",
    "    # sum abs values\n",
    "    integr_jac_ds = run_integrated_jacobian_scanvi(model.module.classify, dl_base, apply_abs=True, sum_obs=sum_obs)\n",
    "    avg_abs_integr_jac = record_attrib(avg_abs_integr_jac, integr_jac_ds, sum_obs)\n",
    "    \n",
    "    # just sum\n",
    "    integr_jac_ds = run_integrated_jacobian_scanvi(model.module.classify, dl_base, apply_abs=True, sum_obs=sum_obs)\n",
    "    avg_integr_jac = record_attrib(avg_integr_jac, integr_jac_ds, sum_obs)"
   ]
  },
  {
   "cell_type": "markdown",
   "id": "3d9f679b",
   "metadata": {},
   "source": [
    "If `sum_obs = True`"
   ]
  },
  {
   "cell_type": "code",
   "execution_count": 47,
   "id": "4686f09c",
   "metadata": {},
   "outputs": [],
   "source": [
    "from scvi import REGISTRY_KEYS\n",
    "labels = model.adata_manager.get_state_registry(REGISTRY_KEYS.LABELS_KEY)['categorical_mapping']"
   ]
  },
  {
   "cell_type": "code",
   "execution_count": 49,
   "id": "46227d46",
   "metadata": {},
   "outputs": [],
   "source": [
    "pd.DataFrame(avg_abs_exp_jac.numpy(), columns=labels[:-1], index=adata.var_names.tolist()).to_csv(\"absolute_sum_expected_grads.csv\", index_label=\"Gene\")"
   ]
  },
  {
   "cell_type": "code",
   "execution_count": 50,
   "id": "8e37e940",
   "metadata": {},
   "outputs": [],
   "source": [
    "pd.DataFrame(avg_exp_jac.numpy(), columns=labels[:-1], index=adata.var_names.tolist()).to_csv(\"sum_expected_grads.csv\", index_label=\"Gene\")"
   ]
  },
  {
   "cell_type": "code",
   "execution_count": 51,
   "id": "438eb028",
   "metadata": {},
   "outputs": [],
   "source": [
    "pd.DataFrame(avg_abs_integr_jac.numpy(), columns=labels[:-1], index=adata.var_names.tolist()).to_csv(\"absolute_sum_integrated_grads.csv\", index_label=\"Gene\")"
   ]
  },
  {
   "cell_type": "code",
   "execution_count": 52,
   "id": "66e895ad",
   "metadata": {},
   "outputs": [],
   "source": [
    "pd.DataFrame(avg_integr_jac.numpy(), columns=labels[:-1], index=adata.var_names.tolist()).to_csv(\"sum_integrated_grads.csv\", index_label=\"Gene\")"
   ]
  },
  {
   "cell_type": "markdown",
   "id": "dafde6d2",
   "metadata": {},
   "source": [
    "If `sum_obs = False`"
   ]
  },
  {
   "cell_type": "code",
   "execution_count": 12,
   "id": "4ecfbb16",
   "metadata": {},
   "outputs": [
    {
     "data": {
      "text/plain": [
       "torch.Size([33376, 2000, 28])"
      ]
     },
     "execution_count": 12,
     "metadata": {},
     "output_type": "execute_result"
    }
   ],
   "source": [
    "torch.cat(avg_exp_jac).shape"
   ]
  },
  {
   "cell_type": "code",
   "execution_count": 14,
   "id": "8ebef42c",
   "metadata": {},
   "outputs": [],
   "source": [
    "np.save(\n",
    "    '../../scripts/outputs/attribution_map_genes_3d_task2_expected_grads.npy',\n",
    "    torch.cat(avg_exp_jac).cpu().detach().numpy().transpose(0, 2, 1)\n",
    ")\n",
    "np.save(\n",
    "    '../../scripts/outputs/attribution_map_genes_3d_task2_integrated_grads.npy',\n",
    "    torch.cat(avg_integr_jac).cpu().detach().numpy().transpose(0, 2, 1)\n",
    ")"
   ]
  }
 ],
 "metadata": {
  "kernelspec": {
   "display_name": "Python [conda env:test_env3]",
   "language": "python",
   "name": "conda-env-test_env3-py"
  },
  "language_info": {
   "codemirror_mode": {
    "name": "ipython",
    "version": 3
   },
   "file_extension": ".py",
   "mimetype": "text/x-python",
   "name": "python",
   "nbconvert_exporter": "python",
   "pygments_lexer": "ipython3",
   "version": "3.10.6"
  }
 },
 "nbformat": 4,
 "nbformat_minor": 5
}
