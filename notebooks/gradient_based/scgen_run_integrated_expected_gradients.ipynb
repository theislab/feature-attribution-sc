{
 "cells": [
  {
   "cell_type": "code",
   "execution_count": 1,
   "id": "2a15e7d5",
   "metadata": {},
   "outputs": [
    {
     "name": "stderr",
     "output_type": "stream",
     "text": [
      "/home/icb/yuge.ji/miniconda3/envs/test_env3/lib/python3.10/site-packages/torch/utils/tensorboard/__init__.py:2: DeprecationWarning: The distutils package is deprecated and slated for removal in Python 3.12. Use setuptools or check PEP 632 for potential alternatives\n",
      "  from distutils.version import LooseVersion\n",
      "Global seed set to 0\n",
      "/home/icb/yuge.ji/miniconda3/envs/test_env3/lib/python3.10/site-packages/scanpy/_settings.py:447: DeprecationWarning: `set_matplotlib_formats` is deprecated since IPython 7.23, directly use `matplotlib_inline.backend_inline.set_matplotlib_formats()`\n",
      "  IPython.display.set_matplotlib_formats(*ipython_format)\n"
     ]
    },
    {
     "name": "stdout",
     "output_type": "stream",
     "text": [
      "scanpy==1.9.1 anndata==0.8.0 umap==0.5.3 numpy==1.22.4 scipy==1.9.1 pandas==1.4.4 scikit-learn==1.1.2 statsmodels==0.13.2 python-igraph==0.10.2 pynndescent==0.5.7\n"
     ]
    },
    {
     "name": "stderr",
     "output_type": "stream",
     "text": [
      "/home/icb/yuge.ji/miniconda3/envs/test_env3/lib/python3.10/site-packages/umap/__init__.py:9: ImportWarning: Tensorflow not installed; ParametricUMAP will be unavailable\n",
      "  warn(\n"
     ]
    }
   ],
   "source": [
    "import torch\n",
    "import scvi\n",
    "import scgen\n",
    "import pandas as pd\n",
    "import scanpy as sc\n",
    "import matplotlib.pyplot as plt\n",
    "import numpy as np\n",
    "\n",
    "sc.set_figure_params(dpi=100, frameon=False, color_map='Reds', facecolor=None)\n",
    "sc.logging.print_header()"
   ]
  },
  {
   "cell_type": "code",
   "execution_count": 2,
   "id": "034af854",
   "metadata": {},
   "outputs": [],
   "source": [
    "# from gradients import run_expected_jacobian_scanvi, run_integrated_jacobian_scanvi\n",
    "\n",
    "def batch_to_dict_scanvi(batch):\n",
    "    return dict(x=batch[\"X\"], batch_index=batch[\"batch\"])\n",
    "\n",
    "def batch_jacobian(outpt, inpt):\n",
    "    n_out = outpt.shape[-1]\n",
    "    \n",
    "    jacs = []\n",
    "    \n",
    "    ones = torch.ones(outpt.shape[0]).to(outpt.device)\n",
    "    \n",
    "    for i in range(n_out):\n",
    "        retain_graph = i!= n_out-1\n",
    "        jacs.append(torch.autograd.grad(outpt[..., i], inpt, ones, retain_graph=retain_graph)[0])\n",
    "\n",
    "    return torch.stack(jacs, dim=-1)\n",
    "\n",
    "def expected_jacobian_step(func, inpt_dict, backprop_inpt_key, prime_inpt):\n",
    "    x = inpt_dict[backprop_inpt_key]\n",
    "    x_prime = prime_inpt.to(x.device)\n",
    "    \n",
    "    unif_coef = torch.rand(x.shape[0])[:, None].to(x.device)\n",
    "    \n",
    "    x_diff = x - x_prime\n",
    "    \n",
    "    new_inpt_dict = dict(inpt_dict)\n",
    "    new_inpt_dict[backprop_inpt_key] = x_prime + x_diff * unif_coef\n",
    "\n",
    "#     out = func(**new_inpt_dict)\n",
    "    out = func(new_inpt_dict)  # edited bc I can't figure out how otherwise\n",
    "    \n",
    "    jac = batch_jacobian(out, x)\n",
    "    \n",
    "    return jac * x_diff[..., None].detach()\n",
    "\n",
    "def integrated_jacobian(func, inpt_dict, backprop_inpt_key, prime_inpt=None, n_steps=10):\n",
    "    x = inpt_dict[backprop_inpt_key]\n",
    "    if prime_inpt is not None:\n",
    "        x_prime = prime_inpt.to(x.device)\n",
    "    else:\n",
    "        x_prime = torch.zeros_like(x)\n",
    "    \n",
    "    x_diff = x - x_prime\n",
    "    \n",
    "    jacs = []\n",
    "    \n",
    "    new_inpt_dict = dict(inpt_dict)\n",
    "    \n",
    "    for i in range(n_steps):\n",
    "        new_inpt_dict[backprop_inpt_key] = x_prime + x_diff * (i+1)/n_steps\n",
    "        \n",
    "        out = func(new_inpt_dict)  # edited\n",
    "        \n",
    "        jacs.append(batch_jacobian(out, x))\n",
    "    \n",
    "    return sum(jacs) * (1/n_steps) * x_diff[..., None].detach()\n",
    "\n",
    "def run_expected_jacobian_scanvi(module_func, dl_base, dl_prime, n_steps=10, apply_abs=False, sum_obs=False):\n",
    "    expected_jacs = []\n",
    "\n",
    "    for batch in dl_base:\n",
    "        inpt_dict = batch_to_dict_scanvi(batch)\n",
    "        inpt_dict[\"x\"].requires_grad = True\n",
    "        if torch.cuda.is_available():\n",
    "            inpt_dict[\"x\"] = inpt_dict[\"x\"].cuda()\n",
    "\n",
    "        inpt_batch_size = inpt_dict[\"x\"].shape[0]\n",
    "\n",
    "        jacs_batch = []\n",
    "        for i, batch_prime in enumerate(dl_prime):\n",
    "            if i > n_steps-1:\n",
    "                break\n",
    "\n",
    "            prime_inpt = batch_to_dict_scanvi(batch_prime)[\"x\"]\n",
    "            if inpt_batch_size < prime_inpt.shape[0]:\n",
    "                prime_inpt = prime_inpt[:inpt_batch_size]\n",
    "\n",
    "            jacs_batch.append(expected_jacobian_step(module_func, inpt_dict, \"x\", prime_inpt))\n",
    "\n",
    "        exp_jac_batch = sum(jacs_batch) / len(jacs_batch)\n",
    "        if apply_abs:\n",
    "            exp_jac_batch = exp_jac_batch.abs()\n",
    "        \n",
    "        expected_jacs.append(exp_jac_batch.cpu() if not sum_obs else exp_jac_batch.sum(0).cpu())\n",
    "        \n",
    "    if sum_obs:\n",
    "        result = torch.stack(expected_jacs).sum(0)\n",
    "    else:\n",
    "        result = torch.cat(expected_jacs)\n",
    "    return result\n",
    "\n",
    "def run_integrated_jacobian_scanvi(module_func, dl_base, n_steps=10, apply_abs=False, sum_obs=False):\n",
    "    integrated_jacs = []\n",
    "\n",
    "    for batch in dl_base:\n",
    "        inpt_dict = batch_to_dict_scanvi(batch)\n",
    "        inpt_dict[\"x\"].requires_grad = True\n",
    "        if torch.cuda.is_available():\n",
    "            inpt_dict[\"x\"] = inpt_dict[\"x\"].cuda()\n",
    "        \n",
    "        integr_jac_batch = integrated_jacobian(module_func, inpt_dict, \"x\", n_steps=n_steps)\n",
    "        if apply_abs:\n",
    "            integr_jac_batch = integr_jac_batch.abs()\n",
    "\n",
    "        integrated_jacs.append(integr_jac_batch.cpu() if not sum_obs else integr_jac_batch.sum(0).cpu())\n",
    "        \n",
    "    if sum_obs:\n",
    "        result = torch.stack(integrated_jacs).sum(0)\n",
    "    else:\n",
    "        result = torch.cat(integrated_jacs)\n",
    "    return result"
   ]
  },
  {
   "cell_type": "code",
   "execution_count": 3,
   "id": "89aed8ec",
   "metadata": {},
   "outputs": [
    {
     "name": "stderr",
     "output_type": "stream",
     "text": [
      "/home/icb/yuge.ji/miniconda3/envs/test_env3/lib/python3.10/site-packages/anndata/_core/anndata.py:1830: UserWarning: Variable names are not unique. To make them unique, call `.var_names_make_unique`.\n",
      "  utils.warn_names_duplicates(\"var\")\n"
     ]
    },
    {
     "data": {
      "text/plain": [
       "AnnData object with n_obs × n_vars = 69570 × 919\n",
       "    obs: 'guide_identity', 'read_count', 'UMI_count', 'coverage', 'gemgroup', 'good_coverage', 'number_of_cells', 'guide_AHR', 'guide_ARID1A', 'guide_ARRDC3', 'guide_ATL1', 'guide_BAK1', 'guide_BCL2L11', 'guide_BCORL1', 'guide_BPGM', 'guide_C19orf26', 'guide_C3orf72', 'guide_CBFA2T3', 'guide_CBL', 'guide_CDKN1A', 'guide_CDKN1B', 'guide_CDKN1C', 'guide_CEBPA', 'guide_CEBPB', 'guide_CEBPE', 'guide_CELF2', 'guide_CITED1', 'guide_CKS1B', 'guide_CLDN6', 'guide_CNN1', 'guide_CNNM4', 'guide_COL1A1', 'guide_COL2A1', 'guide_CSRNP1', 'guide_DLX2', 'guide_DUSP9', 'guide_EGR1', 'guide_ELMSAN1', 'guide_ETS2', 'guide_FEV', 'guide_FOSB', 'guide_FOXA1', 'guide_FOXA3', 'guide_FOXF1', 'guide_FOXL2', 'guide_FOXO4', 'guide_GLB1L2', 'guide_HES7', 'guide_HK2', 'guide_HNF4A', 'guide_HOXA13', 'guide_HOXB9', 'guide_HOXC13', 'guide_IER5L', 'guide_IGDCC3', 'guide_IKZF3', 'guide_IRF1', 'guide_ISL2', 'guide_JUN', 'guide_KIAA1804', 'guide_KIF18B', 'guide_KIF2C', 'guide_KLF1', 'guide_KMT2A', 'guide_LHX1', 'guide_LYL1', 'guide_MAML2', 'guide_MAP2K3', 'guide_MAP2K6', 'guide_MAP4K3', 'guide_MAP4K5', 'guide_MAP7D1', 'guide_MAPK1', 'guide_MEIS1', 'guide_MIDN', 'guide_NCL', 'guide_NIT1', 'guide_OSR2', 'guide_PLK4', 'guide_POU3F2', 'guide_PRDM1', 'guide_PRTG', 'guide_PTPN1', 'guide_PTPN12', 'guide_PTPN13', 'guide_PTPN9', 'guide_RHOXF2', 'guide_RREB1', 'guide_RUNX1T1', 'guide_S1PR2', 'guide_SAMD1', 'guide_SET', 'guide_SGK1', 'guide_SLC38A2', 'guide_SLC4A1', 'guide_SLC6A9', 'guide_SNAI1', 'guide_SPI1', 'guide_STIL', 'guide_TBX2', 'guide_TBX3', 'guide_TGFBR2', 'guide_TMSB4X', 'guide_TP73', 'guide_TSC22D1', 'guide_UBASH3A', 'guide_UBASH3B', 'guide_ZBTB1', 'guide_ZBTB10', 'guide_ZBTB25', 'guide_ZC3HAV1', 'guide_ZNF318', 'guide_ids', 'n_genes', 'n_genes_by_counts', 'total_counts', 'total_counts_mt', 'pct_counts_mt', 'leiden', 'perturbation_name', 'perturbation_type', 'perturbation_value', 'perturbation_unit', 'split'\n",
       "    var: 'index', 'n_cells', 'mt', 'n_cells_by_counts', 'mean_counts', 'pct_dropout_by_counts', 'total_counts', 'highly_variable', 'means', 'dispersions', 'dispersions_norm'\n",
       "    uns: 'doi', 'hvg', 'leiden', 'neighbors', 'pca', 'preprocessing_nb_link', 'umap'\n",
       "    obsm: 'X_pca', 'X_umap'\n",
       "    varm: 'PCs'\n",
       "    layers: 'counts'\n",
       "    obsp: 'connectivities', 'distances'"
      ]
     },
     "execution_count": 3,
     "metadata": {},
     "output_type": "execute_result"
    }
   ],
   "source": [
    "base_path = '/home/icb/yuge.ji/projects/feature-attribution-sc'\n",
    "adata = sc.read(f'{base_path}/datasets/2301_scgen_norman19.h5ad')\n",
    "# adata = adata[~adata.obs.perturbation_name.isin(['C19orf26', 'C3orf72', 'KIAA1804'])].copy()  # do not match to gene, remove\n",
    "adata"
   ]
  },
  {
   "cell_type": "code",
   "execution_count": 7,
   "id": "9a6aa0c0",
   "metadata": {},
   "outputs": [],
   "source": [
    "from scvi import REGISTRY_KEYS\n",
    "pert_names = model.adata_manager.get_state_registry(REGISTRY_KEYS.BATCH_KEY)['categorical_mapping']"
   ]
  },
  {
   "cell_type": "markdown",
   "id": "a945468a",
   "metadata": {
    "heading_collapsed": true
   },
   "source": [
    "## Running IG and EG for a single model"
   ]
  },
  {
   "cell_type": "code",
   "execution_count": 19,
   "id": "5be9a67a",
   "metadata": {
    "hidden": true
   },
   "outputs": [
    {
     "name": "stdout",
     "output_type": "stream",
     "text": [
      "\u001b[34mINFO    \u001b[0m File \u001b[35m/home/icb/yuge.ji/projects/feature-attribution-sc/models/scgen_norman19_model2_\u001b[0m\n",
      "         \u001b[35mshuffled_v2/\u001b[0m\u001b[95mmodel.pt\u001b[0m already downloaded                                             \n"
     ]
    },
    {
     "name": "stderr",
     "output_type": "stream",
     "text": [
      "/home/icb/yuge.ji/miniconda3/envs/test_env3/lib/python3.10/site-packages/scvi/model/base/_utils.py:134: UserWarning: var_names for adata passed in does not match var_names of adata used to train the model. For valid results, the vars need to be the same and in the same order as the adata used to train the model.\n",
      "  warnings.warn(\n"
     ]
    },
    {
     "data": {
      "text/html": [
       "<pre style=\"white-space:pre;overflow-x:auto;line-height:normal;font-family:Menlo,'DejaVu Sans Mono',consolas,'Courier New',monospace\">SCGEN Model with the following params: \n",
       "n_hidden: <span style=\"color: #008080; text-decoration-color: #008080; font-weight: bold\">400</span>, n_latent: <span style=\"color: #008080; text-decoration-color: #008080; font-weight: bold\">30</span>, n_layers: <span style=\"color: #008080; text-decoration-color: #008080; font-weight: bold\">2</span>, dropout_rate: <span style=\"color: #008080; text-decoration-color: #008080; font-weight: bold\">0.2</span>\n",
       "Training status: Trained\n",
       "</pre>\n"
      ],
      "text/plain": [
       "SCGEN Model with the following params: \n",
       "n_hidden: \u001b[1;36m400\u001b[0m, n_latent: \u001b[1;36m30\u001b[0m, n_layers: \u001b[1;36m2\u001b[0m, dropout_rate: \u001b[1;36m0.2\u001b[0m\n",
       "Training status: Trained\n"
      ]
     },
     "metadata": {},
     "output_type": "display_data"
    },
    {
     "data": {
      "text/plain": []
     },
     "execution_count": 19,
     "metadata": {},
     "output_type": "execute_result"
    }
   ],
   "source": [
    "file = 'scgen_norman19_model2_shuffled_v2'\n",
    "model = scgen.SCGEN.load(f'{base_path}/models/{file}', adata=adata)\n",
    "model"
   ]
  },
  {
   "cell_type": "code",
   "execution_count": 22,
   "id": "59b54ff6",
   "metadata": {
    "hidden": true
   },
   "outputs": [],
   "source": [
    "forw = lambda inpt_dict: model.module.inference(inpt_dict['x'])['z']"
   ]
  },
  {
   "cell_type": "code",
   "execution_count": 24,
   "id": "a64a6254",
   "metadata": {
    "hidden": true
   },
   "outputs": [
    {
     "name": "stdout",
     "output_type": "stream",
     "text": [
      "CPU times: user 1h 21min 34s, sys: 8.73 s, total: 1h 21min 43s\n",
      "Wall time: 5min 9s\n"
     ]
    }
   ],
   "source": [
    "%%time\n",
    "# sum abs values\n",
    "\n",
    "batch_size = 50\n",
    "all_abs_exp_jac = []\n",
    "for pert in pert_names:  # loop because of memory\n",
    "\n",
    "    indices = np.where(adata.obs[\"perturbation_name\"] == pert)[0]\n",
    "    cutoff = len(indices)%batch_size\n",
    "    if cutoff == 0:\n",
    "        pass\n",
    "    else:\n",
    "        indices = indices[:-cutoff]\n",
    "    \n",
    "    dl_base = model._make_data_loader(adata=adata, shuffle=False, indices=indices, batch_size=batch_size)\n",
    "    dl_prime = model._make_data_loader(\n",
    "        adata=adata, shuffle=True,\n",
    "        indices=np.random.choice(range(adata.obs.shape[0]), size=len(indices), replace=False),\n",
    "        batch_size=batch_size\n",
    "    )\n",
    "    \n",
    "    exp_jac_ds = run_expected_jacobian_scanvi(forw, dl_base, dl_prime, apply_abs=True, sum_obs=True)\n",
    "    \n",
    "    all_abs_exp_jac.append(exp_jac_ds)"
   ]
  },
  {
   "cell_type": "code",
   "execution_count": 25,
   "id": "4213e141",
   "metadata": {
    "hidden": true
   },
   "outputs": [],
   "source": [
    "means = pd.DataFrame(torch.stack(all_abs_exp_jac).sum(2).numpy().T, index=adata.var_names, columns=pert_names)"
   ]
  },
  {
   "cell_type": "markdown",
   "id": "ef06c0c1",
   "metadata": {
    "hidden": true
   },
   "source": [
    "Take the average contribution per gene per **perturbation** to get a ranking of all genes per perturbation."
   ]
  },
  {
   "cell_type": "code",
   "execution_count": 26,
   "id": "12794764",
   "metadata": {
    "hidden": true
   },
   "outputs": [],
   "source": [
    "means.to_csv(\"../../outputs/expected_gradients/task_1_absolute_expected_grads_v2.csv\")"
   ]
  },
  {
   "cell_type": "markdown",
   "id": "8c7bab2e",
   "metadata": {
    "hidden": true
   },
   "source": [
    "Run integrated gradients:"
   ]
  },
  {
   "cell_type": "code",
   "execution_count": 27,
   "id": "5da38b40",
   "metadata": {
    "hidden": true
   },
   "outputs": [
    {
     "name": "stdout",
     "output_type": "stream",
     "text": [
      "CPU times: user 45min 8s, sys: 34.6 s, total: 45min 42s\n",
      "Wall time: 3min 1s\n"
     ]
    }
   ],
   "source": [
    "%%time\n",
    "batch_size = 200\n",
    "all_abs_integr_jac = []\n",
    "for pert in pert_names:  # loop because of memory\n",
    "\n",
    "    indices = np.where(adata.obs[\"perturbation_name\"] == pert)[0]\n",
    "\n",
    "    dl_base = model._make_data_loader(adata=adata, shuffle=False, indices=indices, batch_size=batch_size)\n",
    "    \n",
    "    integr_jac_ds = run_integrated_jacobian_scanvi(forw, dl_base, apply_abs=True, sum_obs=True)\n",
    "    \n",
    "    all_abs_integr_jac.append(integr_jac_ds)"
   ]
  },
  {
   "cell_type": "code",
   "execution_count": 28,
   "id": "41125388",
   "metadata": {
    "hidden": true
   },
   "outputs": [],
   "source": [
    "means_int = pd.DataFrame(torch.stack(all_abs_integr_jac).sum(2).numpy().T, index=adata.var_names, columns=pert_names)"
   ]
  },
  {
   "cell_type": "code",
   "execution_count": 29,
   "id": "9b80c14a",
   "metadata": {
    "hidden": true
   },
   "outputs": [],
   "source": [
    "means_int.to_csv(\"../../outputs/integrated_gradients/task_1_absolute_integrated_grads_v2.csv\")"
   ]
  },
  {
   "cell_type": "markdown",
   "id": "b157264c",
   "metadata": {
    "hidden": true
   },
   "source": [
    "Going to discard taking just the sum for now because I'd argue it's always less meaningful than the absolute. "
   ]
  },
  {
   "cell_type": "code",
   "execution_count": null,
   "id": "44ef9347",
   "metadata": {
    "hidden": true
   },
   "outputs": [],
   "source": [
    "# pd.DataFrame(avg_abs_exp_jac.numpy(), columns=list(range(100)), index=adata.var_names.tolist()).to_csv(f\"{path}/expected_gradients/task_1_absolute_sum_expected_grads.csv\", index_label=\"Gene\")"
   ]
  },
  {
   "cell_type": "code",
   "execution_count": 27,
   "id": "438eb028",
   "metadata": {
    "hidden": true
   },
   "outputs": [],
   "source": [
    "# pd.DataFrame(avg_abs_integr_jac.numpy(), columns=list(range(100)), index=adata.var_names.tolist()).to_csv(f\"{path}/integrated_gradients/task_1_absolute_sum_integrated_grads.csv\", index_label=\"Gene\")"
   ]
  },
  {
   "cell_type": "markdown",
   "id": "460e691f",
   "metadata": {},
   "source": [
    "## Running just EG for multiple scGen models"
   ]
  },
  {
   "cell_type": "markdown",
   "id": "431b849d",
   "metadata": {},
   "source": [
    "Load all models."
   ]
  },
  {
   "cell_type": "code",
   "execution_count": 4,
   "id": "bc0a5847",
   "metadata": {
    "scrolled": true
   },
   "outputs": [
    {
     "name": "stdout",
     "output_type": "stream",
     "text": [
      "loading scgen_norman19_model2_random_v2\n",
      "\u001b[34mINFO    \u001b[0m File \u001b[35m/home/icb/yuge.ji/projects/feature-attribution-sc/models/scgen_norman19_model2_\u001b[0m\n",
      "         \u001b[35mrandom_v2/\u001b[0m\u001b[95mmodel.pt\u001b[0m already downloaded                                               \n"
     ]
    },
    {
     "name": "stderr",
     "output_type": "stream",
     "text": [
      "/home/icb/yuge.ji/miniconda3/envs/test_env3/lib/python3.10/site-packages/scvi/model/base/_utils.py:134: UserWarning: var_names for adata passed in does not match var_names of adata used to train the model. For valid results, the vars need to be the same and in the same order as the adata used to train the model.\n",
      "  warnings.warn(\n"
     ]
    },
    {
     "name": "stdout",
     "output_type": "stream",
     "text": [
      "loading scgen_norman19_model1_shuffled_v2\n",
      "\u001b[34mINFO    \u001b[0m File \u001b[35m/home/icb/yuge.ji/projects/feature-attribution-sc/models/scgen_norman19_model1_\u001b[0m\n",
      "         \u001b[35mshuffled_v2/\u001b[0m\u001b[95mmodel.pt\u001b[0m already downloaded                                             \n",
      "loading scgen_norman19_model0_shuffled_v2\n",
      "\u001b[34mINFO    \u001b[0m File \u001b[35m/home/icb/yuge.ji/projects/feature-attribution-sc/models/scgen_norman19_model0_\u001b[0m\n",
      "         \u001b[35mshuffled_v2/\u001b[0m\u001b[95mmodel.pt\u001b[0m already downloaded                                             \n"
     ]
    },
    {
     "name": "stderr",
     "output_type": "stream",
     "text": [
      "/home/icb/yuge.ji/miniconda3/envs/test_env3/lib/python3.10/site-packages/scvi/model/base/_utils.py:134: UserWarning: var_names for adata passed in does not match var_names of adata used to train the model. For valid results, the vars need to be the same and in the same order as the adata used to train the model.\n",
      "  warnings.warn(\n",
      "/home/icb/yuge.ji/miniconda3/envs/test_env3/lib/python3.10/site-packages/scvi/model/base/_utils.py:134: UserWarning: var_names for adata passed in does not match var_names of adata used to train the model. For valid results, the vars need to be the same and in the same order as the adata used to train the model.\n",
      "  warnings.warn(\n"
     ]
    },
    {
     "name": "stdout",
     "output_type": "stream",
     "text": [
      "loading scgen_norman19_model1_random_v2\n",
      "\u001b[34mINFO    \u001b[0m File \u001b[35m/home/icb/yuge.ji/projects/feature-attribution-sc/models/scgen_norman19_model1_\u001b[0m\n",
      "         \u001b[35mrandom_v2/\u001b[0m\u001b[95mmodel.pt\u001b[0m already downloaded                                               \n",
      "loading scgen_norman19_model4_shuffled_v2\n",
      "\u001b[34mINFO    \u001b[0m File \u001b[35m/home/icb/yuge.ji/projects/feature-attribution-sc/models/scgen_norman19_model4_\u001b[0m\n",
      "         \u001b[35mshuffled_v2/\u001b[0m\u001b[95mmodel.pt\u001b[0m already downloaded                                             \n"
     ]
    },
    {
     "name": "stderr",
     "output_type": "stream",
     "text": [
      "/home/icb/yuge.ji/miniconda3/envs/test_env3/lib/python3.10/site-packages/scvi/model/base/_utils.py:134: UserWarning: var_names for adata passed in does not match var_names of adata used to train the model. For valid results, the vars need to be the same and in the same order as the adata used to train the model.\n",
      "  warnings.warn(\n",
      "/home/icb/yuge.ji/miniconda3/envs/test_env3/lib/python3.10/site-packages/scvi/model/base/_utils.py:134: UserWarning: var_names for adata passed in does not match var_names of adata used to train the model. For valid results, the vars need to be the same and in the same order as the adata used to train the model.\n",
      "  warnings.warn(\n"
     ]
    },
    {
     "name": "stdout",
     "output_type": "stream",
     "text": [
      "loading scgen_norman19_model3_shuffled_v2\n",
      "\u001b[34mINFO    \u001b[0m File \u001b[35m/home/icb/yuge.ji/projects/feature-attribution-sc/models/scgen_norman19_model3_\u001b[0m\n",
      "         \u001b[35mshuffled_v2/\u001b[0m\u001b[95mmodel.pt\u001b[0m already downloaded                                             \n",
      "loading scgen_norman19_model4_random_v2\n",
      "\u001b[34mINFO    \u001b[0m File \u001b[35m/home/icb/yuge.ji/projects/feature-attribution-sc/models/scgen_norman19_model4_\u001b[0m\n",
      "         \u001b[35mrandom_v2/\u001b[0m\u001b[95mmodel.pt\u001b[0m already downloaded                                               \n"
     ]
    },
    {
     "name": "stderr",
     "output_type": "stream",
     "text": [
      "/home/icb/yuge.ji/miniconda3/envs/test_env3/lib/python3.10/site-packages/scvi/model/base/_utils.py:134: UserWarning: var_names for adata passed in does not match var_names of adata used to train the model. For valid results, the vars need to be the same and in the same order as the adata used to train the model.\n",
      "  warnings.warn(\n",
      "/home/icb/yuge.ji/miniconda3/envs/test_env3/lib/python3.10/site-packages/scvi/model/base/_utils.py:134: UserWarning: var_names for adata passed in does not match var_names of adata used to train the model. For valid results, the vars need to be the same and in the same order as the adata used to train the model.\n",
      "  warnings.warn(\n"
     ]
    },
    {
     "name": "stdout",
     "output_type": "stream",
     "text": [
      "loading scgen_norman19_model0_random_v2\n",
      "\u001b[34mINFO    \u001b[0m File \u001b[35m/home/icb/yuge.ji/projects/feature-attribution-sc/models/scgen_norman19_model0_\u001b[0m\n",
      "         \u001b[35mrandom_v2/\u001b[0m\u001b[95mmodel.pt\u001b[0m already downloaded                                               \n",
      "loading scgen_norman19_model2_shuffled_v2\n",
      "\u001b[34mINFO    \u001b[0m File \u001b[35m/home/icb/yuge.ji/projects/feature-attribution-sc/models/scgen_norman19_model2_\u001b[0m\n",
      "         \u001b[35mshuffled_v2/\u001b[0m\u001b[95mmodel.pt\u001b[0m already downloaded                                             \n"
     ]
    },
    {
     "name": "stderr",
     "output_type": "stream",
     "text": [
      "/home/icb/yuge.ji/miniconda3/envs/test_env3/lib/python3.10/site-packages/scvi/model/base/_utils.py:134: UserWarning: var_names for adata passed in does not match var_names of adata used to train the model. For valid results, the vars need to be the same and in the same order as the adata used to train the model.\n",
      "  warnings.warn(\n"
     ]
    },
    {
     "name": "stdout",
     "output_type": "stream",
     "text": [
      "loading scgen_norman19_model3_random_v2\n",
      "\u001b[34mINFO    \u001b[0m File \u001b[35m/home/icb/yuge.ji/projects/feature-attribution-sc/models/scgen_norman19_model3_\u001b[0m\n",
      "         \u001b[35mrandom_v2/\u001b[0m\u001b[95mmodel.pt\u001b[0m already downloaded                                               \n"
     ]
    },
    {
     "name": "stderr",
     "output_type": "stream",
     "text": [
      "/home/icb/yuge.ji/miniconda3/envs/test_env3/lib/python3.10/site-packages/scvi/model/base/_utils.py:134: UserWarning: var_names for adata passed in does not match var_names of adata used to train the model. For valid results, the vars need to be the same and in the same order as the adata used to train the model.\n",
      "  warnings.warn(\n",
      "/home/icb/yuge.ji/miniconda3/envs/test_env3/lib/python3.10/site-packages/scvi/model/base/_utils.py:134: UserWarning: var_names for adata passed in does not match var_names of adata used to train the model. For valid results, the vars need to be the same and in the same order as the adata used to train the model.\n",
      "  warnings.warn(\n"
     ]
    },
    {
     "data": {
      "text/plain": [
       "dict_keys(['norman19_model2_random_v2', 'norman19_model1_shuffled_v2', 'norman19_model0_shuffled_v2', 'norman19_model1_random_v2', 'norman19_model4_shuffled_v2', 'norman19_model3_shuffled_v2', 'norman19_model4_random_v2', 'norman19_model0_random_v2', 'norman19_model2_shuffled_v2', 'norman19_model3_random_v2'])"
      ]
     },
     "execution_count": 4,
     "metadata": {},
     "output_type": "execute_result"
    }
   ],
   "source": [
    "import os\n",
    "\n",
    "models = {}\n",
    "for file in os.listdir(f'{base_path}/models'):\n",
    "    if 'scgen' in file and 'v2' in file:\n",
    "        print('loading', file)\n",
    "        models['_'.join(file.split('_')[1:])] = scgen.SCGEN.load(f'{base_path}/models/{file}', adata=adata)\n",
    "\n",
    "models.keys()"
   ]
  },
  {
   "cell_type": "code",
   "execution_count": 5,
   "id": "2225b482",
   "metadata": {},
   "outputs": [],
   "source": [
    "def expected_gradients(model, adata, batch_size=50):\n",
    "    forw = lambda inpt_dict: model.module.inference(inpt_dict['x'])['z']\n",
    "    \n",
    "    pert_names = model.adata_manager.get_state_registry(REGISTRY_KEYS.BATCH_KEY)['categorical_mapping']\n",
    "    \n",
    "    all_abs_exp_jac = []\n",
    "    for pert in pert_names:  # loop because of memory\n",
    "\n",
    "        indices = np.where(adata.obs[\"perturbation_name\"] == pert)[0]\n",
    "        cutoff = len(indices)%batch_size\n",
    "        if cutoff == 0:\n",
    "            pass\n",
    "        else:\n",
    "            indices = indices[:-cutoff]\n",
    "\n",
    "        dl_base = model._make_data_loader(adata=adata, shuffle=False, indices=indices, batch_size=batch_size)\n",
    "        dl_prime = model._make_data_loader(\n",
    "            adata=adata, shuffle=True,\n",
    "            indices=np.random.choice(range(adata.obs.shape[0]), size=len(indices), replace=False),\n",
    "            batch_size=batch_size\n",
    "        )\n",
    "\n",
    "        exp_jac_ds = run_expected_jacobian_scanvi(forw, dl_base, dl_prime, apply_abs=True, sum_obs=True)\n",
    "\n",
    "        all_abs_exp_jac.append(exp_jac_ds)\n",
    "\n",
    "    return all_abs_exp_jac"
   ]
  },
  {
   "cell_type": "code",
   "execution_count": 8,
   "id": "3b893073",
   "metadata": {},
   "outputs": [
    {
     "name": "stderr",
     "output_type": "stream",
     "text": [
      "  0%|                                                                                                                                                                                                                                | 0/10 [06:36<?, ?it/s]\n"
     ]
    }
   ],
   "source": [
    "from tqdm import tqdm\n",
    "\n",
    "for descript, model in tqdm(models.items()):\n",
    "    model._validate_anndata(adata)\n",
    "    exp_jac = expected_gradients(model, adata)\n",
    "    means = pd.DataFrame(torch.stack(exp_jac).sum(2).numpy().T, index=adata.var_names, columns=pert_names)\n",
    "    means.to_csv(f\"{descript}_task_1_absolute_EG_v2.csv\", index_label=\"Gene\")"
   ]
  },
  {
   "cell_type": "markdown",
   "id": "e556ba1a",
   "metadata": {},
   "source": [
    "Save the full dimensions of one of the expected gradients calculation for further analysis."
   ]
  },
  {
   "cell_type": "code",
   "execution_count": 18,
   "id": "853e2a1b",
   "metadata": {},
   "outputs": [
    {
     "data": {
      "text/plain": [
       "(106, 919, 30)"
      ]
     },
     "execution_count": 18,
     "metadata": {},
     "output_type": "execute_result"
    }
   ],
   "source": [
    "arr = np.array([m.numpy() for m in exp_jac])\n",
    "arr.shape"
   ]
  },
  {
   "cell_type": "code",
   "execution_count": 20,
   "id": "3eff8733",
   "metadata": {},
   "outputs": [
    {
     "name": "stdout",
     "output_type": "stream",
     "text": [
      "norman19_model2_random_v2_task_1_absolute_EG_v2.npy\n"
     ]
    }
   ],
   "source": [
    "save_loc = f'{descript}_task_1_absolute_EG_v2.npy'\n",
    "np.save(save_loc, arr)\n",
    "print(save_loc)"
   ]
  },
  {
   "cell_type": "markdown",
   "id": "6f688a77",
   "metadata": {},
   "source": [
    "### Check correlation of latent dimensions"
   ]
  },
  {
   "cell_type": "markdown",
   "id": "7a292b14",
   "metadata": {},
   "source": [
    "Take only the latent representation for a single perturbation at a time."
   ]
  },
  {
   "cell_type": "code",
   "execution_count": 23,
   "id": "bf7353dc",
   "metadata": {},
   "outputs": [
    {
     "data": {
      "text/plain": [
       "'AHR'"
      ]
     },
     "execution_count": 23,
     "metadata": {},
     "output_type": "execute_result"
    }
   ],
   "source": [
    "pert_names[0]"
   ]
  },
  {
   "cell_type": "code",
   "execution_count": 26,
   "id": "a7ef9140",
   "metadata": {},
   "outputs": [
    {
     "data": {
      "text/html": [
       "<div>\n",
       "<style scoped>\n",
       "    .dataframe tbody tr th:only-of-type {\n",
       "        vertical-align: middle;\n",
       "    }\n",
       "\n",
       "    .dataframe tbody tr th {\n",
       "        vertical-align: top;\n",
       "    }\n",
       "\n",
       "    .dataframe thead th {\n",
       "        text-align: right;\n",
       "    }\n",
       "</style>\n",
       "<table border=\"1\" class=\"dataframe\">\n",
       "  <thead>\n",
       "    <tr style=\"text-align: right;\">\n",
       "      <th></th>\n",
       "      <th>0</th>\n",
       "      <th>1</th>\n",
       "      <th>2</th>\n",
       "      <th>3</th>\n",
       "      <th>4</th>\n",
       "      <th>5</th>\n",
       "      <th>6</th>\n",
       "      <th>7</th>\n",
       "      <th>8</th>\n",
       "      <th>9</th>\n",
       "      <th>...</th>\n",
       "      <th>20</th>\n",
       "      <th>21</th>\n",
       "      <th>22</th>\n",
       "      <th>23</th>\n",
       "      <th>24</th>\n",
       "      <th>25</th>\n",
       "      <th>26</th>\n",
       "      <th>27</th>\n",
       "      <th>28</th>\n",
       "      <th>29</th>\n",
       "    </tr>\n",
       "    <tr>\n",
       "      <th>gene_symbols</th>\n",
       "      <th></th>\n",
       "      <th></th>\n",
       "      <th></th>\n",
       "      <th></th>\n",
       "      <th></th>\n",
       "      <th></th>\n",
       "      <th></th>\n",
       "      <th></th>\n",
       "      <th></th>\n",
       "      <th></th>\n",
       "      <th></th>\n",
       "      <th></th>\n",
       "      <th></th>\n",
       "      <th></th>\n",
       "      <th></th>\n",
       "      <th></th>\n",
       "      <th></th>\n",
       "      <th></th>\n",
       "      <th></th>\n",
       "      <th></th>\n",
       "      <th></th>\n",
       "    </tr>\n",
       "  </thead>\n",
       "  <tbody>\n",
       "    <tr>\n",
       "      <th>SAMD11</th>\n",
       "      <td>0.160041</td>\n",
       "      <td>0.360837</td>\n",
       "      <td>0.109676</td>\n",
       "      <td>0.264826</td>\n",
       "      <td>0.096089</td>\n",
       "      <td>0.697738</td>\n",
       "      <td>0.285133</td>\n",
       "      <td>0.151908</td>\n",
       "      <td>0.133894</td>\n",
       "      <td>0.089199</td>\n",
       "      <td>...</td>\n",
       "      <td>0.141775</td>\n",
       "      <td>0.358735</td>\n",
       "      <td>0.087869</td>\n",
       "      <td>0.279916</td>\n",
       "      <td>0.111176</td>\n",
       "      <td>0.302441</td>\n",
       "      <td>0.099091</td>\n",
       "      <td>0.274404</td>\n",
       "      <td>0.332068</td>\n",
       "      <td>0.295174</td>\n",
       "    </tr>\n",
       "    <tr>\n",
       "      <th>HES4</th>\n",
       "      <td>3.264109</td>\n",
       "      <td>2.936340</td>\n",
       "      <td>3.439859</td>\n",
       "      <td>1.696647</td>\n",
       "      <td>8.761532</td>\n",
       "      <td>1.805857</td>\n",
       "      <td>6.860506</td>\n",
       "      <td>13.679716</td>\n",
       "      <td>3.964677</td>\n",
       "      <td>2.287496</td>\n",
       "      <td>...</td>\n",
       "      <td>7.214108</td>\n",
       "      <td>2.331906</td>\n",
       "      <td>6.971149</td>\n",
       "      <td>3.106840</td>\n",
       "      <td>7.344008</td>\n",
       "      <td>7.648760</td>\n",
       "      <td>5.666132</td>\n",
       "      <td>1.965961</td>\n",
       "      <td>3.573261</td>\n",
       "      <td>1.691008</td>\n",
       "    </tr>\n",
       "    <tr>\n",
       "      <th>ISG15</th>\n",
       "      <td>2.789724</td>\n",
       "      <td>4.937125</td>\n",
       "      <td>2.474782</td>\n",
       "      <td>4.750522</td>\n",
       "      <td>9.730717</td>\n",
       "      <td>15.952799</td>\n",
       "      <td>15.699591</td>\n",
       "      <td>20.238352</td>\n",
       "      <td>4.734634</td>\n",
       "      <td>2.979782</td>\n",
       "      <td>...</td>\n",
       "      <td>3.103088</td>\n",
       "      <td>5.165283</td>\n",
       "      <td>10.407179</td>\n",
       "      <td>12.589308</td>\n",
       "      <td>4.706276</td>\n",
       "      <td>8.094058</td>\n",
       "      <td>2.540349</td>\n",
       "      <td>6.529434</td>\n",
       "      <td>2.353880</td>\n",
       "      <td>3.107928</td>\n",
       "    </tr>\n",
       "  </tbody>\n",
       "</table>\n",
       "<p>3 rows × 30 columns</p>\n",
       "</div>"
      ],
      "text/plain": [
       "                    0         1         2         3         4          5   \\\n",
       "gene_symbols                                                                \n",
       "SAMD11        0.160041  0.360837  0.109676  0.264826  0.096089   0.697738   \n",
       "HES4          3.264109  2.936340  3.439859  1.696647  8.761532   1.805857   \n",
       "ISG15         2.789724  4.937125  2.474782  4.750522  9.730717  15.952799   \n",
       "\n",
       "                     6          7         8         9   ...        20  \\\n",
       "gene_symbols                                            ...             \n",
       "SAMD11         0.285133   0.151908  0.133894  0.089199  ...  0.141775   \n",
       "HES4           6.860506  13.679716  3.964677  2.287496  ...  7.214108   \n",
       "ISG15         15.699591  20.238352  4.734634  2.979782  ...  3.103088   \n",
       "\n",
       "                    21         22         23        24        25        26  \\\n",
       "gene_symbols                                                                 \n",
       "SAMD11        0.358735   0.087869   0.279916  0.111176  0.302441  0.099091   \n",
       "HES4          2.331906   6.971149   3.106840  7.344008  7.648760  5.666132   \n",
       "ISG15         5.165283  10.407179  12.589308  4.706276  8.094058  2.540349   \n",
       "\n",
       "                    27        28        29  \n",
       "gene_symbols                                \n",
       "SAMD11        0.274404  0.332068  0.295174  \n",
       "HES4          1.965961  3.573261  1.691008  \n",
       "ISG15         6.529434  2.353880  3.107928  \n",
       "\n",
       "[3 rows x 30 columns]"
      ]
     },
     "execution_count": 26,
     "metadata": {},
     "output_type": "execute_result"
    }
   ],
   "source": [
    "eg_fa = pd.DataFrame(arr[0], index=adata.var_names)\n",
    "eg_fa.head(3)"
   ]
  },
  {
   "cell_type": "code",
   "execution_count": 28,
   "id": "1ba9f307",
   "metadata": {},
   "outputs": [],
   "source": [
    "import matplotlib.pyplot as plt\n",
    "import seaborn as sns"
   ]
  },
  {
   "cell_type": "code",
   "execution_count": 29,
   "id": "688aadbf",
   "metadata": {},
   "outputs": [
    {
     "name": "stderr",
     "output_type": "stream",
     "text": [
      "/home/icb/yuge.ji/miniconda3/envs/test_env3/lib/python3.10/site-packages/seaborn/matrix.py:306: MatplotlibDeprecationWarning: Auto-removal of grids by pcolor() and pcolormesh() is deprecated since 3.5 and will be removed two minor releases later; please call grid(False) first.\n",
      "  mesh = ax.pcolormesh(self.plot_data, cmap=self.cmap, **kws)\n"
     ]
    },
    {
     "data": {
      "text/plain": [
       "<seaborn.matrix.ClusterGrid at 0x7fea384bded0>"
      ]
     },
     "execution_count": 29,
     "metadata": {},
     "output_type": "execute_result"
    },
    {
     "data": {
      "text/plain": [
       "<Figure size 700x600 with 0 Axes>"
      ]
     },
     "metadata": {},
     "output_type": "display_data"
    },
    {
     "data": {
      "image/png": "[encoded data removed]",
      "text/plain": [
       "<Figure size 1000x1000 with 4 Axes>"
      ]
     },
     "metadata": {
      "image/png": {
       "height": 986,
       "width": 979
      }
     },
     "output_type": "display_data"
    }
   ],
   "source": [
    "plt.figure(figsize=(7, 6))\n",
    "sns.clustermap(eg_fa.corr('spearman'))"
   ]
  }
 ],
 "metadata": {
  "kernelspec": {
   "display_name": "Python [conda env:test_env3]",
   "language": "python",
   "name": "conda-env-test_env3-py"
  },
  "language_info": {
   "codemirror_mode": {
    "name": "ipython",
    "version": 3
   },
   "file_extension": ".py",
   "mimetype": "text/x-python",
   "name": "python",
   "nbconvert_exporter": "python",
   "pygments_lexer": "ipython3",
   "version": "3.10.6"
  }
 },
 "nbformat": 4,
 "nbformat_minor": 5
}
