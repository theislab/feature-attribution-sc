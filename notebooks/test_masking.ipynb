{
 "cells": [
  {
   "cell_type": "code",
   "execution_count": 1,
   "id": "e50d0770-5b54-4742-9a4c-890aaea95e1a",
   "metadata": {},
   "outputs": [],
   "source": [
    "%load_ext autoreload"
   ]
  },
  {
   "cell_type": "code",
   "execution_count": 2,
   "id": "727e4b5b-3d7f-4b09-907d-4b1507df67ed",
   "metadata": {},
   "outputs": [],
   "source": [
    "import pandas as pd\n",
    "import numpy as np\n",
    "import random\n",
    "import torch\n",
    "import sys\n",
    "import os\n",
    "sys.path.append('/home/icb/till.richter/git/feature-attribution-sc')"
   ]
  },
  {
   "cell_type": "code",
   "execution_count": 3,
   "id": "808933e4-5182-4a1c-9ffa-c6bfa569c8c4",
   "metadata": {},
   "outputs": [
    {
     "name": "stderr",
     "output_type": "stream",
     "text": [
      "Global seed set to 0\n"
     ]
    }
   ],
   "source": [
    "%autoreload 2\n",
    "from feature_attribution_sc.data.get_data import get_scgen_data, get_hlca_data\n",
    "from feature_attribution_sc.models.scgen_models import SCGENCustom\n",
    "from feature_attribution_sc.inference.test_scgen import test_scgen\n",
    "from feature_attribution_sc.explainers.mask import mask, generate_rankings"
   ]
  },
  {
   "cell_type": "markdown",
   "id": "3525267b-0486-4b6b-9689-233ef8f7249b",
   "metadata": {},
   "source": [
    "### Random data"
   ]
  },
  {
   "cell_type": "code",
   "execution_count": 4,
   "id": "270c9b5d-6604-4f90-a887-5f56fe11ae38",
   "metadata": {},
   "outputs": [
    {
     "name": "stdout",
     "output_type": "stream",
     "text": [
      "     gene_symbols    AHR  ARID1A  ARRDC3   ATL1   BAK1  BCL2L11  BCORL1  \\\n",
      "0    RP11-34P13.3   7589    1743    6500   5135  10731     6177   13420   \n",
      "1    RP11-34P13.7  12298      63     487    653  11293    14609   12697   \n",
      "2      FO538757.2   5670   10686   18484   5827   2086    10600    3995   \n",
      "3      AP006222.2  14377    2775   12943  16222  14301    12372   11231   \n",
      "4   RP4-669L17.10  12794    4155    8906   4511  18270    14146    1907   \n",
      "5    RP5-857K21.4   1462    2640   16406  10765   2509    11243   17423   \n",
      "6   RP11-206L10.9   1094   14397    3005   1680   2407     5297   12800   \n",
      "7       LINC00115   1911   16490    9629   3218  17899    10558    5298   \n",
      "8          FAM41C  14874   14235    1809   6262   6410    10293   17063   \n",
      "9    RP11-54O7.16  17942   14321    2906  13607   9195      542    9435   \n",
      "10    RP11-54O7.1   7388   19007   13443   9328  18392    14997    3934   \n",
      "11    RP11-54O7.2   6929   16423   10972  15976  17551     4084   18866   \n",
      "12    RP11-54O7.3   7849   11855    9972   3511  13543    16467   14560   \n",
      "13         SAMD11  18730   10578    8848  13282  18125    15636    9870   \n",
      "14          NOC2L  15332    8854    3041   4984   2492    15931   17584   \n",
      "15         KLHL17   6217    5339    2892  11300  10817    12369   14583   \n",
      "16   RP11-54O7.17   7557   11315   11138   2039  14091     7344   14684   \n",
      "17           HES4   5952     686    5233   1134   3057    11080   18927   \n",
      "18          ISG15  17099    1240    4309   9414  12024     8285   10739   \n",
      "19           AGRN   8794    2130    6702  18670  14865    18221    3802   \n",
      "\n",
      "     BPGM  C3orf72  ...   TP73  TSC22D1  UBASH3A  UBASH3B  ZBTB1  ZBTB10  \\\n",
      "0   11270    14536  ...  13996     1984     2769     8301  11262    6416   \n",
      "1   10255     4098  ...  14866    16475    11441    15960  10886    4995   \n",
      "2   17553     9202  ...   7752     6720    13654     5715  15747   12862   \n",
      "3    6791    13961  ...   9843    10501     1921    17443   4480   11992   \n",
      "4   16682    13107  ...   2932    12221     2527    12465  17693   16357   \n",
      "5    4564     3556  ...   4930    12720      726    12498   4641   18212   \n",
      "6    4369    16552  ...   2554     8988     1931    16107  16690   13277   \n",
      "7   18901    17456  ...   8538    18804    11292    15343   4782    4119   \n",
      "8   15189     6986  ...   5354    11326    11820      899   6288    1927   \n",
      "9    3926    18337  ...   7869     7893     2110     6128   9419   16475   \n",
      "10  10856     7128  ...   9976    16405     5454     2452   9994   14472   \n",
      "11   7385     4668  ...  17934      170     7455    18375   4309   16507   \n",
      "12  15856    13560  ...  11597    10030    13632    13197   1958   11008   \n",
      "13   2673     6046  ...  17117    11580     8669      804  13706   17412   \n",
      "14   2628     3037  ...  13711     9366     8569    14635   1780   16063   \n",
      "15  13956     1937  ...   5572    17212    17243    12769   1339     353   \n",
      "16  11577    13809  ...  11981    13605    15787    14621  17949   17030   \n",
      "17   3445    12457  ...  16785     8037     2077    17111   2726   13757   \n",
      "18   9643      632  ...    777     5279     3905     2178   9143   10198   \n",
      "19  12026     3639  ...  18780    15813    11661      147  12743   14600   \n",
      "\n",
      "    ZBTB25  ZC3HAV1  ZNF318  control  \n",
      "0    17940    15157   18210      713  \n",
      "1     1113     9129   10270    13158  \n",
      "2     7821    10423    2719    13986  \n",
      "3     9407    17286    9526     3520  \n",
      "4    11843    15613   14786    13124  \n",
      "5     5152    11124   16979      893  \n",
      "6     6391    12804   13530    15071  \n",
      "7    12983    17894   12939     3159  \n",
      "8    17542    18190   13430     4439  \n",
      "9    16180      223   17262     8073  \n",
      "10   17882    17202   14026     1025  \n",
      "11   10928     4721   10036    12475  \n",
      "12   17702    12113   13463    13081  \n",
      "13    4429     2307   14856     9084  \n",
      "14   16997    15677   17730    12085  \n",
      "15    3173    11358    2550    18609  \n",
      "16    5226     1393    4718      791  \n",
      "17   10220    12705   17217     7722  \n",
      "18    4416     4331   14039     3180  \n",
      "19    6423    11276    8444    16343  \n",
      "\n",
      "[20 rows x 107 columns]\n"
     ]
    }
   ],
   "source": [
    "# Read the .csv file using pandas\n",
    "df = pd.read_csv('/home/icb/till.richter/git/feature-attribution-sc/outputs/baselines/task1_random.csv')\n",
    "df = df[:20]  # only sample genes\n",
    "print(df)"
   ]
  },
  {
   "cell_type": "code",
   "execution_count": 5,
   "id": "92afd6cb-e9ab-49af-bcd1-8d9c4925d334",
   "metadata": {},
   "outputs": [
    {
     "data": {
      "text/plain": [
       "(20, 107)"
      ]
     },
     "execution_count": 5,
     "metadata": {},
     "output_type": "execute_result"
    }
   ],
   "source": [
    "df.shape"
   ]
  },
  {
   "cell_type": "code",
   "execution_count": 6,
   "id": "00dd3928-8933-4ac2-ae24-b14d7964c89a",
   "metadata": {},
   "outputs": [],
   "source": [
    "# Get pert names\n",
    "pert_names = df.columns.values[1:]"
   ]
  },
  {
   "cell_type": "code",
   "execution_count": 7,
   "id": "67b599b2-92b3-4f56-8d7c-aa03cded9b87",
   "metadata": {},
   "outputs": [],
   "source": [
    "# Set the threshold to 0.5\n",
    "threshold = 0.5\n",
    "\n",
    "# Number of cells\n",
    "n = 100\n",
    "\n",
    "# Generate some random data for x and y\n",
    "x = np.random.random((df.shape[0], n))  # exclude one column which is the gene_symbol\n",
    "y = random.sample(pert_names.tolist(), n)"
   ]
  },
  {
   "cell_type": "code",
   "execution_count": 8,
   "id": "bf669d58-7b55-4b0f-ac00-3974b9f782d6",
   "metadata": {},
   "outputs": [],
   "source": [
    "# Generate the rankings dictionary\n",
    "rankings, gene_indices = generate_rankings(df)"
   ]
  },
  {
   "cell_type": "code",
   "execution_count": 9,
   "id": "c927c9b9-aa3e-40bd-8b34-883ffb702619",
   "metadata": {},
   "outputs": [
    {
     "data": {
      "text/plain": [
       "(20, 100)"
      ]
     },
     "execution_count": 9,
     "metadata": {},
     "output_type": "execute_result"
    }
   ],
   "source": [
    "x.shape"
   ]
  },
  {
   "cell_type": "code",
   "execution_count": 10,
   "id": "6edf80cf-8eeb-4915-aea7-df246b48ddaa",
   "metadata": {},
   "outputs": [
    {
     "data": {
      "text/plain": [
       "100"
      ]
     },
     "execution_count": 10,
     "metadata": {},
     "output_type": "execute_result"
    }
   ],
   "source": [
    "len(y)"
   ]
  },
  {
   "cell_type": "code",
   "execution_count": 11,
   "id": "b4738345-7f81-44d8-8295-d053594109a9",
   "metadata": {
    "scrolled": true,
    "tags": []
   },
   "outputs": [],
   "source": [
    "# Apply the mask to the data, this needs to be fast since it's in the training loop...\n",
    "masked_x = mask(x, y, rankings, gene_indices, threshold)"
   ]
  },
  {
   "cell_type": "code",
   "execution_count": 12,
   "id": "067bdcfe-7767-47fd-9f18-c7fab685f363",
   "metadata": {},
   "outputs": [
    {
     "data": {
      "text/plain": [
       "1000"
      ]
     },
     "execution_count": 12,
     "metadata": {},
     "output_type": "execute_result"
    }
   ],
   "source": [
    "np.count_nonzero(masked_x == 0)"
   ]
  },
  {
   "cell_type": "code",
   "execution_count": 13,
   "id": "d9cc994a-fcb8-408b-9939-4ed9926bf9c5",
   "metadata": {},
   "outputs": [
    {
     "data": {
      "image/png": "[encoded data removed]",
      "text/plain": [
       "<Figure size 640x480 with 2 Axes>"
      ]
     },
     "metadata": {},
     "output_type": "display_data"
    }
   ],
   "source": [
    "import seaborn as sns\n",
    "import matplotlib.pyplot as plt\n",
    "\n",
    "# Create a figure and axis object\n",
    "fig, ax = plt.subplots()\n",
    "\n",
    "# Replace all non-zero values with 1 for sake of visualization\n",
    "vis_data = masked_x.copy()\n",
    "vis_data[vis_data != 0] = 1\n",
    "\n",
    "# Create the heatmap using the `sns.heatmap` function\n",
    "sns.heatmap(vis_data, ax=ax)\n",
    "\n",
    "# Add x and y axis labels\n",
    "ax.set_xlabel('Genes')\n",
    "ax.set_ylabel('Cells')\n",
    "\n",
    "# Add title\n",
    "plt.title('Masked random data')\n",
    "\n",
    "# Show the plot\n",
    "plt.show()"
   ]
  }
 ],
 "metadata": {
  "kernelspec": {
   "display_name": "fa_base",
   "language": "python",
   "name": "fa_base"
  },
  "language_info": {
   "codemirror_mode": {
    "name": "ipython",
    "version": 3
   },
   "file_extension": ".py",
   "mimetype": "text/x-python",
   "name": "python",
   "nbconvert_exporter": "python",
   "pygments_lexer": "ipython3",
   "version": "3.8.2"
  }
 },
 "nbformat": 4,
 "nbformat_minor": 5
}
