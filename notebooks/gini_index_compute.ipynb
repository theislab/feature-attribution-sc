{
 "cells": [
  {
   "cell_type": "code",
   "execution_count": 3,
   "id": "37c05486",
   "metadata": {},
   "outputs": [],
   "source": [
    "import pandas as pd\n",
    "import numpy as np\n",
    "from pathlib import Path\n",
    "from pygini import gini"
   ]
  },
  {
   "cell_type": "code",
   "execution_count": 12,
   "id": "7009f2a0",
   "metadata": {},
   "outputs": [],
   "source": [
    "for csv_file in Path(\"../outputs/\").glob(\"./**/*.*\"):\n",
    "    if \".ipynb_checkpoints\" in str(csv_file):\n",
    "        continue\n",
    "    df = pd.read_csv(csv_file, index_col=0)\n",
    "    ginis = gini(np.abs(df.to_numpy().astype(float)), axis=0)\n",
    "    \n",
    "    cols = df.columns.tolist()\n",
    "    res_df = pd.DataFrame(ginis.reshape(1,len(cols)), columns=cols)\n",
    "    res_df[\"mean_gini\"] = res_df.mean(axis=1)\n",
    "    \n",
    "    \n",
    "    new_path = csv_file.parent / (\"ginis_\" + csv_file.name)\n",
    "    res_df.to_csv(new_path, index=False)"
   ]
  },
  {
   "cell_type": "code",
   "execution_count": null,
   "id": "20557cfd",
   "metadata": {},
   "outputs": [],
   "source": []
  }
 ],
 "metadata": {
  "kernelspec": {
   "display_name": "Python [conda env:test_env3]",
   "language": "python",
   "name": "conda-env-test_env3-py"
  },
  "language_info": {
   "codemirror_mode": {
    "name": "ipython",
    "version": 3
   },
   "file_extension": ".py",
   "mimetype": "text/x-python",
   "name": "python",
   "nbconvert_exporter": "python",
   "pygments_lexer": "ipython3",
   "version": "3.10.6"
  }
 },
 "nbformat": 4,
 "nbformat_minor": 5
}
