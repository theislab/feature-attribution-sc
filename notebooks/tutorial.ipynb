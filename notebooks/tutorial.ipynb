{
 "cells": [
  {
   "cell_type": "markdown",
   "id": "1a38ee72",
   "metadata": {},
   "source": [
    "This notebook is primarily to make sure your environment installed properly. If anything in here does not run, certainly nothing else will."
   ]
  },
  {
   "cell_type": "code",
   "execution_count": 1,
   "id": "f729036c",
   "metadata": {},
   "outputs": [
    {
     "name": "stderr",
     "output_type": "stream",
     "text": [
      "/home/icb/yuge.ji/miniconda3/envs/test_env3/lib/python3.10/site-packages/torch/utils/tensorboard/__init__.py:2: DeprecationWarning: The distutils package is deprecated and slated for removal in Python 3.12. Use setuptools or check PEP 632 for potential alternatives\n",
      "  from distutils.version import LooseVersion\n",
      "Global seed set to 0\n",
      "/home/icb/yuge.ji/miniconda3/envs/test_env3/lib/python3.10/site-packages/scanpy/_settings.py:447: DeprecationWarning: `set_matplotlib_formats` is deprecated since IPython 7.23, directly use `matplotlib_inline.backend_inline.set_matplotlib_formats()`\n",
      "  IPython.display.set_matplotlib_formats(*ipython_format)\n"
     ]
    },
    {
     "name": "stdout",
     "output_type": "stream",
     "text": [
      "scanpy==1.9.1 anndata==0.8.0 umap==0.5.3 numpy==1.22.4 scipy==1.9.1 pandas==1.4.4 scikit-learn==1.1.2 statsmodels==0.13.2 pynndescent==0.5.7\n"
     ]
    },
    {
     "name": "stderr",
     "output_type": "stream",
     "text": [
      "/home/icb/yuge.ji/miniconda3/envs/test_env3/lib/python3.10/site-packages/umap/__init__.py:9: ImportWarning: Tensorflow not installed; ParametricUMAP will be unavailable\n",
      "  warn(\n"
     ]
    }
   ],
   "source": [
    "import torch\n",
    "import scvi\n",
    "import pandas as pd\n",
    "import scanpy as sc\n",
    "import matplotlib.pyplot as plt\n",
    "\n",
    "sc.set_figure_params(dpi=100, frameon=False, color_map='Reds', facecolor=None)\n",
    "sc.logging.print_header()\n",
    "assert(scvi.__version__=='0.16.3')"
   ]
  },
  {
   "cell_type": "code",
   "execution_count": 2,
   "id": "4a6ba3b0",
   "metadata": {},
   "outputs": [],
   "source": [
    "base_path = '/home/icb/yuge.ji/projects/feature-attribution-sc'  # should be changed to shared dir when I can find one"
   ]
  },
  {
   "cell_type": "markdown",
   "id": "35f27cf1",
   "metadata": {},
   "source": [
    "## scGen\n",
    "\n",
    "Training notebook: `train_scgen.ipynb`"
   ]
  },
  {
   "cell_type": "code",
   "execution_count": 3,
   "id": "b33d88d2",
   "metadata": {},
   "outputs": [
    {
     "name": "stderr",
     "output_type": "stream",
     "text": [
      "/home/icb/yuge.ji/miniconda3/envs/test_env3/lib/python3.10/site-packages/anndata/_io/h5ad.py:238: OldFormatWarning: Element '/layers' was written without encoding metadata.\n",
      "  d[k] = read_elem(f[k])\n",
      "/home/icb/yuge.ji/miniconda3/envs/test_env3/lib/python3.10/site-packages/anndata/_io/specs/methods.py:584: OldFormatWarning: Element '/obs/__categories/guide_identity' was written without encoding metadata.\n",
      "  categories = read_elem(categories_dset)\n",
      "/home/icb/yuge.ji/miniconda3/envs/test_env3/lib/python3.10/site-packages/anndata/_io/specs/methods.py:587: OldFormatWarning: Element '/obs/guide_identity' was written without encoding metadata.\n",
      "  read_elem(dataset), categories, ordered=ordered\n",
      "/home/icb/yuge.ji/miniconda3/envs/test_env3/lib/python3.10/site-packages/anndata/_io/specs/methods.py:590: OldFormatWarning: Element '/obs/read_count' was written without encoding metadata.\n",
      "  return read_elem(dataset)\n",
      "/home/icb/yuge.ji/miniconda3/envs/test_env3/lib/python3.10/site-packages/anndata/_io/specs/methods.py:590: OldFormatWarning: Element '/obs/UMI_count' was written without encoding metadata.\n",
      "  return read_elem(dataset)\n",
      "/home/icb/yuge.ji/miniconda3/envs/test_env3/lib/python3.10/site-packages/anndata/_io/specs/methods.py:590: OldFormatWarning: Element '/obs/coverage' was written without encoding metadata.\n",
      "  return read_elem(dataset)\n",
      "/home/icb/yuge.ji/miniconda3/envs/test_env3/lib/python3.10/site-packages/anndata/_io/specs/methods.py:590: OldFormatWarning: Element '/obs/gemgroup' was written without encoding metadata.\n",
      "  return read_elem(dataset)\n",
      "/home/icb/yuge.ji/miniconda3/envs/test_env3/lib/python3.10/site-packages/anndata/_io/specs/methods.py:590: OldFormatWarning: Element '/obs/good_coverage' was written without encoding metadata.\n",
      "  return read_elem(dataset)\n",
      "/home/icb/yuge.ji/miniconda3/envs/test_env3/lib/python3.10/site-packages/anndata/_io/specs/methods.py:590: OldFormatWarning: Element '/obs/number_of_cells' was written without encoding metadata.\n",
      "  return read_elem(dataset)\n",
      "/home/icb/yuge.ji/miniconda3/envs/test_env3/lib/python3.10/site-packages/anndata/_io/specs/methods.py:590: OldFormatWarning: Element '/obs/guide_AHR' was written without encoding metadata.\n",
      "  return read_elem(dataset)\n",
      "/home/icb/yuge.ji/miniconda3/envs/test_env3/lib/python3.10/site-packages/anndata/_io/specs/methods.py:590: OldFormatWarning: Element '/obs/guide_ARID1A' was written without encoding metadata.\n",
      "  return read_elem(dataset)\n",
      "/home/icb/yuge.ji/miniconda3/envs/test_env3/lib/python3.10/site-packages/anndata/_io/specs/methods.py:590: OldFormatWarning: Element '/obs/guide_ARRDC3' was written without encoding metadata.\n",
      "  return read_elem(dataset)\n",
      "/home/icb/yuge.ji/miniconda3/envs/test_env3/lib/python3.10/site-packages/anndata/_io/specs/methods.py:590: OldFormatWarning: Element '/obs/guide_ATL1' was written without encoding metadata.\n",
      "  return read_elem(dataset)\n",
      "/home/icb/yuge.ji/miniconda3/envs/test_env3/lib/python3.10/site-packages/anndata/_io/specs/methods.py:590: OldFormatWarning: Element '/obs/guide_BAK1' was written without encoding metadata.\n",
      "  return read_elem(dataset)\n",
      "/home/icb/yuge.ji/miniconda3/envs/test_env3/lib/python3.10/site-packages/anndata/_io/specs/methods.py:590: OldFormatWarning: Element '/obs/guide_BCL2L11' was written without encoding metadata.\n",
      "  return read_elem(dataset)\n",
      "/home/icb/yuge.ji/miniconda3/envs/test_env3/lib/python3.10/site-packages/anndata/_io/specs/methods.py:590: OldFormatWarning: Element '/obs/guide_BCORL1' was written without encoding metadata.\n",
      "  return read_elem(dataset)\n",
      "/home/icb/yuge.ji/miniconda3/envs/test_env3/lib/python3.10/site-packages/anndata/_io/specs/methods.py:590: OldFormatWarning: Element '/obs/guide_BPGM' was written without encoding metadata.\n",
      "  return read_elem(dataset)\n",
      "/home/icb/yuge.ji/miniconda3/envs/test_env3/lib/python3.10/site-packages/anndata/_io/specs/methods.py:590: OldFormatWarning: Element '/obs/guide_C19orf26' was written without encoding metadata.\n",
      "  return read_elem(dataset)\n",
      "/home/icb/yuge.ji/miniconda3/envs/test_env3/lib/python3.10/site-packages/anndata/_io/specs/methods.py:590: OldFormatWarning: Element '/obs/guide_C3orf72' was written without encoding metadata.\n",
      "  return read_elem(dataset)\n",
      "/home/icb/yuge.ji/miniconda3/envs/test_env3/lib/python3.10/site-packages/anndata/_io/specs/methods.py:590: OldFormatWarning: Element '/obs/guide_CBFA2T3' was written without encoding metadata.\n",
      "  return read_elem(dataset)\n",
      "/home/icb/yuge.ji/miniconda3/envs/test_env3/lib/python3.10/site-packages/anndata/_io/specs/methods.py:590: OldFormatWarning: Element '/obs/guide_CBL' was written without encoding metadata.\n",
      "  return read_elem(dataset)\n",
      "/home/icb/yuge.ji/miniconda3/envs/test_env3/lib/python3.10/site-packages/anndata/_io/specs/methods.py:590: OldFormatWarning: Element '/obs/guide_CDKN1A' was written without encoding metadata.\n",
      "  return read_elem(dataset)\n",
      "/home/icb/yuge.ji/miniconda3/envs/test_env3/lib/python3.10/site-packages/anndata/_io/specs/methods.py:590: OldFormatWarning: Element '/obs/guide_CDKN1B' was written without encoding metadata.\n",
      "  return read_elem(dataset)\n",
      "/home/icb/yuge.ji/miniconda3/envs/test_env3/lib/python3.10/site-packages/anndata/_io/specs/methods.py:590: OldFormatWarning: Element '/obs/guide_CDKN1C' was written without encoding metadata.\n",
      "  return read_elem(dataset)\n",
      "/home/icb/yuge.ji/miniconda3/envs/test_env3/lib/python3.10/site-packages/anndata/_io/specs/methods.py:590: OldFormatWarning: Element '/obs/guide_CEBPA' was written without encoding metadata.\n",
      "  return read_elem(dataset)\n",
      "/home/icb/yuge.ji/miniconda3/envs/test_env3/lib/python3.10/site-packages/anndata/_io/specs/methods.py:590: OldFormatWarning: Element '/obs/guide_CEBPB' was written without encoding metadata.\n",
      "  return read_elem(dataset)\n",
      "/home/icb/yuge.ji/miniconda3/envs/test_env3/lib/python3.10/site-packages/anndata/_io/specs/methods.py:590: OldFormatWarning: Element '/obs/guide_CEBPE' was written without encoding metadata.\n",
      "  return read_elem(dataset)\n",
      "/home/icb/yuge.ji/miniconda3/envs/test_env3/lib/python3.10/site-packages/anndata/_io/specs/methods.py:590: OldFormatWarning: Element '/obs/guide_CELF2' was written without encoding metadata.\n",
      "  return read_elem(dataset)\n",
      "/home/icb/yuge.ji/miniconda3/envs/test_env3/lib/python3.10/site-packages/anndata/_io/specs/methods.py:590: OldFormatWarning: Element '/obs/guide_CITED1' was written without encoding metadata.\n",
      "  return read_elem(dataset)\n",
      "/home/icb/yuge.ji/miniconda3/envs/test_env3/lib/python3.10/site-packages/anndata/_io/specs/methods.py:590: OldFormatWarning: Element '/obs/guide_CKS1B' was written without encoding metadata.\n",
      "  return read_elem(dataset)\n",
      "/home/icb/yuge.ji/miniconda3/envs/test_env3/lib/python3.10/site-packages/anndata/_io/specs/methods.py:590: OldFormatWarning: Element '/obs/guide_CLDN6' was written without encoding metadata.\n",
      "  return read_elem(dataset)\n",
      "/home/icb/yuge.ji/miniconda3/envs/test_env3/lib/python3.10/site-packages/anndata/_io/specs/methods.py:590: OldFormatWarning: Element '/obs/guide_CNN1' was written without encoding metadata.\n",
      "  return read_elem(dataset)\n",
      "/home/icb/yuge.ji/miniconda3/envs/test_env3/lib/python3.10/site-packages/anndata/_io/specs/methods.py:590: OldFormatWarning: Element '/obs/guide_CNNM4' was written without encoding metadata.\n",
      "  return read_elem(dataset)\n",
      "/home/icb/yuge.ji/miniconda3/envs/test_env3/lib/python3.10/site-packages/anndata/_io/specs/methods.py:590: OldFormatWarning: Element '/obs/guide_COL1A1' was written without encoding metadata.\n",
      "  return read_elem(dataset)\n",
      "/home/icb/yuge.ji/miniconda3/envs/test_env3/lib/python3.10/site-packages/anndata/_io/specs/methods.py:590: OldFormatWarning: Element '/obs/guide_COL2A1' was written without encoding metadata.\n",
      "  return read_elem(dataset)\n",
      "/home/icb/yuge.ji/miniconda3/envs/test_env3/lib/python3.10/site-packages/anndata/_io/specs/methods.py:590: OldFormatWarning: Element '/obs/guide_CSRNP1' was written without encoding metadata.\n",
      "  return read_elem(dataset)\n",
      "/home/icb/yuge.ji/miniconda3/envs/test_env3/lib/python3.10/site-packages/anndata/_io/specs/methods.py:590: OldFormatWarning: Element '/obs/guide_DLX2' was written without encoding metadata.\n",
      "  return read_elem(dataset)\n",
      "/home/icb/yuge.ji/miniconda3/envs/test_env3/lib/python3.10/site-packages/anndata/_io/specs/methods.py:590: OldFormatWarning: Element '/obs/guide_DUSP9' was written without encoding metadata.\n",
      "  return read_elem(dataset)\n",
      "/home/icb/yuge.ji/miniconda3/envs/test_env3/lib/python3.10/site-packages/anndata/_io/specs/methods.py:590: OldFormatWarning: Element '/obs/guide_EGR1' was written without encoding metadata.\n",
      "  return read_elem(dataset)\n",
      "/home/icb/yuge.ji/miniconda3/envs/test_env3/lib/python3.10/site-packages/anndata/_io/specs/methods.py:590: OldFormatWarning: Element '/obs/guide_ELMSAN1' was written without encoding metadata.\n",
      "  return read_elem(dataset)\n",
      "/home/icb/yuge.ji/miniconda3/envs/test_env3/lib/python3.10/site-packages/anndata/_io/specs/methods.py:590: OldFormatWarning: Element '/obs/guide_ETS2' was written without encoding metadata.\n",
      "  return read_elem(dataset)\n",
      "/home/icb/yuge.ji/miniconda3/envs/test_env3/lib/python3.10/site-packages/anndata/_io/specs/methods.py:590: OldFormatWarning: Element '/obs/guide_FEV' was written without encoding metadata.\n",
      "  return read_elem(dataset)\n",
      "/home/icb/yuge.ji/miniconda3/envs/test_env3/lib/python3.10/site-packages/anndata/_io/specs/methods.py:590: OldFormatWarning: Element '/obs/guide_FOSB' was written without encoding metadata.\n",
      "  return read_elem(dataset)\n",
      "/home/icb/yuge.ji/miniconda3/envs/test_env3/lib/python3.10/site-packages/anndata/_io/specs/methods.py:590: OldFormatWarning: Element '/obs/guide_FOXA1' was written without encoding metadata.\n",
      "  return read_elem(dataset)\n",
      "/home/icb/yuge.ji/miniconda3/envs/test_env3/lib/python3.10/site-packages/anndata/_io/specs/methods.py:590: OldFormatWarning: Element '/obs/guide_FOXA3' was written without encoding metadata.\n",
      "  return read_elem(dataset)\n",
      "/home/icb/yuge.ji/miniconda3/envs/test_env3/lib/python3.10/site-packages/anndata/_io/specs/methods.py:590: OldFormatWarning: Element '/obs/guide_FOXF1' was written without encoding metadata.\n",
      "  return read_elem(dataset)\n",
      "/home/icb/yuge.ji/miniconda3/envs/test_env3/lib/python3.10/site-packages/anndata/_io/specs/methods.py:590: OldFormatWarning: Element '/obs/guide_FOXL2' was written without encoding metadata.\n",
      "  return read_elem(dataset)\n",
      "/home/icb/yuge.ji/miniconda3/envs/test_env3/lib/python3.10/site-packages/anndata/_io/specs/methods.py:590: OldFormatWarning: Element '/obs/guide_FOXO4' was written without encoding metadata.\n",
      "  return read_elem(dataset)\n",
      "/home/icb/yuge.ji/miniconda3/envs/test_env3/lib/python3.10/site-packages/anndata/_io/specs/methods.py:590: OldFormatWarning: Element '/obs/guide_GLB1L2' was written without encoding metadata.\n",
      "  return read_elem(dataset)\n",
      "/home/icb/yuge.ji/miniconda3/envs/test_env3/lib/python3.10/site-packages/anndata/_io/specs/methods.py:590: OldFormatWarning: Element '/obs/guide_HES7' was written without encoding metadata.\n",
      "  return read_elem(dataset)\n",
      "/home/icb/yuge.ji/miniconda3/envs/test_env3/lib/python3.10/site-packages/anndata/_io/specs/methods.py:590: OldFormatWarning: Element '/obs/guide_HK2' was written without encoding metadata.\n",
      "  return read_elem(dataset)\n",
      "/home/icb/yuge.ji/miniconda3/envs/test_env3/lib/python3.10/site-packages/anndata/_io/specs/methods.py:590: OldFormatWarning: Element '/obs/guide_HNF4A' was written without encoding metadata.\n",
      "  return read_elem(dataset)\n",
      "/home/icb/yuge.ji/miniconda3/envs/test_env3/lib/python3.10/site-packages/anndata/_io/specs/methods.py:590: OldFormatWarning: Element '/obs/guide_HOXA13' was written without encoding metadata.\n",
      "  return read_elem(dataset)\n",
      "/home/icb/yuge.ji/miniconda3/envs/test_env3/lib/python3.10/site-packages/anndata/_io/specs/methods.py:590: OldFormatWarning: Element '/obs/guide_HOXB9' was written without encoding metadata.\n",
      "  return read_elem(dataset)\n",
      "/home/icb/yuge.ji/miniconda3/envs/test_env3/lib/python3.10/site-packages/anndata/_io/specs/methods.py:590: OldFormatWarning: Element '/obs/guide_HOXC13' was written without encoding metadata.\n",
      "  return read_elem(dataset)\n",
      "/home/icb/yuge.ji/miniconda3/envs/test_env3/lib/python3.10/site-packages/anndata/_io/specs/methods.py:590: OldFormatWarning: Element '/obs/guide_IER5L' was written without encoding metadata.\n",
      "  return read_elem(dataset)\n",
      "/home/icb/yuge.ji/miniconda3/envs/test_env3/lib/python3.10/site-packages/anndata/_io/specs/methods.py:590: OldFormatWarning: Element '/obs/guide_IGDCC3' was written without encoding metadata.\n",
      "  return read_elem(dataset)\n",
      "/home/icb/yuge.ji/miniconda3/envs/test_env3/lib/python3.10/site-packages/anndata/_io/specs/methods.py:590: OldFormatWarning: Element '/obs/guide_IKZF3' was written without encoding metadata.\n",
      "  return read_elem(dataset)\n",
      "/home/icb/yuge.ji/miniconda3/envs/test_env3/lib/python3.10/site-packages/anndata/_io/specs/methods.py:590: OldFormatWarning: Element '/obs/guide_IRF1' was written without encoding metadata.\n",
      "  return read_elem(dataset)\n",
      "/home/icb/yuge.ji/miniconda3/envs/test_env3/lib/python3.10/site-packages/anndata/_io/specs/methods.py:590: OldFormatWarning: Element '/obs/guide_ISL2' was written without encoding metadata.\n",
      "  return read_elem(dataset)\n",
      "/home/icb/yuge.ji/miniconda3/envs/test_env3/lib/python3.10/site-packages/anndata/_io/specs/methods.py:590: OldFormatWarning: Element '/obs/guide_JUN' was written without encoding metadata.\n",
      "  return read_elem(dataset)\n",
      "/home/icb/yuge.ji/miniconda3/envs/test_env3/lib/python3.10/site-packages/anndata/_io/specs/methods.py:590: OldFormatWarning: Element '/obs/guide_KIAA1804' was written without encoding metadata.\n",
      "  return read_elem(dataset)\n",
      "/home/icb/yuge.ji/miniconda3/envs/test_env3/lib/python3.10/site-packages/anndata/_io/specs/methods.py:590: OldFormatWarning: Element '/obs/guide_KIF18B' was written without encoding metadata.\n",
      "  return read_elem(dataset)\n",
      "/home/icb/yuge.ji/miniconda3/envs/test_env3/lib/python3.10/site-packages/anndata/_io/specs/methods.py:590: OldFormatWarning: Element '/obs/guide_KIF2C' was written without encoding metadata.\n",
      "  return read_elem(dataset)\n",
      "/home/icb/yuge.ji/miniconda3/envs/test_env3/lib/python3.10/site-packages/anndata/_io/specs/methods.py:590: OldFormatWarning: Element '/obs/guide_KLF1' was written without encoding metadata.\n",
      "  return read_elem(dataset)\n",
      "/home/icb/yuge.ji/miniconda3/envs/test_env3/lib/python3.10/site-packages/anndata/_io/specs/methods.py:590: OldFormatWarning: Element '/obs/guide_KMT2A' was written without encoding metadata.\n",
      "  return read_elem(dataset)\n",
      "/home/icb/yuge.ji/miniconda3/envs/test_env3/lib/python3.10/site-packages/anndata/_io/specs/methods.py:590: OldFormatWarning: Element '/obs/guide_LHX1' was written without encoding metadata.\n",
      "  return read_elem(dataset)\n",
      "/home/icb/yuge.ji/miniconda3/envs/test_env3/lib/python3.10/site-packages/anndata/_io/specs/methods.py:590: OldFormatWarning: Element '/obs/guide_LYL1' was written without encoding metadata.\n",
      "  return read_elem(dataset)\n",
      "/home/icb/yuge.ji/miniconda3/envs/test_env3/lib/python3.10/site-packages/anndata/_io/specs/methods.py:590: OldFormatWarning: Element '/obs/guide_MAML2' was written without encoding metadata.\n",
      "  return read_elem(dataset)\n",
      "/home/icb/yuge.ji/miniconda3/envs/test_env3/lib/python3.10/site-packages/anndata/_io/specs/methods.py:590: OldFormatWarning: Element '/obs/guide_MAP2K3' was written without encoding metadata.\n",
      "  return read_elem(dataset)\n",
      "/home/icb/yuge.ji/miniconda3/envs/test_env3/lib/python3.10/site-packages/anndata/_io/specs/methods.py:590: OldFormatWarning: Element '/obs/guide_MAP2K6' was written without encoding metadata.\n",
      "  return read_elem(dataset)\n",
      "/home/icb/yuge.ji/miniconda3/envs/test_env3/lib/python3.10/site-packages/anndata/_io/specs/methods.py:590: OldFormatWarning: Element '/obs/guide_MAP4K3' was written without encoding metadata.\n",
      "  return read_elem(dataset)\n",
      "/home/icb/yuge.ji/miniconda3/envs/test_env3/lib/python3.10/site-packages/anndata/_io/specs/methods.py:590: OldFormatWarning: Element '/obs/guide_MAP4K5' was written without encoding metadata.\n",
      "  return read_elem(dataset)\n",
      "/home/icb/yuge.ji/miniconda3/envs/test_env3/lib/python3.10/site-packages/anndata/_io/specs/methods.py:590: OldFormatWarning: Element '/obs/guide_MAP7D1' was written without encoding metadata.\n",
      "  return read_elem(dataset)\n",
      "/home/icb/yuge.ji/miniconda3/envs/test_env3/lib/python3.10/site-packages/anndata/_io/specs/methods.py:590: OldFormatWarning: Element '/obs/guide_MAPK1' was written without encoding metadata.\n",
      "  return read_elem(dataset)\n",
      "/home/icb/yuge.ji/miniconda3/envs/test_env3/lib/python3.10/site-packages/anndata/_io/specs/methods.py:590: OldFormatWarning: Element '/obs/guide_MEIS1' was written without encoding metadata.\n",
      "  return read_elem(dataset)\n",
      "/home/icb/yuge.ji/miniconda3/envs/test_env3/lib/python3.10/site-packages/anndata/_io/specs/methods.py:590: OldFormatWarning: Element '/obs/guide_MIDN' was written without encoding metadata.\n",
      "  return read_elem(dataset)\n",
      "/home/icb/yuge.ji/miniconda3/envs/test_env3/lib/python3.10/site-packages/anndata/_io/specs/methods.py:590: OldFormatWarning: Element '/obs/guide_NCL' was written without encoding metadata.\n",
      "  return read_elem(dataset)\n",
      "/home/icb/yuge.ji/miniconda3/envs/test_env3/lib/python3.10/site-packages/anndata/_io/specs/methods.py:590: OldFormatWarning: Element '/obs/guide_NIT1' was written without encoding metadata.\n",
      "  return read_elem(dataset)\n",
      "/home/icb/yuge.ji/miniconda3/envs/test_env3/lib/python3.10/site-packages/anndata/_io/specs/methods.py:590: OldFormatWarning: Element '/obs/guide_OSR2' was written without encoding metadata.\n",
      "  return read_elem(dataset)\n",
      "/home/icb/yuge.ji/miniconda3/envs/test_env3/lib/python3.10/site-packages/anndata/_io/specs/methods.py:590: OldFormatWarning: Element '/obs/guide_PLK4' was written without encoding metadata.\n",
      "  return read_elem(dataset)\n",
      "/home/icb/yuge.ji/miniconda3/envs/test_env3/lib/python3.10/site-packages/anndata/_io/specs/methods.py:590: OldFormatWarning: Element '/obs/guide_POU3F2' was written without encoding metadata.\n",
      "  return read_elem(dataset)\n",
      "/home/icb/yuge.ji/miniconda3/envs/test_env3/lib/python3.10/site-packages/anndata/_io/specs/methods.py:590: OldFormatWarning: Element '/obs/guide_PRDM1' was written without encoding metadata.\n",
      "  return read_elem(dataset)\n",
      "/home/icb/yuge.ji/miniconda3/envs/test_env3/lib/python3.10/site-packages/anndata/_io/specs/methods.py:590: OldFormatWarning: Element '/obs/guide_PRTG' was written without encoding metadata.\n",
      "  return read_elem(dataset)\n",
      "/home/icb/yuge.ji/miniconda3/envs/test_env3/lib/python3.10/site-packages/anndata/_io/specs/methods.py:590: OldFormatWarning: Element '/obs/guide_PTPN1' was written without encoding metadata.\n",
      "  return read_elem(dataset)\n",
      "/home/icb/yuge.ji/miniconda3/envs/test_env3/lib/python3.10/site-packages/anndata/_io/specs/methods.py:590: OldFormatWarning: Element '/obs/guide_PTPN12' was written without encoding metadata.\n",
      "  return read_elem(dataset)\n",
      "/home/icb/yuge.ji/miniconda3/envs/test_env3/lib/python3.10/site-packages/anndata/_io/specs/methods.py:590: OldFormatWarning: Element '/obs/guide_PTPN13' was written without encoding metadata.\n",
      "  return read_elem(dataset)\n",
      "/home/icb/yuge.ji/miniconda3/envs/test_env3/lib/python3.10/site-packages/anndata/_io/specs/methods.py:590: OldFormatWarning: Element '/obs/guide_PTPN9' was written without encoding metadata.\n",
      "  return read_elem(dataset)\n",
      "/home/icb/yuge.ji/miniconda3/envs/test_env3/lib/python3.10/site-packages/anndata/_io/specs/methods.py:590: OldFormatWarning: Element '/obs/guide_RHOXF2' was written without encoding metadata.\n",
      "  return read_elem(dataset)\n",
      "/home/icb/yuge.ji/miniconda3/envs/test_env3/lib/python3.10/site-packages/anndata/_io/specs/methods.py:590: OldFormatWarning: Element '/obs/guide_RREB1' was written without encoding metadata.\n",
      "  return read_elem(dataset)\n",
      "/home/icb/yuge.ji/miniconda3/envs/test_env3/lib/python3.10/site-packages/anndata/_io/specs/methods.py:590: OldFormatWarning: Element '/obs/guide_RUNX1T1' was written without encoding metadata.\n",
      "  return read_elem(dataset)\n",
      "/home/icb/yuge.ji/miniconda3/envs/test_env3/lib/python3.10/site-packages/anndata/_io/specs/methods.py:590: OldFormatWarning: Element '/obs/guide_S1PR2' was written without encoding metadata.\n",
      "  return read_elem(dataset)\n",
      "/home/icb/yuge.ji/miniconda3/envs/test_env3/lib/python3.10/site-packages/anndata/_io/specs/methods.py:590: OldFormatWarning: Element '/obs/guide_SAMD1' was written without encoding metadata.\n",
      "  return read_elem(dataset)\n",
      "/home/icb/yuge.ji/miniconda3/envs/test_env3/lib/python3.10/site-packages/anndata/_io/specs/methods.py:590: OldFormatWarning: Element '/obs/guide_SET' was written without encoding metadata.\n",
      "  return read_elem(dataset)\n",
      "/home/icb/yuge.ji/miniconda3/envs/test_env3/lib/python3.10/site-packages/anndata/_io/specs/methods.py:590: OldFormatWarning: Element '/obs/guide_SGK1' was written without encoding metadata.\n",
      "  return read_elem(dataset)\n",
      "/home/icb/yuge.ji/miniconda3/envs/test_env3/lib/python3.10/site-packages/anndata/_io/specs/methods.py:590: OldFormatWarning: Element '/obs/guide_SLC38A2' was written without encoding metadata.\n",
      "  return read_elem(dataset)\n",
      "/home/icb/yuge.ji/miniconda3/envs/test_env3/lib/python3.10/site-packages/anndata/_io/specs/methods.py:590: OldFormatWarning: Element '/obs/guide_SLC4A1' was written without encoding metadata.\n",
      "  return read_elem(dataset)\n",
      "/home/icb/yuge.ji/miniconda3/envs/test_env3/lib/python3.10/site-packages/anndata/_io/specs/methods.py:590: OldFormatWarning: Element '/obs/guide_SLC6A9' was written without encoding metadata.\n",
      "  return read_elem(dataset)\n",
      "/home/icb/yuge.ji/miniconda3/envs/test_env3/lib/python3.10/site-packages/anndata/_io/specs/methods.py:590: OldFormatWarning: Element '/obs/guide_SNAI1' was written without encoding metadata.\n",
      "  return read_elem(dataset)\n",
      "/home/icb/yuge.ji/miniconda3/envs/test_env3/lib/python3.10/site-packages/anndata/_io/specs/methods.py:590: OldFormatWarning: Element '/obs/guide_SPI1' was written without encoding metadata.\n",
      "  return read_elem(dataset)\n",
      "/home/icb/yuge.ji/miniconda3/envs/test_env3/lib/python3.10/site-packages/anndata/_io/specs/methods.py:590: OldFormatWarning: Element '/obs/guide_STIL' was written without encoding metadata.\n",
      "  return read_elem(dataset)\n",
      "/home/icb/yuge.ji/miniconda3/envs/test_env3/lib/python3.10/site-packages/anndata/_io/specs/methods.py:590: OldFormatWarning: Element '/obs/guide_TBX2' was written without encoding metadata.\n",
      "  return read_elem(dataset)\n",
      "/home/icb/yuge.ji/miniconda3/envs/test_env3/lib/python3.10/site-packages/anndata/_io/specs/methods.py:590: OldFormatWarning: Element '/obs/guide_TBX3' was written without encoding metadata.\n",
      "  return read_elem(dataset)\n",
      "/home/icb/yuge.ji/miniconda3/envs/test_env3/lib/python3.10/site-packages/anndata/_io/specs/methods.py:590: OldFormatWarning: Element '/obs/guide_TGFBR2' was written without encoding metadata.\n",
      "  return read_elem(dataset)\n",
      "/home/icb/yuge.ji/miniconda3/envs/test_env3/lib/python3.10/site-packages/anndata/_io/specs/methods.py:590: OldFormatWarning: Element '/obs/guide_TMSB4X' was written without encoding metadata.\n",
      "  return read_elem(dataset)\n",
      "/home/icb/yuge.ji/miniconda3/envs/test_env3/lib/python3.10/site-packages/anndata/_io/specs/methods.py:590: OldFormatWarning: Element '/obs/guide_TP73' was written without encoding metadata.\n",
      "  return read_elem(dataset)\n",
      "/home/icb/yuge.ji/miniconda3/envs/test_env3/lib/python3.10/site-packages/anndata/_io/specs/methods.py:590: OldFormatWarning: Element '/obs/guide_TSC22D1' was written without encoding metadata.\n",
      "  return read_elem(dataset)\n",
      "/home/icb/yuge.ji/miniconda3/envs/test_env3/lib/python3.10/site-packages/anndata/_io/specs/methods.py:590: OldFormatWarning: Element '/obs/guide_UBASH3A' was written without encoding metadata.\n",
      "  return read_elem(dataset)\n",
      "/home/icb/yuge.ji/miniconda3/envs/test_env3/lib/python3.10/site-packages/anndata/_io/specs/methods.py:590: OldFormatWarning: Element '/obs/guide_UBASH3B' was written without encoding metadata.\n",
      "  return read_elem(dataset)\n",
      "/home/icb/yuge.ji/miniconda3/envs/test_env3/lib/python3.10/site-packages/anndata/_io/specs/methods.py:590: OldFormatWarning: Element '/obs/guide_ZBTB1' was written without encoding metadata.\n",
      "  return read_elem(dataset)\n",
      "/home/icb/yuge.ji/miniconda3/envs/test_env3/lib/python3.10/site-packages/anndata/_io/specs/methods.py:590: OldFormatWarning: Element '/obs/guide_ZBTB10' was written without encoding metadata.\n",
      "  return read_elem(dataset)\n",
      "/home/icb/yuge.ji/miniconda3/envs/test_env3/lib/python3.10/site-packages/anndata/_io/specs/methods.py:590: OldFormatWarning: Element '/obs/guide_ZBTB25' was written without encoding metadata.\n",
      "  return read_elem(dataset)\n",
      "/home/icb/yuge.ji/miniconda3/envs/test_env3/lib/python3.10/site-packages/anndata/_io/specs/methods.py:590: OldFormatWarning: Element '/obs/guide_ZC3HAV1' was written without encoding metadata.\n",
      "  return read_elem(dataset)\n",
      "/home/icb/yuge.ji/miniconda3/envs/test_env3/lib/python3.10/site-packages/anndata/_io/specs/methods.py:590: OldFormatWarning: Element '/obs/guide_ZNF318' was written without encoding metadata.\n",
      "  return read_elem(dataset)\n",
      "/home/icb/yuge.ji/miniconda3/envs/test_env3/lib/python3.10/site-packages/anndata/_io/specs/methods.py:584: OldFormatWarning: Element '/obs/__categories/guide_ids' was written without encoding metadata.\n",
      "  categories = read_elem(categories_dset)\n",
      "/home/icb/yuge.ji/miniconda3/envs/test_env3/lib/python3.10/site-packages/anndata/_io/specs/methods.py:587: OldFormatWarning: Element '/obs/guide_ids' was written without encoding metadata.\n",
      "  read_elem(dataset), categories, ordered=ordered\n",
      "/home/icb/yuge.ji/miniconda3/envs/test_env3/lib/python3.10/site-packages/anndata/_io/specs/methods.py:590: OldFormatWarning: Element '/obs/n_genes' was written without encoding metadata.\n",
      "  return read_elem(dataset)\n",
      "/home/icb/yuge.ji/miniconda3/envs/test_env3/lib/python3.10/site-packages/anndata/_io/specs/methods.py:590: OldFormatWarning: Element '/obs/n_genes_by_counts' was written without encoding metadata.\n",
      "  return read_elem(dataset)\n",
      "/home/icb/yuge.ji/miniconda3/envs/test_env3/lib/python3.10/site-packages/anndata/_io/specs/methods.py:590: OldFormatWarning: Element '/obs/total_counts' was written without encoding metadata.\n",
      "  return read_elem(dataset)\n",
      "/home/icb/yuge.ji/miniconda3/envs/test_env3/lib/python3.10/site-packages/anndata/_io/specs/methods.py:590: OldFormatWarning: Element '/obs/total_counts_mt' was written without encoding metadata.\n",
      "  return read_elem(dataset)\n",
      "/home/icb/yuge.ji/miniconda3/envs/test_env3/lib/python3.10/site-packages/anndata/_io/specs/methods.py:590: OldFormatWarning: Element '/obs/pct_counts_mt' was written without encoding metadata.\n",
      "  return read_elem(dataset)\n",
      "/home/icb/yuge.ji/miniconda3/envs/test_env3/lib/python3.10/site-packages/anndata/_io/specs/methods.py:584: OldFormatWarning: Element '/obs/__categories/leiden' was written without encoding metadata.\n",
      "  categories = read_elem(categories_dset)\n",
      "/home/icb/yuge.ji/miniconda3/envs/test_env3/lib/python3.10/site-packages/anndata/_io/specs/methods.py:587: OldFormatWarning: Element '/obs/leiden' was written without encoding metadata.\n",
      "  read_elem(dataset), categories, ordered=ordered\n",
      "/home/icb/yuge.ji/miniconda3/envs/test_env3/lib/python3.10/site-packages/anndata/_io/specs/methods.py:584: OldFormatWarning: Element '/obs/__categories/perturbation_name' was written without encoding metadata.\n",
      "  categories = read_elem(categories_dset)\n",
      "/home/icb/yuge.ji/miniconda3/envs/test_env3/lib/python3.10/site-packages/anndata/_io/specs/methods.py:587: OldFormatWarning: Element '/obs/perturbation_name' was written without encoding metadata.\n",
      "  read_elem(dataset), categories, ordered=ordered\n",
      "/home/icb/yuge.ji/miniconda3/envs/test_env3/lib/python3.10/site-packages/anndata/_io/specs/methods.py:584: OldFormatWarning: Element '/obs/__categories/perturbation_type' was written without encoding metadata.\n",
      "  categories = read_elem(categories_dset)\n",
      "/home/icb/yuge.ji/miniconda3/envs/test_env3/lib/python3.10/site-packages/anndata/_io/specs/methods.py:587: OldFormatWarning: Element '/obs/perturbation_type' was written without encoding metadata.\n",
      "  read_elem(dataset), categories, ordered=ordered\n",
      "/home/icb/yuge.ji/miniconda3/envs/test_env3/lib/python3.10/site-packages/anndata/_io/specs/methods.py:590: OldFormatWarning: Element '/obs/perturbation_value' was written without encoding metadata.\n",
      "  return read_elem(dataset)\n",
      "/home/icb/yuge.ji/miniconda3/envs/test_env3/lib/python3.10/site-packages/anndata/_io/specs/methods.py:590: OldFormatWarning: Element '/obs/perturbation_unit' was written without encoding metadata.\n",
      "  return read_elem(dataset)\n",
      "/home/icb/yuge.ji/miniconda3/envs/test_env3/lib/python3.10/site-packages/anndata/_io/specs/methods.py:584: OldFormatWarning: Element '/obs/__categories/split' was written without encoding metadata.\n",
      "  categories = read_elem(categories_dset)\n",
      "/home/icb/yuge.ji/miniconda3/envs/test_env3/lib/python3.10/site-packages/anndata/_io/specs/methods.py:587: OldFormatWarning: Element '/obs/split' was written without encoding metadata.\n",
      "  read_elem(dataset), categories, ordered=ordered\n",
      "/home/icb/yuge.ji/miniconda3/envs/test_env3/lib/python3.10/site-packages/anndata/_io/specs/methods.py:590: OldFormatWarning: Element '/obs/_scvi_batch' was written without encoding metadata.\n",
      "  return read_elem(dataset)\n",
      "/home/icb/yuge.ji/miniconda3/envs/test_env3/lib/python3.10/site-packages/anndata/_io/specs/methods.py:590: OldFormatWarning: Element '/obs/_scvi_labels' was written without encoding metadata.\n",
      "  return read_elem(dataset)\n",
      "/home/icb/yuge.ji/miniconda3/envs/test_env3/lib/python3.10/site-packages/anndata/_io/specs/methods.py:590: OldFormatWarning: Element '/obs/index' was written without encoding metadata.\n",
      "  return read_elem(dataset)\n",
      "/home/icb/yuge.ji/miniconda3/envs/test_env3/lib/python3.10/site-packages/anndata/_io/h5ad.py:238: OldFormatWarning: Element '/obsm' was written without encoding metadata.\n",
      "  d[k] = read_elem(f[k])\n",
      "/home/icb/yuge.ji/miniconda3/envs/test_env3/lib/python3.10/site-packages/anndata/_io/specs/methods.py:92: OldFormatWarning: Element '/obsm/X_pca' was written without encoding metadata.\n",
      "  return {k: read_elem(v) for k, v in elem.items()}\n",
      "/home/icb/yuge.ji/miniconda3/envs/test_env3/lib/python3.10/site-packages/anndata/_io/specs/methods.py:92: OldFormatWarning: Element '/obsm/X_umap' was written without encoding metadata.\n",
      "  return {k: read_elem(v) for k, v in elem.items()}\n",
      "/home/icb/yuge.ji/miniconda3/envs/test_env3/lib/python3.10/site-packages/anndata/_io/h5ad.py:238: OldFormatWarning: Element '/obsp' was written without encoding metadata.\n",
      "  d[k] = read_elem(f[k])\n",
      "/home/icb/yuge.ji/miniconda3/envs/test_env3/lib/python3.10/site-packages/anndata/_io/h5ad.py:238: OldFormatWarning: Element '/uns' was written without encoding metadata.\n",
      "  d[k] = read_elem(f[k])\n",
      "/home/icb/yuge.ji/miniconda3/envs/test_env3/lib/python3.10/site-packages/anndata/_io/specs/methods.py:92: OldFormatWarning: Element '/uns/_scvi_manager_uuid' was written without encoding metadata.\n",
      "  return {k: read_elem(v) for k, v in elem.items()}\n",
      "/home/icb/yuge.ji/miniconda3/envs/test_env3/lib/python3.10/site-packages/anndata/_io/specs/methods.py:92: OldFormatWarning: Element '/uns/_scvi_uuid' was written without encoding metadata.\n",
      "  return {k: read_elem(v) for k, v in elem.items()}\n",
      "/home/icb/yuge.ji/miniconda3/envs/test_env3/lib/python3.10/site-packages/anndata/_io/specs/methods.py:92: OldFormatWarning: Element '/uns/doi' was written without encoding metadata.\n",
      "  return {k: read_elem(v) for k, v in elem.items()}\n",
      "/home/icb/yuge.ji/miniconda3/envs/test_env3/lib/python3.10/site-packages/anndata/_io/specs/methods.py:92: OldFormatWarning: Element '/uns/hvg' was written without encoding metadata.\n",
      "  return {k: read_elem(v) for k, v in elem.items()}\n",
      "/home/icb/yuge.ji/miniconda3/envs/test_env3/lib/python3.10/site-packages/anndata/_io/specs/methods.py:92: OldFormatWarning: Element '/uns/hvg/flavor' was written without encoding metadata.\n",
      "  return {k: read_elem(v) for k, v in elem.items()}\n",
      "/home/icb/yuge.ji/miniconda3/envs/test_env3/lib/python3.10/site-packages/anndata/_io/specs/methods.py:92: OldFormatWarning: Element '/uns/leiden' was written without encoding metadata.\n",
      "  return {k: read_elem(v) for k, v in elem.items()}\n",
      "/home/icb/yuge.ji/miniconda3/envs/test_env3/lib/python3.10/site-packages/anndata/_io/specs/methods.py:92: OldFormatWarning: Element '/uns/leiden/params' was written without encoding metadata.\n",
      "  return {k: read_elem(v) for k, v in elem.items()}\n",
      "/home/icb/yuge.ji/miniconda3/envs/test_env3/lib/python3.10/site-packages/anndata/_io/specs/methods.py:92: OldFormatWarning: Element '/uns/leiden/params/n_iterations' was written without encoding metadata.\n",
      "  return {k: read_elem(v) for k, v in elem.items()}\n",
      "/home/icb/yuge.ji/miniconda3/envs/test_env3/lib/python3.10/site-packages/anndata/_io/specs/methods.py:92: OldFormatWarning: Element '/uns/leiden/params/random_state' was written without encoding metadata.\n",
      "  return {k: read_elem(v) for k, v in elem.items()}\n",
      "/home/icb/yuge.ji/miniconda3/envs/test_env3/lib/python3.10/site-packages/anndata/_io/specs/methods.py:92: OldFormatWarning: Element '/uns/leiden/params/resolution' was written without encoding metadata.\n",
      "  return {k: read_elem(v) for k, v in elem.items()}\n",
      "/home/icb/yuge.ji/miniconda3/envs/test_env3/lib/python3.10/site-packages/anndata/_io/specs/methods.py:92: OldFormatWarning: Element '/uns/neighbors' was written without encoding metadata.\n",
      "  return {k: read_elem(v) for k, v in elem.items()}\n",
      "/home/icb/yuge.ji/miniconda3/envs/test_env3/lib/python3.10/site-packages/anndata/_io/specs/methods.py:92: OldFormatWarning: Element '/uns/neighbors/connectivities_key' was written without encoding metadata.\n",
      "  return {k: read_elem(v) for k, v in elem.items()}\n",
      "/home/icb/yuge.ji/miniconda3/envs/test_env3/lib/python3.10/site-packages/anndata/_io/specs/methods.py:92: OldFormatWarning: Element '/uns/neighbors/distances_key' was written without encoding metadata.\n",
      "  return {k: read_elem(v) for k, v in elem.items()}\n",
      "/home/icb/yuge.ji/miniconda3/envs/test_env3/lib/python3.10/site-packages/anndata/_io/specs/methods.py:92: OldFormatWarning: Element '/uns/neighbors/params' was written without encoding metadata.\n",
      "  return {k: read_elem(v) for k, v in elem.items()}\n",
      "/home/icb/yuge.ji/miniconda3/envs/test_env3/lib/python3.10/site-packages/anndata/_io/specs/methods.py:92: OldFormatWarning: Element '/uns/neighbors/params/method' was written without encoding metadata.\n",
      "  return {k: read_elem(v) for k, v in elem.items()}\n",
      "/home/icb/yuge.ji/miniconda3/envs/test_env3/lib/python3.10/site-packages/anndata/_io/specs/methods.py:92: OldFormatWarning: Element '/uns/neighbors/params/metric' was written without encoding metadata.\n",
      "  return {k: read_elem(v) for k, v in elem.items()}\n",
      "/home/icb/yuge.ji/miniconda3/envs/test_env3/lib/python3.10/site-packages/anndata/_io/specs/methods.py:92: OldFormatWarning: Element '/uns/neighbors/params/n_neighbors' was written without encoding metadata.\n",
      "  return {k: read_elem(v) for k, v in elem.items()}\n",
      "/home/icb/yuge.ji/miniconda3/envs/test_env3/lib/python3.10/site-packages/anndata/_io/specs/methods.py:92: OldFormatWarning: Element '/uns/neighbors/params/random_state' was written without encoding metadata.\n",
      "  return {k: read_elem(v) for k, v in elem.items()}\n",
      "/home/icb/yuge.ji/miniconda3/envs/test_env3/lib/python3.10/site-packages/anndata/_io/specs/methods.py:92: OldFormatWarning: Element '/uns/pca' was written without encoding metadata.\n",
      "  return {k: read_elem(v) for k, v in elem.items()}\n",
      "/home/icb/yuge.ji/miniconda3/envs/test_env3/lib/python3.10/site-packages/anndata/_io/specs/methods.py:92: OldFormatWarning: Element '/uns/pca/params' was written without encoding metadata.\n",
      "  return {k: read_elem(v) for k, v in elem.items()}\n",
      "/home/icb/yuge.ji/miniconda3/envs/test_env3/lib/python3.10/site-packages/anndata/_io/specs/methods.py:92: OldFormatWarning: Element '/uns/pca/params/use_highly_variable' was written without encoding metadata.\n",
      "  return {k: read_elem(v) for k, v in elem.items()}\n",
      "/home/icb/yuge.ji/miniconda3/envs/test_env3/lib/python3.10/site-packages/anndata/_io/specs/methods.py:92: OldFormatWarning: Element '/uns/pca/params/zero_center' was written without encoding metadata.\n",
      "  return {k: read_elem(v) for k, v in elem.items()}\n",
      "/home/icb/yuge.ji/miniconda3/envs/test_env3/lib/python3.10/site-packages/anndata/_io/specs/methods.py:92: OldFormatWarning: Element '/uns/pca/variance' was written without encoding metadata.\n",
      "  return {k: read_elem(v) for k, v in elem.items()}\n",
      "/home/icb/yuge.ji/miniconda3/envs/test_env3/lib/python3.10/site-packages/anndata/_io/specs/methods.py:92: OldFormatWarning: Element '/uns/pca/variance_ratio' was written without encoding metadata.\n",
      "  return {k: read_elem(v) for k, v in elem.items()}\n",
      "/home/icb/yuge.ji/miniconda3/envs/test_env3/lib/python3.10/site-packages/anndata/_io/specs/methods.py:92: OldFormatWarning: Element '/uns/preprocessing_nb_link' was written without encoding metadata.\n",
      "  return {k: read_elem(v) for k, v in elem.items()}\n",
      "/home/icb/yuge.ji/miniconda3/envs/test_env3/lib/python3.10/site-packages/anndata/_io/specs/methods.py:92: OldFormatWarning: Element '/uns/umap' was written without encoding metadata.\n",
      "  return {k: read_elem(v) for k, v in elem.items()}\n",
      "/home/icb/yuge.ji/miniconda3/envs/test_env3/lib/python3.10/site-packages/anndata/_io/specs/methods.py:92: OldFormatWarning: Element '/uns/umap/params' was written without encoding metadata.\n",
      "  return {k: read_elem(v) for k, v in elem.items()}\n",
      "/home/icb/yuge.ji/miniconda3/envs/test_env3/lib/python3.10/site-packages/anndata/_io/specs/methods.py:92: OldFormatWarning: Element '/uns/umap/params/a' was written without encoding metadata.\n",
      "  return {k: read_elem(v) for k, v in elem.items()}\n",
      "/home/icb/yuge.ji/miniconda3/envs/test_env3/lib/python3.10/site-packages/anndata/_io/specs/methods.py:92: OldFormatWarning: Element '/uns/umap/params/b' was written without encoding metadata.\n",
      "  return {k: read_elem(v) for k, v in elem.items()}\n",
      "/home/icb/yuge.ji/miniconda3/envs/test_env3/lib/python3.10/site-packages/anndata/_io/specs/methods.py:590: OldFormatWarning: Element '/var/index' was written without encoding metadata.\n",
      "  return read_elem(dataset)\n",
      "/home/icb/yuge.ji/miniconda3/envs/test_env3/lib/python3.10/site-packages/anndata/_io/specs/methods.py:590: OldFormatWarning: Element '/var/n_cells' was written without encoding metadata.\n",
      "  return read_elem(dataset)\n",
      "/home/icb/yuge.ji/miniconda3/envs/test_env3/lib/python3.10/site-packages/anndata/_io/specs/methods.py:590: OldFormatWarning: Element '/var/mt' was written without encoding metadata.\n",
      "  return read_elem(dataset)\n",
      "/home/icb/yuge.ji/miniconda3/envs/test_env3/lib/python3.10/site-packages/anndata/_io/specs/methods.py:590: OldFormatWarning: Element '/var/n_cells_by_counts' was written without encoding metadata.\n",
      "  return read_elem(dataset)\n",
      "/home/icb/yuge.ji/miniconda3/envs/test_env3/lib/python3.10/site-packages/anndata/_io/specs/methods.py:590: OldFormatWarning: Element '/var/mean_counts' was written without encoding metadata.\n",
      "  return read_elem(dataset)\n",
      "/home/icb/yuge.ji/miniconda3/envs/test_env3/lib/python3.10/site-packages/anndata/_io/specs/methods.py:590: OldFormatWarning: Element '/var/pct_dropout_by_counts' was written without encoding metadata.\n",
      "  return read_elem(dataset)\n",
      "/home/icb/yuge.ji/miniconda3/envs/test_env3/lib/python3.10/site-packages/anndata/_io/specs/methods.py:590: OldFormatWarning: Element '/var/total_counts' was written without encoding metadata.\n",
      "  return read_elem(dataset)\n",
      "/home/icb/yuge.ji/miniconda3/envs/test_env3/lib/python3.10/site-packages/anndata/_io/specs/methods.py:590: OldFormatWarning: Element '/var/highly_variable' was written without encoding metadata.\n",
      "  return read_elem(dataset)\n",
      "/home/icb/yuge.ji/miniconda3/envs/test_env3/lib/python3.10/site-packages/anndata/_io/specs/methods.py:590: OldFormatWarning: Element '/var/means' was written without encoding metadata.\n",
      "  return read_elem(dataset)\n",
      "/home/icb/yuge.ji/miniconda3/envs/test_env3/lib/python3.10/site-packages/anndata/_io/specs/methods.py:590: OldFormatWarning: Element '/var/dispersions' was written without encoding metadata.\n",
      "  return read_elem(dataset)\n",
      "/home/icb/yuge.ji/miniconda3/envs/test_env3/lib/python3.10/site-packages/anndata/_io/specs/methods.py:590: OldFormatWarning: Element '/var/dispersions_norm' was written without encoding metadata.\n",
      "  return read_elem(dataset)\n",
      "/home/icb/yuge.ji/miniconda3/envs/test_env3/lib/python3.10/site-packages/anndata/_io/specs/methods.py:590: OldFormatWarning: Element '/var/gene_symbols' was written without encoding metadata.\n",
      "  return read_elem(dataset)\n",
      "/home/icb/yuge.ji/miniconda3/envs/test_env3/lib/python3.10/site-packages/anndata/_io/h5ad.py:238: OldFormatWarning: Element '/varm' was written without encoding metadata.\n",
      "  d[k] = read_elem(f[k])\n",
      "/home/icb/yuge.ji/miniconda3/envs/test_env3/lib/python3.10/site-packages/anndata/_io/specs/methods.py:92: OldFormatWarning: Element '/varm/PCs' was written without encoding metadata.\n",
      "  return {k: read_elem(v) for k, v in elem.items()}\n"
     ]
    },
    {
     "name": "stdout",
     "output_type": "stream",
     "text": [
      "loading scgen_norman19_model1_shuffled\n",
      "\u001b[34mINFO    \u001b[0m File \u001b[35m/home/icb/yuge.ji/projects/feature-attribution-sc/models/scgen_norman19_model1_\u001b[0m\n",
      "         \u001b[35mshuffled/\u001b[0m\u001b[95mmodel.pt\u001b[0m already downloaded                                                \n",
      "loading scgen_norman19_model1_random\n",
      "\u001b[34mINFO    \u001b[0m File \u001b[35m/home/icb/yuge.ji/projects/feature-attribution-sc/models/scgen_norman19_model1_\u001b[0m\n",
      "         \u001b[35mrandom/\u001b[0m\u001b[95mmodel.pt\u001b[0m already downloaded                                                  \n",
      "loading scgen_norman19_model0_shuffled\n",
      "\u001b[34mINFO    \u001b[0m File \u001b[35m/home/icb/yuge.ji/projects/feature-attribution-sc/models/scgen_norman19_model0_\u001b[0m\n",
      "         \u001b[35mshuffled/\u001b[0m\u001b[95mmodel.pt\u001b[0m already downloaded                                                \n",
      "loading scgen_norman19_model4_shuffled\n",
      "\u001b[34mINFO    \u001b[0m File \u001b[35m/home/icb/yuge.ji/projects/feature-attribution-sc/models/scgen_norman19_model4_\u001b[0m\n",
      "         \u001b[35mshuffled/\u001b[0m\u001b[95mmodel.pt\u001b[0m already downloaded                                                \n",
      "loading scgen_norman19_model4_random\n",
      "\u001b[34mINFO    \u001b[0m File \u001b[35m/home/icb/yuge.ji/projects/feature-attribution-sc/models/scgen_norman19_model4_\u001b[0m\n",
      "         \u001b[35mrandom/\u001b[0m\u001b[95mmodel.pt\u001b[0m already downloaded                                                  \n",
      "loading scgen_norman19_model2_random\n",
      "\u001b[34mINFO    \u001b[0m File \u001b[35m/home/icb/yuge.ji/projects/feature-attribution-sc/models/scgen_norman19_model2_\u001b[0m\n",
      "         \u001b[35mrandom/\u001b[0m\u001b[95mmodel.pt\u001b[0m already downloaded                                                  \n",
      "loading scgen_norman19_model2_shuffled\n",
      "\u001b[34mINFO    \u001b[0m File \u001b[35m/home/icb/yuge.ji/projects/feature-attribution-sc/models/scgen_norman19_model2_\u001b[0m\n",
      "         \u001b[35mshuffled/\u001b[0m\u001b[95mmodel.pt\u001b[0m already downloaded                                                \n",
      "loading scgen_norman19_model0_random.pt\n",
      "\u001b[34mINFO    \u001b[0m File \u001b[35m/home/icb/yuge.ji/projects/feature-attribution-sc/models/scgen_norman19_model0_\u001b[0m\n",
      "         \u001b[35mrandom.pt/\u001b[0m\u001b[95mmodel.pt\u001b[0m already downloaded                                               \n",
      "loading scgen_norman19_model3_shuffled\n",
      "\u001b[34mINFO    \u001b[0m File \u001b[35m/home/icb/yuge.ji/projects/feature-attribution-sc/models/scgen_norman19_model3_\u001b[0m\n",
      "         \u001b[35mshuffled/\u001b[0m\u001b[95mmodel.pt\u001b[0m already downloaded                                                \n",
      "loading scgen_norman19_model0_random\n",
      "\u001b[34mINFO    \u001b[0m File \u001b[35m/home/icb/yuge.ji/projects/feature-attribution-sc/models/scgen_norman19_model0_\u001b[0m\n",
      "         \u001b[35mrandom/\u001b[0m\u001b[95mmodel.pt\u001b[0m already downloaded                                                  \n",
      "loading scgen_norman19_model3_random\n",
      "\u001b[34mINFO    \u001b[0m File \u001b[35m/home/icb/yuge.ji/projects/feature-attribution-sc/models/scgen_norman19_model3_\u001b[0m\n",
      "         \u001b[35mrandom/\u001b[0m\u001b[95mmodel.pt\u001b[0m already downloaded                                                  \n"
     ]
    }
   ],
   "source": [
    "import os\n",
    "import scgen\n",
    "\n",
    "adata = sc.read(f'{base_path}/datasets/scgen_norman19.h5ad')\n",
    "models = {}\n",
    "for file in os.listdir(f'{base_path}/models'):\n",
    "    if 'scgen' in file:\n",
    "        print('loading', file)\n",
    "        models['_'.join(file.split('_')[1:])] = scgen.SCGEN.load(f'{base_path}/models/{file}', adata=adata)"
   ]
  },
  {
   "cell_type": "code",
   "execution_count": 4,
   "id": "94ed226e",
   "metadata": {},
   "outputs": [
    {
     "data": {
      "text/html": [
       "<pre style=\"white-space:pre;overflow-x:auto;line-height:normal;font-family:Menlo,'DejaVu Sans Mono',consolas,'Courier New',monospace\">SCGEN Model with the following params: \n",
       "n_hidden: <span style=\"color: #008080; text-decoration-color: #008080; font-weight: bold\">800</span>, n_latent: <span style=\"color: #008080; text-decoration-color: #008080; font-weight: bold\">100</span>, n_layers: <span style=\"color: #008080; text-decoration-color: #008080; font-weight: bold\">2</span>, dropout_rate: <span style=\"color: #008080; text-decoration-color: #008080; font-weight: bold\">0.2</span>\n",
       "Training status: Trained\n",
       "</pre>\n"
      ],
      "text/plain": [
       "SCGEN Model with the following params: \n",
       "n_hidden: \u001b[1;36m800\u001b[0m, n_latent: \u001b[1;36m100\u001b[0m, n_layers: \u001b[1;36m2\u001b[0m, dropout_rate: \u001b[1;36m0.2\u001b[0m\n",
       "Training status: Trained\n"
      ]
     },
     "metadata": {},
     "output_type": "display_data"
    },
    {
     "data": {
      "text/html": [
       "<pre style=\"white-space:pre;overflow-x:auto;line-height:normal;font-family:Menlo,'DejaVu Sans Mono',consolas,'Courier New',monospace\">SCGEN Model with the following params: \n",
       "n_hidden: <span style=\"color: #008080; text-decoration-color: #008080; font-weight: bold\">800</span>, n_latent: <span style=\"color: #008080; text-decoration-color: #008080; font-weight: bold\">100</span>, n_layers: <span style=\"color: #008080; text-decoration-color: #008080; font-weight: bold\">2</span>, dropout_rate: <span style=\"color: #008080; text-decoration-color: #008080; font-weight: bold\">0.2</span>\n",
       "Training status: Trained\n",
       "</pre>\n"
      ],
      "text/plain": [
       "SCGEN Model with the following params: \n",
       "n_hidden: \u001b[1;36m800\u001b[0m, n_latent: \u001b[1;36m100\u001b[0m, n_layers: \u001b[1;36m2\u001b[0m, dropout_rate: \u001b[1;36m0.2\u001b[0m\n",
       "Training status: Trained\n"
      ]
     },
     "metadata": {},
     "output_type": "display_data"
    },
    {
     "data": {
      "text/html": [
       "<pre style=\"white-space:pre;overflow-x:auto;line-height:normal;font-family:Menlo,'DejaVu Sans Mono',consolas,'Courier New',monospace\">SCGEN Model with the following params: \n",
       "n_hidden: <span style=\"color: #008080; text-decoration-color: #008080; font-weight: bold\">800</span>, n_latent: <span style=\"color: #008080; text-decoration-color: #008080; font-weight: bold\">100</span>, n_layers: <span style=\"color: #008080; text-decoration-color: #008080; font-weight: bold\">2</span>, dropout_rate: <span style=\"color: #008080; text-decoration-color: #008080; font-weight: bold\">0.2</span>\n",
       "Training status: Trained\n",
       "</pre>\n"
      ],
      "text/plain": [
       "SCGEN Model with the following params: \n",
       "n_hidden: \u001b[1;36m800\u001b[0m, n_latent: \u001b[1;36m100\u001b[0m, n_layers: \u001b[1;36m2\u001b[0m, dropout_rate: \u001b[1;36m0.2\u001b[0m\n",
       "Training status: Trained\n"
      ]
     },
     "metadata": {},
     "output_type": "display_data"
    },
    {
     "data": {
      "text/html": [
       "<pre style=\"white-space:pre;overflow-x:auto;line-height:normal;font-family:Menlo,'DejaVu Sans Mono',consolas,'Courier New',monospace\">SCGEN Model with the following params: \n",
       "n_hidden: <span style=\"color: #008080; text-decoration-color: #008080; font-weight: bold\">800</span>, n_latent: <span style=\"color: #008080; text-decoration-color: #008080; font-weight: bold\">100</span>, n_layers: <span style=\"color: #008080; text-decoration-color: #008080; font-weight: bold\">2</span>, dropout_rate: <span style=\"color: #008080; text-decoration-color: #008080; font-weight: bold\">0.2</span>\n",
       "Training status: Trained\n",
       "</pre>\n"
      ],
      "text/plain": [
       "SCGEN Model with the following params: \n",
       "n_hidden: \u001b[1;36m800\u001b[0m, n_latent: \u001b[1;36m100\u001b[0m, n_layers: \u001b[1;36m2\u001b[0m, dropout_rate: \u001b[1;36m0.2\u001b[0m\n",
       "Training status: Trained\n"
      ]
     },
     "metadata": {},
     "output_type": "display_data"
    },
    {
     "data": {
      "text/html": [
       "<pre style=\"white-space:pre;overflow-x:auto;line-height:normal;font-family:Menlo,'DejaVu Sans Mono',consolas,'Courier New',monospace\">SCGEN Model with the following params: \n",
       "n_hidden: <span style=\"color: #008080; text-decoration-color: #008080; font-weight: bold\">800</span>, n_latent: <span style=\"color: #008080; text-decoration-color: #008080; font-weight: bold\">100</span>, n_layers: <span style=\"color: #008080; text-decoration-color: #008080; font-weight: bold\">2</span>, dropout_rate: <span style=\"color: #008080; text-decoration-color: #008080; font-weight: bold\">0.2</span>\n",
       "Training status: Trained\n",
       "</pre>\n"
      ],
      "text/plain": [
       "SCGEN Model with the following params: \n",
       "n_hidden: \u001b[1;36m800\u001b[0m, n_latent: \u001b[1;36m100\u001b[0m, n_layers: \u001b[1;36m2\u001b[0m, dropout_rate: \u001b[1;36m0.2\u001b[0m\n",
       "Training status: Trained\n"
      ]
     },
     "metadata": {},
     "output_type": "display_data"
    },
    {
     "data": {
      "text/html": [
       "<pre style=\"white-space:pre;overflow-x:auto;line-height:normal;font-family:Menlo,'DejaVu Sans Mono',consolas,'Courier New',monospace\">SCGEN Model with the following params: \n",
       "n_hidden: <span style=\"color: #008080; text-decoration-color: #008080; font-weight: bold\">800</span>, n_latent: <span style=\"color: #008080; text-decoration-color: #008080; font-weight: bold\">100</span>, n_layers: <span style=\"color: #008080; text-decoration-color: #008080; font-weight: bold\">2</span>, dropout_rate: <span style=\"color: #008080; text-decoration-color: #008080; font-weight: bold\">0.2</span>\n",
       "Training status: Trained\n",
       "</pre>\n"
      ],
      "text/plain": [
       "SCGEN Model with the following params: \n",
       "n_hidden: \u001b[1;36m800\u001b[0m, n_latent: \u001b[1;36m100\u001b[0m, n_layers: \u001b[1;36m2\u001b[0m, dropout_rate: \u001b[1;36m0.2\u001b[0m\n",
       "Training status: Trained\n"
      ]
     },
     "metadata": {},
     "output_type": "display_data"
    },
    {
     "data": {
      "text/html": [
       "<pre style=\"white-space:pre;overflow-x:auto;line-height:normal;font-family:Menlo,'DejaVu Sans Mono',consolas,'Courier New',monospace\">SCGEN Model with the following params: \n",
       "n_hidden: <span style=\"color: #008080; text-decoration-color: #008080; font-weight: bold\">800</span>, n_latent: <span style=\"color: #008080; text-decoration-color: #008080; font-weight: bold\">100</span>, n_layers: <span style=\"color: #008080; text-decoration-color: #008080; font-weight: bold\">2</span>, dropout_rate: <span style=\"color: #008080; text-decoration-color: #008080; font-weight: bold\">0.2</span>\n",
       "Training status: Trained\n",
       "</pre>\n"
      ],
      "text/plain": [
       "SCGEN Model with the following params: \n",
       "n_hidden: \u001b[1;36m800\u001b[0m, n_latent: \u001b[1;36m100\u001b[0m, n_layers: \u001b[1;36m2\u001b[0m, dropout_rate: \u001b[1;36m0.2\u001b[0m\n",
       "Training status: Trained\n"
      ]
     },
     "metadata": {},
     "output_type": "display_data"
    },
    {
     "data": {
      "text/html": [
       "<pre style=\"white-space:pre;overflow-x:auto;line-height:normal;font-family:Menlo,'DejaVu Sans Mono',consolas,'Courier New',monospace\">SCGEN Model with the following params: \n",
       "n_hidden: <span style=\"color: #008080; text-decoration-color: #008080; font-weight: bold\">800</span>, n_latent: <span style=\"color: #008080; text-decoration-color: #008080; font-weight: bold\">100</span>, n_layers: <span style=\"color: #008080; text-decoration-color: #008080; font-weight: bold\">2</span>, dropout_rate: <span style=\"color: #008080; text-decoration-color: #008080; font-weight: bold\">0.2</span>\n",
       "Training status: Trained\n",
       "</pre>\n"
      ],
      "text/plain": [
       "SCGEN Model with the following params: \n",
       "n_hidden: \u001b[1;36m800\u001b[0m, n_latent: \u001b[1;36m100\u001b[0m, n_layers: \u001b[1;36m2\u001b[0m, dropout_rate: \u001b[1;36m0.2\u001b[0m\n",
       "Training status: Trained\n"
      ]
     },
     "metadata": {},
     "output_type": "display_data"
    },
    {
     "data": {
      "text/html": [
       "<pre style=\"white-space:pre;overflow-x:auto;line-height:normal;font-family:Menlo,'DejaVu Sans Mono',consolas,'Courier New',monospace\">SCGEN Model with the following params: \n",
       "n_hidden: <span style=\"color: #008080; text-decoration-color: #008080; font-weight: bold\">800</span>, n_latent: <span style=\"color: #008080; text-decoration-color: #008080; font-weight: bold\">100</span>, n_layers: <span style=\"color: #008080; text-decoration-color: #008080; font-weight: bold\">2</span>, dropout_rate: <span style=\"color: #008080; text-decoration-color: #008080; font-weight: bold\">0.2</span>\n",
       "Training status: Trained\n",
       "</pre>\n"
      ],
      "text/plain": [
       "SCGEN Model with the following params: \n",
       "n_hidden: \u001b[1;36m800\u001b[0m, n_latent: \u001b[1;36m100\u001b[0m, n_layers: \u001b[1;36m2\u001b[0m, dropout_rate: \u001b[1;36m0.2\u001b[0m\n",
       "Training status: Trained\n"
      ]
     },
     "metadata": {},
     "output_type": "display_data"
    },
    {
     "data": {
      "text/html": [
       "<pre style=\"white-space:pre;overflow-x:auto;line-height:normal;font-family:Menlo,'DejaVu Sans Mono',consolas,'Courier New',monospace\">SCGEN Model with the following params: \n",
       "n_hidden: <span style=\"color: #008080; text-decoration-color: #008080; font-weight: bold\">800</span>, n_latent: <span style=\"color: #008080; text-decoration-color: #008080; font-weight: bold\">100</span>, n_layers: <span style=\"color: #008080; text-decoration-color: #008080; font-weight: bold\">2</span>, dropout_rate: <span style=\"color: #008080; text-decoration-color: #008080; font-weight: bold\">0.2</span>\n",
       "Training status: Trained\n",
       "</pre>\n"
      ],
      "text/plain": [
       "SCGEN Model with the following params: \n",
       "n_hidden: \u001b[1;36m800\u001b[0m, n_latent: \u001b[1;36m100\u001b[0m, n_layers: \u001b[1;36m2\u001b[0m, dropout_rate: \u001b[1;36m0.2\u001b[0m\n",
       "Training status: Trained\n"
      ]
     },
     "metadata": {},
     "output_type": "display_data"
    },
    {
     "data": {
      "text/html": [
       "<pre style=\"white-space:pre;overflow-x:auto;line-height:normal;font-family:Menlo,'DejaVu Sans Mono',consolas,'Courier New',monospace\">SCGEN Model with the following params: \n",
       "n_hidden: <span style=\"color: #008080; text-decoration-color: #008080; font-weight: bold\">800</span>, n_latent: <span style=\"color: #008080; text-decoration-color: #008080; font-weight: bold\">100</span>, n_layers: <span style=\"color: #008080; text-decoration-color: #008080; font-weight: bold\">2</span>, dropout_rate: <span style=\"color: #008080; text-decoration-color: #008080; font-weight: bold\">0.2</span>\n",
       "Training status: Trained\n",
       "</pre>\n"
      ],
      "text/plain": [
       "SCGEN Model with the following params: \n",
       "n_hidden: \u001b[1;36m800\u001b[0m, n_latent: \u001b[1;36m100\u001b[0m, n_layers: \u001b[1;36m2\u001b[0m, dropout_rate: \u001b[1;36m0.2\u001b[0m\n",
       "Training status: Trained\n"
      ]
     },
     "metadata": {},
     "output_type": "display_data"
    },
    {
     "data": {
      "text/plain": [
       "{'norman19_model1_shuffled': ,\n",
       " 'norman19_model1_random': ,\n",
       " 'norman19_model0_shuffled': ,\n",
       " 'norman19_model4_shuffled': ,\n",
       " 'norman19_model4_random': ,\n",
       " 'norman19_model2_random': ,\n",
       " 'norman19_model2_shuffled': ,\n",
       " 'norman19_model0_random.pt': ,\n",
       " 'norman19_model3_shuffled': ,\n",
       " 'norman19_model0_random': ,\n",
       " 'norman19_model3_random': }"
      ]
     },
     "execution_count": 4,
     "metadata": {},
     "output_type": "execute_result"
    }
   ],
   "source": [
    "models"
   ]
  },
  {
   "cell_type": "markdown",
   "id": "61698dac",
   "metadata": {},
   "source": [
    "## scVI"
   ]
  },
  {
   "cell_type": "code",
   "execution_count": null,
   "id": "32dae430",
   "metadata": {},
   "outputs": [],
   "source": []
  },
  {
   "cell_type": "markdown",
   "id": "f3dd215f",
   "metadata": {},
   "source": [
    "## scANVI (HLCA)"
   ]
  },
  {
   "cell_type": "code",
   "execution_count": 5,
   "id": "81476d0c",
   "metadata": {},
   "outputs": [
    {
     "data": {
      "text/plain": [
       "AnnData object with n_obs × n_vars = 584944 × 2000\n",
       "    obs: 'sample', 'original_celltype_ann', 'study_long', 'study', 'last_author_PI', 'subject_ID', 'subject_ID_as_published', 'pre_or_postnatal', 'age_in_years', 'age_range', 'sex', 'ethnicity', 'mixed_ethnicity', 'smoking_status', 'smoking_history', 'BMI', 'known_lung_disease', 'condition', 'subject_type', 'cause_of_death', 'sample_type', 'anatomical_region_coarse', 'anatomical_region_detailed', 'tissue_dissociation_protocol', 'cells_or_nuclei', 'single_cell_platform', \"3'_or_5'\", 'enrichment', 'sequencing_platform', 'reference_genome_coarse', 'ensembl_release_reference_genome', 'cell_ranger_version', 'disease_status', 'fresh_or_frozen', 'cultured', 'cell_viability_%', 'comments', 'Processing_site', 'dataset', 'anatomical_region_level_1', 'anatomical_region_level_2', 'anatomical_region_level_3', 'anatomical_region_highest_res', 'age', 'ann_level_1', 'ann_level_2', 'ann_level_3', 'ann_level_4', 'ann_level_5', 'ann_highest_res', 'ann_new', 'n_genes', 'total_counts', 'log10_total_counts', 'n_genes_detected', 'mito_frac', 'ribo_frac', 'compl', 'size_factors', 'ann_level_1_clean', 'ann_level_2_clean', 'ann_level_3_clean', 'ann_level_4_clean', 'ann_level_5_clean', 'scanvi_label', 'leiden_1', 'leiden_2', 'leiden_3', 'anatomical_region_ccf_score', 'manual_ann', 'leiden_4', 'reannotation_type', 'leiden_5', 'original_ann_level_1', 'original_ann_level_2', 'original_ann_level_3', 'original_ann_level_4', 'original_ann_level_5', 'original_ann_highest_res', 'original_ann_new', 'original_ann_level_1_clean', 'original_ann_level_2_clean', 'original_ann_level_3_clean', 'original_ann_level_4_clean', 'original_ann_level_5_clean', 'cluster_annotated', 'manual_ann_grouped', 'entropy_subject_ID_leiden_3', 'entropy_dataset_leiden_3', 'entropy_original_ann_level_1_leiden_3', 'entropy_original_ann_level_2_clean_leiden_3', 'entropy_original_ann_level_3_clean_leiden_3', 'digestion'\n",
       "    var: 'gene_symbols', 'n_cells', 'highly_variable', 'means', 'dispersions', 'dispersions_norm', 'highly_variable_nbatches', 'highly_variable_intersection', 'gene_ids'\n",
       "    uns: 'anatomical_region_level_1_colors', 'ann_level_1_colors', 'ann_level_2_colors', 'ann_level_3_colors', 'ann_level_4_colors', 'ann_level_5_clean_colors', 'ann_level_5_colors', 'dataset_colors', 'fresh_or_frozen_colors', 'hvg', 'leiden', 'leiden_1_colors', 'leiden_2_colors', 'leiden_3_colors', 'leiden_4_colors', 'leiden_5_colors', 'manual_ann_colors', 'manual_ann_grouped_colors', 'neighbors', 'original_ann_level_1_colors', 'pca', 'rank_genes_groups', 'scanvi_label_colors', 'umap'\n",
       "    obsm: 'X_pca', 'X_scanvi_emb', 'X_umap', 'X_umap_scanvi', 'X_umap_unintegrated'\n",
       "    varm: 'PCs'\n",
       "    layers: 'counts'\n",
       "    obsp: 'connectivities', 'distances'"
      ]
     },
     "execution_count": 5,
     "metadata": {},
     "output_type": "execute_result"
    }
   ],
   "source": [
    "adata = sc.read(f'{base_path}/datasets/hlca.h5ad')\n",
    "adata"
   ]
  },
  {
   "cell_type": "code",
   "execution_count": 6,
   "id": "a1647ce1",
   "metadata": {},
   "outputs": [
    {
     "name": "stdout",
     "output_type": "stream",
     "text": [
      "\u001b[34mINFO    \u001b[0m File \u001b[35m/home/icb/yuge.ji/projects/HLCA_reproducibility/notebooks/3_atlas_extension/sca\u001b[0m\n",
      "         \u001b[35mnvi_model/\u001b[0m\u001b[95mmodel.pt\u001b[0m already downloaded                                               \n"
     ]
    },
    {
     "name": "stderr",
     "output_type": "stream",
     "text": [
      "/home/icb/yuge.ji/miniconda3/envs/test_env3/lib/python3.10/site-packages/scvi/model/base/_utils.py:134: UserWarning: var_names for adata passed in does not match var_names of adata used to train the model. For valid results, the vars need to be the same and in the same order as the adata used to train the model.\n",
      "  warnings.warn(\n",
      "/home/icb/yuge.ji/miniconda3/envs/test_env3/lib/python3.10/site-packages/scvi/data/fields/_layer_field.py:78: UserWarning: adata.X does not contain unnormalized count data. Are you sure this is what you want?\n",
      "  warnings.warn(\n",
      "/home/icb/yuge.ji/miniconda3/envs/test_env3/lib/python3.10/site-packages/scvi/data/_utils.py:156: UserWarning: Category 18 in adata.obs['_scvi_labels'] has fewer than 3 cells. Models may not train properly.\n",
      "  warnings.warn(\n",
      "/home/icb/yuge.ji/miniconda3/envs/test_env3/lib/python3.10/site-packages/scvi/data/_utils.py:156: UserWarning: Category 18 in adata.obs['_scvi_labels'] has fewer than 3 cells. Models may not train properly.\n",
      "  warnings.warn(\n"
     ]
    },
    {
     "data": {
      "text/html": [
       "<pre style=\"white-space:pre;overflow-x:auto;line-height:normal;font-family:Menlo,'DejaVu Sans Mono',consolas,'Courier New',monospace\">ScanVI Model with the following params: \n",
       "unlabeled_category: unlabeled, n_hidden: <span style=\"color: #008080; text-decoration-color: #008080; font-weight: bold\">128</span>, n_latent: <span style=\"color: #008080; text-decoration-color: #008080; font-weight: bold\">30</span>, n_layers: <span style=\"color: #008080; text-decoration-color: #008080; font-weight: bold\">2</span>, dropout_rate: <span style=\"color: #008080; text-decoration-color: #008080; font-weight: bold\">0.1</span>, \n",
       "dispersion: gene, gene_likelihood: nb\n",
       "Training status: Trained\n",
       "</pre>\n"
      ],
      "text/plain": [
       "ScanVI Model with the following params: \n",
       "unlabeled_category: unlabeled, n_hidden: \u001b[1;36m128\u001b[0m, n_latent: \u001b[1;36m30\u001b[0m, n_layers: \u001b[1;36m2\u001b[0m, dropout_rate: \u001b[1;36m0.1\u001b[0m, \n",
       "dispersion: gene, gene_likelihood: nb\n",
       "Training status: Trained\n"
      ]
     },
     "metadata": {},
     "output_type": "display_data"
    },
    {
     "data": {
      "text/plain": []
     },
     "execution_count": 6,
     "metadata": {},
     "output_type": "execute_result"
    }
   ],
   "source": [
    "model = scvi.model.SCANVI.load('/home/icb/yuge.ji/projects/HLCA_reproducibility/notebooks/3_atlas_extension/scanvi_model/', adata)\n",
    "model"
   ]
  },
  {
   "cell_type": "code",
   "execution_count": 7,
   "id": "aa300207",
   "metadata": {},
   "outputs": [
    {
     "data": {
      "text/plain": [
       "{'AT0': ['SCGB3A2', 'SFTPB', 'SFTA2'],\n",
       " 'AT1': ['TIMP3', 'SPOCK2', 'CLIC5'],\n",
       " 'AT2': ['MFSD2A', 'C11orf96', 'C8orf4'],\n",
       " 'Adventitial fibroblasts': ['MFAP5', 'SCARA5', 'PI16'],\n",
       " 'Alveolar Mph CCL3+': ['CCL20'],\n",
       " 'Alveolar Mph MT-positive': ['CCL18', 'MT1E', 'MT1M'],\n",
       " 'Alveolar Mph proliferating': ['TYMS'],\n",
       " 'Alveolar fibroblasts': ['FGFR4'],\n",
       " 'Alveolar macrophages': ['MARCO', 'FABP4', 'CYP27A1'],\n",
       " 'B cells': ['MS4A1'],\n",
       " 'Basal resting': ['KRT17', 'KRT15'],\n",
       " 'CD8 T cells': ['CD8A', 'TRGC2', 'CD8B'],\n",
       " 'Classical monocytes': ['RNASE2', 'S100A12', 'FCN1'],\n",
       " 'Club (nasal)': ['SERPINB3', 'TCN1'],\n",
       " 'Club (non-nasal)': ['BPIFB1', 'SCGB3A1', 'CYP2F1'],\n",
       " 'DC1': ['CLNK', 'CLEC9A'],\n",
       " 'DC2': ['CD1E', 'CLEC10A', 'PKIB'],\n",
       " 'Deuterosomal': ['CDC20B'],\n",
       " 'EC aerocyte capillary': ['SOSTDC1'],\n",
       " 'EC arterial': ['DKK2', 'IGFBP3'],\n",
       " 'EC general capillary': ['FCN3', 'IL7R', 'MT1M'],\n",
       " 'EC venous pulmonary': ['C7', 'CPE', 'MMRN1'],\n",
       " 'Goblet (bronchial)': ['CEACAM5', 'ALDH1A3'],\n",
       " 'Goblet (nasal)': ['CEACAM5', 'LYPD2', 'PSCA'],\n",
       " 'Goblet (subsegmental)': ['C16orf89', 'NPDC1', 'BPIFB1'],\n",
       " 'Hematopoietic stem cells': ['SERPINE2'],\n",
       " 'Interstitial Mph perivascular': ['FOLR2', 'F13A1'],\n",
       " 'Ionocyte': ['BSND', 'IGF1', 'CLCNKB'],\n",
       " 'Mast cells': ['MS4A2', 'SLC18A2', 'RGS13'],\n",
       " 'Mesothelium': ['KLK11', 'ITLN1', 'UPK3B'],\n",
       " 'Migratory DCs': ['CCL19'],\n",
       " 'Multiciliated (nasal)': ['LYPD2'],\n",
       " 'Multiciliated (non-nasal)': ['C20orf85', 'RSPH1', 'C9orf24'],\n",
       " 'Myofibroblasts': ['LMOD1'],\n",
       " 'NK cells': ['FCGR3A', 'GNLY', 'SPON2'],\n",
       " 'Non-classical monocytes': ['LILRA5', 'MTSS1', 'FCN1'],\n",
       " 'Peribronchial fibroblasts': ['COL15A1', 'CXCL14'],\n",
       " 'Plasma cells': ['TNFRSF17'],\n",
       " 'Plasmacytoid DCs': ['LILRA4', 'SCT'],\n",
       " 'SM activated stress response': ['ATF3', 'EGR1', 'FOSB'],\n",
       " 'SMG duct': ['KRT19', 'MGST1'],\n",
       " 'SMG mucous': ['BPIFB2', 'MUC5B'],\n",
       " 'SMG serous (bronchial)': ['RP11-1143G9.4', 'PRB3', 'S100A1'],\n",
       " 'SMG serous (nasal)': ['MUC7', 'ODAM', 'STATH'],\n",
       " 'Smooth muscle': ['PLN', 'TINAGL1', 'MYH11'],\n",
       " 'Subpleural fibroblasts': ['MARCKSL1', 'APOC1', 'MMP23B'],\n",
       " 'Suprabasal': ['SERPINB3', 'KRT5'],\n",
       " 'T cells proliferating': ['MKI67'],\n",
       " 'pre-TB secretory': ['SFTPB', 'SFTA1P', 'RNASE1']}"
      ]
     },
     "execution_count": 7,
     "metadata": {},
     "output_type": "execute_result"
    }
   ],
   "source": [
    "# parse marker gene dictionary from csv for ground truth\n",
    "marker_df = pd.read_csv('/home/icb/yuge.ji/projects/HLCA_reproducibility/notebooks/3_atlas_extension/markergenes.csv', index_col=0)\n",
    "\n",
    "marker_dict = {}\n",
    "for i in range(0, marker_df.shape[1], 3):\n",
    "    ct = marker_df.columns[i].split('_')[0]\n",
    "    l = list(marker_df[\n",
    "        marker_df[f'{ct}_marker_for'].isin([ct, f'{ct} (poss. lowly expressed, non-unique)'])\n",
    "    ][f'{ct}_marker'].values)\n",
    "    # remove markers if not in adata due to HVG subsetting. Remaining: 105/150\n",
    "    # this causes some cell types to have no genes\n",
    "    l = list(set(l) & set(adata.var_names))\n",
    "    if len(l) > 0:\n",
    "        marker_dict[ct] = l\n",
    "marker_dict"
   ]
  }
 ],
 "metadata": {
  "kernelspec": {
   "display_name": "fa_base",
   "language": "python",
   "name": "fa_base"
  },
  "language_info": {
   "codemirror_mode": {
    "name": "ipython",
    "version": 3
   },
   "file_extension": ".py",
   "mimetype": "text/x-python",
   "name": "python",
   "nbconvert_exporter": "python",
   "pygments_lexer": "ipython3",
   "version": "3.8.2"
  }
 },
 "nbformat": 4,
 "nbformat_minor": 5
}
