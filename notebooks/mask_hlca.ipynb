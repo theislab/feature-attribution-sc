{
 "cells": [
  {
   "cell_type": "code",
   "execution_count": 48,
   "id": "264a8e3e",
   "metadata": {},
   "outputs": [
    {
     "name": "stdout",
     "output_type": "stream",
     "text": [
      "scanpy==1.9.1 anndata==0.8.0 umap==0.5.3 numpy==1.20.3 scipy==1.10.1 pandas==1.5.3 scikit-learn==1.2.2 statsmodels==0.13.5 python-igraph==0.10.4 pynndescent==0.5.8\n"
     ]
    },
    {
     "name": "stderr",
     "output_type": "stream",
     "text": [
      "/home/icb/yuge.ji/miniconda3/envs/fa_base/lib/python3.8/site-packages/scanpy/_settings.py:447: DeprecationWarning: `set_matplotlib_formats` is deprecated since IPython 7.23, directly use `matplotlib_inline.backend_inline.set_matplotlib_formats()`\n",
      "  IPython.display.set_matplotlib_formats(*ipython_format)\n"
     ]
    }
   ],
   "source": [
    "import numpy as np\n",
    "import pandas as pd\n",
    "import anndata as ad\n",
    "import scanpy as sc\n",
    "import matplotlib.pyplot as plt\n",
    "import seaborn as sns\n",
    "\n",
    "import torch\n",
    "import scvi\n",
    "from feature_attribution_sc.explainers.mask import mask, generate_rankings\n",
    "from feature_attribution_sc.models.scgen_models import SCGENCustom\n",
    "\n",
    "sc.set_figure_params(dpi=100, frameon=False, color_map='Reds', facecolor=None)\n",
    "sc.logging.print_header()"
   ]
  },
  {
   "cell_type": "code",
   "execution_count": 2,
   "id": "b4e7da65",
   "metadata": {},
   "outputs": [],
   "source": [
    "# import warnings\n",
    "# warnings.filterwarnings('ignore')"
   ]
  },
  {
   "cell_type": "code",
   "execution_count": 44,
   "id": "defa4315",
   "metadata": {},
   "outputs": [],
   "source": [
    "# data_path='/home/yuge/feature-attribution-sc'\n",
    "data_path = '/home/icb/yuge.ji/projects/feature-attribution-sc'\n",
    "\n",
    "feature_importance_files = [\n",
    "    f'{data_path}/outputs/baselines/task2_random.csv',\n",
    "#     f'{data_path}/outputs/differential_expression/task2_DE_cell_types.csv',  # these are way slower for some reason???\n",
    "#     f'{data_path}/outputs/ablation/task2_abs.csv'\n",
    "    f'{data_path}/outputs/expected_gradients/task2_absolute_sum_expected_grads.csv'\n",
    "]\n",
    "\n",
    "thresholds = list(range(0, 100, 40)) + [99]"
   ]
  },
  {
   "cell_type": "code",
   "execution_count": 4,
   "id": "e17c6ddb",
   "metadata": {},
   "outputs": [
    {
     "data": {
      "text/plain": [
       "AnnData object with n_obs × n_vars = 584944 × 2000\n",
       "    obs: 'sample', 'original_celltype_ann', 'study_long', 'study', 'last_author_PI', 'subject_ID', 'subject_ID_as_published', 'pre_or_postnatal', 'age_in_years', 'age_range', 'sex', 'ethnicity', 'mixed_ethnicity', 'smoking_status', 'smoking_history', 'BMI', 'known_lung_disease', 'condition', 'subject_type', 'cause_of_death', 'sample_type', 'anatomical_region_coarse', 'anatomical_region_detailed', 'tissue_dissociation_protocol', 'cells_or_nuclei', 'single_cell_platform', \"3'_or_5'\", 'enrichment', 'sequencing_platform', 'reference_genome_coarse', 'ensembl_release_reference_genome', 'cell_ranger_version', 'disease_status', 'fresh_or_frozen', 'cultured', 'cell_viability_%', 'comments', 'Processing_site', 'dataset', 'anatomical_region_level_1', 'anatomical_region_level_2', 'anatomical_region_level_3', 'anatomical_region_highest_res', 'age', 'ann_level_1', 'ann_level_2', 'ann_level_3', 'ann_level_4', 'ann_level_5', 'ann_highest_res', 'ann_new', 'n_genes', 'total_counts', 'log10_total_counts', 'n_genes_detected', 'mito_frac', 'ribo_frac', 'compl', 'size_factors', 'ann_level_1_clean', 'ann_level_2_clean', 'ann_level_3_clean', 'ann_level_4_clean', 'ann_level_5_clean', 'scanvi_label', 'leiden_1', 'leiden_2', 'leiden_3', 'anatomical_region_ccf_score', 'manual_ann', 'leiden_4', 'reannotation_type', 'leiden_5', 'original_ann_level_1', 'original_ann_level_2', 'original_ann_level_3', 'original_ann_level_4', 'original_ann_level_5', 'original_ann_highest_res', 'original_ann_new', 'original_ann_level_1_clean', 'original_ann_level_2_clean', 'original_ann_level_3_clean', 'original_ann_level_4_clean', 'original_ann_level_5_clean', 'cluster_annotated', 'manual_ann_grouped', 'entropy_subject_ID_leiden_3', 'entropy_dataset_leiden_3', 'entropy_original_ann_level_1_leiden_3', 'entropy_original_ann_level_2_clean_leiden_3', 'entropy_original_ann_level_3_clean_leiden_3', 'digestion'\n",
       "    var: 'gene_symbols', 'n_cells', 'highly_variable', 'means', 'dispersions', 'dispersions_norm', 'highly_variable_nbatches', 'highly_variable_intersection', 'gene_ids'\n",
       "    uns: 'anatomical_region_level_1_colors', 'ann_level_1_colors', 'ann_level_2_colors', 'ann_level_3_colors', 'ann_level_4_colors', 'ann_level_5_clean_colors', 'ann_level_5_colors', 'dataset_colors', 'fresh_or_frozen_colors', 'hvg', 'leiden', 'leiden_1_colors', 'leiden_2_colors', 'leiden_3_colors', 'leiden_4_colors', 'leiden_5_colors', 'manual_ann_colors', 'manual_ann_grouped_colors', 'neighbors', 'original_ann_level_1_colors', 'pca', 'rank_genes_groups', 'scanvi_label_colors', 'umap'\n",
       "    obsm: 'X_pca', 'X_scanvi_emb', 'X_umap', 'X_umap_scanvi', 'X_umap_unintegrated'\n",
       "    varm: 'PCs'\n",
       "    layers: 'counts'\n",
       "    obsp: 'connectivities', 'distances'"
      ]
     },
     "execution_count": 4,
     "metadata": {},
     "output_type": "execute_result"
    }
   ],
   "source": [
    "hlca_path = '../datasets/hlca.h5ad'\n",
    "adata = sc.read(hlca_path)\n",
    "adata"
   ]
  },
  {
   "cell_type": "code",
   "execution_count": 5,
   "id": "44c65e7e",
   "metadata": {},
   "outputs": [
    {
     "name": "stdout",
     "output_type": "stream",
     "text": [
      "\u001b[34mINFO    \u001b[0m File ..\u001b[35m/models/scanvi_model/\u001b[0m\u001b[95mmodel.pt\u001b[0m already downloaded                                                   \n"
     ]
    },
    {
     "name": "stderr",
     "output_type": "stream",
     "text": [
      "/home/icb/yuge.ji/miniconda3/envs/fa_base/lib/python3.8/site-packages/scvi/model/base/_utils.py:134: UserWarning: var_names for adata passed in does not match var_names of adata used to train the model. For valid results, the vars need to be the same and in the same order as the adata used to train the model.\n",
      "  warnings.warn(\n",
      "No GPU/TPU found, falling back to CPU. (Set TF_CPP_MIN_LOG_LEVEL=0 and rerun for more info.)\n",
      "/home/icb/yuge.ji/miniconda3/envs/fa_base/lib/python3.8/site-packages/scvi/data/fields/_layer_field.py:78: UserWarning: adata.X does not contain unnormalized count data. Are you sure this is what you want?\n",
      "  warnings.warn(\n",
      "/home/icb/yuge.ji/miniconda3/envs/fa_base/lib/python3.8/site-packages/scvi/data/_utils.py:156: UserWarning: Category 18 in adata.obs['_scvi_labels'] has fewer than 3 cells. Models may not train properly.\n",
      "  warnings.warn(\n",
      "/home/icb/yuge.ji/miniconda3/envs/fa_base/lib/python3.8/site-packages/scvi/data/_utils.py:156: UserWarning: Category 18 in adata.obs['_scvi_labels'] has fewer than 3 cells. Models may not train properly.\n",
      "  warnings.warn(\n"
     ]
    }
   ],
   "source": [
    "model = scvi.model.SCANVI.load('../models/scanvi_model/', adata)"
   ]
  },
  {
   "cell_type": "code",
   "execution_count": 6,
   "id": "987bb615",
   "metadata": {},
   "outputs": [],
   "source": [
    "def perform_label_transfer(ref_emb, query_emb, cell_type_column, k=15):\n",
    "    # calculate an object representing the joing neighbor graph of ref + query\n",
    "    ing = sc.tl.Ingest(ref_emb)\n",
    "    ing.fit(query_emb)\n",
    "    ing.neighbors(k=k)\n",
    "    # calculate distances to top k neighbors for each cell and store indices\n",
    "    # of neighbor cells\n",
    "    top_k_distances, top_k_indices = (\n",
    "        ing._distances,\n",
    "        ing._indices,\n",
    "    )\n",
    "    # transform distances with Gaussian kernel (?)\n",
    "    stds = np.std(top_k_distances, axis=1)\n",
    "    stds = (2.0 / stds) ** 2  # don't know why the first 2.0\n",
    "    stds = stds.reshape(-1, 1)\n",
    "    top_k_distances_tilda = np.exp(-np.true_divide(top_k_distances, stds))\n",
    "    # normalize so that transformed distances sum to 1\n",
    "    weights = top_k_distances_tilda / np.sum(\n",
    "        top_k_distances_tilda, axis=1, keepdims=True\n",
    "    )\n",
    "    # initialize empty series to store predicted labels and matching\n",
    "    # uncertaintites for every query cell\n",
    "    uncertainties = pd.Series(index=query_emb.obs_names, dtype=\"float64\")\n",
    "    pred_labels = pd.Series(index=query_emb.obs_names, dtype=\"object\")\n",
    "    # now loop through query cells\n",
    "    y_train_labels = ref_emb.obs[cell_type_column].values\n",
    "    for i in range(len(weights)):\n",
    "        # store cell types present among neighbors in reference\n",
    "        unique_labels = np.unique(y_train_labels[top_k_indices[i]])\n",
    "        # store best label and matching probability so far\n",
    "        best_label, best_prob = None, 0.0\n",
    "        # now loop through all cell types present among the cell's neighbors:\n",
    "        for candidate_label in unique_labels:\n",
    "            candidate_prob = weights[\n",
    "                i, y_train_labels[top_k_indices[i]] == candidate_label\n",
    "            ].sum()\n",
    "            if best_prob < candidate_prob:\n",
    "                best_prob = candidate_prob\n",
    "                best_label = candidate_label\n",
    "        else:\n",
    "            pred_label = best_label\n",
    "        # store best label and matching uncertainty\n",
    "        uncertainties.iloc[i] = max(1 - best_prob, 0)\n",
    "        pred_labels.iloc[i] = pred_label\n",
    "    # print info\n",
    "    print(\n",
    "        \"Storing transferred labels in your query adata under .obs column:\",\n",
    "        f\"transf_{cell_type_column}\",\n",
    "    )\n",
    "    print(\n",
    "        \"Storing label transfer uncertainties in your query adata under .obs column:\",\n",
    "        f\"transf_{cell_type_column}_unc\",\n",
    "    )\n",
    "    # store results\n",
    "    query_emb.obs[f\"transf_{cell_type_column}\"] = pred_labels\n",
    "    query_emb.obs[f\"transf_{cell_type_column}_unc\"] = uncertainties"
   ]
  },
  {
   "cell_type": "code",
   "execution_count": 24,
   "id": "4403bba3",
   "metadata": {},
   "outputs": [],
   "source": [
    "def generate_masked_inputs(rankings, gene_indices, df, thresholds, class_label='labels'):\n",
    "    \"\"\"Returns the masked inputs given rankings from an attribution file.\n",
    "    \n",
    "    Masking can take a while to iterate over all tensors.\n",
    "    \n",
    "    Params\n",
    "    ------\n",
    "    thresholds : list of percentages at which to remove features\n",
    "    class_label : str\n",
    "        Batch label which contains the class information used for masking.\n",
    "    \"\"\"\n",
    "    incremental_sparsity = []\n",
    "    masked_inputs = {}\n",
    "    for threshold in thresholds:\n",
    "        t = float(threshold)/100\n",
    "        print(t)\n",
    "        masked_inpt = mask(\n",
    "            batch['X'], batch[class_label], df, rankings, gene_indices, threshold=t)\n",
    "\n",
    "        # store input for later use\n",
    "        masked_inputs[f'masked_{threshold}'] = masked_inpt\n",
    "\n",
    "        # record the sparsity for plotting. only applicable if we're masking with zeroes\n",
    "        sparsity_after = np.count_nonzero(masked_inputs[f'masked_{threshold}']) / (adata.shape[0] * adata.shape[1])\n",
    "        incremental_sparsity.append((t, sparsity_after))\n",
    "        \n",
    "    return masked_inputs, incremental_sparsity"
   ]
  },
  {
   "cell_type": "code",
   "execution_count": 8,
   "id": "54352d4f",
   "metadata": {},
   "outputs": [
    {
     "data": {
      "text/plain": [
       "0.09254418115238382"
      ]
     },
     "execution_count": 8,
     "metadata": {},
     "output_type": "execute_result"
    }
   ],
   "source": [
    "sparsity_before = adata.X.nnz / (adata.shape[0] * adata.shape[1])\n",
    "sparsity_before"
   ]
  },
  {
   "cell_type": "code",
   "execution_count": 9,
   "id": "4a80134e",
   "metadata": {},
   "outputs": [],
   "source": [
    "batch_size = adata.shape[0]\n",
    "scdl = model._make_data_loader(adata=adata, indices=list(range(adata.shape[0])), batch_size=batch_size)\n",
    "batch = next(scdl.__iter__())"
   ]
  },
  {
   "cell_type": "code",
   "execution_count": 45,
   "id": "4a0904b3",
   "metadata": {},
   "outputs": [
    {
     "name": "stdout",
     "output_type": "stream",
     "text": [
      "/home/icb/yuge.ji/projects/feature-attribution-sc/outputs/baselines/task2_random.csv\n",
      "Generating rankings for 30 labels and 2000 features.\n",
      "0.0\n"
     ]
    },
    {
     "name": "stderr",
     "output_type": "stream",
     "text": [
      "/home/icb/yuge.ji/projects/feature-attribution-sc/feature_attribution_sc/explainers/mask.py:86: UserWarning: To copy construct from a tensor, it is recommended to use sourceTensor.clone().detach() or sourceTensor.clone().detach().requires_grad_(True), rather than torch.tensor(sourceTensor).\n",
      "  return torch.tensor(masked_data)\n"
     ]
    },
    {
     "name": "stdout",
     "output_type": "stream",
     "text": [
      "0.4\n",
      "0.8\n",
      "0.99\n",
      "/home/icb/yuge.ji/projects/feature-attribution-sc/outputs/expected_gradients/task2_absolute_sum_expected_grads.csv\n",
      "Generating rankings for 29 labels and 2000 features.\n",
      "0.0\n"
     ]
    },
    {
     "ename": "IndexError",
     "evalue": "list index out of range",
     "output_type": "error",
     "traceback": [
      "\u001b[0;31m---------------------------------------------------------------------------\u001b[0m",
      "\u001b[0;31mIndexError\u001b[0m                                Traceback (most recent call last)",
      "File \u001b[0;32m<timed exec>:21\u001b[0m, in \u001b[0;36m<module>\u001b[0;34m\u001b[0m\n",
      "Input \u001b[0;32mIn [24]\u001b[0m, in \u001b[0;36mgenerate_masked_inputs\u001b[0;34m(rankings, gene_indices, df, thresholds, class_label)\u001b[0m\n\u001b[1;32m     15\u001b[0m t \u001b[38;5;241m=\u001b[39m \u001b[38;5;28mfloat\u001b[39m(threshold)\u001b[38;5;241m/\u001b[39m\u001b[38;5;241m100\u001b[39m\n\u001b[1;32m     16\u001b[0m \u001b[38;5;28mprint\u001b[39m(t)\n\u001b[0;32m---> 17\u001b[0m masked_inpt \u001b[38;5;241m=\u001b[39m \u001b[43mmask\u001b[49m\u001b[43m(\u001b[49m\n\u001b[1;32m     18\u001b[0m \u001b[43m    \u001b[49m\u001b[43mbatch\u001b[49m\u001b[43m[\u001b[49m\u001b[38;5;124;43m'\u001b[39;49m\u001b[38;5;124;43mX\u001b[39;49m\u001b[38;5;124;43m'\u001b[39;49m\u001b[43m]\u001b[49m\u001b[43m,\u001b[49m\u001b[43m \u001b[49m\u001b[43mbatch\u001b[49m\u001b[43m[\u001b[49m\u001b[43mclass_label\u001b[49m\u001b[43m]\u001b[49m\u001b[43m,\u001b[49m\u001b[43m \u001b[49m\u001b[43mdf\u001b[49m\u001b[43m,\u001b[49m\u001b[43m \u001b[49m\u001b[43mrankings\u001b[49m\u001b[43m,\u001b[49m\u001b[43m \u001b[49m\u001b[43mgene_indices\u001b[49m\u001b[43m,\u001b[49m\u001b[43m \u001b[49m\u001b[43mthreshold\u001b[49m\u001b[38;5;241;43m=\u001b[39;49m\u001b[43mt\u001b[49m\u001b[43m)\u001b[49m\n\u001b[1;32m     20\u001b[0m \u001b[38;5;66;03m# store input for later use\u001b[39;00m\n\u001b[1;32m     21\u001b[0m masked_inputs[\u001b[38;5;124mf\u001b[39m\u001b[38;5;124m'\u001b[39m\u001b[38;5;124mmasked_\u001b[39m\u001b[38;5;132;01m{\u001b[39;00mthreshold\u001b[38;5;132;01m}\u001b[39;00m\u001b[38;5;124m'\u001b[39m] \u001b[38;5;241m=\u001b[39m masked_inpt\n",
      "File \u001b[0;32m~/projects/feature-attribution-sc/feature_attribution_sc/explainers/mask.py:70\u001b[0m, in \u001b[0;36mmask\u001b[0;34m(data, labels, df, rankings, gene_indices, threshold)\u001b[0m\n\u001b[1;32m     68\u001b[0m label \u001b[38;5;241m=\u001b[39m labels[i]\n\u001b[1;32m     69\u001b[0m \u001b[38;5;66;03m# Get the perturbation corresponding to the current label\u001b[39;00m\n\u001b[0;32m---> 70\u001b[0m perturbation \u001b[38;5;241m=\u001b[39m \u001b[43mdf\u001b[49m\u001b[38;5;241;43m.\u001b[39;49m\u001b[43mcolumns\u001b[49m\u001b[38;5;241;43m.\u001b[39;49m\u001b[43mtolist\u001b[49m\u001b[43m(\u001b[49m\u001b[43m)\u001b[49m\u001b[43m[\u001b[49m\u001b[38;5;28;43mint\u001b[39;49m\u001b[43m(\u001b[49m\u001b[43mlabel\u001b[49m\u001b[43m \u001b[49m\u001b[38;5;241;43m+\u001b[39;49m\u001b[43m \u001b[49m\u001b[38;5;241;43m1\u001b[39;49m\u001b[43m)\u001b[49m\u001b[43m]\u001b[49m\n\u001b[1;32m     71\u001b[0m \u001b[38;5;66;03m# Get the ranking data for the current perturbation\u001b[39;00m\n\u001b[1;32m     72\u001b[0m ranking \u001b[38;5;241m=\u001b[39m rankings[perturbation]\n",
      "\u001b[0;31mIndexError\u001b[0m: list index out of range"
     ]
    },
    {
     "data": {
      "image/png": "[encoded data removed]",
      "text/plain": [
       "<Figure size 400x400 with 1 Axes>"
      ]
     },
     "metadata": {
      "image/png": {
       "height": 351,
       "width": 387
      }
     },
     "output_type": "display_data"
    }
   ],
   "source": [
    "%%time\n",
    "attribution_masks = {}\n",
    "for feature_importance in feature_importance_files:\n",
    "    \n",
    "    print(feature_importance)\n",
    "    attrib_df = pd.read_csv(feature_importance)\n",
    "    \n",
    "    # reverse order for DE\n",
    "    if 'differential_expression' in feature_importance:\n",
    "        attrib_df[attrib_df.columns[1:]] *= -1\n",
    "    \n",
    "    n_features = attrib_df.shape[0]\n",
    "    if n_features < adata.shape[1]:\n",
    "        raise ValueError(\n",
    "            f\"Attributions only calculated for {n_features} genes but adata has {adata.shape[1]}\")\n",
    "    elif n_features > adata.shape[1]:\n",
    "        print(f'Only using attributions for {adata.shape[1]} genes.')\n",
    "        attrib_df = attrib_df.set_index('gene_symbols').loc[adata.var_names].reset_index().rename({'index':'gene_symbols'}, axis=1)\n",
    "    \n",
    "    rankings, gene_indices = generate_rankings(attrib_df)  # probably should generate gene indices from adata or idk?\n",
    "    attribution_masks[feature_importance.split(\"/\")[-2]], incremental_sparsity = \\\n",
    "        generate_masked_inputs(rankings, gene_indices, attrib_df, thresholds)\n",
    "    \n",
    "    x, y = zip(*incremental_sparsity)\n",
    "    plt.scatter(x, y, label=feature_importance.split('/')[-1].split('.')[0])\n",
    "\n",
    "plt.ylabel('frac non-zero')\n",
    "plt.xlabel('frac important features masked')\n",
    "plt.legend(bbox_to_anchor=(1.01, 1.05))\n",
    "plt.show()"
   ]
  },
  {
   "cell_type": "markdown",
   "id": "7ed47e84",
   "metadata": {},
   "source": [
    "## Pass to model"
   ]
  },
  {
   "cell_type": "code",
   "execution_count": 50,
   "id": "55af3844",
   "metadata": {},
   "outputs": [
    {
     "ename": "KeyboardInterrupt",
     "evalue": "",
     "output_type": "error",
     "traceback": [
      "\u001b[0;31m---------------------------------------------------------------------------\u001b[0m",
      "\u001b[0;31mKeyboardInterrupt\u001b[0m                         Traceback (most recent call last)",
      "File \u001b[0;32m<timed exec>:8\u001b[0m, in \u001b[0;36m<module>\u001b[0;34m\u001b[0m\n",
      "File \u001b[0;32m~/miniconda3/envs/fa_base/lib/python3.8/site-packages/scanpy/neighbors/__init__.py:139\u001b[0m, in \u001b[0;36mneighbors\u001b[0;34m(adata, n_neighbors, n_pcs, use_rep, knn, random_state, method, metric, metric_kwds, key_added, copy)\u001b[0m\n\u001b[1;32m    137\u001b[0m     adata\u001b[38;5;241m.\u001b[39m_init_as_actual(adata\u001b[38;5;241m.\u001b[39mcopy())\n\u001b[1;32m    138\u001b[0m neighbors \u001b[38;5;241m=\u001b[39m Neighbors(adata)\n\u001b[0;32m--> 139\u001b[0m \u001b[43mneighbors\u001b[49m\u001b[38;5;241;43m.\u001b[39;49m\u001b[43mcompute_neighbors\u001b[49m\u001b[43m(\u001b[49m\n\u001b[1;32m    140\u001b[0m \u001b[43m    \u001b[49m\u001b[43mn_neighbors\u001b[49m\u001b[38;5;241;43m=\u001b[39;49m\u001b[43mn_neighbors\u001b[49m\u001b[43m,\u001b[49m\n\u001b[1;32m    141\u001b[0m \u001b[43m    \u001b[49m\u001b[43mknn\u001b[49m\u001b[38;5;241;43m=\u001b[39;49m\u001b[43mknn\u001b[49m\u001b[43m,\u001b[49m\n\u001b[1;32m    142\u001b[0m \u001b[43m    \u001b[49m\u001b[43mn_pcs\u001b[49m\u001b[38;5;241;43m=\u001b[39;49m\u001b[43mn_pcs\u001b[49m\u001b[43m,\u001b[49m\n\u001b[1;32m    143\u001b[0m \u001b[43m    \u001b[49m\u001b[43muse_rep\u001b[49m\u001b[38;5;241;43m=\u001b[39;49m\u001b[43muse_rep\u001b[49m\u001b[43m,\u001b[49m\n\u001b[1;32m    144\u001b[0m \u001b[43m    \u001b[49m\u001b[43mmethod\u001b[49m\u001b[38;5;241;43m=\u001b[39;49m\u001b[43mmethod\u001b[49m\u001b[43m,\u001b[49m\n\u001b[1;32m    145\u001b[0m \u001b[43m    \u001b[49m\u001b[43mmetric\u001b[49m\u001b[38;5;241;43m=\u001b[39;49m\u001b[43mmetric\u001b[49m\u001b[43m,\u001b[49m\n\u001b[1;32m    146\u001b[0m \u001b[43m    \u001b[49m\u001b[43mmetric_kwds\u001b[49m\u001b[38;5;241;43m=\u001b[39;49m\u001b[43mmetric_kwds\u001b[49m\u001b[43m,\u001b[49m\n\u001b[1;32m    147\u001b[0m \u001b[43m    \u001b[49m\u001b[43mrandom_state\u001b[49m\u001b[38;5;241;43m=\u001b[39;49m\u001b[43mrandom_state\u001b[49m\u001b[43m,\u001b[49m\n\u001b[1;32m    148\u001b[0m \u001b[43m\u001b[49m\u001b[43m)\u001b[49m\n\u001b[1;32m    150\u001b[0m \u001b[38;5;28;01mif\u001b[39;00m key_added \u001b[38;5;129;01mis\u001b[39;00m \u001b[38;5;28;01mNone\u001b[39;00m:\n\u001b[1;32m    151\u001b[0m     key_added \u001b[38;5;241m=\u001b[39m \u001b[38;5;124m'\u001b[39m\u001b[38;5;124mneighbors\u001b[39m\u001b[38;5;124m'\u001b[39m\n",
      "File \u001b[0;32m~/miniconda3/envs/fa_base/lib/python3.8/site-packages/scanpy/neighbors/__init__.py:811\u001b[0m, in \u001b[0;36mNeighbors.compute_neighbors\u001b[0;34m(self, n_neighbors, knn, n_pcs, use_rep, method, random_state, write_knn_indices, metric, metric_kwds)\u001b[0m\n\u001b[1;32m    807\u001b[0m start_connect \u001b[38;5;241m=\u001b[39m logg\u001b[38;5;241m.\u001b[39mdebug(\u001b[38;5;124m'\u001b[39m\u001b[38;5;124mcomputed neighbors\u001b[39m\u001b[38;5;124m'\u001b[39m, time\u001b[38;5;241m=\u001b[39mstart_neighbors)\n\u001b[1;32m    808\u001b[0m \u001b[38;5;28;01mif\u001b[39;00m \u001b[38;5;129;01mnot\u001b[39;00m use_dense_distances \u001b[38;5;129;01mor\u001b[39;00m method \u001b[38;5;129;01min\u001b[39;00m {\u001b[38;5;124m'\u001b[39m\u001b[38;5;124mumap\u001b[39m\u001b[38;5;124m'\u001b[39m, \u001b[38;5;124m'\u001b[39m\u001b[38;5;124mrapids\u001b[39m\u001b[38;5;124m'\u001b[39m}:\n\u001b[1;32m    809\u001b[0m     \u001b[38;5;66;03m# we need self._distances also for method == 'gauss' if we didn't\u001b[39;00m\n\u001b[1;32m    810\u001b[0m     \u001b[38;5;66;03m# use dense distances\u001b[39;00m\n\u001b[0;32m--> 811\u001b[0m     \u001b[38;5;28mself\u001b[39m\u001b[38;5;241m.\u001b[39m_distances, \u001b[38;5;28mself\u001b[39m\u001b[38;5;241m.\u001b[39m_connectivities \u001b[38;5;241m=\u001b[39m \u001b[43m_compute_connectivities_umap\u001b[49m\u001b[43m(\u001b[49m\n\u001b[1;32m    812\u001b[0m \u001b[43m        \u001b[49m\u001b[43mknn_indices\u001b[49m\u001b[43m,\u001b[49m\n\u001b[1;32m    813\u001b[0m \u001b[43m        \u001b[49m\u001b[43mknn_distances\u001b[49m\u001b[43m,\u001b[49m\n\u001b[1;32m    814\u001b[0m \u001b[43m        \u001b[49m\u001b[38;5;28;43mself\u001b[39;49m\u001b[38;5;241;43m.\u001b[39;49m\u001b[43m_adata\u001b[49m\u001b[38;5;241;43m.\u001b[39;49m\u001b[43mshape\u001b[49m\u001b[43m[\u001b[49m\u001b[38;5;241;43m0\u001b[39;49m\u001b[43m]\u001b[49m\u001b[43m,\u001b[49m\n\u001b[1;32m    815\u001b[0m \u001b[43m        \u001b[49m\u001b[38;5;28;43mself\u001b[39;49m\u001b[38;5;241;43m.\u001b[39;49m\u001b[43mn_neighbors\u001b[49m\u001b[43m,\u001b[49m\n\u001b[1;32m    816\u001b[0m \u001b[43m    \u001b[49m\u001b[43m)\u001b[49m\n\u001b[1;32m    817\u001b[0m \u001b[38;5;66;03m# overwrite the umap connectivities if method is 'gauss'\u001b[39;00m\n\u001b[1;32m    818\u001b[0m \u001b[38;5;66;03m# self._distances is unaffected by this\u001b[39;00m\n\u001b[1;32m    819\u001b[0m \u001b[38;5;28;01mif\u001b[39;00m method \u001b[38;5;241m==\u001b[39m \u001b[38;5;124m'\u001b[39m\u001b[38;5;124mgauss\u001b[39m\u001b[38;5;124m'\u001b[39m:\n",
      "File \u001b[0;32m~/miniconda3/envs/fa_base/lib/python3.8/site-packages/scanpy/neighbors/__init__.py:410\u001b[0m, in \u001b[0;36m_compute_connectivities_umap\u001b[0;34m(knn_indices, knn_dists, n_obs, n_neighbors, set_op_mix_ratio, local_connectivity)\u001b[0m\n\u001b[1;32m    406\u001b[0m \u001b[38;5;28;01mif\u001b[39;00m \u001b[38;5;28misinstance\u001b[39m(connectivities, \u001b[38;5;28mtuple\u001b[39m):\n\u001b[1;32m    407\u001b[0m     \u001b[38;5;66;03m# In umap-learn 0.4, this returns (result, sigmas, rhos)\u001b[39;00m\n\u001b[1;32m    408\u001b[0m     connectivities \u001b[38;5;241m=\u001b[39m connectivities[\u001b[38;5;241m0\u001b[39m]\n\u001b[0;32m--> 410\u001b[0m distances \u001b[38;5;241m=\u001b[39m \u001b[43m_get_sparse_matrix_from_indices_distances_umap\u001b[49m\u001b[43m(\u001b[49m\n\u001b[1;32m    411\u001b[0m \u001b[43m    \u001b[49m\u001b[43mknn_indices\u001b[49m\u001b[43m,\u001b[49m\u001b[43m \u001b[49m\u001b[43mknn_dists\u001b[49m\u001b[43m,\u001b[49m\u001b[43m \u001b[49m\u001b[43mn_obs\u001b[49m\u001b[43m,\u001b[49m\u001b[43m \u001b[49m\u001b[43mn_neighbors\u001b[49m\n\u001b[1;32m    412\u001b[0m \u001b[43m\u001b[49m\u001b[43m)\u001b[49m\n\u001b[1;32m    414\u001b[0m \u001b[38;5;28;01mreturn\u001b[39;00m distances, connectivities\u001b[38;5;241m.\u001b[39mtocsr()\n",
      "File \u001b[0;32m~/miniconda3/envs/fa_base/lib/python3.8/site-packages/scanpy/neighbors/__init__.py:363\u001b[0m, in \u001b[0;36m_get_sparse_matrix_from_indices_distances_umap\u001b[0;34m(knn_indices, knn_dists, n_obs, n_neighbors)\u001b[0m\n\u001b[1;32m    360\u001b[0m             val \u001b[38;5;241m=\u001b[39m knn_dists[i, j]\n\u001b[1;32m    362\u001b[0m         rows[i \u001b[38;5;241m*\u001b[39m n_neighbors \u001b[38;5;241m+\u001b[39m j] \u001b[38;5;241m=\u001b[39m i\n\u001b[0;32m--> 363\u001b[0m         \u001b[43mcols\u001b[49m\u001b[43m[\u001b[49m\u001b[43mi\u001b[49m\u001b[43m \u001b[49m\u001b[38;5;241;43m*\u001b[39;49m\u001b[43m \u001b[49m\u001b[43mn_neighbors\u001b[49m\u001b[43m \u001b[49m\u001b[38;5;241;43m+\u001b[39;49m\u001b[43m \u001b[49m\u001b[43mj\u001b[49m\u001b[43m]\u001b[49m \u001b[38;5;241m=\u001b[39m knn_indices[i, j]\n\u001b[1;32m    364\u001b[0m         vals[i \u001b[38;5;241m*\u001b[39m n_neighbors \u001b[38;5;241m+\u001b[39m j] \u001b[38;5;241m=\u001b[39m val\n\u001b[1;32m    366\u001b[0m result \u001b[38;5;241m=\u001b[39m coo_matrix((vals, (rows, cols)), shape\u001b[38;5;241m=\u001b[39m(n_obs, n_obs))\n",
      "\u001b[0;31mKeyboardInterrupt\u001b[0m: "
     ]
    }
   ],
   "source": [
    "%%time\n",
    "for k, masks_dict in attribution_masks.items():\n",
    "    for threshold in thresholds:\n",
    "        \n",
    "        adata.X = masks_dict[f'masked_{threshold}']\n",
    "        X = model.get_latent_representation(adata)\n",
    "        \n",
    "        ref_emb = ad.AnnData(X, obs=adata.obs)\n",
    "        sc.pp.neighbors(ref_emb, n_neighbors=30)\n",
    "\n",
    "        perform_label_transfer(\n",
    "            ref_emb=ref_emb, query_emb=ref_emb, cell_type_column=\"scanvi_label\"\n",
    "        )\n",
    "        \n",
    "        adata.obs[f'{k}_masked_{threshold}_pred'] = ref_emb.obs['transf_scanvi_label'].copy()\n",
    "        break\n",
    "#         new_batch = batch.copy()\n",
    "#         new_batch['X'] = masks_dict[f'masked_{threshold}']\n",
    "\n",
    "#         adata.layers[f'{k}_masked_{threshold}_pred'] = \\\n",
    "#             model.module.forward(new_batch, compute_loss=False)[1]['px'].detach().numpy()"
   ]
  },
  {
   "cell_type": "code",
   "execution_count": 49,
   "id": "adf80b2b",
   "metadata": {},
   "outputs": [
    {
     "ename": "KeyError",
     "evalue": "'baselines_masked_0_pred'",
     "output_type": "error",
     "traceback": [
      "\u001b[0;31m---------------------------------------------------------------------------\u001b[0m",
      "\u001b[0;31mKeyError\u001b[0m                                  Traceback (most recent call last)",
      "File \u001b[0;32m~/miniconda3/envs/fa_base/lib/python3.8/site-packages/pandas/core/indexes/base.py:3802\u001b[0m, in \u001b[0;36mIndex.get_loc\u001b[0;34m(self, key, method, tolerance)\u001b[0m\n\u001b[1;32m   3801\u001b[0m \u001b[38;5;28;01mtry\u001b[39;00m:\n\u001b[0;32m-> 3802\u001b[0m     \u001b[38;5;28;01mreturn\u001b[39;00m \u001b[38;5;28;43mself\u001b[39;49m\u001b[38;5;241;43m.\u001b[39;49m\u001b[43m_engine\u001b[49m\u001b[38;5;241;43m.\u001b[39;49m\u001b[43mget_loc\u001b[49m\u001b[43m(\u001b[49m\u001b[43mcasted_key\u001b[49m\u001b[43m)\u001b[49m\n\u001b[1;32m   3803\u001b[0m \u001b[38;5;28;01mexcept\u001b[39;00m \u001b[38;5;167;01mKeyError\u001b[39;00m \u001b[38;5;28;01mas\u001b[39;00m err:\n",
      "File \u001b[0;32m~/miniconda3/envs/fa_base/lib/python3.8/site-packages/pandas/_libs/index.pyx:138\u001b[0m, in \u001b[0;36mpandas._libs.index.IndexEngine.get_loc\u001b[0;34m()\u001b[0m\n",
      "File \u001b[0;32m~/miniconda3/envs/fa_base/lib/python3.8/site-packages/pandas/_libs/index.pyx:165\u001b[0m, in \u001b[0;36mpandas._libs.index.IndexEngine.get_loc\u001b[0;34m()\u001b[0m\n",
      "File \u001b[0;32mpandas/_libs/hashtable_class_helper.pxi:5745\u001b[0m, in \u001b[0;36mpandas._libs.hashtable.PyObjectHashTable.get_item\u001b[0;34m()\u001b[0m\n",
      "File \u001b[0;32mpandas/_libs/hashtable_class_helper.pxi:5753\u001b[0m, in \u001b[0;36mpandas._libs.hashtable.PyObjectHashTable.get_item\u001b[0;34m()\u001b[0m\n",
      "\u001b[0;31mKeyError\u001b[0m: 'baselines_masked_0_pred'",
      "\nThe above exception was the direct cause of the following exception:\n",
      "\u001b[0;31mKeyError\u001b[0m                                  Traceback (most recent call last)",
      "Input \u001b[0;32mIn [49]\u001b[0m, in \u001b[0;36m<cell line: 5>\u001b[0;34m()\u001b[0m\n\u001b[1;32m      5\u001b[0m \u001b[38;5;28;01mfor\u001b[39;00m k, masks_dict \u001b[38;5;129;01min\u001b[39;00m attribution_masks\u001b[38;5;241m.\u001b[39mitems():\n\u001b[1;32m      6\u001b[0m     \u001b[38;5;28;01mfor\u001b[39;00m threshold \u001b[38;5;129;01min\u001b[39;00m thresholds:\n\u001b[0;32m----> 7\u001b[0m         f1_score(labels, \u001b[43madata\u001b[49m\u001b[38;5;241;43m.\u001b[39;49m\u001b[43mobs\u001b[49m\u001b[43m[\u001b[49m\u001b[38;5;124;43mf\u001b[39;49m\u001b[38;5;124;43m'\u001b[39;49m\u001b[38;5;132;43;01m{\u001b[39;49;00m\u001b[43mk\u001b[49m\u001b[38;5;132;43;01m}\u001b[39;49;00m\u001b[38;5;124;43m_masked_\u001b[39;49m\u001b[38;5;132;43;01m{\u001b[39;49;00m\u001b[43mthreshold\u001b[49m\u001b[38;5;132;43;01m}\u001b[39;49;00m\u001b[38;5;124;43m_pred\u001b[39;49m\u001b[38;5;124;43m'\u001b[39;49m\u001b[43m]\u001b[49m\u001b[38;5;241m.\u001b[39mvalues)\n",
      "File \u001b[0;32m~/miniconda3/envs/fa_base/lib/python3.8/site-packages/pandas/core/frame.py:3807\u001b[0m, in \u001b[0;36mDataFrame.__getitem__\u001b[0;34m(self, key)\u001b[0m\n\u001b[1;32m   3805\u001b[0m \u001b[38;5;28;01mif\u001b[39;00m \u001b[38;5;28mself\u001b[39m\u001b[38;5;241m.\u001b[39mcolumns\u001b[38;5;241m.\u001b[39mnlevels \u001b[38;5;241m>\u001b[39m \u001b[38;5;241m1\u001b[39m:\n\u001b[1;32m   3806\u001b[0m     \u001b[38;5;28;01mreturn\u001b[39;00m \u001b[38;5;28mself\u001b[39m\u001b[38;5;241m.\u001b[39m_getitem_multilevel(key)\n\u001b[0;32m-> 3807\u001b[0m indexer \u001b[38;5;241m=\u001b[39m \u001b[38;5;28;43mself\u001b[39;49m\u001b[38;5;241;43m.\u001b[39;49m\u001b[43mcolumns\u001b[49m\u001b[38;5;241;43m.\u001b[39;49m\u001b[43mget_loc\u001b[49m\u001b[43m(\u001b[49m\u001b[43mkey\u001b[49m\u001b[43m)\u001b[49m\n\u001b[1;32m   3808\u001b[0m \u001b[38;5;28;01mif\u001b[39;00m is_integer(indexer):\n\u001b[1;32m   3809\u001b[0m     indexer \u001b[38;5;241m=\u001b[39m [indexer]\n",
      "File \u001b[0;32m~/miniconda3/envs/fa_base/lib/python3.8/site-packages/pandas/core/indexes/base.py:3804\u001b[0m, in \u001b[0;36mIndex.get_loc\u001b[0;34m(self, key, method, tolerance)\u001b[0m\n\u001b[1;32m   3802\u001b[0m     \u001b[38;5;28;01mreturn\u001b[39;00m \u001b[38;5;28mself\u001b[39m\u001b[38;5;241m.\u001b[39m_engine\u001b[38;5;241m.\u001b[39mget_loc(casted_key)\n\u001b[1;32m   3803\u001b[0m \u001b[38;5;28;01mexcept\u001b[39;00m \u001b[38;5;167;01mKeyError\u001b[39;00m \u001b[38;5;28;01mas\u001b[39;00m err:\n\u001b[0;32m-> 3804\u001b[0m     \u001b[38;5;28;01mraise\u001b[39;00m \u001b[38;5;167;01mKeyError\u001b[39;00m(key) \u001b[38;5;28;01mfrom\u001b[39;00m \u001b[38;5;21;01merr\u001b[39;00m\n\u001b[1;32m   3805\u001b[0m \u001b[38;5;28;01mexcept\u001b[39;00m \u001b[38;5;167;01mTypeError\u001b[39;00m:\n\u001b[1;32m   3806\u001b[0m     \u001b[38;5;66;03m# If we have a listlike key, _check_indexing_error will raise\u001b[39;00m\n\u001b[1;32m   3807\u001b[0m     \u001b[38;5;66;03m#  InvalidIndexError. Otherwise we fall through and re-raise\u001b[39;00m\n\u001b[1;32m   3808\u001b[0m     \u001b[38;5;66;03m#  the TypeError.\u001b[39;00m\n\u001b[1;32m   3809\u001b[0m     \u001b[38;5;28mself\u001b[39m\u001b[38;5;241m.\u001b[39m_check_indexing_error(key)\n",
      "\u001b[0;31mKeyError\u001b[0m: 'baselines_masked_0_pred'"
     ]
    }
   ],
   "source": [
    "# compute metrics\n",
    "labels = adata.obs.scanvi_label.values\n",
    "\n",
    "from sklearn.metrics import f1_score\n",
    "for k, masks_dict in attribution_masks.items():\n",
    "    for threshold in thresholds:\n",
    "        f1_score(labels, adata.obs[f'{k}_masked_{threshold}_pred'].values)"
   ]
  },
  {
   "cell_type": "code",
   "execution_count": null,
   "id": "d92b5b5b",
   "metadata": {},
   "outputs": [],
   "source": []
  }
 ],
 "metadata": {
  "kernelspec": {
   "display_name": "Python [conda env:fa_base]",
   "language": "python",
   "name": "conda-env-fa_base-py"
  },
  "language_info": {
   "codemirror_mode": {
    "name": "ipython",
    "version": 3
   },
   "file_extension": ".py",
   "mimetype": "text/x-python",
   "name": "python",
   "nbconvert_exporter": "python",
   "pygments_lexer": "ipython3",
   "version": "3.8.2"
  }
 },
 "nbformat": 4,
 "nbformat_minor": 5
}
