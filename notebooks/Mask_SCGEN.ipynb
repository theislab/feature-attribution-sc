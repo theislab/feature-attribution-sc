{
 "cells": [
  {
   "cell_type": "code",
   "execution_count": 1,
   "id": "8f764a5f-2ce8-42f1-ab9d-9cecde0be1e3",
   "metadata": {},
   "outputs": [],
   "source": [
    "%load_ext autoreload"
   ]
  },
  {
   "cell_type": "code",
   "execution_count": 2,
   "id": "1b048094-5d6d-499a-a496-9ee46192c4a5",
   "metadata": {},
   "outputs": [
    {
     "name": "stderr",
     "output_type": "stream",
     "text": [
      "Global seed set to 0\n"
     ]
    }
   ],
   "source": [
    "# pl packages\n",
    "import argparse\n",
    "import torch\n",
    "from pytorch_lightning.utilities.seed import seed_everything\n",
    "\n",
    "# python packages\n",
    "import os\n",
    "import pandas as pd\n",
    "\n",
    "os.chdir('../')\n",
    "import sys\n",
    "\n",
    "root = os.path.dirname(os.path.abspath(os.curdir))\n",
    "sys.path.append(root)\n",
    "\n",
    "# single cell packages\n",
    "import scanpy as sc\n",
    "from scvi import REGISTRY_KEYS"
   ]
  },
  {
   "cell_type": "code",
   "execution_count": 3,
   "id": "b297b4f3-8ad1-4f94-b1c2-bdd186e9e60b",
   "metadata": {},
   "outputs": [],
   "source": [
    "%autoreload 2\n",
    "# own packages\n",
    "from feature_attribution_sc.models.scgen_models import SCGENCustom"
   ]
  },
  {
   "cell_type": "code",
   "execution_count": 4,
   "id": "97aaad96-030a-49a6-bf8c-faf9c6bba6fc",
   "metadata": {},
   "outputs": [],
   "source": [
    "batch_size=2048\n",
    "feature_importance='/home/icb/till.richter/git/feature-attribution-sc/outputs/baselines/task1_random.csv'\n",
    "threshold=0.5\n",
    "data_path='/home/icb/yuge.ji/projects/feature-attribution-sc/'\n",
    "CHECKPOINT_PATH='/home/icb/till.richter/git/feature-attribution-sc/trained_models/scgen/'\n",
    "max_epochs=500\n",
    "early_stopping=True\n",
    "patience=10"
   ]
  },
  {
   "cell_type": "code",
   "execution_count": 5,
   "id": "c00943e2-77d8-40e0-9b91-0707cfc5999b",
   "metadata": {},
   "outputs": [],
   "source": [
    "# GET GPU AND ARGS\n",
    "if torch.cuda.is_available():\n",
    "    print(f'CUDA_VISIBLE_DEVICES: {os.environ[\"CUDA_VISIBLE_DEVICES\"]}')"
   ]
  },
  {
   "cell_type": "code",
   "execution_count": 6,
   "id": "61d202c5-25eb-4f0b-b273-29e8d3359cb5",
   "metadata": {},
   "outputs": [],
   "source": [
    "# GET DATA\n",
    "adata = sc.read(f'{data_path}/datasets/scgen_norman19.h5ad')"
   ]
  },
  {
   "cell_type": "code",
   "execution_count": 7,
   "id": "8e6cdbb4-a5b1-4064-bbde-3923c12e2d99",
   "metadata": {},
   "outputs": [
    {
     "name": "stderr",
     "output_type": "stream",
     "text": [
      "Global seed set to 90\n"
     ]
    },
    {
     "data": {
      "text/plain": [
       "90"
      ]
     },
     "execution_count": 7,
     "metadata": {},
     "output_type": "execute_result"
    }
   ],
   "source": [
    "# FIX SEED FOR REPRODUCIBILITY\n",
    "seed_everything(90)"
   ]
  },
  {
   "cell_type": "code",
   "execution_count": 8,
   "id": "335017f9-002f-400c-9307-8bbe1c7091a8",
   "metadata": {},
   "outputs": [],
   "source": [
    "# GET MODEL\n",
    "SCGENCustom.setup_anndata(adata)"
   ]
  },
  {
   "cell_type": "code",
   "execution_count": 9,
   "id": "44a0c36e-05bc-42ca-875f-e7dc9749987c",
   "metadata": {},
   "outputs": [],
   "source": [
    "model = SCGENCustom(adata, feature_importance=pd.read_csv(feature_importance), threshold=threshold)"
   ]
  },
  {
   "cell_type": "code",
   "execution_count": 10,
   "id": "d9393a48-6799-49fc-b8ee-f7b7d830dcd0",
   "metadata": {},
   "outputs": [
    {
     "name": "stdout",
     "output_type": "stream",
     "text": [
      "CHECKPOINT_PATH: /home/icb/till.richter/git/feature-attribution-sc/trained_models/scgen/task1_random_0.5_checkpoints.pt\n"
     ]
    }
   ],
   "source": [
    "# CHECKPOINT CALLBACK\n",
    "CHECKPOINT_PATH = CHECKPOINT_PATH + feature_importance.split('/')[-1].split('.')[\n",
    "    0] + '_' + str(threshold) + '_checkpoints.pt'  # set checkpoint path\n",
    "print(f'CHECKPOINT_PATH: {CHECKPOINT_PATH}')\n",
    "\n",
    "model.save(CHECKPOINT_PATH, overwrite=True)  # save model to checkpoint"
   ]
  },
  {
   "cell_type": "code",
   "execution_count": 11,
   "id": "0e601988-8546-4b02-bd66-9e2383214027",
   "metadata": {
    "tags": []
   },
   "outputs": [
    {
     "name": "stderr",
     "output_type": "stream",
     "text": [
      "GPU available: False, used: False\n",
      "TPU available: False, using: 0 TPU cores\n",
      "IPU available: False, using: 0 IPUs\n"
     ]
    },
    {
     "name": "stdout",
     "output_type": "stream",
     "text": [
      "Epoch 2/500:   0%|▎                                                                                                                                                              | 1/500 [02:17<19:07:28, 137.97s/it, loss=841, v_num=1]"
     ]
    }
   ],
   "source": [
    "# TRAIN\n",
    "model.train(\n",
    "    max_epochs=max_epochs,\n",
    "    batch_size=batch_size,\n",
    "    early_stopping=early_stopping,\n",
    "    early_stopping_patience=patience\n",
    ")"
   ]
  },
  {
   "cell_type": "code",
   "execution_count": null,
   "id": "8c4deff8-f648-4209-a834-34b53b2f14c7",
   "metadata": {},
   "outputs": [],
   "source": []
  }
 ],
 "metadata": {
  "kernelspec": {
   "display_name": "fa_base",
   "language": "python",
   "name": "fa_base"
  },
  "language_info": {
   "codemirror_mode": {
    "name": "ipython",
    "version": 3
   },
   "file_extension": ".py",
   "mimetype": "text/x-python",
   "name": "python",
   "nbconvert_exporter": "python",
   "pygments_lexer": "ipython3",
   "version": "3.8.2"
  }
 },
 "nbformat": 4,
 "nbformat_minor": 5
}
