{
 "cells": [
  {
   "cell_type": "code",
   "execution_count": 1,
   "id": "3b460115",
   "metadata": {},
   "outputs": [
    {
     "name": "stderr",
     "output_type": "stream",
     "text": [
      "Global seed set to 0\n",
      "/home/yuge/miniconda3/envs/fa_base/lib/python3.8/site-packages/numba/core/cpu.py:78: UserWarning: Numba extension module 'sparse._numba_extension' failed to load due to 'ModuleNotFoundError(No module named 'numba.targets')'.\n",
      "  numba.core.entrypoints.init_all()\n",
      "2023-02-02 16:26:52.131015: W tensorflow/compiler/xla/stream_executor/platform/default/dso_loader.cc:64] Could not load dynamic library 'libnvinfer.so.7'; dlerror: libnvinfer.so.7: cannot open shared object file: No such file or directory\n",
      "2023-02-02 16:26:52.131070: W tensorflow/compiler/xla/stream_executor/platform/default/dso_loader.cc:64] Could not load dynamic library 'libnvinfer_plugin.so.7'; dlerror: libnvinfer_plugin.so.7: cannot open shared object file: No such file or directory\n",
      "2023-02-02 16:26:52.131075: W tensorflow/compiler/tf2tensorrt/utils/py_utils.cc:38] TF-TRT Warning: Cannot dlopen some TensorRT libraries. If you would like to use Nvidia GPU with TensorRT, please make sure the missing libraries mentioned above are installed properly.\n"
     ]
    },
    {
     "name": "stdout",
     "output_type": "stream",
     "text": [
      "scanpy==1.9.1 anndata==0.8.0 umap==0.5.3 numpy==1.23.3 scipy==1.10.0 pandas==1.5.0 scikit-learn==1.1.2 statsmodels==0.13.2 python-igraph==0.10.3 pynndescent==0.5.7\n"
     ]
    }
   ],
   "source": [
    "import torch\n",
    "import scvi\n",
    "import pandas as pd\n",
    "import numpy as np\n",
    "import scanpy as sc\n",
    "import scgen\n",
    "import matplotlib.pyplot as plt\n",
    "import seaborn as sns\n",
    "from captum.attr import FeatureAblation\n",
    "\n",
    "sc.set_figure_params(dpi=100, frameon=False, color_map='Reds', facecolor=None)\n",
    "sc.logging.print_header()"
   ]
  },
  {
   "cell_type": "code",
   "execution_count": 11,
   "id": "b1933a14",
   "metadata": {},
   "outputs": [],
   "source": []
  },
  {
   "cell_type": "markdown",
   "id": "06cdd5ae",
   "metadata": {},
   "source": [
    "### load model and data"
   ]
  },
  {
   "cell_type": "code",
   "execution_count": 2,
   "id": "e45e03bb",
   "metadata": {},
   "outputs": [
    {
     "name": "stderr",
     "output_type": "stream",
     "text": [
      "/home/yuge/miniconda3/envs/fa_base/lib/python3.8/site-packages/anndata/_core/anndata.py:1830: UserWarning: Variable names are not unique. To make them unique, call `.var_names_make_unique`.\n",
      "  utils.warn_names_duplicates(\"var\")\n"
     ]
    },
    {
     "data": {
      "text/plain": [
       "AnnData object with n_obs × n_vars = 136498 × 1431\n",
       "    obs: 'batch', 'gene', 'gene_id', 'transcript', 'gene_transcript', 'guide_id', 'percent_mito', 'UMI_count', 'z_gemgroup_UMI', 'core_scale_factor', 'core_adjusted_UMI_count', 'disease', 'cancer', 'cell_line', 'sex', 'age', 'perturbation', 'organism', 'perturbation_type', 'tissue_type', 'ncounts', 'ngenes', 'nperts', 'percent_ribo', 'perturbation_name', 'split', 'n_genes'\n",
       "    var: 'chr', 'start', 'end', 'class', 'strand', 'length', 'in_matrix', 'mean', 'std', 'cv', 'fano', 'ensembl_id', 'ncounts', 'ncells', 'highly_variable', 'means', 'dispersions', 'dispersions_norm'\n",
       "    uns: 'hvg', 'log1p', 'neighbors', 'perturbation_name_colors', 'umap'\n",
       "    obsm: 'X_pca', 'X_umap'\n",
       "    layers: 'counts'\n",
       "    obsp: 'connectivities', 'distances'"
      ]
     },
     "execution_count": 2,
     "metadata": {},
     "output_type": "execute_result"
    }
   ],
   "source": [
    "base_path = '../..'#'/home/icb/yuge.ji/projects/feature-attribution-sc'\n",
    "adata = sc.read(f'{base_path}/datasets/2301_scgen_replogle22.h5ad')\n",
    "adata"
   ]
  },
  {
   "cell_type": "code",
   "execution_count": 3,
   "id": "a03064fc",
   "metadata": {
    "scrolled": false
   },
   "outputs": [
    {
     "name": "stdout",
     "output_type": "stream",
     "text": [
      "\u001b[34mINFO    \u001b[0m File ..\u001b[35m/../models/scgen_replogle22_model0_random_v2/\u001b[0m\u001b[95mmodel.pt\u001b[0m already downloaded     \n"
     ]
    },
    {
     "name": "stderr",
     "output_type": "stream",
     "text": [
      "/home/yuge/miniconda3/envs/fa_base/lib/python3.8/site-packages/scvi/model/base/_utils.py:134: UserWarning: var_names for adata passed in does not match var_names of adata used to train the model. For valid results, the vars need to be the same and in the same order as the adata used to train the model.\n",
      "  warnings.warn(\n"
     ]
    },
    {
     "data": {
      "text/html": [
       "<pre style=\"white-space:pre;overflow-x:auto;line-height:normal;font-family:Menlo,'DejaVu Sans Mono',consolas,'Courier New',monospace\">SCGEN Model with the following params: \n",
       "n_hidden: <span style=\"color: #008080; text-decoration-color: #008080; font-weight: bold\">400</span>, n_latent: <span style=\"color: #008080; text-decoration-color: #008080; font-weight: bold\">30</span>, n_layers: <span style=\"color: #008080; text-decoration-color: #008080; font-weight: bold\">2</span>, dropout_rate: <span style=\"color: #008080; text-decoration-color: #008080; font-weight: bold\">0.2</span>\n",
       "Training status: Trained\n",
       "</pre>\n"
      ],
      "text/plain": [
       "SCGEN Model with the following params: \n",
       "n_hidden: \u001b[1;36m400\u001b[0m, n_latent: \u001b[1;36m30\u001b[0m, n_layers: \u001b[1;36m2\u001b[0m, dropout_rate: \u001b[1;36m0.2\u001b[0m\n",
       "Training status: Trained\n"
      ]
     },
     "metadata": {},
     "output_type": "display_data"
    },
    {
     "data": {
      "text/plain": []
     },
     "execution_count": 3,
     "metadata": {},
     "output_type": "execute_result"
    }
   ],
   "source": [
    "file = 'scgen_replogle22_model0_random_v2'\n",
    "model = scgen.SCGEN.load(f'{base_path}/models/{file}', adata=adata)\n",
    "model"
   ]
  },
  {
   "cell_type": "markdown",
   "id": "64423735",
   "metadata": {},
   "source": [
    "get perturbation names that match the labels (integers in the model):"
   ]
  },
  {
   "cell_type": "code",
   "execution_count": 4,
   "id": "07c1d977",
   "metadata": {},
   "outputs": [],
   "source": [
    "from scvi import REGISTRY_KEYS\n",
    "pert_names = model.adata_manager.get_state_registry(REGISTRY_KEYS.BATCH_KEY)['categorical_mapping']"
   ]
  },
  {
   "cell_type": "markdown",
   "id": "57682384",
   "metadata": {},
   "source": [
    "retrieve the data as a tensor from the dataloader. We'll define batch size to be the size of the whole dataset to do so."
   ]
  },
  {
   "cell_type": "code",
   "execution_count": 5,
   "id": "6aa120c6",
   "metadata": {},
   "outputs": [
    {
     "name": "stderr",
     "output_type": "stream",
     "text": [
      "/home/yuge/miniconda3/envs/fa_base/lib/python3.8/site-packages/anndata/_core/anndata.py:1830: UserWarning: Variable names are not unique. To make them unique, call `.var_names_make_unique`.\n",
      "  utils.warn_names_duplicates(\"var\")\n"
     ]
    }
   ],
   "source": [
    "# import numpy as np\n",
    "indices = [np.array(sc.pp.subsample(adata[adata.obs.perturbation_name == c], n_obs=100, copy=True).obs.index) for c in adata.obs.perturbation_name.unique()]\n",
    "adata = adata[list(np.array(indices).flatten())]\n",
    "# adata.write('../../datasets/norman19_subset.h5ad')\n",
    "\n",
    "# adata = sc.read('../../datasets/norman19_subset.h5ad')\n",
    "# adata"
   ]
  },
  {
   "cell_type": "code",
   "execution_count": 6,
   "id": "ca00c19b",
   "metadata": {},
   "outputs": [],
   "source": [
    "# only for FA w.r.t. reconstruction\n",
    "adata = adata[adata.obs.perturbation_name != 'control']"
   ]
  },
  {
   "cell_type": "code",
   "execution_count": 7,
   "id": "851e8f0e",
   "metadata": {},
   "outputs": [],
   "source": [
    "batch_size = adata.shape[0]"
   ]
  },
  {
   "cell_type": "markdown",
   "id": "46802460",
   "metadata": {},
   "source": [
    "create a dataloader and load your first batch (in this case all the cells):"
   ]
  },
  {
   "cell_type": "code",
   "execution_count": 8,
   "id": "0d3e4928",
   "metadata": {},
   "outputs": [
    {
     "name": "stdout",
     "output_type": "stream",
     "text": [
      "\u001b[34mINFO    \u001b[0m AnnData object appears to be a copy. Attempting to transfer setup.                  \n"
     ]
    },
    {
     "name": "stderr",
     "output_type": "stream",
     "text": [
      "/home/yuge/miniconda3/envs/fa_base/lib/python3.8/site-packages/anndata/compat/_overloaded_dict.py:106: ImplicitModificationWarning: Trying to modify attribute `._uns` of view, initializing view as actual.\n",
      "  self.data[key] = value\n",
      "/home/yuge/miniconda3/envs/fa_base/lib/python3.8/site-packages/anndata/_core/anndata.py:1830: UserWarning: Variable names are not unique. To make them unique, call `.var_names_make_unique`.\n",
      "  utils.warn_names_duplicates(\"var\")\n"
     ]
    }
   ],
   "source": [
    "scdl = model._make_data_loader(adata=adata, indices=list(range(adata.shape[0])), batch_size=batch_size)\n",
    "batch = next(scdl.__iter__())"
   ]
  },
  {
   "cell_type": "markdown",
   "id": "e557935e",
   "metadata": {},
   "source": [
    "### Measure feature attribution with respect to posterior"
   ]
  },
  {
   "cell_type": "markdown",
   "id": "08be65e4",
   "metadata": {},
   "source": [
    "Wrap `model.module.forward` because captum has an internal check that the inputs pass are tensors. scGen does not use a nb loss by default so we only have a single reconstruction output, `px`."
   ]
  },
  {
   "cell_type": "code",
   "execution_count": 7,
   "id": "f11cb120",
   "metadata": {},
   "outputs": [],
   "source": [
    "# inference output is in [0], generative output is in [1]\n",
    "forw = lambda x, y, z: model.module.forward({'X': x, 'batch':y, 'labels':z}, compute_loss=False)[1]['px']"
   ]
  },
  {
   "cell_type": "code",
   "execution_count": 8,
   "id": "b340cf99",
   "metadata": {},
   "outputs": [
    {
     "data": {
      "text/plain": [
       "torch.Size([2, 19018])"
      ]
     },
     "execution_count": 8,
     "metadata": {},
     "output_type": "execute_result"
    }
   ],
   "source": [
    "# example output\n",
    "model.module.forward(batch, compute_loss=False)[1]['px'].shape"
   ]
  },
  {
   "cell_type": "markdown",
   "id": "7ff15e16",
   "metadata": {},
   "source": [
    "create the ablator, containing the forward function inside of it:"
   ]
  },
  {
   "cell_type": "code",
   "execution_count": 9,
   "id": "c2ff9228",
   "metadata": {},
   "outputs": [],
   "source": [
    "ablator = FeatureAblation(forw)"
   ]
  },
  {
   "cell_type": "markdown",
   "id": "8ebed64a",
   "metadata": {},
   "source": [
    "Run the feature attribution function. The attribution below outputs a tensor per input tensor. Using the first tensor, captum ablates the gene features one by one, for every cell, and has shape (n_cells * output_dim) * n_genes, where output_dim = n_genes because the output is the reconstructed cell. The other ablates the (biological) `batch` variable, which it takes as a single, continuous variable (even though it is a one-hot encoded (n_datasets)-dimensional variable), and therefore ablates it once per cell, and outputs a (n_cells * output_dim) * 1 shape tensor. The same thing happens for `labels`. We'll ignore both of these last two."
   ]
  },
  {
   "cell_type": "code",
   "execution_count": 10,
   "id": "157695eb",
   "metadata": {},
   "outputs": [
    {
     "name": "stderr",
     "output_type": "stream",
     "text": [
      "Feature Ablation attribution: 100%|█████████████████████████████████████████████████████████████████████████████████████████████████████████████████████████████████████████████████████████████████████████████████| 19021/19021 [2:39:50<00:00,  1.98it/s]\n"
     ]
    },
    {
     "name": "stdout",
     "output_type": "stream",
     "text": [
      "CPU times: user 1d 2h 36min 48s, sys: 9h 57min 46s, total: 1d 12h 34min 35s\n",
      "Wall time: 2h 39min 51s\n"
     ]
    }
   ],
   "source": [
    "%%time\n",
    "# per feature per output\n",
    "attribution_map = ablator.attribute(\n",
    "    (batch['X'], batch['batch'], batch['labels']),\n",
    "    perturbations_per_eval=1,\n",
    "    show_progress=True\n",
    ")"
   ]
  },
  {
   "cell_type": "code",
   "execution_count": 17,
   "id": "a25130fe",
   "metadata": {},
   "outputs": [],
   "source": [
    "attribution_map_genes = attribution_map[0] # take only the first tensor (explained above)"
   ]
  },
  {
   "cell_type": "markdown",
   "id": "9e3f5f07",
   "metadata": {},
   "source": [
    "reshape"
   ]
  },
  {
   "cell_type": "code",
   "execution_count": 22,
   "id": "845f589d",
   "metadata": {},
   "outputs": [],
   "source": [
    "output_dim = adata.shape[1]\n",
    "attribution_map_genes_3d = attribution_map_genes.reshape((batch_size, output_dim, adata.shape[1]))  # need to check where things actually end up after the reshape"
   ]
  },
  {
   "cell_type": "markdown",
   "id": "1c5a1c46",
   "metadata": {},
   "source": [
    "TODO: save attribution map"
   ]
  },
  {
   "cell_type": "markdown",
   "id": "bd1ca18a",
   "metadata": {},
   "source": [
    "For each perturbation, calculate the mean absolute feature importance score per gene across all reconstructed features, ignoring other cells. Reasoning: the expression level of the gRNA target should have the greatest impact on the expression levels of all other genes, in those cells which were exposed to the gRNA. We take the absolute because the impact of the feature could have been positive or negative on gene expression."
   ]
  },
  {
   "cell_type": "code",
   "execution_count": 26,
   "id": "2136c256",
   "metadata": {},
   "outputs": [
    {
     "data": {
      "text/plain": [
       "tensor(2.0820e-05)"
      ]
     },
     "execution_count": 26,
     "metadata": {},
     "output_type": "execute_result"
    }
   ],
   "source": [
    "attribution_map_genes_3d.mean()"
   ]
  },
  {
   "cell_type": "code",
   "execution_count": 27,
   "id": "4419b519",
   "metadata": {},
   "outputs": [
    {
     "data": {
      "text/plain": [
       "tensor(0.8836)"
      ]
     },
     "execution_count": 27,
     "metadata": {},
     "output_type": "execute_result"
    }
   ],
   "source": [
    "attribution_map_genes_3d.max()"
   ]
  },
  {
   "cell_type": "code",
   "execution_count": 28,
   "id": "7a84b973",
   "metadata": {},
   "outputs": [
    {
     "data": {
      "text/plain": [
       "tensor(-0.1480)"
      ]
     },
     "execution_count": 28,
     "metadata": {},
     "output_type": "execute_result"
    }
   ],
   "source": [
    "attribution_map_genes_3d.min()"
   ]
  },
  {
   "cell_type": "code",
   "execution_count": 29,
   "id": "e159f82d",
   "metadata": {},
   "outputs": [
    {
     "data": {
      "text/plain": [
       "torch.Size([38036, 19018])"
      ]
     },
     "execution_count": 29,
     "metadata": {},
     "output_type": "execute_result"
    }
   ],
   "source": [
    "attribution_map_genes.shape"
   ]
  },
  {
   "cell_type": "markdown",
   "id": "9576ddaf",
   "metadata": {},
   "source": [
    "TODO: switch this to be a loss-based reconstruction because the feature importance score matrix is infeasibly large"
   ]
  },
  {
   "cell_type": "code",
   "execution_count": 11,
   "id": "7c007b13",
   "metadata": {},
   "outputs": [],
   "source": [
    "# means = pd.DataFrame(index=adata.var_names,columns=ct_names)"
   ]
  },
  {
   "cell_type": "code",
   "execution_count": 12,
   "id": "22e02f03",
   "metadata": {},
   "outputs": [],
   "source": [
    "# for ct in batch['labels'].unique():\n",
    "#     ct_float = ct.item()\n",
    "#     ct_int = int(ct_float)\n",
    "#     ct_indexing = (batch['labels'] == ct_float).reshape(-1)\n",
    "#     means.iloc[:,ct_int] = torch.mean(attribution_map_genes_3d[ct_indexing,ct_int,:],dim=0)"
   ]
  },
  {
   "cell_type": "markdown",
   "id": "6c7c1111",
   "metadata": {},
   "source": [
    "### measure against latent"
   ]
  },
  {
   "cell_type": "markdown",
   "id": "fd94c96a",
   "metadata": {},
   "source": [
    "Wrap `model.module.inference` because captum expects a single tensor output, and scGen's inference returns a `z`, `qz_m`, and `qz_v`."
   ]
  },
  {
   "cell_type": "code",
   "execution_count": 9,
   "id": "b3122a81",
   "metadata": {},
   "outputs": [],
   "source": [
    "forw = lambda x: model.module.inference(x)['z']"
   ]
  },
  {
   "cell_type": "code",
   "execution_count": 10,
   "id": "9e648fac",
   "metadata": {},
   "outputs": [],
   "source": [
    "ablator = FeatureAblation(forw)"
   ]
  },
  {
   "cell_type": "markdown",
   "id": "a3495b8b",
   "metadata": {},
   "source": [
    "Run the feature attribution function. Captum ablates the gene features one by one, for every cell, and has shape (n_cells * output_dim) * n_genes, where output_dim = latent_dim because the output is the latent representation."
   ]
  },
  {
   "cell_type": "code",
   "execution_count": 11,
   "id": "06e1d2a2",
   "metadata": {
    "scrolled": true
   },
   "outputs": [
    {
     "name": "stderr",
     "output_type": "stream",
     "text": [
      "Feature Ablation attribution: 100%|█████████████████████████████████████████████████████████████████████████████████████████████████████████████████████████████████████████████████████████████████████████████████████| 1432/1432 [39:19<00:00,  1.65s/it]"
     ]
    },
    {
     "name": "stdout",
     "output_type": "stream",
     "text": [
      "CPU times: user 7h 53min 56s, sys: 5h 30min 2s, total: 13h 23min 59s\n",
      "Wall time: 39min 19s\n"
     ]
    },
    {
     "name": "stderr",
     "output_type": "stream",
     "text": [
      "\n"
     ]
    }
   ],
   "source": [
    "%%time\n",
    "attribution_map = ablator.attribute(\n",
    "    batch['X'],\n",
    "    perturbations_per_eval=1,  # change after bug fix PR\n",
    "    show_progress=True\n",
    ")"
   ]
  },
  {
   "cell_type": "code",
   "execution_count": 12,
   "id": "32fc3e29",
   "metadata": {},
   "outputs": [
    {
     "data": {
      "text/plain": [
       "torch.Size([1227000, 1431])"
      ]
     },
     "execution_count": 12,
     "metadata": {},
     "output_type": "execute_result"
    }
   ],
   "source": [
    "attribution_map.shape"
   ]
  },
  {
   "cell_type": "markdown",
   "id": "9af33918",
   "metadata": {},
   "source": [
    "reshape"
   ]
  },
  {
   "cell_type": "code",
   "execution_count": 13,
   "id": "f43b74f7",
   "metadata": {},
   "outputs": [],
   "source": [
    "output_dim = 30\n",
    "attribution_map_genes_3d = attribution_map.reshape((batch_size, output_dim, adata.shape[1]))  # need to check where things actually end up after the reshape"
   ]
  },
  {
   "cell_type": "code",
   "execution_count": 14,
   "id": "612c6174",
   "metadata": {},
   "outputs": [
    {
     "data": {
      "text/plain": [
       "torch.Size([40900, 30, 1431])"
      ]
     },
     "execution_count": 14,
     "metadata": {},
     "output_type": "execute_result"
    }
   ],
   "source": [
    "attribution_map_genes_3d.shape"
   ]
  },
  {
   "cell_type": "code",
   "execution_count": 15,
   "id": "f4cb85d3",
   "metadata": {},
   "outputs": [],
   "source": [
    "with open('attribution_map_genes_3d_replogle.npy', 'wb') as f:\n",
    "    np.save(f, attribution_map_genes_3d)"
   ]
  },
  {
   "cell_type": "markdown",
   "id": "5fac2269",
   "metadata": {},
   "source": [
    "We want to examine what happens per latent element later, but for now we'll just take the absolute average."
   ]
  },
  {
   "cell_type": "code",
   "execution_count": 16,
   "id": "7131f930",
   "metadata": {},
   "outputs": [
    {
     "data": {
      "text/plain": [
       "tensor(0.0009)"
      ]
     },
     "execution_count": 16,
     "metadata": {},
     "output_type": "execute_result"
    }
   ],
   "source": [
    "attribution_map_genes_3d.mean()"
   ]
  },
  {
   "cell_type": "code",
   "execution_count": 17,
   "id": "230e48fc",
   "metadata": {},
   "outputs": [
    {
     "data": {
      "text/plain": [
       "tensor(-9.6564)"
      ]
     },
     "execution_count": 17,
     "metadata": {},
     "output_type": "execute_result"
    }
   ],
   "source": [
    "attribution_map_genes_3d.min()"
   ]
  },
  {
   "cell_type": "code",
   "execution_count": 18,
   "id": "6a72345a",
   "metadata": {},
   "outputs": [
    {
     "data": {
      "text/plain": [
       "tensor(13.8509)"
      ]
     },
     "execution_count": 18,
     "metadata": {},
     "output_type": "execute_result"
    }
   ],
   "source": [
    "attribution_map_genes_3d.max()"
   ]
  },
  {
   "cell_type": "markdown",
   "id": "ccf24863",
   "metadata": {},
   "source": [
    "Collapse the outputs to get 1 score per gene per **cell**, using the mean of absolute scores."
   ]
  },
  {
   "cell_type": "code",
   "execution_count": 19,
   "id": "18e590eb",
   "metadata": {},
   "outputs": [],
   "source": [
    "attribution_map_collapsed = attribution_map_genes_3d.abs().mean(1)"
   ]
  },
  {
   "cell_type": "markdown",
   "id": "31b8f7e7",
   "metadata": {},
   "source": [
    "Examine the changes to min and max. A large decrease indicates that genes(features) were largely specific to a single latent dimension."
   ]
  },
  {
   "cell_type": "code",
   "execution_count": 20,
   "id": "27472452",
   "metadata": {},
   "outputs": [
    {
     "data": {
      "text/plain": [
       "tensor(0.0044)"
      ]
     },
     "execution_count": 20,
     "metadata": {},
     "output_type": "execute_result"
    }
   ],
   "source": [
    "attribution_map_collapsed.min()"
   ]
  },
  {
   "cell_type": "code",
   "execution_count": 21,
   "id": "d661c5e2",
   "metadata": {},
   "outputs": [
    {
     "data": {
      "text/plain": [
       "tensor(4.3023)"
      ]
     },
     "execution_count": 21,
     "metadata": {},
     "output_type": "execute_result"
    }
   ],
   "source": [
    "attribution_map_collapsed.max()"
   ]
  },
  {
   "cell_type": "markdown",
   "id": "ef06c0c1",
   "metadata": {},
   "source": [
    "Take the average contribution per gene per **perturbation** to get a ranking of all genes per perturbation."
   ]
  },
  {
   "cell_type": "code",
   "execution_count": 22,
   "id": "e62b0af0",
   "metadata": {},
   "outputs": [],
   "source": [
    "means = pd.DataFrame(index=adata.var_names, columns=pert_names)"
   ]
  },
  {
   "cell_type": "code",
   "execution_count": 23,
   "id": "b7f0064e",
   "metadata": {},
   "outputs": [
    {
     "name": "stderr",
     "output_type": "stream",
     "text": [
      "/tmp/ipykernel_2738712/1885614425.py:5: FutureWarning: In a future version, `df.iloc[:, i] = newvals` will attempt to set the values inplace instead of always setting a new array. To retain the old behavior, use either `df[df.columns[i]] = newvals` or, if columns are non-unique, `df.isetitem(i, newvals)`\n",
      "  means.iloc[:, pert_int] = attribution_map_collapsed[pert_indexing].mean(0).numpy()\n"
     ]
    }
   ],
   "source": [
    "for pert in batch['batch'].unique():\n",
    "    pert_float = pert.item()\n",
    "    pert_int = int(pert_float)\n",
    "    pert_indexing = (batch['batch'] == pert_float).reshape(-1)\n",
    "    means.iloc[:, pert_int] = attribution_map_collapsed[pert_indexing].mean(0).numpy()"
   ]
  },
  {
   "cell_type": "code",
   "execution_count": 24,
   "id": "08972f8b",
   "metadata": {},
   "outputs": [
    {
     "data": {
      "text/html": [
       "<div>\n",
       "<style scoped>\n",
       "    .dataframe tbody tr th:only-of-type {\n",
       "        vertical-align: middle;\n",
       "    }\n",
       "\n",
       "    .dataframe tbody tr th {\n",
       "        vertical-align: top;\n",
       "    }\n",
       "\n",
       "    .dataframe thead th {\n",
       "        text-align: right;\n",
       "    }\n",
       "</style>\n",
       "<table border=\"1\" class=\"dataframe\">\n",
       "  <thead>\n",
       "    <tr style=\"text-align: right;\">\n",
       "      <th></th>\n",
       "      <th>AAAS</th>\n",
       "      <th>AATF</th>\n",
       "      <th>ABCE1</th>\n",
       "      <th>ABCF1</th>\n",
       "      <th>ACTR1B</th>\n",
       "      <th>ACTR2</th>\n",
       "      <th>ACTR8</th>\n",
       "      <th>AHCTF1</th>\n",
       "      <th>ALG1L</th>\n",
       "      <th>ALG2</th>\n",
       "      <th>...</th>\n",
       "      <th>YEATS4</th>\n",
       "      <th>YTHDC1</th>\n",
       "      <th>ZMAT2</th>\n",
       "      <th>ZNF207</th>\n",
       "      <th>ZNF284</th>\n",
       "      <th>ZNF468</th>\n",
       "      <th>ZNF574</th>\n",
       "      <th>ZNF687</th>\n",
       "      <th>ZNF718</th>\n",
       "      <th>control</th>\n",
       "    </tr>\n",
       "    <tr>\n",
       "      <th>gene_name</th>\n",
       "      <th></th>\n",
       "      <th></th>\n",
       "      <th></th>\n",
       "      <th></th>\n",
       "      <th></th>\n",
       "      <th></th>\n",
       "      <th></th>\n",
       "      <th></th>\n",
       "      <th></th>\n",
       "      <th></th>\n",
       "      <th></th>\n",
       "      <th></th>\n",
       "      <th></th>\n",
       "      <th></th>\n",
       "      <th></th>\n",
       "      <th></th>\n",
       "      <th></th>\n",
       "      <th></th>\n",
       "      <th></th>\n",
       "      <th></th>\n",
       "      <th></th>\n",
       "    </tr>\n",
       "  </thead>\n",
       "  <tbody>\n",
       "    <tr>\n",
       "      <th>HES4</th>\n",
       "      <td>0.013942</td>\n",
       "      <td>0.013485</td>\n",
       "      <td>0.015480</td>\n",
       "      <td>0.014393</td>\n",
       "      <td>0.014100</td>\n",
       "      <td>0.014732</td>\n",
       "      <td>0.014192</td>\n",
       "      <td>0.014761</td>\n",
       "      <td>0.014290</td>\n",
       "      <td>0.013943</td>\n",
       "      <td>...</td>\n",
       "      <td>0.013552</td>\n",
       "      <td>0.014985</td>\n",
       "      <td>0.013241</td>\n",
       "      <td>0.014115</td>\n",
       "      <td>0.013352</td>\n",
       "      <td>0.013586</td>\n",
       "      <td>0.013449</td>\n",
       "      <td>0.013137</td>\n",
       "      <td>0.014503</td>\n",
       "      <td>NaN</td>\n",
       "    </tr>\n",
       "    <tr>\n",
       "      <th>ISG15</th>\n",
       "      <td>0.015608</td>\n",
       "      <td>0.016989</td>\n",
       "      <td>0.016800</td>\n",
       "      <td>0.016680</td>\n",
       "      <td>0.014985</td>\n",
       "      <td>0.013955</td>\n",
       "      <td>0.017001</td>\n",
       "      <td>0.016487</td>\n",
       "      <td>0.014732</td>\n",
       "      <td>0.017171</td>\n",
       "      <td>...</td>\n",
       "      <td>0.014533</td>\n",
       "      <td>0.017859</td>\n",
       "      <td>0.014259</td>\n",
       "      <td>0.015973</td>\n",
       "      <td>0.015218</td>\n",
       "      <td>0.014820</td>\n",
       "      <td>0.014622</td>\n",
       "      <td>0.015783</td>\n",
       "      <td>0.015060</td>\n",
       "      <td>NaN</td>\n",
       "    </tr>\n",
       "    <tr>\n",
       "      <th>MXRA8</th>\n",
       "      <td>0.012395</td>\n",
       "      <td>0.012856</td>\n",
       "      <td>0.014226</td>\n",
       "      <td>0.012989</td>\n",
       "      <td>0.012476</td>\n",
       "      <td>0.011896</td>\n",
       "      <td>0.011922</td>\n",
       "      <td>0.012363</td>\n",
       "      <td>0.012318</td>\n",
       "      <td>0.012249</td>\n",
       "      <td>...</td>\n",
       "      <td>0.012069</td>\n",
       "      <td>0.012036</td>\n",
       "      <td>0.011777</td>\n",
       "      <td>0.012284</td>\n",
       "      <td>0.012324</td>\n",
       "      <td>0.012070</td>\n",
       "      <td>0.012692</td>\n",
       "      <td>0.012454</td>\n",
       "      <td>0.012000</td>\n",
       "      <td>NaN</td>\n",
       "    </tr>\n",
       "    <tr>\n",
       "      <th>SMIM1</th>\n",
       "      <td>0.012385</td>\n",
       "      <td>0.012089</td>\n",
       "      <td>0.011910</td>\n",
       "      <td>0.011683</td>\n",
       "      <td>0.011987</td>\n",
       "      <td>0.011902</td>\n",
       "      <td>0.012195</td>\n",
       "      <td>0.012961</td>\n",
       "      <td>0.011729</td>\n",
       "      <td>0.011997</td>\n",
       "      <td>...</td>\n",
       "      <td>0.011861</td>\n",
       "      <td>0.014490</td>\n",
       "      <td>0.012117</td>\n",
       "      <td>0.012696</td>\n",
       "      <td>0.012001</td>\n",
       "      <td>0.012731</td>\n",
       "      <td>0.012153</td>\n",
       "      <td>0.012987</td>\n",
       "      <td>0.011853</td>\n",
       "      <td>NaN</td>\n",
       "    </tr>\n",
       "    <tr>\n",
       "      <th>SRM</th>\n",
       "      <td>0.189088</td>\n",
       "      <td>0.229542</td>\n",
       "      <td>0.177698</td>\n",
       "      <td>0.183744</td>\n",
       "      <td>0.195686</td>\n",
       "      <td>0.200275</td>\n",
       "      <td>0.179984</td>\n",
       "      <td>0.179146</td>\n",
       "      <td>0.195968</td>\n",
       "      <td>0.184214</td>\n",
       "      <td>...</td>\n",
       "      <td>0.208660</td>\n",
       "      <td>0.180157</td>\n",
       "      <td>0.186062</td>\n",
       "      <td>0.184115</td>\n",
       "      <td>0.197147</td>\n",
       "      <td>0.190125</td>\n",
       "      <td>0.195328</td>\n",
       "      <td>0.186620</td>\n",
       "      <td>0.198421</td>\n",
       "      <td>NaN</td>\n",
       "    </tr>\n",
       "  </tbody>\n",
       "</table>\n",
       "<p>5 rows × 410 columns</p>\n",
       "</div>"
      ],
      "text/plain": [
       "               AAAS      AATF     ABCE1     ABCF1    ACTR1B     ACTR2  \\\n",
       "gene_name                                                               \n",
       "HES4       0.013942  0.013485  0.015480  0.014393  0.014100  0.014732   \n",
       "ISG15      0.015608  0.016989  0.016800  0.016680  0.014985  0.013955   \n",
       "MXRA8      0.012395  0.012856  0.014226  0.012989  0.012476  0.011896   \n",
       "SMIM1      0.012385  0.012089  0.011910  0.011683  0.011987  0.011902   \n",
       "SRM        0.189088  0.229542  0.177698  0.183744  0.195686  0.200275   \n",
       "\n",
       "              ACTR8    AHCTF1     ALG1L      ALG2  ...    YEATS4    YTHDC1  \\\n",
       "gene_name                                          ...                       \n",
       "HES4       0.014192  0.014761  0.014290  0.013943  ...  0.013552  0.014985   \n",
       "ISG15      0.017001  0.016487  0.014732  0.017171  ...  0.014533  0.017859   \n",
       "MXRA8      0.011922  0.012363  0.012318  0.012249  ...  0.012069  0.012036   \n",
       "SMIM1      0.012195  0.012961  0.011729  0.011997  ...  0.011861  0.014490   \n",
       "SRM        0.179984  0.179146  0.195968  0.184214  ...  0.208660  0.180157   \n",
       "\n",
       "              ZMAT2    ZNF207    ZNF284    ZNF468    ZNF574    ZNF687  \\\n",
       "gene_name                                                               \n",
       "HES4       0.013241  0.014115  0.013352  0.013586  0.013449  0.013137   \n",
       "ISG15      0.014259  0.015973  0.015218  0.014820  0.014622  0.015783   \n",
       "MXRA8      0.011777  0.012284  0.012324  0.012070  0.012692  0.012454   \n",
       "SMIM1      0.012117  0.012696  0.012001  0.012731  0.012153  0.012987   \n",
       "SRM        0.186062  0.184115  0.197147  0.190125  0.195328  0.186620   \n",
       "\n",
       "             ZNF718  control  \n",
       "gene_name                     \n",
       "HES4       0.014503      NaN  \n",
       "ISG15      0.015060      NaN  \n",
       "MXRA8      0.012000      NaN  \n",
       "SMIM1      0.011853      NaN  \n",
       "SRM        0.198421      NaN  \n",
       "\n",
       "[5 rows x 410 columns]"
      ]
     },
     "execution_count": 24,
     "metadata": {},
     "output_type": "execute_result"
    }
   ],
   "source": [
    "means.head(5)"
   ]
  },
  {
   "cell_type": "code",
   "execution_count": 25,
   "id": "93b87e12",
   "metadata": {},
   "outputs": [
    {
     "ename": "AttributeError",
     "evalue": "'float' object has no attribute 'dtype'",
     "output_type": "error",
     "traceback": [
      "\u001b[0;31m---------------------------------------------------------------------------\u001b[0m",
      "\u001b[0;31mAttributeError\u001b[0m                            Traceback (most recent call last)",
      "Cell \u001b[0;32mIn [25], line 1\u001b[0m\n\u001b[0;32m----> 1\u001b[0m plt\u001b[38;5;241m.\u001b[39mhist(means[\u001b[38;5;124m'\u001b[39m\u001b[38;5;124mcontrol\u001b[39m\u001b[38;5;124m'\u001b[39m]\u001b[38;5;241m.\u001b[39mvalues)\n\u001b[1;32m      2\u001b[0m plt\u001b[38;5;241m.\u001b[39myscale(\u001b[38;5;124m'\u001b[39m\u001b[38;5;124mlog\u001b[39m\u001b[38;5;124m'\u001b[39m)\n",
      "File \u001b[0;32m~/miniconda3/envs/fa_base/lib/python3.8/site-packages/matplotlib/pyplot.py:2561\u001b[0m, in \u001b[0;36mhist\u001b[0;34m(x, bins, range, density, weights, cumulative, bottom, histtype, align, orientation, rwidth, log, color, label, stacked, data, **kwargs)\u001b[0m\n\u001b[1;32m   2555\u001b[0m \u001b[38;5;129m@_copy_docstring_and_deprecators\u001b[39m(Axes\u001b[38;5;241m.\u001b[39mhist)\n\u001b[1;32m   2556\u001b[0m \u001b[38;5;28;01mdef\u001b[39;00m \u001b[38;5;21mhist\u001b[39m(\n\u001b[1;32m   2557\u001b[0m         x, bins\u001b[38;5;241m=\u001b[39m\u001b[38;5;28;01mNone\u001b[39;00m, \u001b[38;5;28mrange\u001b[39m\u001b[38;5;241m=\u001b[39m\u001b[38;5;28;01mNone\u001b[39;00m, density\u001b[38;5;241m=\u001b[39m\u001b[38;5;28;01mFalse\u001b[39;00m, weights\u001b[38;5;241m=\u001b[39m\u001b[38;5;28;01mNone\u001b[39;00m,\n\u001b[1;32m   2558\u001b[0m         cumulative\u001b[38;5;241m=\u001b[39m\u001b[38;5;28;01mFalse\u001b[39;00m, bottom\u001b[38;5;241m=\u001b[39m\u001b[38;5;28;01mNone\u001b[39;00m, histtype\u001b[38;5;241m=\u001b[39m\u001b[38;5;124m'\u001b[39m\u001b[38;5;124mbar\u001b[39m\u001b[38;5;124m'\u001b[39m, align\u001b[38;5;241m=\u001b[39m\u001b[38;5;124m'\u001b[39m\u001b[38;5;124mmid\u001b[39m\u001b[38;5;124m'\u001b[39m,\n\u001b[1;32m   2559\u001b[0m         orientation\u001b[38;5;241m=\u001b[39m\u001b[38;5;124m'\u001b[39m\u001b[38;5;124mvertical\u001b[39m\u001b[38;5;124m'\u001b[39m, rwidth\u001b[38;5;241m=\u001b[39m\u001b[38;5;28;01mNone\u001b[39;00m, log\u001b[38;5;241m=\u001b[39m\u001b[38;5;28;01mFalse\u001b[39;00m, color\u001b[38;5;241m=\u001b[39m\u001b[38;5;28;01mNone\u001b[39;00m,\n\u001b[1;32m   2560\u001b[0m         label\u001b[38;5;241m=\u001b[39m\u001b[38;5;28;01mNone\u001b[39;00m, stacked\u001b[38;5;241m=\u001b[39m\u001b[38;5;28;01mFalse\u001b[39;00m, \u001b[38;5;241m*\u001b[39m, data\u001b[38;5;241m=\u001b[39m\u001b[38;5;28;01mNone\u001b[39;00m, \u001b[38;5;241m*\u001b[39m\u001b[38;5;241m*\u001b[39mkwargs):\n\u001b[0;32m-> 2561\u001b[0m     \u001b[38;5;28;01mreturn\u001b[39;00m \u001b[43mgca\u001b[49m\u001b[43m(\u001b[49m\u001b[43m)\u001b[49m\u001b[38;5;241;43m.\u001b[39;49m\u001b[43mhist\u001b[49m\u001b[43m(\u001b[49m\n\u001b[1;32m   2562\u001b[0m \u001b[43m        \u001b[49m\u001b[43mx\u001b[49m\u001b[43m,\u001b[49m\u001b[43m \u001b[49m\u001b[43mbins\u001b[49m\u001b[38;5;241;43m=\u001b[39;49m\u001b[43mbins\u001b[49m\u001b[43m,\u001b[49m\u001b[43m \u001b[49m\u001b[38;5;28;43mrange\u001b[39;49m\u001b[38;5;241;43m=\u001b[39;49m\u001b[38;5;28;43mrange\u001b[39;49m\u001b[43m,\u001b[49m\u001b[43m \u001b[49m\u001b[43mdensity\u001b[49m\u001b[38;5;241;43m=\u001b[39;49m\u001b[43mdensity\u001b[49m\u001b[43m,\u001b[49m\u001b[43m \u001b[49m\u001b[43mweights\u001b[49m\u001b[38;5;241;43m=\u001b[39;49m\u001b[43mweights\u001b[49m\u001b[43m,\u001b[49m\n\u001b[1;32m   2563\u001b[0m \u001b[43m        \u001b[49m\u001b[43mcumulative\u001b[49m\u001b[38;5;241;43m=\u001b[39;49m\u001b[43mcumulative\u001b[49m\u001b[43m,\u001b[49m\u001b[43m \u001b[49m\u001b[43mbottom\u001b[49m\u001b[38;5;241;43m=\u001b[39;49m\u001b[43mbottom\u001b[49m\u001b[43m,\u001b[49m\u001b[43m \u001b[49m\u001b[43mhisttype\u001b[49m\u001b[38;5;241;43m=\u001b[39;49m\u001b[43mhisttype\u001b[49m\u001b[43m,\u001b[49m\n\u001b[1;32m   2564\u001b[0m \u001b[43m        \u001b[49m\u001b[43malign\u001b[49m\u001b[38;5;241;43m=\u001b[39;49m\u001b[43malign\u001b[49m\u001b[43m,\u001b[49m\u001b[43m \u001b[49m\u001b[43morientation\u001b[49m\u001b[38;5;241;43m=\u001b[39;49m\u001b[43morientation\u001b[49m\u001b[43m,\u001b[49m\u001b[43m \u001b[49m\u001b[43mrwidth\u001b[49m\u001b[38;5;241;43m=\u001b[39;49m\u001b[43mrwidth\u001b[49m\u001b[43m,\u001b[49m\u001b[43m \u001b[49m\u001b[43mlog\u001b[49m\u001b[38;5;241;43m=\u001b[39;49m\u001b[43mlog\u001b[49m\u001b[43m,\u001b[49m\n\u001b[1;32m   2565\u001b[0m \u001b[43m        \u001b[49m\u001b[43mcolor\u001b[49m\u001b[38;5;241;43m=\u001b[39;49m\u001b[43mcolor\u001b[49m\u001b[43m,\u001b[49m\u001b[43m \u001b[49m\u001b[43mlabel\u001b[49m\u001b[38;5;241;43m=\u001b[39;49m\u001b[43mlabel\u001b[49m\u001b[43m,\u001b[49m\u001b[43m \u001b[49m\u001b[43mstacked\u001b[49m\u001b[38;5;241;43m=\u001b[39;49m\u001b[43mstacked\u001b[49m\u001b[43m,\u001b[49m\n\u001b[1;32m   2566\u001b[0m \u001b[43m        \u001b[49m\u001b[38;5;241;43m*\u001b[39;49m\u001b[38;5;241;43m*\u001b[39;49m\u001b[43m(\u001b[49m\u001b[43m{\u001b[49m\u001b[38;5;124;43m\"\u001b[39;49m\u001b[38;5;124;43mdata\u001b[39;49m\u001b[38;5;124;43m\"\u001b[39;49m\u001b[43m:\u001b[49m\u001b[43m \u001b[49m\u001b[43mdata\u001b[49m\u001b[43m}\u001b[49m\u001b[43m \u001b[49m\u001b[38;5;28;43;01mif\u001b[39;49;00m\u001b[43m \u001b[49m\u001b[43mdata\u001b[49m\u001b[43m \u001b[49m\u001b[38;5;129;43;01mis\u001b[39;49;00m\u001b[43m \u001b[49m\u001b[38;5;129;43;01mnot\u001b[39;49;00m\u001b[43m \u001b[49m\u001b[38;5;28;43;01mNone\u001b[39;49;00m\u001b[43m \u001b[49m\u001b[38;5;28;43;01melse\u001b[39;49;00m\u001b[43m \u001b[49m\u001b[43m{\u001b[49m\u001b[43m}\u001b[49m\u001b[43m)\u001b[49m\u001b[43m,\u001b[49m\u001b[43m \u001b[49m\u001b[38;5;241;43m*\u001b[39;49m\u001b[38;5;241;43m*\u001b[39;49m\u001b[43mkwargs\u001b[49m\u001b[43m)\u001b[49m\n",
      "File \u001b[0;32m~/miniconda3/envs/fa_base/lib/python3.8/site-packages/matplotlib/__init__.py:1423\u001b[0m, in \u001b[0;36m_preprocess_data.<locals>.inner\u001b[0;34m(ax, data, *args, **kwargs)\u001b[0m\n\u001b[1;32m   1420\u001b[0m \u001b[38;5;129m@functools\u001b[39m\u001b[38;5;241m.\u001b[39mwraps(func)\n\u001b[1;32m   1421\u001b[0m \u001b[38;5;28;01mdef\u001b[39;00m \u001b[38;5;21minner\u001b[39m(ax, \u001b[38;5;241m*\u001b[39margs, data\u001b[38;5;241m=\u001b[39m\u001b[38;5;28;01mNone\u001b[39;00m, \u001b[38;5;241m*\u001b[39m\u001b[38;5;241m*\u001b[39mkwargs):\n\u001b[1;32m   1422\u001b[0m     \u001b[38;5;28;01mif\u001b[39;00m data \u001b[38;5;129;01mis\u001b[39;00m \u001b[38;5;28;01mNone\u001b[39;00m:\n\u001b[0;32m-> 1423\u001b[0m         \u001b[38;5;28;01mreturn\u001b[39;00m \u001b[43mfunc\u001b[49m\u001b[43m(\u001b[49m\u001b[43max\u001b[49m\u001b[43m,\u001b[49m\u001b[43m \u001b[49m\u001b[38;5;241;43m*\u001b[39;49m\u001b[38;5;28;43mmap\u001b[39;49m\u001b[43m(\u001b[49m\u001b[43msanitize_sequence\u001b[49m\u001b[43m,\u001b[49m\u001b[43m \u001b[49m\u001b[43margs\u001b[49m\u001b[43m)\u001b[49m\u001b[43m,\u001b[49m\u001b[43m \u001b[49m\u001b[38;5;241;43m*\u001b[39;49m\u001b[38;5;241;43m*\u001b[39;49m\u001b[43mkwargs\u001b[49m\u001b[43m)\u001b[49m\n\u001b[1;32m   1425\u001b[0m     bound \u001b[38;5;241m=\u001b[39m new_sig\u001b[38;5;241m.\u001b[39mbind(ax, \u001b[38;5;241m*\u001b[39margs, \u001b[38;5;241m*\u001b[39m\u001b[38;5;241m*\u001b[39mkwargs)\n\u001b[1;32m   1426\u001b[0m     auto_label \u001b[38;5;241m=\u001b[39m (bound\u001b[38;5;241m.\u001b[39marguments\u001b[38;5;241m.\u001b[39mget(label_namer)\n\u001b[1;32m   1427\u001b[0m                   \u001b[38;5;129;01mor\u001b[39;00m bound\u001b[38;5;241m.\u001b[39mkwargs\u001b[38;5;241m.\u001b[39mget(label_namer))\n",
      "File \u001b[0;32m~/miniconda3/envs/fa_base/lib/python3.8/site-packages/matplotlib/axes/_axes.py:6677\u001b[0m, in \u001b[0;36mAxes.hist\u001b[0;34m(self, x, bins, range, density, weights, cumulative, bottom, histtype, align, orientation, rwidth, log, color, label, stacked, **kwargs)\u001b[0m\n\u001b[1;32m   6673\u001b[0m \u001b[38;5;28;01mfor\u001b[39;00m xi \u001b[38;5;129;01min\u001b[39;00m x:\n\u001b[1;32m   6674\u001b[0m     \u001b[38;5;28;01mif\u001b[39;00m \u001b[38;5;28mlen\u001b[39m(xi):\n\u001b[1;32m   6675\u001b[0m         \u001b[38;5;66;03m# python's min/max ignore nan,\u001b[39;00m\n\u001b[1;32m   6676\u001b[0m         \u001b[38;5;66;03m# np.minnan returns nan for all nan input\u001b[39;00m\n\u001b[0;32m-> 6677\u001b[0m         xmin \u001b[38;5;241m=\u001b[39m \u001b[38;5;28mmin\u001b[39m(xmin, \u001b[43mnp\u001b[49m\u001b[38;5;241;43m.\u001b[39;49m\u001b[43mnanmin\u001b[49m\u001b[43m(\u001b[49m\u001b[43mxi\u001b[49m\u001b[43m)\u001b[49m)\n\u001b[1;32m   6678\u001b[0m         xmax \u001b[38;5;241m=\u001b[39m \u001b[38;5;28mmax\u001b[39m(xmax, np\u001b[38;5;241m.\u001b[39mnanmax(xi))\n\u001b[1;32m   6679\u001b[0m \u001b[38;5;28;01mif\u001b[39;00m xmin \u001b[38;5;241m<\u001b[39m\u001b[38;5;241m=\u001b[39m xmax:  \u001b[38;5;66;03m# Only happens if we have seen a finite value.\u001b[39;00m\n",
      "File \u001b[0;32m<__array_function__ internals>:180\u001b[0m, in \u001b[0;36mnanmin\u001b[0;34m(*args, **kwargs)\u001b[0m\n",
      "File \u001b[0;32m~/miniconda3/envs/fa_base/lib/python3.8/site-packages/numpy/lib/nanfunctions.py:358\u001b[0m, in \u001b[0;36mnanmin\u001b[0;34m(a, axis, out, keepdims, initial, where)\u001b[0m\n\u001b[1;32m    356\u001b[0m     mask \u001b[38;5;241m=\u001b[39m np\u001b[38;5;241m.\u001b[39mall(mask, axis\u001b[38;5;241m=\u001b[39maxis, \u001b[38;5;241m*\u001b[39m\u001b[38;5;241m*\u001b[39mkwargs)\n\u001b[1;32m    357\u001b[0m     \u001b[38;5;28;01mif\u001b[39;00m np\u001b[38;5;241m.\u001b[39many(mask):\n\u001b[0;32m--> 358\u001b[0m         res \u001b[38;5;241m=\u001b[39m \u001b[43m_copyto\u001b[49m\u001b[43m(\u001b[49m\u001b[43mres\u001b[49m\u001b[43m,\u001b[49m\u001b[43m \u001b[49m\u001b[43mnp\u001b[49m\u001b[38;5;241;43m.\u001b[39;49m\u001b[43mnan\u001b[49m\u001b[43m,\u001b[49m\u001b[43m \u001b[49m\u001b[43mmask\u001b[49m\u001b[43m)\u001b[49m\n\u001b[1;32m    359\u001b[0m         warnings\u001b[38;5;241m.\u001b[39mwarn(\u001b[38;5;124m\"\u001b[39m\u001b[38;5;124mAll-NaN axis encountered\u001b[39m\u001b[38;5;124m\"\u001b[39m, \u001b[38;5;167;01mRuntimeWarning\u001b[39;00m,\n\u001b[1;32m    360\u001b[0m                       stacklevel\u001b[38;5;241m=\u001b[39m\u001b[38;5;241m3\u001b[39m)\n\u001b[1;32m    361\u001b[0m \u001b[38;5;28;01mreturn\u001b[39;00m res\n",
      "File \u001b[0;32m~/miniconda3/envs/fa_base/lib/python3.8/site-packages/numpy/lib/nanfunctions.py:138\u001b[0m, in \u001b[0;36m_copyto\u001b[0;34m(a, val, mask)\u001b[0m\n\u001b[1;32m    136\u001b[0m     np\u001b[38;5;241m.\u001b[39mcopyto(a, val, where\u001b[38;5;241m=\u001b[39mmask, casting\u001b[38;5;241m=\u001b[39m\u001b[38;5;124m'\u001b[39m\u001b[38;5;124munsafe\u001b[39m\u001b[38;5;124m'\u001b[39m)\n\u001b[1;32m    137\u001b[0m \u001b[38;5;28;01melse\u001b[39;00m:\n\u001b[0;32m--> 138\u001b[0m     a \u001b[38;5;241m=\u001b[39m \u001b[43ma\u001b[49m\u001b[38;5;241;43m.\u001b[39;49m\u001b[43mdtype\u001b[49m\u001b[38;5;241m.\u001b[39mtype(val)\n\u001b[1;32m    139\u001b[0m \u001b[38;5;28;01mreturn\u001b[39;00m a\n",
      "\u001b[0;31mAttributeError\u001b[0m: 'float' object has no attribute 'dtype'"
     ]
    },
    {
     "data": {
      "image/png": "[encoded data removed]",
      "text/plain": [
       "<Figure size 400x400 with 1 Axes>"
      ]
     },
     "metadata": {
      "image/png": {
       "height": 358,
       "width": 382
      }
     },
     "output_type": "display_data"
    }
   ],
   "source": [
    "plt.hist(means['control'].values)\n",
    "plt.yscale('log')"
   ]
  },
  {
   "cell_type": "markdown",
   "id": "0f65376a",
   "metadata": {},
   "source": [
    "We can also repeat this for every latent space output to get latent feature specific importance distributions. This might be interesting to look at in the case in which one dimension of the latent space mostly captures a certain set of features."
   ]
  },
  {
   "cell_type": "code",
   "execution_count": 26,
   "id": "a7f65f61",
   "metadata": {},
   "outputs": [
    {
     "name": "stderr",
     "output_type": "stream",
     "text": [
      "/tmp/ipykernel_2738712/650637440.py:4: FutureWarning: In a future version, `df.iloc[:, i] = newvals` will attempt to set the values inplace instead of always setting a new array. To retain the old behavior, use either `df[df.columns[i]] = newvals` or, if columns are non-unique, `df.isetitem(i, newvals)`\n",
      "  slice_distr.iloc[:, i] = attribution_map_slice.abs().mean(0).numpy()\n"
     ]
    }
   ],
   "source": [
    "slice_distr = pd.DataFrame(index=adata.var_names, columns=list(range(output_dim)))\n",
    "for i in range(output_dim):\n",
    "    attribution_map_slice = attribution_map_genes_3d[:, i, :]\n",
    "    slice_distr.iloc[:, i] = attribution_map_slice.abs().mean(0).numpy()"
   ]
  },
  {
   "cell_type": "code",
   "execution_count": 103,
   "id": "b61cf342",
   "metadata": {},
   "outputs": [
    {
     "data": {
      "image/png": "[encoded data removed]",
      "text/plain": [
       "<Figure size 400x400 with 1 Axes>"
      ]
     },
     "metadata": {
      "image/png": {
       "height": 351,
       "width": 371
      }
     },
     "output_type": "display_data"
    }
   ],
   "source": [
    "plt.hist(attribution_map_slice.abs().mean(0).numpy())\n",
    "plt.yscale('log')"
   ]
  },
  {
   "cell_type": "code",
   "execution_count": 104,
   "id": "8e319664",
   "metadata": {},
   "outputs": [
    {
     "data": {
      "text/html": [
       "<div>\n",
       "<style scoped>\n",
       "    .dataframe tbody tr th:only-of-type {\n",
       "        vertical-align: middle;\n",
       "    }\n",
       "\n",
       "    .dataframe tbody tr th {\n",
       "        vertical-align: top;\n",
       "    }\n",
       "\n",
       "    .dataframe thead th {\n",
       "        text-align: right;\n",
       "    }\n",
       "</style>\n",
       "<table border=\"1\" class=\"dataframe\">\n",
       "  <thead>\n",
       "    <tr style=\"text-align: right;\">\n",
       "      <th></th>\n",
       "      <th>0</th>\n",
       "      <th>1</th>\n",
       "      <th>2</th>\n",
       "      <th>3</th>\n",
       "      <th>4</th>\n",
       "      <th>5</th>\n",
       "      <th>6</th>\n",
       "      <th>7</th>\n",
       "      <th>8</th>\n",
       "      <th>9</th>\n",
       "      <th>...</th>\n",
       "      <th>90</th>\n",
       "      <th>91</th>\n",
       "      <th>92</th>\n",
       "      <th>93</th>\n",
       "      <th>94</th>\n",
       "      <th>95</th>\n",
       "      <th>96</th>\n",
       "      <th>97</th>\n",
       "      <th>98</th>\n",
       "      <th>99</th>\n",
       "    </tr>\n",
       "    <tr>\n",
       "      <th>gene_symbols</th>\n",
       "      <th></th>\n",
       "      <th></th>\n",
       "      <th></th>\n",
       "      <th></th>\n",
       "      <th></th>\n",
       "      <th></th>\n",
       "      <th></th>\n",
       "      <th></th>\n",
       "      <th></th>\n",
       "      <th></th>\n",
       "      <th></th>\n",
       "      <th></th>\n",
       "      <th></th>\n",
       "      <th></th>\n",
       "      <th></th>\n",
       "      <th></th>\n",
       "      <th></th>\n",
       "      <th></th>\n",
       "      <th></th>\n",
       "      <th></th>\n",
       "      <th></th>\n",
       "    </tr>\n",
       "  </thead>\n",
       "  <tbody>\n",
       "    <tr>\n",
       "      <th>HBG2</th>\n",
       "      <td>0.769046</td>\n",
       "      <td>0.446218</td>\n",
       "      <td>0.191036</td>\n",
       "      <td>0.140578</td>\n",
       "      <td>0.272801</td>\n",
       "      <td>0.231617</td>\n",
       "      <td>0.556467</td>\n",
       "      <td>0.851015</td>\n",
       "      <td>0.408259</td>\n",
       "      <td>0.152479</td>\n",
       "      <td>...</td>\n",
       "      <td>0.276123</td>\n",
       "      <td>0.185214</td>\n",
       "      <td>0.828912</td>\n",
       "      <td>0.421060</td>\n",
       "      <td>0.831673</td>\n",
       "      <td>0.615337</td>\n",
       "      <td>0.161085</td>\n",
       "      <td>0.178604</td>\n",
       "      <td>0.235578</td>\n",
       "      <td>0.232180</td>\n",
       "    </tr>\n",
       "    <tr>\n",
       "      <th>MALAT1</th>\n",
       "      <td>0.726802</td>\n",
       "      <td>0.642232</td>\n",
       "      <td>1.264473</td>\n",
       "      <td>2.062182</td>\n",
       "      <td>0.871123</td>\n",
       "      <td>0.818863</td>\n",
       "      <td>0.615344</td>\n",
       "      <td>0.906070</td>\n",
       "      <td>2.757656</td>\n",
       "      <td>0.985994</td>\n",
       "      <td>...</td>\n",
       "      <td>0.591998</td>\n",
       "      <td>1.274109</td>\n",
       "      <td>0.676928</td>\n",
       "      <td>1.173751</td>\n",
       "      <td>0.437571</td>\n",
       "      <td>1.494212</td>\n",
       "      <td>2.171228</td>\n",
       "      <td>0.924419</td>\n",
       "      <td>0.675251</td>\n",
       "      <td>0.348091</td>\n",
       "    </tr>\n",
       "    <tr>\n",
       "      <th>TMSB4X</th>\n",
       "      <td>0.720068</td>\n",
       "      <td>0.296797</td>\n",
       "      <td>0.198145</td>\n",
       "      <td>0.122289</td>\n",
       "      <td>0.195740</td>\n",
       "      <td>0.189190</td>\n",
       "      <td>0.112363</td>\n",
       "      <td>0.376410</td>\n",
       "      <td>0.114536</td>\n",
       "      <td>0.135485</td>\n",
       "      <td>...</td>\n",
       "      <td>0.265183</td>\n",
       "      <td>0.246927</td>\n",
       "      <td>0.101933</td>\n",
       "      <td>0.207251</td>\n",
       "      <td>0.240522</td>\n",
       "      <td>0.290521</td>\n",
       "      <td>0.302640</td>\n",
       "      <td>0.287184</td>\n",
       "      <td>0.153120</td>\n",
       "      <td>0.317944</td>\n",
       "    </tr>\n",
       "    <tr>\n",
       "      <th>HBZ</th>\n",
       "      <td>0.635301</td>\n",
       "      <td>0.715284</td>\n",
       "      <td>0.314518</td>\n",
       "      <td>0.575590</td>\n",
       "      <td>0.768545</td>\n",
       "      <td>0.437674</td>\n",
       "      <td>0.998341</td>\n",
       "      <td>1.100581</td>\n",
       "      <td>0.537339</td>\n",
       "      <td>0.245906</td>\n",
       "      <td>...</td>\n",
       "      <td>0.376551</td>\n",
       "      <td>0.227928</td>\n",
       "      <td>1.473887</td>\n",
       "      <td>0.177697</td>\n",
       "      <td>0.610459</td>\n",
       "      <td>1.033401</td>\n",
       "      <td>0.164378</td>\n",
       "      <td>0.162329</td>\n",
       "      <td>0.317311</td>\n",
       "      <td>0.514574</td>\n",
       "    </tr>\n",
       "    <tr>\n",
       "      <th>NEAT1</th>\n",
       "      <td>0.458308</td>\n",
       "      <td>0.326596</td>\n",
       "      <td>0.440635</td>\n",
       "      <td>0.596738</td>\n",
       "      <td>0.512951</td>\n",
       "      <td>0.528120</td>\n",
       "      <td>0.415196</td>\n",
       "      <td>0.415023</td>\n",
       "      <td>0.725043</td>\n",
       "      <td>0.366373</td>\n",
       "      <td>...</td>\n",
       "      <td>0.487170</td>\n",
       "      <td>0.757675</td>\n",
       "      <td>0.140679</td>\n",
       "      <td>0.336315</td>\n",
       "      <td>0.204663</td>\n",
       "      <td>0.214751</td>\n",
       "      <td>0.418478</td>\n",
       "      <td>0.349372</td>\n",
       "      <td>0.149642</td>\n",
       "      <td>0.205666</td>\n",
       "    </tr>\n",
       "    <tr>\n",
       "      <th>...</th>\n",
       "      <td>...</td>\n",
       "      <td>...</td>\n",
       "      <td>...</td>\n",
       "      <td>...</td>\n",
       "      <td>...</td>\n",
       "      <td>...</td>\n",
       "      <td>...</td>\n",
       "      <td>...</td>\n",
       "      <td>...</td>\n",
       "      <td>...</td>\n",
       "      <td>...</td>\n",
       "      <td>...</td>\n",
       "      <td>...</td>\n",
       "      <td>...</td>\n",
       "      <td>...</td>\n",
       "      <td>...</td>\n",
       "      <td>...</td>\n",
       "      <td>...</td>\n",
       "      <td>...</td>\n",
       "      <td>...</td>\n",
       "      <td>...</td>\n",
       "    </tr>\n",
       "    <tr>\n",
       "      <th>NACA</th>\n",
       "      <td>0.177161</td>\n",
       "      <td>0.389879</td>\n",
       "      <td>0.188974</td>\n",
       "      <td>0.136850</td>\n",
       "      <td>0.334604</td>\n",
       "      <td>0.377322</td>\n",
       "      <td>0.196204</td>\n",
       "      <td>0.226614</td>\n",
       "      <td>0.160127</td>\n",
       "      <td>0.345786</td>\n",
       "      <td>...</td>\n",
       "      <td>0.268949</td>\n",
       "      <td>0.316490</td>\n",
       "      <td>0.115020</td>\n",
       "      <td>0.177626</td>\n",
       "      <td>0.289671</td>\n",
       "      <td>0.423730</td>\n",
       "      <td>0.187199</td>\n",
       "      <td>0.304179</td>\n",
       "      <td>0.118702</td>\n",
       "      <td>0.152245</td>\n",
       "    </tr>\n",
       "    <tr>\n",
       "      <th>RPS26</th>\n",
       "      <td>0.176621</td>\n",
       "      <td>0.192833</td>\n",
       "      <td>0.172423</td>\n",
       "      <td>0.271483</td>\n",
       "      <td>0.149632</td>\n",
       "      <td>0.184645</td>\n",
       "      <td>0.261847</td>\n",
       "      <td>0.760477</td>\n",
       "      <td>0.324634</td>\n",
       "      <td>0.170133</td>\n",
       "      <td>...</td>\n",
       "      <td>0.214773</td>\n",
       "      <td>0.142981</td>\n",
       "      <td>0.418480</td>\n",
       "      <td>0.176859</td>\n",
       "      <td>0.130217</td>\n",
       "      <td>0.192740</td>\n",
       "      <td>0.120035</td>\n",
       "      <td>0.176230</td>\n",
       "      <td>0.217050</td>\n",
       "      <td>0.184349</td>\n",
       "    </tr>\n",
       "    <tr>\n",
       "      <th>POMP</th>\n",
       "      <td>0.176286</td>\n",
       "      <td>0.215913</td>\n",
       "      <td>0.206248</td>\n",
       "      <td>0.148966</td>\n",
       "      <td>0.147704</td>\n",
       "      <td>0.234274</td>\n",
       "      <td>0.127482</td>\n",
       "      <td>0.397118</td>\n",
       "      <td>0.135637</td>\n",
       "      <td>0.204031</td>\n",
       "      <td>...</td>\n",
       "      <td>0.154990</td>\n",
       "      <td>0.190387</td>\n",
       "      <td>0.199108</td>\n",
       "      <td>0.158170</td>\n",
       "      <td>0.125045</td>\n",
       "      <td>0.149894</td>\n",
       "      <td>0.250530</td>\n",
       "      <td>0.225375</td>\n",
       "      <td>0.168601</td>\n",
       "      <td>0.157382</td>\n",
       "    </tr>\n",
       "    <tr>\n",
       "      <th>RPL27A</th>\n",
       "      <td>0.176248</td>\n",
       "      <td>0.184821</td>\n",
       "      <td>0.141394</td>\n",
       "      <td>0.129887</td>\n",
       "      <td>0.301336</td>\n",
       "      <td>0.179330</td>\n",
       "      <td>0.254169</td>\n",
       "      <td>0.351795</td>\n",
       "      <td>0.157173</td>\n",
       "      <td>0.265868</td>\n",
       "      <td>...</td>\n",
       "      <td>0.138258</td>\n",
       "      <td>0.177998</td>\n",
       "      <td>0.106020</td>\n",
       "      <td>0.229664</td>\n",
       "      <td>0.420729</td>\n",
       "      <td>0.377436</td>\n",
       "      <td>0.104362</td>\n",
       "      <td>0.204399</td>\n",
       "      <td>0.119766</td>\n",
       "      <td>0.196919</td>\n",
       "    </tr>\n",
       "    <tr>\n",
       "      <th>ARGLU1</th>\n",
       "      <td>0.175817</td>\n",
       "      <td>0.213158</td>\n",
       "      <td>0.164333</td>\n",
       "      <td>0.145363</td>\n",
       "      <td>0.122761</td>\n",
       "      <td>0.164879</td>\n",
       "      <td>0.122594</td>\n",
       "      <td>0.086064</td>\n",
       "      <td>0.134843</td>\n",
       "      <td>0.158990</td>\n",
       "      <td>...</td>\n",
       "      <td>0.181517</td>\n",
       "      <td>0.217838</td>\n",
       "      <td>0.131062</td>\n",
       "      <td>0.119594</td>\n",
       "      <td>0.125471</td>\n",
       "      <td>0.098626</td>\n",
       "      <td>0.080710</td>\n",
       "      <td>0.180388</td>\n",
       "      <td>0.150266</td>\n",
       "      <td>0.205126</td>\n",
       "    </tr>\n",
       "  </tbody>\n",
       "</table>\n",
       "<p>100 rows × 100 columns</p>\n",
       "</div>"
      ],
      "text/plain": [
       "                    0         1         2         3         4         5   \\\n",
       "gene_symbols                                                               \n",
       "HBG2          0.769046  0.446218  0.191036  0.140578  0.272801  0.231617   \n",
       "MALAT1        0.726802  0.642232  1.264473  2.062182  0.871123  0.818863   \n",
       "TMSB4X        0.720068  0.296797  0.198145  0.122289  0.195740  0.189190   \n",
       "HBZ           0.635301  0.715284  0.314518  0.575590  0.768545  0.437674   \n",
       "NEAT1         0.458308  0.326596  0.440635  0.596738  0.512951  0.528120   \n",
       "...                ...       ...       ...       ...       ...       ...   \n",
       "NACA          0.177161  0.389879  0.188974  0.136850  0.334604  0.377322   \n",
       "RPS26         0.176621  0.192833  0.172423  0.271483  0.149632  0.184645   \n",
       "POMP          0.176286  0.215913  0.206248  0.148966  0.147704  0.234274   \n",
       "RPL27A        0.176248  0.184821  0.141394  0.129887  0.301336  0.179330   \n",
       "ARGLU1        0.175817  0.213158  0.164333  0.145363  0.122761  0.164879   \n",
       "\n",
       "                    6         7         8         9   ...        90        91  \\\n",
       "gene_symbols                                          ...                       \n",
       "HBG2          0.556467  0.851015  0.408259  0.152479  ...  0.276123  0.185214   \n",
       "MALAT1        0.615344  0.906070  2.757656  0.985994  ...  0.591998  1.274109   \n",
       "TMSB4X        0.112363  0.376410  0.114536  0.135485  ...  0.265183  0.246927   \n",
       "HBZ           0.998341  1.100581  0.537339  0.245906  ...  0.376551  0.227928   \n",
       "NEAT1         0.415196  0.415023  0.725043  0.366373  ...  0.487170  0.757675   \n",
       "...                ...       ...       ...       ...  ...       ...       ...   \n",
       "NACA          0.196204  0.226614  0.160127  0.345786  ...  0.268949  0.316490   \n",
       "RPS26         0.261847  0.760477  0.324634  0.170133  ...  0.214773  0.142981   \n",
       "POMP          0.127482  0.397118  0.135637  0.204031  ...  0.154990  0.190387   \n",
       "RPL27A        0.254169  0.351795  0.157173  0.265868  ...  0.138258  0.177998   \n",
       "ARGLU1        0.122594  0.086064  0.134843  0.158990  ...  0.181517  0.217838   \n",
       "\n",
       "                    92        93        94        95        96        97  \\\n",
       "gene_symbols                                                               \n",
       "HBG2          0.828912  0.421060  0.831673  0.615337  0.161085  0.178604   \n",
       "MALAT1        0.676928  1.173751  0.437571  1.494212  2.171228  0.924419   \n",
       "TMSB4X        0.101933  0.207251  0.240522  0.290521  0.302640  0.287184   \n",
       "HBZ           1.473887  0.177697  0.610459  1.033401  0.164378  0.162329   \n",
       "NEAT1         0.140679  0.336315  0.204663  0.214751  0.418478  0.349372   \n",
       "...                ...       ...       ...       ...       ...       ...   \n",
       "NACA          0.115020  0.177626  0.289671  0.423730  0.187199  0.304179   \n",
       "RPS26         0.418480  0.176859  0.130217  0.192740  0.120035  0.176230   \n",
       "POMP          0.199108  0.158170  0.125045  0.149894  0.250530  0.225375   \n",
       "RPL27A        0.106020  0.229664  0.420729  0.377436  0.104362  0.204399   \n",
       "ARGLU1        0.131062  0.119594  0.125471  0.098626  0.080710  0.180388   \n",
       "\n",
       "                    98        99  \n",
       "gene_symbols                      \n",
       "HBG2          0.235578  0.232180  \n",
       "MALAT1        0.675251  0.348091  \n",
       "TMSB4X        0.153120  0.317944  \n",
       "HBZ           0.317311  0.514574  \n",
       "NEAT1         0.149642  0.205666  \n",
       "...                ...       ...  \n",
       "NACA          0.118702  0.152245  \n",
       "RPS26         0.217050  0.184349  \n",
       "POMP          0.168601  0.157382  \n",
       "RPL27A        0.119766  0.196919  \n",
       "ARGLU1        0.150266  0.205126  \n",
       "\n",
       "[100 rows x 100 columns]"
      ]
     },
     "execution_count": 104,
     "metadata": {},
     "output_type": "execute_result"
    }
   ],
   "source": [
    "slice_distr.nlargest(100, 0)"
   ]
  },
  {
   "cell_type": "markdown",
   "id": "8889705e",
   "metadata": {},
   "source": [
    "Check that they are anticorrelated as we would expect. Why do we not see any negative correlations..? Maybe it's because I only have control samples in here..."
   ]
  },
  {
   "cell_type": "code",
   "execution_count": 105,
   "id": "555dde73",
   "metadata": {},
   "outputs": [
    {
     "name": "stderr",
     "output_type": "stream",
     "text": [
      "/home/icb/yuge.ji/miniconda3/envs/test_env3/lib/python3.10/site-packages/seaborn/matrix.py:306: MatplotlibDeprecationWarning: Auto-removal of grids by pcolor() and pcolormesh() is deprecated since 3.5 and will be removed two minor releases later; please call grid(False) first.\n",
      "  mesh = ax.pcolormesh(self.plot_data, cmap=self.cmap, **kws)\n"
     ]
    },
    {
     "data": {
      "text/plain": [
       "<AxesSubplot: >"
      ]
     },
     "execution_count": 105,
     "metadata": {},
     "output_type": "execute_result"
    },
    {
     "data": {
      "image/png": "[encoded data removed]",
      "text/plain": [
       "<Figure size 400x400 with 2 Axes>"
      ]
     },
     "metadata": {
      "image/png": {
       "height": 359,
       "width": 368
      }
     },
     "output_type": "display_data"
    }
   ],
   "source": [
    "sns.heatmap(slice_distr.corr('spearman'))"
   ]
  },
  {
   "cell_type": "markdown",
   "id": "bb16a71a",
   "metadata": {},
   "source": [
    "Store results."
   ]
  },
  {
   "cell_type": "code",
   "execution_count": 27,
   "id": "09dcc2e0",
   "metadata": {},
   "outputs": [],
   "source": [
    "means.to_csv(\"../../outputs/ablation/task1.5_latent.csv\")"
   ]
  }
 ],
 "metadata": {
  "kernelspec": {
   "display_name": "Python [conda env:fa_base] *",
   "language": "python",
   "name": "conda-env-fa_base-py"
  },
  "language_info": {
   "codemirror_mode": {
    "name": "ipython",
    "version": 3
   },
   "file_extension": ".py",
   "mimetype": "text/x-python",
   "name": "python",
   "nbconvert_exporter": "python",
   "pygments_lexer": "ipython3",
   "version": "3.8.2"
  }
 },
 "nbformat": 4,
 "nbformat_minor": 5
}
